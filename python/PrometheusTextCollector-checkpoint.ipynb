{
 "cells": [
  {
   "cell_type": "code",
   "execution_count": 94,
   "metadata": {},
   "outputs": [
    {
     "name": "stdout",
     "output_type": "stream",
     "text": [
      "['# HELP dp_inbound_kbytes_total The total number of HTTP requests.\\n', '# TYPE dp_inbound_kbytes_total counter\\n', 'dp_inbound_kbytes_total{policy=\"Best\",destination=\"0\"} 3552373 1573552359\\n', 'dp_inbound_kbytes_total{policy=\"Best\",destination=\"1\"} 3552364 1573552359\\n', 'dp_inbound_kbytes_total{policy=\"Best\",destination=\"2\"} 3552362 1573552359\\n', 'dp_inbound_kbytes_total{policy=\"Best\",destination=\"3\"} 3552366 1573552359\\n', 'dp_inbound_kbytes_total{policy=\"Best\",destination=\"4\"} 3552366 1573552359\\n', 'dp_inbound_kbytes_total{policy=\"Best\",destination=\"5\"} 3552362 1573552359\\n', 'dp_inbound_kbytes_total{policy=\"Best\",destination=\"6\"} 3552382 1573552359\\n', 'dp_inbound_kbytes_total{policy=\"Best\",destination=\"7\"} 3552368 1573552359\\n', 'dp_inbound_kbytes_total{policy=\"Best\",destination=\"8\"} 3552382 1573552359\\n', 'dp_inbound_kbytes_total{policy=\"Best\",destination=\"9\"} 3552368 1573552359\\n']\n",
      "['# HELP dp_inbound_kbytes_total The total number of HTTP requests.\\n', '# TYPE dp_inbound_kbytes_total counter\\n', 'dp_inbound_kbytes_total{policy=\"Best\",destination=\"0\"} 3552386 1573552384\\n', 'dp_inbound_kbytes_total{policy=\"Best\",destination=\"1\"} 3552394 1573552384\\n', 'dp_inbound_kbytes_total{policy=\"Best\",destination=\"2\"} 3552395 1573552384\\n', 'dp_inbound_kbytes_total{policy=\"Best\",destination=\"3\"} 3552389 1573552384\\n', 'dp_inbound_kbytes_total{policy=\"Best\",destination=\"4\"} 3552385 1573552384\\n', 'dp_inbound_kbytes_total{policy=\"Best\",destination=\"5\"} 3552406 1573552384\\n', 'dp_inbound_kbytes_total{policy=\"Best\",destination=\"6\"} 3552391 1573552384\\n', 'dp_inbound_kbytes_total{policy=\"Best\",destination=\"7\"} 3552394 1573552384\\n', 'dp_inbound_kbytes_total{policy=\"Best\",destination=\"8\"} 3552392 1573552384\\n', 'dp_inbound_kbytes_total{policy=\"Best\",destination=\"9\"} 3552403 1573552384\\n']\n"
     ]
    },
    {
     "ename": "KeyboardInterrupt",
     "evalue": "",
     "output_type": "error",
     "traceback": [
      "\u001b[1;31m---------------------------------------------------------------------------\u001b[0m",
      "\u001b[1;31mKeyboardInterrupt\u001b[0m                         Traceback (most recent call last)",
      "\u001b[1;32m<ipython-input-94-458a852066d0>\u001b[0m in \u001b[0;36m<module>\u001b[1;34m\u001b[0m\n\u001b[0;32m     23\u001b[0m     \u001b[0mfile1\u001b[0m\u001b[1;33m.\u001b[0m\u001b[0mclose\u001b[0m\u001b[1;33m(\u001b[0m\u001b[1;33m)\u001b[0m\u001b[1;33m\u001b[0m\u001b[1;33m\u001b[0m\u001b[0m\n\u001b[0;32m     24\u001b[0m \u001b[1;33m\u001b[0m\u001b[0m\n\u001b[1;32m---> 25\u001b[1;33m     \u001b[0mtime\u001b[0m\u001b[1;33m.\u001b[0m\u001b[0msleep\u001b[0m\u001b[1;33m(\u001b[0m\u001b[0msleep_period\u001b[0m\u001b[1;33m)\u001b[0m\u001b[1;33m\u001b[0m\u001b[1;33m\u001b[0m\u001b[0m\n\u001b[0m\u001b[0;32m     26\u001b[0m \u001b[1;33m\u001b[0m\u001b[0m\n\u001b[0;32m     27\u001b[0m \u001b[1;33m\u001b[0m\u001b[0m\n",
      "\u001b[1;31mKeyboardInterrupt\u001b[0m: "
     ]
    }
   ],
   "source": [
    "#import os.path\n",
    "\n",
    "#!/usr/bin/python\n",
    "import time;  # This is required to include time module.\n",
    "import random;\n",
    "sleep_period = 25\n",
    "    \n",
    "while(True):\n",
    "    ticks = round(time.time())\n",
    "    file = open('testfile.txt','w') \n",
    "    file.write('# HELP dp_inbound_kbytes_total The total number of HTTP requests.\\n')\n",
    "    file.write('# TYPE dp_inbound_kbytes_total counter\\n')\n",
    "\n",
    "    for i in range(10):\n",
    "        file.write(\"dp_inbound_kbytes_total{policy=\\\"Best\\\",destination=\\\"%s\\\"} %d %d\\n\"%(i, (ticks + random.randint(0,sleep_period-1)) % 10000000,ticks)) \n",
    "\n",
    "    file.close() \n",
    "\n",
    "    file1 = open('testfile.txt','r') \n",
    "    \n",
    "    print(file1.readlines())\n",
    "    \n",
    "    file1.close()\n",
    "    \n",
    "    time.sleep(sleep_period)\n",
    "    \n",
    "\n"
   ]
  },
  {
   "cell_type": "code",
   "execution_count": null,
   "metadata": {},
   "outputs": [],
   "source": []
  }
 ],
 "metadata": {
  "kernelspec": {
   "display_name": "Python 3",
   "language": "python",
   "name": "python3"
  },
  "language_info": {
   "codemirror_mode": {
    "name": "ipython",
    "version": 3
   },
   "file_extension": ".py",
   "mimetype": "text/x-python",
   "name": "python",
   "nbconvert_exporter": "python",
   "pygments_lexer": "ipython3",
   "version": "3.7.3"
  }
 },
 "nbformat": 4,
 "nbformat_minor": 2
}
