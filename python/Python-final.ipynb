{
 "cells": [
  {
   "cell_type": "markdown",
   "metadata": {},
   "source": [
    "# Python Intro - Final Exercise\n"
   ]
  },
  {
   "cell_type": "code",
   "execution_count": 144,
   "metadata": {},
   "outputs": [
    {
     "name": "stdout",
     "output_type": "stream",
     "text": [
      "ok\n"
     ]
    }
   ],
   "source": [
    "import pyodbc\n",
    "import pandas as pd\n",
    "import numpy as np\n",
    "print('ok')"
   ]
  },
  {
   "cell_type": "code",
   "execution_count": 145,
   "metadata": {},
   "outputs": [],
   "source": [
    "### In windows, Using a ODBC DNS (predefined connection name)\n",
    "conn = pyodbc.connect('DSN=COLLEGE;Trusted_Connection=yes;')\n"
   ]
  },
  {
   "cell_type": "code",
   "execution_count": 146,
   "metadata": {},
   "outputs": [],
   "source": [
    "### Get the students table\n",
    "students = pd.read_sql(\"SELECT * FROM Students;\",conn) \n",
    "classrooms = pd.read_sql(\"SELECT * FROM Classrooms;\",conn) \n",
    "courses = pd.read_sql(\"SELECT * FROM Courses;\",conn) \n",
    "departments = pd.read_sql(\"SELECT * FROM Departments;\",conn) \n",
    "teachers = pd.read_sql(\"SELECT * FROM Teachers;\",conn) \n",
    "\n",
    "#add another column for join with department table\n",
    "courses['DepartmentId'] = courses.DepartmentID\n",
    "\n",
    "data = pd.merge(pd.merge(pd.merge(pd.merge(classrooms, courses, on='CourseId'), \n",
    "                                    departments, on='DepartmentId'), \n",
    "                           students, on='StudentId'), \n",
    "                  teachers, on='TeacherId')\n",
    "\n",
    "data = data.rename(columns = {'FirstName_x':'StudentFirstName', \n",
    "                         'LastName_x': 'StudentLastName',\n",
    "                        'Gender_x' : 'StudentGender',\n",
    "                        'FirstName_y':'TeacherFirstName',\n",
    "                        'LastName_y':'TeaccherLastName',\n",
    "                        'Gender_y':'TeacherGender'})\n",
    "\n"
   ]
  },
  {
   "cell_type": "markdown",
   "metadata": {},
   "source": [
    "# Questions\n",
    " \n",
    " \n",
    "## Q1. Count the number of students on each department"
   ]
  },
  {
   "cell_type": "code",
   "execution_count": 147,
   "metadata": {},
   "outputs": [
    {
     "name": "stdout",
     "output_type": "stream",
     "text": [
      "\n",
      "Number of students : 280\n"
     ]
    }
   ],
   "source": [
    "print('\\nNumber of students : %d' % students.shape[0])"
   ]
  },
  {
   "cell_type": "markdown",
   "metadata": {},
   "source": [
    "## Q2. How many students have each course of the English department and the total number of students in the department?"
   ]
  },
  {
   "cell_type": "code",
   "execution_count": 178,
   "metadata": {},
   "outputs": [
    {
     "name": "stdout",
     "output_type": "stream",
     "text": [
      "Number of students in all departments is\n",
      "                StudentId\n",
      "                   count\n",
      "DepartmentName          \n",
      "Arts                 137\n",
      "English               84\n",
      "Science              200\n",
      "Sport                 81\n",
      "Number of students in Engllish depsrtment is 84\n",
      "Number of student that took all the 3 english classes is: 0\n"
     ]
    }
   ],
   "source": [
    "#total student in each department\n",
    "res = data[['DepartmentName', 'StudentId']].drop_duplicates().groupby('DepartmentName').agg({'StudentId':['count']})\n",
    "\n",
    "print(\"Number of students in all departments is\\n\", res)\n",
    "\n",
    "\n",
    "#in english department\n",
    "res1 = data[['DepartmentName', 'StudentId']].drop_duplicates();\n",
    "print(\"Number of students in Engllish depsrtment is\", res1[res1.DepartmentName == 'English'].shape[0])\n",
    "\n",
    "\n",
    "data['CourseNum'] = 0\n",
    "#tt = data[data.DepartmentName == 'English'].groupby('StudentId').CourseNum.agg('count').reset_index()\n",
    "\n",
    "tt = data[data.DepartmentName == 'English'].groupby('StudentId')['CourseNum'].agg('count')\n",
    "\n",
    "\n",
    "\n",
    "print (\"Number of student that took all the 3 english classes is:\", tt[tt==3].shape[0])"
   ]
  },
  {
   "cell_type": "markdown",
   "metadata": {},
   "source": [
    "## Q3. How many small (<22 students) and large (22+ students) classrooms are needed for the Science department?"
   ]
  },
  {
   "cell_type": "code",
   "execution_count": 180,
   "metadata": {},
   "outputs": [
    {
     "name": "stdout",
     "output_type": "stream",
     "text": [
      "Number of small classrooms needed for Science Department courses is:  6\n",
      "Number of large classrooms needed for Science Department courses is:  10\n"
     ]
    }
   ],
   "source": [
    "data['Res'] = -1 \n",
    "science_classes = data[data.DepartmentName == 'Science'].groupby('CourseId').Res.agg('count')\n",
    "\n",
    "print(\"Number of small classrooms needed for Science Department courses is: \",science_classes[science_classes < 22].shape[0])\n",
    "\n",
    "print(\"Number of large classrooms needed for Science Department courses is: \",science_classes[science_classes >= 22].shape[0])\n",
    "\n"
   ]
  },
  {
   "cell_type": "markdown",
   "metadata": {},
   "source": [
    "## Q4. A feminist student claims that there are more male than female in the College. Justify if the argument is correct"
   ]
  },
  {
   "cell_type": "code",
   "execution_count": 185,
   "metadata": {},
   "outputs": [
    {
     "data": {
      "text/html": [
       "<div>\n",
       "<style scoped>\n",
       "    .dataframe tbody tr th:only-of-type {\n",
       "        vertical-align: middle;\n",
       "    }\n",
       "\n",
       "    .dataframe tbody tr th {\n",
       "        vertical-align: top;\n",
       "    }\n",
       "\n",
       "    .dataframe thead th {\n",
       "        text-align: right;\n",
       "    }\n",
       "</style>\n",
       "<table border=\"1\" class=\"dataframe\">\n",
       "  <thead>\n",
       "    <tr style=\"text-align: right;\">\n",
       "      <th></th>\n",
       "      <th>StudentId</th>\n",
       "    </tr>\n",
       "    <tr>\n",
       "      <th>StudentGender</th>\n",
       "      <th></th>\n",
       "    </tr>\n",
       "  </thead>\n",
       "  <tbody>\n",
       "    <tr>\n",
       "      <th>F</th>\n",
       "      <td>153</td>\n",
       "    </tr>\n",
       "    <tr>\n",
       "      <th>M</th>\n",
       "      <td>103</td>\n",
       "    </tr>\n",
       "  </tbody>\n",
       "</table>\n",
       "</div>"
      ],
      "text/plain": [
       "               StudentId\n",
       "StudentGender           \n",
       "F                    153\n",
       "M                    103"
      ]
     },
     "execution_count": 185,
     "metadata": {},
     "output_type": "execute_result"
    }
   ],
   "source": [
    "data[['StudentId', 'StudentGender']].drop_duplicates().groupby('StudentGender').agg('count')"
   ]
  },
  {
   "cell_type": "markdown",
   "metadata": {},
   "source": [
    "## Q5. For which courses the percentage of male/female students is over 70%?"
   ]
  },
  {
   "cell_type": "code",
   "execution_count": 228,
   "metadata": {},
   "outputs": [
    {
     "name": "stdout",
     "output_type": "stream",
     "text": [
      "Courses with females more than 70%:                Female\n",
      "                mean\n",
      "CourseName          \n",
      "Sculpture   0.708333\n",
      "Tenis       0.722222\n"
     ]
    }
   ],
   "source": [
    "data.head()\n",
    "\n",
    "data['Female'] = 0\n",
    "data['Male'] = 0\n",
    "\n",
    "\n",
    "data.loc[data.StudentGender == 'F','Female'] = 1\n",
    "data.loc[data.StudentGender == 'M','Male'] = 1\n",
    "\n",
    "df = data.groupby('CourseName').agg({'Female':['mean']})\n",
    "if (df[df > 0.7].dropna().shape[0] > 0 ):\n",
    "    print(\"Courses with females more than 70%: \\n\", df[df > 0.7].dropna())\n",
    "\n",
    "df = data.groupby('CourseName').agg({'Male':['mean']})\n",
    "if (df[df > 0.7].dropna().shape[0] > 0 ):\n",
    "    print(\"Courses with males more than 70%: \\n\", df[df > 0.7].dropna())\n",
    "\n",
    "\n"
   ]
  },
  {
   "cell_type": "markdown",
   "metadata": {},
   "source": [
    "## Q6. For each department, how many students passed with a grades over 80?"
   ]
  },
  {
   "cell_type": "code",
   "execution_count": 241,
   "metadata": {},
   "outputs": [
    {
     "name": "stdout",
     "output_type": "stream",
     "text": [
      "For each department number of students passed with a grade over 80\n",
      " DepartmentName\n",
      "Arts        68\n",
      "English     43\n",
      "Science    171\n",
      "Sport       41\n",
      "Name: StudentId, dtype: int64\n"
     ]
    }
   ],
   "source": [
    "data.head()\n",
    "\n",
    "df = data[['DepartmentName', 'StudentId', 'degree']]\n",
    "\n",
    "df = df[df['degree'] > 80].drop_duplicates()\n",
    "\n",
    "print(\"For each department number of students passed with a grade over 80\\n\", df.groupby('DepartmentName')['StudentId'].agg('count'))"
   ]
  },
  {
   "cell_type": "markdown",
   "metadata": {},
   "source": [
    "## Q7. For each department, how many students passed with a grades under 60?"
   ]
  },
  {
   "cell_type": "code",
   "execution_count": 239,
   "metadata": {},
   "outputs": [
    {
     "name": "stdout",
     "output_type": "stream",
     "text": [
      "For each department number of students passed with a grade under 60\n",
      " DepartmentName\n",
      "Arts       3\n",
      "English    2\n",
      "Science    7\n",
      "Sport      1\n",
      "Name: StudentId, dtype: int64\n"
     ]
    }
   ],
   "source": [
    "data.head()\n",
    "\n",
    "df = data[['DepartmentName', 'StudentId', 'degree']]\n",
    "\n",
    "df = df[df['degree'] < 60].drop_duplicates()\n",
    "\n",
    "print(\"For each department number of students passed with a grade under 60\\n\", df.groupby('DepartmentName')['StudentId'].agg('count'))"
   ]
  },
  {
   "cell_type": "markdown",
   "metadata": {},
   "source": [
    "## Q8. Rate the teachers by their average student's grades (in descending order)."
   ]
  },
  {
   "cell_type": "code",
   "execution_count": 251,
   "metadata": {},
   "outputs": [
    {
     "name": "stdout",
     "output_type": "stream",
     "text": [
      "TeacherFirstName  TeaccherLastName  TeacherId\n",
      " Darick           Hess              22.0         81.432703\n",
      " Jordyn           Baron             3.0          80.729494\n",
      " Heather          Metcalf           5.0          80.440242\n",
      " Zachary          Healy             20.0         79.365867\n",
      " Kaylea           Monzingo          1.0          79.365537\n",
      " Daniel           Bland             18.0         78.908281\n",
      " Keegan           Price             24.0         78.814631\n",
      " Conor            Mckittrick        15.0         78.699492\n",
      " Maxwell          Romkee            23.0         78.673509\n",
      " Terran           Beaty             19.0         78.495479\n",
      " Tanner           Fitzsimons        17.0         78.443395\n",
      " Mackenzie        Olsen             10.0         78.383348\n",
      " Ernest           Stoyanov          21.0         78.316150\n",
      " Madison          Batan             6.0          77.743575\n",
      " Katerina         Young             9.0          77.406852\n",
      " Mikayla          Russell           12.0         77.134323\n",
      " Amanda           Dworkin           2.0          76.899881\n",
      " Kaitlin          Delude            11.0         76.765296\n",
      " Jeffrey          Batzel            14.0         76.737973\n",
      " Robert           Aivazian          16.0         76.516464\n",
      " Caroline         Knuesel           8.0          75.955453\n",
      " Alexander        Watts             13.0         75.668139\n",
      "Name: degree, dtype: float64\n"
     ]
    }
   ],
   "source": [
    "data.head()\n",
    "\n",
    "print(data.groupby(['TeacherFirstName','TeaccherLastName','TeacherId'])['degree'].agg('mean').sort_values(ascending=False))\n"
   ]
  },
  {
   "cell_type": "markdown",
   "metadata": {},
   "source": [
    "## Q9. Create a dataframe showing the courses, departments they are associated with, the teacher in each course, and the number of students enrolled in the course (for each course, department and teacher show the names)."
   ]
  },
  {
   "cell_type": "code",
   "execution_count": null,
   "metadata": {},
   "outputs": [],
   "source": []
  },
  {
   "cell_type": "markdown",
   "metadata": {},
   "source": [
    "## Q10. Create a dataframe showing the students, the number of courses they take, the average of the grades per class, and their overall average (for each student show the student name)."
   ]
  },
  {
   "cell_type": "code",
   "execution_count": null,
   "metadata": {},
   "outputs": [],
   "source": []
  }
 ],
 "metadata": {
  "kernelspec": {
   "display_name": "Python 3",
   "language": "python",
   "name": "python3"
  },
  "language_info": {
   "codemirror_mode": {
    "name": "ipython",
    "version": 3
   },
   "file_extension": ".py",
   "mimetype": "text/x-python",
   "name": "python",
   "nbconvert_exporter": "python",
   "pygments_lexer": "ipython3",
   "version": "3.7.3"
  }
 },
 "nbformat": 4,
 "nbformat_minor": 2
}
