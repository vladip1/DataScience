{
 "cells": [
  {
   "cell_type": "markdown",
   "metadata": {},
   "source": [
    "# Perceptron"
   ]
  },
  {
   "cell_type": "code",
   "execution_count": 1,
   "metadata": {},
   "outputs": [],
   "source": [
    "import numpy as np\n",
    "import pandas as pd"
   ]
  },
  {
   "cell_type": "code",
   "execution_count": 2,
   "metadata": {},
   "outputs": [],
   "source": [
    "class Perceptron:\n",
    "    def __init__(self,X):\n",
    "        self.X = np.array(X)\n",
    "        self.weights = []\n",
    "    ## calculate weights\n",
    "    def getWeights(self,X):\n",
    "        return([np.random.rand(len(X))])\n",
    "    ## transfer function\n",
    "    def transfer(self,X,weights):\n",
    "        return(np.sum(self.X * weights))\n",
    "    ## activation function\n",
    "    def activate(self,Xt):\n",
    "        if(Xt > 1):\n",
    "            return(1)\n",
    "        else:\n",
    "            return(-1)\n"
   ]
  },
  {
   "cell_type": "markdown",
   "metadata": {},
   "source": [
    "We will run an example iteratively"
   ]
  },
  {
   "cell_type": "code",
   "execution_count": 3,
   "metadata": {},
   "outputs": [
    {
     "name": "stdout",
     "output_type": "stream",
     "text": [
      "-1\n",
      "-1\n",
      "1\n",
      "-1\n",
      "1\n",
      "-1\n",
      "-1\n",
      "1\n",
      "-1\n",
      "-1\n",
      "1\n",
      "-1\n",
      "1\n",
      "1\n",
      "1\n",
      "1\n",
      "1\n",
      "1\n",
      "1\n",
      "1\n",
      "1\n",
      "-1\n",
      "-1\n",
      "1\n",
      "1\n"
     ]
    }
   ],
   "source": [
    "for i in range(0,5):\n",
    "    for j in range(0,5):\n",
    "        X = [i,j]\n",
    "        p1 = Perceptron(X)\n",
    "        w = p1.getWeights(X)\n",
    "        t = p1.transfer(X,weights=w)\n",
    "        print(p1.activate(t))\n"
   ]
  },
  {
   "cell_type": "markdown",
   "metadata": {},
   "source": [
    "### Converting the Perceptron to a Supervise Learning Algorithm"
   ]
  },
  {
   "cell_type": "code",
   "execution_count": 4,
   "metadata": {},
   "outputs": [],
   "source": [
    "## loss_function\n",
    "def loss_function(y, y_hat):\n",
    "    return(np.sum((y - y_hat)**2)/len(y) )"
   ]
  },
  {
   "cell_type": "code",
   "execution_count": 5,
   "metadata": {},
   "outputs": [],
   "source": [
    "def grad(X,y,yhat):\n",
    "    n = len(y)    \n",
    "    return((1 / n) * np.dot((yhat - y),X))\n",
    "\n",
    "#np.dot((yhat-y),X0)"
   ]
  },
  {
   "cell_type": "code",
   "execution_count": 6,
   "metadata": {},
   "outputs": [],
   "source": [
    "def gradientDesc(X,y,learn_rate=1e-6,max_iter=1e3):\n",
    "    conv_threshold = 1e-4\n",
    "    n = X.ndim\n",
    "    w = np.random.rand(n+1)\n",
    "    X = pd.DataFrame({'X0':1,'X':X})\n",
    "    yhat = np.dot(X,w)\n",
    "    cost = loss_function(y,yhat)\n",
    "    converged = False\n",
    "    iterations = 0\n",
    "    while(converged == False):\n",
    "        ## Implement the gradient descent algorithm\n",
    "        w_new = w - (np.array(learn_rate) * grad(X,y,yhat))\n",
    "        w = w_new\n",
    "        yhat = np.dot(X,w)\n",
    "        cost_new = loss_function(y,yhat)\n",
    "        if(iterations % 100 == 0):\n",
    "            print(\"%s,%s\" % (iterations,cost_new))\n",
    "        if(cost - cost_new <= conv_threshold):\n",
    "            converged = True\n",
    "            return(w)\n",
    "        iterations = iterations + 1\n",
    "        if(iterations > max_iter):\n",
    "            converged = True\n",
    "            return(w)\n"
   ]
  },
  {
   "cell_type": "code",
   "execution_count": 7,
   "metadata": {},
   "outputs": [],
   "source": [
    "class Perceptron:\n",
    "    def __init__(self,X,y):\n",
    "        self.X = np.array(X)\n",
    "        self.y = np.array(y)\n",
    "        self.weights = []\n",
    "    ## calculate weights\n",
    "    def getWeights(self,X,y):\n",
    "        return(gradientDesc(X,y,learn_rate=0.0001))\n",
    "    ## transfer function\n",
    "    def transfer(self,X,weights):\n",
    "        df = pd.DataFrame({'X0':1,'X':X})\n",
    "        X0 = np.array(df)\n",
    "        return(np.dot(X0,w))\n",
    "    ## activation function: in this case we will use a linear function f(x) = x\n",
    "    def activate(self,y_hat):\n",
    "        return(y_hat)\n"
   ]
  },
  {
   "cell_type": "markdown",
   "metadata": {},
   "source": [
    "Now we will define a dataset"
   ]
  },
  {
   "cell_type": "code",
   "execution_count": 8,
   "metadata": {},
   "outputs": [
    {
     "data": {
      "text/html": [
       "<div>\n",
       "<style scoped>\n",
       "    .dataframe tbody tr th:only-of-type {\n",
       "        vertical-align: middle;\n",
       "    }\n",
       "\n",
       "    .dataframe tbody tr th {\n",
       "        vertical-align: top;\n",
       "    }\n",
       "\n",
       "    .dataframe thead th {\n",
       "        text-align: right;\n",
       "    }\n",
       "</style>\n",
       "<table border=\"1\" class=\"dataframe\">\n",
       "  <thead>\n",
       "    <tr style=\"text-align: right;\">\n",
       "      <th></th>\n",
       "      <th>X</th>\n",
       "      <th>y</th>\n",
       "    </tr>\n",
       "  </thead>\n",
       "  <tbody>\n",
       "    <tr>\n",
       "      <td>0</td>\n",
       "      <td>10</td>\n",
       "      <td>1</td>\n",
       "    </tr>\n",
       "    <tr>\n",
       "      <td>1</td>\n",
       "      <td>20</td>\n",
       "      <td>2</td>\n",
       "    </tr>\n",
       "    <tr>\n",
       "      <td>2</td>\n",
       "      <td>30</td>\n",
       "      <td>3</td>\n",
       "    </tr>\n",
       "    <tr>\n",
       "      <td>3</td>\n",
       "      <td>40</td>\n",
       "      <td>4</td>\n",
       "    </tr>\n",
       "    <tr>\n",
       "      <td>4</td>\n",
       "      <td>50</td>\n",
       "      <td>5</td>\n",
       "    </tr>\n",
       "  </tbody>\n",
       "</table>\n",
       "</div>"
      ],
      "text/plain": [
       "    X  y\n",
       "0  10  1\n",
       "1  20  2\n",
       "2  30  3\n",
       "3  40  4\n",
       "4  50  5"
      ]
     },
     "execution_count": 8,
     "metadata": {},
     "output_type": "execute_result"
    }
   ],
   "source": [
    "df = pd.DataFrame({'X':[10,20,30,40,50,20,30,20,30,50,60,40,30,20,10],\n",
    "                   'y':[1,2,3,4,5,2,3,2,3,5,6,4,3,2,1]})\n",
    "df.head()"
   ]
  },
  {
   "cell_type": "code",
   "execution_count": 9,
   "metadata": {},
   "outputs": [],
   "source": [
    "X = df.X\n",
    "y = df.y"
   ]
  },
  {
   "cell_type": "markdown",
   "metadata": {},
   "source": [
    "and will run the perceptron on this data"
   ]
  },
  {
   "cell_type": "code",
   "execution_count": 16,
   "metadata": {},
   "outputs": [
    {
     "name": "stdout",
     "output_type": "stream",
     "text": [
      "0,165.73627131393354\n",
      "100,0.047671517751608404\n",
      "200,0.04750047244171715\n",
      "300,0.04733004510279644\n",
      "400,0.047160229241537975\n",
      "500,0.0469910226640162\n",
      "600,0.046822423184176794\n",
      "700,0.04665442862380917\n",
      "800,0.04648703681251741\n",
      "900,0.04632024558769342\n",
      "1000,0.046154052794487914\n",
      "[1.37108466 2.23558032 3.10007597 3.96457163 4.82906729 2.23558032\n",
      " 3.10007597 2.23558032 3.10007597 4.82906729 5.69356294 3.96457163\n",
      " 3.10007597 2.23558032 1.37108466]\n"
     ]
    }
   ],
   "source": [
    "p1 = Perceptron(X,y)\n",
    "w = p1.getWeights(X,y)\n",
    "y_hat = p1.transfer(X,w)\n",
    "print(p1.activate(y_hat))"
   ]
  },
  {
   "cell_type": "code",
   "execution_count": 17,
   "metadata": {},
   "outputs": [
    {
     "data": {
      "text/plain": [
       "(array([1, 2, 3, 4, 5, 2, 3, 2, 3, 5, 6, 4, 3, 2, 1]),\n",
       " array([1.37108466, 2.23558032, 3.10007597, 3.96457163, 4.82906729,\n",
       "        2.23558032, 3.10007597, 2.23558032, 3.10007597, 4.82906729,\n",
       "        5.69356294, 3.96457163, 3.10007597, 2.23558032, 1.37108466]))"
      ]
     },
     "execution_count": 17,
     "metadata": {},
     "output_type": "execute_result"
    }
   ],
   "source": [
    "(np.array(y),p1.activate(y_hat))"
   ]
  }
 ],
 "metadata": {
  "kernelspec": {
   "display_name": "Python 3",
   "language": "python",
   "name": "python3"
  },
  "language_info": {
   "codemirror_mode": {
    "name": "ipython",
    "version": 3
   },
   "file_extension": ".py",
   "mimetype": "text/x-python",
   "name": "python",
   "nbconvert_exporter": "python",
   "pygments_lexer": "ipython3",
   "version": "3.7.4"
  }
 },
 "nbformat": 4,
 "nbformat_minor": 2
}
