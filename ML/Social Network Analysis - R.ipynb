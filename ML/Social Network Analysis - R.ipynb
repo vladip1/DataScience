{
 "cells": [
  {
   "cell_type": "markdown",
   "metadata": {},
   "source": [
    "# Network Analysis"
   ]
  },
  {
   "cell_type": "markdown",
   "metadata": {},
   "source": [
    "<img src=\"https://researchmethods117203719.files.wordpress.com/2018/04/socialnetwork.jpg\" />"
   ]
  },
  {
   "cell_type": "markdown",
   "metadata": {},
   "source": [
    "Network analysis is an unsupervised analysis technique that find relationships (edges) between different entities (nodes). The analysis is based on <b>Graph Theory</b> concepts"
   ]
  },
  {
   "cell_type": "code",
   "execution_count": 1,
   "metadata": {},
   "outputs": [
    {
     "name": "stderr",
     "output_type": "stream",
     "text": [
      "\n",
      "Attaching package: ‘igraph’\n",
      "\n",
      "The following objects are masked from ‘package:stats’:\n",
      "\n",
      "    decompose, spectrum\n",
      "\n",
      "The following object is masked from ‘package:base’:\n",
      "\n",
      "    union\n",
      "\n",
      "\n",
      "Attaching package: ‘dplyr’\n",
      "\n",
      "The following objects are masked from ‘package:igraph’:\n",
      "\n",
      "    as_data_frame, groups, union\n",
      "\n",
      "The following objects are masked from ‘package:stats’:\n",
      "\n",
      "    filter, lag\n",
      "\n",
      "The following objects are masked from ‘package:base’:\n",
      "\n",
      "    intersect, setdiff, setequal, union\n",
      "\n"
     ]
    }
   ],
   "source": [
    "library(igraph)\n",
    "library(dplyr)"
   ]
  },
  {
   "cell_type": "code",
   "execution_count": 6,
   "metadata": {},
   "outputs": [
    {
     "data": {
      "text/html": [
       "<table>\n",
       "<thead><tr><th scope=col>X2B</th><th scope=col>X410</th><th scope=col>AER</th><th scope=col>X2965</th><th scope=col>KZN</th><th scope=col>X2990</th><th scope=col>X</th><th scope=col>X0</th><th scope=col>CR2</th></tr></thead>\n",
       "<tbody>\n",
       "\t<tr><td>2B  </td><td>410 </td><td>ASF </td><td>2966</td><td>KZN </td><td>2990</td><td>    </td><td>0   </td><td>CR2 </td></tr>\n",
       "\t<tr><td>2B  </td><td>410 </td><td>ASF </td><td>2966</td><td>MRV </td><td>2962</td><td>    </td><td>0   </td><td>CR2 </td></tr>\n",
       "\t<tr><td>2B  </td><td>410 </td><td>CEK </td><td>2968</td><td>KZN </td><td>2990</td><td>    </td><td>0   </td><td>CR2 </td></tr>\n",
       "\t<tr><td>2B  </td><td>410 </td><td>CEK </td><td>2968</td><td>OVB </td><td>4078</td><td>    </td><td>0   </td><td>CR2 </td></tr>\n",
       "\t<tr><td>2B  </td><td>410 </td><td>DME </td><td>4029</td><td>KZN </td><td>2990</td><td>    </td><td>0   </td><td>CR2 </td></tr>\n",
       "\t<tr><td>2B  </td><td>410 </td><td>DME </td><td>4029</td><td>NBC </td><td>6969</td><td>    </td><td>0   </td><td>CR2 </td></tr>\n",
       "</tbody>\n",
       "</table>\n"
      ],
      "text/latex": [
       "\\begin{tabular}{r|lllllllll}\n",
       " X2B & X410 & AER & X2965 & KZN & X2990 & X & X0 & CR2\\\\\n",
       "\\hline\n",
       "\t 2B   & 410  & ASF  & 2966 & KZN  & 2990 &      & 0    & CR2 \\\\\n",
       "\t 2B   & 410  & ASF  & 2966 & MRV  & 2962 &      & 0    & CR2 \\\\\n",
       "\t 2B   & 410  & CEK  & 2968 & KZN  & 2990 &      & 0    & CR2 \\\\\n",
       "\t 2B   & 410  & CEK  & 2968 & OVB  & 4078 &      & 0    & CR2 \\\\\n",
       "\t 2B   & 410  & DME  & 4029 & KZN  & 2990 &      & 0    & CR2 \\\\\n",
       "\t 2B   & 410  & DME  & 4029 & NBC  & 6969 &      & 0    & CR2 \\\\\n",
       "\\end{tabular}\n"
      ],
      "text/markdown": [
       "\n",
       "X2B | X410 | AER | X2965 | KZN | X2990 | X | X0 | CR2 | \n",
       "|---|---|---|---|---|---|\n",
       "| 2B   | 410  | ASF  | 2966 | KZN  | 2990 |      | 0    | CR2  | \n",
       "| 2B   | 410  | ASF  | 2966 | MRV  | 2962 |      | 0    | CR2  | \n",
       "| 2B   | 410  | CEK  | 2968 | KZN  | 2990 |      | 0    | CR2  | \n",
       "| 2B   | 410  | CEK  | 2968 | OVB  | 4078 |      | 0    | CR2  | \n",
       "| 2B   | 410  | DME  | 4029 | KZN  | 2990 |      | 0    | CR2  | \n",
       "| 2B   | 410  | DME  | 4029 | NBC  | 6969 |      | 0    | CR2  | \n",
       "\n",
       "\n"
      ],
      "text/plain": [
       "  X2B X410 AER X2965 KZN X2990 X X0 CR2\n",
       "1 2B  410  ASF 2966  KZN 2990    0  CR2\n",
       "2 2B  410  ASF 2966  MRV 2962    0  CR2\n",
       "3 2B  410  CEK 2968  KZN 2990    0  CR2\n",
       "4 2B  410  CEK 2968  OVB 4078    0  CR2\n",
       "5 2B  410  DME 4029  KZN 2990    0  CR2\n",
       "6 2B  410  DME 4029  NBC 6969    0  CR2"
      ]
     },
     "metadata": {},
     "output_type": "display_data"
    }
   ],
   "source": [
    "### dataset\n",
    "df <- read.csv(file=\"https://raw.githubusercontent.com/jpatokal/openflights/master/data/routes.dat\")\n",
    "head(df)"
   ]
  },
  {
   "cell_type": "code",
   "execution_count": 8,
   "metadata": {},
   "outputs": [
    {
     "data": {
      "text/html": [
       "<table>\n",
       "<thead><tr><th scope=col>X2B</th><th scope=col>n</th></tr></thead>\n",
       "<tbody>\n",
       "\t<tr><td>FR  </td><td>2484</td></tr>\n",
       "\t<tr><td>AA  </td><td>2354</td></tr>\n",
       "\t<tr><td>UA  </td><td>2180</td></tr>\n",
       "\t<tr><td>DL  </td><td>1981</td></tr>\n",
       "\t<tr><td>US  </td><td>1960</td></tr>\n",
       "\t<tr><td>CZ  </td><td>1454</td></tr>\n",
       "\t<tr><td>MU  </td><td>1263</td></tr>\n",
       "\t<tr><td>CA  </td><td>1260</td></tr>\n",
       "\t<tr><td>WN  </td><td>1146</td></tr>\n",
       "\t<tr><td>U2  </td><td>1130</td></tr>\n",
       "\t<tr><td>AF  </td><td>1071</td></tr>\n",
       "\t<tr><td>LH  </td><td> 923</td></tr>\n",
       "\t<tr><td>AZ  </td><td> 877</td></tr>\n",
       "\t<tr><td>IB  </td><td> 831</td></tr>\n",
       "\t<tr><td>KL  </td><td> 830</td></tr>\n",
       "\t<tr><td>ZH  </td><td> 815</td></tr>\n",
       "\t<tr><td>AB  </td><td> 798</td></tr>\n",
       "\t<tr><td>FL  </td><td> 726</td></tr>\n",
       "\t<tr><td>AC  </td><td> 705</td></tr>\n",
       "\t<tr><td>TK  </td><td> 658</td></tr>\n",
       "</tbody>\n",
       "</table>\n"
      ],
      "text/latex": [
       "\\begin{tabular}{r|ll}\n",
       " X2B & n\\\\\n",
       "\\hline\n",
       "\t FR   & 2484\\\\\n",
       "\t AA   & 2354\\\\\n",
       "\t UA   & 2180\\\\\n",
       "\t DL   & 1981\\\\\n",
       "\t US   & 1960\\\\\n",
       "\t CZ   & 1454\\\\\n",
       "\t MU   & 1263\\\\\n",
       "\t CA   & 1260\\\\\n",
       "\t WN   & 1146\\\\\n",
       "\t U2   & 1130\\\\\n",
       "\t AF   & 1071\\\\\n",
       "\t LH   &  923\\\\\n",
       "\t AZ   &  877\\\\\n",
       "\t IB   &  831\\\\\n",
       "\t KL   &  830\\\\\n",
       "\t ZH   &  815\\\\\n",
       "\t AB   &  798\\\\\n",
       "\t FL   &  726\\\\\n",
       "\t AC   &  705\\\\\n",
       "\t TK   &  658\\\\\n",
       "\\end{tabular}\n"
      ],
      "text/markdown": [
       "\n",
       "X2B | n | \n",
       "|---|---|---|---|---|---|---|---|---|---|---|---|---|---|---|---|---|---|---|---|\n",
       "| FR   | 2484 | \n",
       "| AA   | 2354 | \n",
       "| UA   | 2180 | \n",
       "| DL   | 1981 | \n",
       "| US   | 1960 | \n",
       "| CZ   | 1454 | \n",
       "| MU   | 1263 | \n",
       "| CA   | 1260 | \n",
       "| WN   | 1146 | \n",
       "| U2   | 1130 | \n",
       "| AF   | 1071 | \n",
       "| LH   |  923 | \n",
       "| AZ   |  877 | \n",
       "| IB   |  831 | \n",
       "| KL   |  830 | \n",
       "| ZH   |  815 | \n",
       "| AB   |  798 | \n",
       "| FL   |  726 | \n",
       "| AC   |  705 | \n",
       "| TK   |  658 | \n",
       "\n",
       "\n"
      ],
      "text/plain": [
       "   X2B n   \n",
       "1  FR  2484\n",
       "2  AA  2354\n",
       "3  UA  2180\n",
       "4  DL  1981\n",
       "5  US  1960\n",
       "6  CZ  1454\n",
       "7  MU  1263\n",
       "8  CA  1260\n",
       "9  WN  1146\n",
       "10 U2  1130\n",
       "11 AF  1071\n",
       "12 LH   923\n",
       "13 AZ   877\n",
       "14 IB   831\n",
       "15 KL   830\n",
       "16 ZH   815\n",
       "17 AB   798\n",
       "18 FL   726\n",
       "19 AC   705\n",
       "20 TK   658"
      ]
     },
     "metadata": {},
     "output_type": "display_data"
    }
   ],
   "source": [
    "### companies flight counts\n",
    "df %>% group_by(X2B) %>% tally() %>% arrange(desc(n)) %>% head(20)"
   ]
  },
  {
   "cell_type": "code",
   "execution_count": 9,
   "metadata": {},
   "outputs": [
    {
     "data": {
      "text/html": [
       "<table>\n",
       "<thead><tr><th scope=col>n</th></tr></thead>\n",
       "<tbody>\n",
       "\t<tr><td>14</td></tr>\n",
       "</tbody>\n",
       "</table>\n"
      ],
      "text/latex": [
       "\\begin{tabular}{r|l}\n",
       " n\\\\\n",
       "\\hline\n",
       "\t 14\\\\\n",
       "\\end{tabular}\n"
      ],
      "text/markdown": [
       "\n",
       "n | \n",
       "|---|\n",
       "| 14 | \n",
       "\n",
       "\n"
      ],
      "text/plain": [
       "  n \n",
       "1 14"
      ]
     },
     "metadata": {},
     "output_type": "display_data"
    }
   ],
   "source": [
    "#################################################\n",
    "### selecting companies\n",
    "### Small company (2L == Helvetic Airways)\n",
    "#################################################\n",
    "df %>% filter(X2B==\"2L\") %>% tally()"
   ]
  },
  {
   "cell_type": "code",
   "execution_count": 11,
   "metadata": {},
   "outputs": [
    {
     "data": {
      "text/html": [
       "<table>\n",
       "<thead><tr><th scope=col>AER</th><th scope=col>KZN</th><th scope=col>cnt</th></tr></thead>\n",
       "<tbody>\n",
       "\t<tr><td>BDS</td><td>ZRH</td><td>1  </td></tr>\n",
       "\t<tr><td>BOD</td><td>ZRH</td><td>1  </td></tr>\n",
       "\t<tr><td>BRS</td><td>ZRH</td><td>1  </td></tr>\n",
       "\t<tr><td>GVA</td><td>LPA</td><td>1  </td></tr>\n",
       "\t<tr><td>LCA</td><td>ZRH</td><td>1  </td></tr>\n",
       "\t<tr><td>LPA</td><td>ZRH</td><td>1  </td></tr>\n",
       "</tbody>\n",
       "</table>\n"
      ],
      "text/latex": [
       "\\begin{tabular}{r|lll}\n",
       " AER & KZN & cnt\\\\\n",
       "\\hline\n",
       "\t BDS & ZRH & 1  \\\\\n",
       "\t BOD & ZRH & 1  \\\\\n",
       "\t BRS & ZRH & 1  \\\\\n",
       "\t GVA & LPA & 1  \\\\\n",
       "\t LCA & ZRH & 1  \\\\\n",
       "\t LPA & ZRH & 1  \\\\\n",
       "\\end{tabular}\n"
      ],
      "text/markdown": [
       "\n",
       "AER | KZN | cnt | \n",
       "|---|---|---|---|---|---|\n",
       "| BDS | ZRH | 1   | \n",
       "| BOD | ZRH | 1   | \n",
       "| BRS | ZRH | 1   | \n",
       "| GVA | LPA | 1   | \n",
       "| LCA | ZRH | 1   | \n",
       "| LPA | ZRH | 1   | \n",
       "\n",
       "\n"
      ],
      "text/plain": [
       "  AER KZN cnt\n",
       "1 BDS ZRH 1  \n",
       "2 BOD ZRH 1  \n",
       "3 BRS ZRH 1  \n",
       "4 GVA LPA 1  \n",
       "5 LCA ZRH 1  \n",
       "6 LPA ZRH 1  "
      ]
     },
     "metadata": {},
     "output_type": "display_data"
    }
   ],
   "source": [
    "df2 <- df %>% filter(X2B==\"2L\") %>% \n",
    "  group_by(AER,KZN) %>% summarise(cnt=n())\n",
    "flt <- unique(c(levels(factor(df2$AER)),levels(factor(df2$KZN))))\n",
    "\n",
    "head(df2)"
   ]
  },
  {
   "cell_type": "code",
   "execution_count": 13,
   "metadata": {},
   "outputs": [],
   "source": [
    "flt <- unique(c(levels(factor(df2$AER)),levels(factor(df2$KZN))))"
   ]
  },
  {
   "cell_type": "code",
   "execution_count": 15,
   "metadata": {},
   "outputs": [],
   "source": [
    "mtx <- Matrix::Matrix(NA,nrow=length(flt),ncol =length(flt))\n",
    "\n",
    "### iterate through the matrix\n",
    "for(i in 1:length(flt)) {\n",
    "  #res <- NULL\n",
    "  for(j in 1:length(flt)) {\n",
    "    if(is.na(as.numeric(df2[which(df2$AER==flt[i] & df2$KZN==flt[j]),\"cnt\"]))==F) {\n",
    "      mtx[i,j] <- as.numeric(df2[which(df2$AER==flt[i] & df2$KZN==flt[j]),\"cnt\"])\n",
    "    }\n",
    "  }\n",
    "}\n"
   ]
  },
  {
   "cell_type": "code",
   "execution_count": 16,
   "metadata": {},
   "outputs": [],
   "source": [
    "links <- as.matrix(mtx)\n"
   ]
  },
  {
   "cell_type": "code",
   "execution_count": 18,
   "metadata": {},
   "outputs": [],
   "source": [
    "mynet <- graph.adjacency(links, mode=\"directed\",weighted=NULL)\n"
   ]
  },
  {
   "cell_type": "code",
   "execution_count": 19,
   "metadata": {},
   "outputs": [
    {
     "data": {
      "text/plain": [
       "+ 14/14 edges from d763829:\n",
       " [1] 1->9 2->9 3->9 4->6 5->9 6->9 7->9 8->4 9->1 9->2 9->3 9->5 9->6 9->7"
      ]
     },
     "metadata": {},
     "output_type": "display_data"
    }
   ],
   "source": [
    "### network size by edges\n",
    "E(mynet)"
   ]
  },
  {
   "cell_type": "code",
   "execution_count": 20,
   "metadata": {},
   "outputs": [
    {
     "data": {
      "text/plain": [
       "+ 9/9 vertices, from d763829:\n",
       "[1] 1 2 3 4 5 6 7 8 9"
      ]
     },
     "metadata": {},
     "output_type": "display_data"
    }
   ],
   "source": [
    "### network size by vertices (nodes)\n",
    "V(mynet)"
   ]
  },
  {
   "cell_type": "code",
   "execution_count": 23,
   "metadata": {},
   "outputs": [
    {
     "data": {
      "image/png": "[encoded data removed]",
      "text/plain": [
       "Plot with title “”"
      ]
     },
     "metadata": {},
     "output_type": "display_data"
    }
   ],
   "source": [
    "options(repr.plot.width = 4, repr.plot.height =4)\n",
    "\n",
    "plot(mynet, edge.arrow.size=.4, vertex.label=NA)"
   ]
  },
  {
   "cell_type": "markdown",
   "metadata": {},
   "source": [
    "### Measures"
   ]
  },
  {
   "cell_type": "code",
   "execution_count": 25,
   "metadata": {},
   "outputs": [
    {
     "data": {
      "text/html": [
       "2.22222222222222"
      ],
      "text/latex": [
       "2.22222222222222"
      ],
      "text/markdown": [
       "2.22222222222222"
      ],
      "text/plain": [
       "[1] 2.222222"
      ]
     },
     "metadata": {},
     "output_type": "display_data"
    }
   ],
   "source": [
    "mean_distance(mynet, directed=F)"
   ]
  },
  {
   "cell_type": "code",
   "execution_count": null,
   "metadata": {},
   "outputs": [],
   "source": []
  },
  {
   "cell_type": "code",
   "execution_count": 26,
   "metadata": {},
   "outputs": [
    {
     "data": {
      "text/html": [
       "4"
      ],
      "text/latex": [
       "4"
      ],
      "text/markdown": [
       "4"
      ],
      "text/plain": [
       "[1] 4"
      ]
     },
     "metadata": {},
     "output_type": "display_data"
    }
   ],
   "source": [
    "diameter(mynet, directed=F,weights=NA)"
   ]
  },
  {
   "cell_type": "code",
   "execution_count": null,
   "metadata": {},
   "outputs": [],
   "source": []
  },
  {
   "cell_type": "code",
   "execution_count": 27,
   "metadata": {},
   "outputs": [
    {
     "data": {
      "text/html": [
       "<dl>\n",
       "\t<dt>$res</dt>\n",
       "\t\t<dd><ol class=list-inline>\n",
       "\t<li>1</li>\n",
       "\t<li>1</li>\n",
       "\t<li>1</li>\n",
       "\t<li>1</li>\n",
       "\t<li>1</li>\n",
       "\t<li>2</li>\n",
       "\t<li>1</li>\n",
       "\t<li>0</li>\n",
       "\t<li>6</li>\n",
       "</ol>\n",
       "</dd>\n",
       "\t<dt>$centralization</dt>\n",
       "\t\t<dd>0.555555555555556</dd>\n",
       "\t<dt>$theoretical_max</dt>\n",
       "\t\t<dd>72</dd>\n",
       "</dl>\n"
      ],
      "text/latex": [
       "\\begin{description}\n",
       "\\item[\\$res] \\begin{enumerate*}\n",
       "\\item 1\n",
       "\\item 1\n",
       "\\item 1\n",
       "\\item 1\n",
       "\\item 1\n",
       "\\item 2\n",
       "\\item 1\n",
       "\\item 0\n",
       "\\item 6\n",
       "\\end{enumerate*}\n",
       "\n",
       "\\item[\\$centralization] 0.555555555555556\n",
       "\\item[\\$theoretical\\_max] 72\n",
       "\\end{description}\n"
      ],
      "text/markdown": [
       "$res\n",
       ":   1. 1\n",
       "2. 1\n",
       "3. 1\n",
       "4. 1\n",
       "5. 1\n",
       "6. 2\n",
       "7. 1\n",
       "8. 0\n",
       "9. 6\n",
       "\n",
       "\n",
       "\n",
       "$centralization\n",
       ":   0.555555555555556\n",
       "$theoretical_max\n",
       ":   72\n",
       "\n",
       "\n"
      ],
      "text/plain": [
       "$res\n",
       "[1] 1 1 1 1 1 2 1 0 6\n",
       "\n",
       "$centralization\n",
       "[1] 0.5555556\n",
       "\n",
       "$theoretical_max\n",
       "[1] 72\n"
      ]
     },
     "metadata": {},
     "output_type": "display_data"
    }
   ],
   "source": [
    "centr_degree(mynet,mode=\"in\",normalized=T)"
   ]
  },
  {
   "cell_type": "code",
   "execution_count": null,
   "metadata": {},
   "outputs": [],
   "source": []
  },
  {
   "cell_type": "code",
   "execution_count": 28,
   "metadata": {},
   "outputs": [
    {
     "data": {
      "text/html": [
       "0.194444444444444"
      ],
      "text/latex": [
       "0.194444444444444"
      ],
      "text/markdown": [
       "0.194444444444444"
      ],
      "text/plain": [
       "[1] 0.1944444"
      ]
     },
     "metadata": {},
     "output_type": "display_data"
    }
   ],
   "source": [
    "edge_density(mynet,loops=F)"
   ]
  },
  {
   "cell_type": "code",
   "execution_count": null,
   "metadata": {},
   "outputs": [],
   "source": []
  },
  {
   "cell_type": "code",
   "execution_count": 29,
   "metadata": {},
   "outputs": [
    {
     "data": {
      "text/html": [
       "<ol class=list-inline>\n",
       "\t<li>2</li>\n",
       "\t<li>2</li>\n",
       "\t<li>2</li>\n",
       "\t<li>2</li>\n",
       "\t<li>2</li>\n",
       "\t<li>3</li>\n",
       "\t<li>2</li>\n",
       "\t<li>1</li>\n",
       "\t<li>12</li>\n",
       "</ol>\n"
      ],
      "text/latex": [
       "\\begin{enumerate*}\n",
       "\\item 2\n",
       "\\item 2\n",
       "\\item 2\n",
       "\\item 2\n",
       "\\item 2\n",
       "\\item 3\n",
       "\\item 2\n",
       "\\item 1\n",
       "\\item 12\n",
       "\\end{enumerate*}\n"
      ],
      "text/markdown": [
       "1. 2\n",
       "2. 2\n",
       "3. 2\n",
       "4. 2\n",
       "5. 2\n",
       "6. 3\n",
       "7. 2\n",
       "8. 1\n",
       "9. 12\n",
       "\n",
       "\n"
      ],
      "text/plain": [
       "[1]  2  2  2  2  2  3  2  1 12"
      ]
     },
     "metadata": {},
     "output_type": "display_data"
    }
   ],
   "source": [
    "degree(mynet)"
   ]
  },
  {
   "cell_type": "code",
   "execution_count": null,
   "metadata": {},
   "outputs": [],
   "source": []
  },
  {
   "cell_type": "code",
   "execution_count": 30,
   "metadata": {},
   "outputs": [
    {
     "data": {
      "text/html": [
       "3.11111111111111"
      ],
      "text/latex": [
       "3.11111111111111"
      ],
      "text/markdown": [
       "3.11111111111111"
      ],
      "text/plain": [
       "[1] 3.111111"
      ]
     },
     "metadata": {},
     "output_type": "display_data"
    }
   ],
   "source": [
    "mean(degree(mynet))"
   ]
  },
  {
   "cell_type": "markdown",
   "metadata": {},
   "source": [
    "### Clusters"
   ]
  },
  {
   "cell_type": "code",
   "execution_count": 31,
   "metadata": {},
   "outputs": [
    {
     "name": "stderr",
     "output_type": "stream",
     "text": [
      "Warning message in cliques(mynet):\n",
      "“At igraph_cliquer.c:56 :Edge directions are ignored for clique calculations”"
     ]
    },
    {
     "data": {
      "text/plain": [
       "[[1]]\n",
       "+ 1/9 vertex, from d763829:\n",
       "[1] 9\n",
       "\n",
       "[[2]]\n",
       "+ 1/9 vertex, from d763829:\n",
       "[1] 4\n",
       "\n",
       "[[3]]\n",
       "+ 1/9 vertex, from d763829:\n",
       "[1] 8\n",
       "\n",
       "[[4]]\n",
       "+ 2/9 vertices, from d763829:\n",
       "[1] 4 8\n",
       "\n",
       "[[5]]\n",
       "+ 1/9 vertex, from d763829:\n",
       "[1] 7\n",
       "\n",
       "[[6]]\n",
       "+ 2/9 vertices, from d763829:\n",
       "[1] 7 9\n",
       "\n",
       "[[7]]\n",
       "+ 1/9 vertex, from d763829:\n",
       "[1] 6\n",
       "\n",
       "[[8]]\n",
       "+ 2/9 vertices, from d763829:\n",
       "[1] 4 6\n",
       "\n",
       "[[9]]\n",
       "+ 2/9 vertices, from d763829:\n",
       "[1] 6 9\n",
       "\n",
       "[[10]]\n",
       "+ 1/9 vertex, from d763829:\n",
       "[1] 5\n",
       "\n",
       "[[11]]\n",
       "+ 2/9 vertices, from d763829:\n",
       "[1] 5 9\n",
       "\n",
       "[[12]]\n",
       "+ 1/9 vertex, from d763829:\n",
       "[1] 3\n",
       "\n",
       "[[13]]\n",
       "+ 2/9 vertices, from d763829:\n",
       "[1] 3 9\n",
       "\n",
       "[[14]]\n",
       "+ 1/9 vertex, from d763829:\n",
       "[1] 2\n",
       "\n",
       "[[15]]\n",
       "+ 2/9 vertices, from d763829:\n",
       "[1] 2 9\n",
       "\n",
       "[[16]]\n",
       "+ 1/9 vertex, from d763829:\n",
       "[1] 1\n",
       "\n",
       "[[17]]\n",
       "+ 2/9 vertices, from d763829:\n",
       "[1] 1 9\n"
      ]
     },
     "metadata": {},
     "output_type": "display_data"
    }
   ],
   "source": [
    "cliques(mynet)"
   ]
  },
  {
   "cell_type": "code",
   "execution_count": null,
   "metadata": {},
   "outputs": [],
   "source": []
  },
  {
   "cell_type": "code",
   "execution_count": 32,
   "metadata": {},
   "outputs": [
    {
     "name": "stderr",
     "output_type": "stream",
     "text": [
      "Warning message in cliques(mynet):\n",
      "“At igraph_cliquer.c:56 :Edge directions are ignored for clique calculations”"
     ]
    },
    {
     "data": {
      "text/html": [
       "<ol class=list-inline>\n",
       "\t<li>1</li>\n",
       "\t<li>1</li>\n",
       "\t<li>1</li>\n",
       "\t<li>2</li>\n",
       "\t<li>1</li>\n",
       "\t<li>2</li>\n",
       "\t<li>1</li>\n",
       "\t<li>2</li>\n",
       "\t<li>2</li>\n",
       "\t<li>1</li>\n",
       "\t<li>2</li>\n",
       "\t<li>1</li>\n",
       "\t<li>2</li>\n",
       "\t<li>1</li>\n",
       "\t<li>2</li>\n",
       "\t<li>1</li>\n",
       "\t<li>2</li>\n",
       "</ol>\n"
      ],
      "text/latex": [
       "\\begin{enumerate*}\n",
       "\\item 1\n",
       "\\item 1\n",
       "\\item 1\n",
       "\\item 2\n",
       "\\item 1\n",
       "\\item 2\n",
       "\\item 1\n",
       "\\item 2\n",
       "\\item 2\n",
       "\\item 1\n",
       "\\item 2\n",
       "\\item 1\n",
       "\\item 2\n",
       "\\item 1\n",
       "\\item 2\n",
       "\\item 1\n",
       "\\item 2\n",
       "\\end{enumerate*}\n"
      ],
      "text/markdown": [
       "1. 1\n",
       "2. 1\n",
       "3. 1\n",
       "4. 2\n",
       "5. 1\n",
       "6. 2\n",
       "7. 1\n",
       "8. 2\n",
       "9. 2\n",
       "10. 1\n",
       "11. 2\n",
       "12. 1\n",
       "13. 2\n",
       "14. 1\n",
       "15. 2\n",
       "16. 1\n",
       "17. 2\n",
       "\n",
       "\n"
      ],
      "text/plain": [
       " [1] 1 1 1 2 1 2 1 2 2 1 2 1 2 1 2 1 2"
      ]
     },
     "metadata": {},
     "output_type": "display_data"
    }
   ],
   "source": [
    "sapply(cliques(mynet), length)"
   ]
  },
  {
   "cell_type": "code",
   "execution_count": null,
   "metadata": {},
   "outputs": [],
   "source": []
  },
  {
   "cell_type": "code",
   "execution_count": 33,
   "metadata": {},
   "outputs": [
    {
     "name": "stderr",
     "output_type": "stream",
     "text": [
      "Warning message in largest_cliques(mynet):\n",
      "“At cliques.c:1087 :directionality of edges is ignored for directed graphs”"
     ]
    },
    {
     "data": {
      "text/plain": [
       "[[1]]\n",
       "+ 2/9 vertices, from d763829:\n",
       "[1] 9 7\n",
       "\n",
       "[[2]]\n",
       "+ 2/9 vertices, from d763829:\n",
       "[1] 9 6\n",
       "\n",
       "[[3]]\n",
       "+ 2/9 vertices, from d763829:\n",
       "[1] 9 5\n",
       "\n",
       "[[4]]\n",
       "+ 2/9 vertices, from d763829:\n",
       "[1] 9 3\n",
       "\n",
       "[[5]]\n",
       "+ 2/9 vertices, from d763829:\n",
       "[1] 9 2\n",
       "\n",
       "[[6]]\n",
       "+ 2/9 vertices, from d763829:\n",
       "[1] 9 1\n",
       "\n",
       "[[7]]\n",
       "+ 2/9 vertices, from d763829:\n",
       "[1] 8 4\n",
       "\n",
       "[[8]]\n",
       "+ 2/9 vertices, from d763829:\n",
       "[1] 4 6\n"
      ]
     },
     "metadata": {},
     "output_type": "display_data"
    }
   ],
   "source": [
    "largest_cliques(mynet)"
   ]
  },
  {
   "cell_type": "code",
   "execution_count": null,
   "metadata": {},
   "outputs": [],
   "source": []
  },
  {
   "cell_type": "code",
   "execution_count": 49,
   "metadata": {},
   "outputs": [
    {
     "data": {
      "image/png": "[encoded data removed]",
      "text/plain": [
       "Plot with title “”"
      ]
     },
     "metadata": {},
     "output_type": "display_data"
    }
   ],
   "source": [
    "plot(as.directed(mynet))"
   ]
  },
  {
   "cell_type": "code",
   "execution_count": null,
   "metadata": {},
   "outputs": [],
   "source": []
  },
  {
   "cell_type": "code",
   "execution_count": null,
   "metadata": {},
   "outputs": [],
   "source": []
  },
  {
   "cell_type": "markdown",
   "metadata": {},
   "source": [
    "### Hubs"
   ]
  },
  {
   "cell_type": "code",
   "execution_count": 42,
   "metadata": {},
   "outputs": [
    {
     "data": {
      "image/png": "[encoded data removed]",
      "text/plain": [
       "Plot with title “Hubs”"
      ]
     },
     "metadata": {},
     "output_type": "display_data"
    }
   ],
   "source": [
    "set.seed(11)\n",
    "\n",
    "hs <- hub_score(mynet)$vector\n",
    "plot(mynet, vertex.size=hs * 30,main=\"Hubs\",colors=rainbow(9),edge.arrow.size=0.1,\n",
    "     layout=layout.kamada.kawai)"
   ]
  },
  {
   "cell_type": "markdown",
   "metadata": {},
   "source": [
    "### Authority"
   ]
  },
  {
   "cell_type": "code",
   "execution_count": 43,
   "metadata": {},
   "outputs": [
    {
     "data": {
      "image/png": "[encoded data removed]",
      "text/plain": [
       "Plot with title “Authorities”"
      ]
     },
     "metadata": {},
     "output_type": "display_data"
    }
   ],
   "source": [
    "set.seed(11)\n",
    "\n",
    "au <- authority_score(mynet)$vector\n",
    "plot(mynet, vertex.size=au * 30,main=\"Authorities\",colors=rainbow(9),edge.arrow.size=0.1,\n",
    "     layout=layout.kamada.kawai)"
   ]
  },
  {
   "cell_type": "markdown",
   "metadata": {},
   "source": [
    "### Community"
   ]
  },
  {
   "cell_type": "code",
   "execution_count": 44,
   "metadata": {},
   "outputs": [
    {
     "name": "stderr",
     "output_type": "stream",
     "text": [
      "Warning message in cluster_edge_betweenness(mynet):\n",
      "“At community.c:460 :Membership vector will be selected based on the lowest modularity score.”Warning message in cluster_edge_betweenness(mynet):\n",
      "“At community.c:467 :Modularity calculation with weighted edge betweenness community detection might not make sense -- modularity treats edge weights as similarities while edge betwenness treats them as distances”"
     ]
    },
    {
     "data": {
      "image/png": "[encoded data removed]",
      "text/plain": [
       "Plot with title “”"
      ]
     },
     "metadata": {},
     "output_type": "display_data"
    }
   ],
   "source": [
    "### community\n",
    "cnet <- cluster_edge_betweenness(mynet)\n",
    "plot(cnet, mynet, vertex.size=10, vertex.label.cex=0.8)"
   ]
  },
  {
   "cell_type": "code",
   "execution_count": 47,
   "metadata": {},
   "outputs": [
    {
     "name": "stderr",
     "output_type": "stream",
     "text": [
      "Warning message in cluster_edge_betweenness(mynet):\n",
      "“At community.c:460 :Membership vector will be selected based on the lowest modularity score.”Warning message in cluster_edge_betweenness(mynet):\n",
      "“At community.c:467 :Modularity calculation with weighted edge betweenness community detection might not make sense -- modularity treats edge weights as similarities while edge betwenness treats them as distances”"
     ]
    },
    {
     "data": {
      "text/plain": [
       "IGRAPH clustering edge betweenness, groups: 2, mod: 0.12\n",
       "+ groups:\n",
       "  $`1`\n",
       "  [1] 1 2 3 5 6 7 9\n",
       "  \n",
       "  $`2`\n",
       "  [1] 4 8\n",
       "  "
      ]
     },
     "metadata": {},
     "output_type": "display_data"
    }
   ],
   "source": [
    "btwn <- cluster_edge_betweenness(mynet)\n",
    "btwn"
   ]
  },
  {
   "cell_type": "code",
   "execution_count": 48,
   "metadata": {},
   "outputs": [
    {
     "data": {
      "image/png": "[encoded data removed]",
      "text/plain": [
       "plot without title"
      ]
     },
     "metadata": {},
     "output_type": "display_data"
    }
   ],
   "source": [
    "dendPlot(btwn, mode=\"hclust\")"
   ]
  },
  {
   "cell_type": "code",
   "execution_count": 45,
   "metadata": {},
   "outputs": [
    {
     "data": {
      "text/html": [
       "2"
      ],
      "text/latex": [
       "2"
      ],
      "text/markdown": [
       "2"
      ],
      "text/plain": [
       "[1] 2"
      ]
     },
     "metadata": {},
     "output_type": "display_data"
    }
   ],
   "source": [
    "length(btwn)"
   ]
  },
  {
   "cell_type": "code",
   "execution_count": 46,
   "metadata": {},
   "outputs": [
    {
     "data": {
      "text/plain": [
       "[1] 1 1 1 2 1 1 1 2 1"
      ]
     },
     "metadata": {},
     "output_type": "display_data"
    }
   ],
   "source": [
    "membership(btwn)"
   ]
  }
 ],
 "metadata": {
  "kernelspec": {
   "display_name": "R",
   "language": "R",
   "name": "ir"
  },
  "language_info": {
   "codemirror_mode": "r",
   "file_extension": ".r",
   "mimetype": "text/x-r-source",
   "name": "R",
   "pygments_lexer": "r",
   "version": "3.4.4"
  }
 },
 "nbformat": 4,
 "nbformat_minor": 2
}
