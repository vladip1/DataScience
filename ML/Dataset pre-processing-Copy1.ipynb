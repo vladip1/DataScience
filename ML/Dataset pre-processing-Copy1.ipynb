{
 "cells": [
  {
   "cell_type": "markdown",
   "metadata": {},
   "source": [
    "# Preparing the data for modeling"
   ]
  },
  {
   "cell_type": "markdown",
   "metadata": {},
   "source": [
    "## Subsetting the dataset\n",
    " \n",
    "When our flat-file is ready for modeling we have to procede to generate the partitions that we will use for modeling. No matter which method we will use for training our data, we have to generate first a test dataset. This test dataset has to be set on hold aside and only used at the end of the whole process of training and selecting the best model.\n",
    " \n",
    "After we selected the test dataset we proceed to use the rest of the data for training the models. There are three main strategies for that:\n",
    " \n",
    "* Dividing into train and dev\n",
    "* \n",
    "\n",
    "* Using Bootstrapping\n",
    "\n",
    "\n",
    "## Test dataset"
   ]
  },
  {
   "cell_type": "code",
   "execution_count": 1,
   "metadata": {},
   "outputs": [],
   "source": [
    "data <- iris"
   ]
  },
  {
   "cell_type": "code",
   "execution_count": 2,
   "metadata": {},
   "outputs": [
    {
     "data": {
      "text/html": [
       "<table>\n",
       "<caption>A data.frame: 6 × 5</caption>\n",
       "<thead>\n",
       "\t<tr><th scope=col>Sepal.Length</th><th scope=col>Sepal.Width</th><th scope=col>Petal.Length</th><th scope=col>Petal.Width</th><th scope=col>Species</th></tr>\n",
       "\t<tr><th scope=col>&lt;dbl&gt;</th><th scope=col>&lt;dbl&gt;</th><th scope=col>&lt;dbl&gt;</th><th scope=col>&lt;dbl&gt;</th><th scope=col>&lt;fct&gt;</th></tr>\n",
       "</thead>\n",
       "<tbody>\n",
       "\t<tr><td>5.1</td><td>3.5</td><td>1.4</td><td>0.2</td><td>setosa</td></tr>\n",
       "\t<tr><td>4.9</td><td>3.0</td><td>1.4</td><td>0.2</td><td>setosa</td></tr>\n",
       "\t<tr><td>4.7</td><td>3.2</td><td>1.3</td><td>0.2</td><td>setosa</td></tr>\n",
       "\t<tr><td>4.6</td><td>3.1</td><td>1.5</td><td>0.2</td><td>setosa</td></tr>\n",
       "\t<tr><td>5.0</td><td>3.6</td><td>1.4</td><td>0.2</td><td>setosa</td></tr>\n",
       "\t<tr><td>5.4</td><td>3.9</td><td>1.7</td><td>0.4</td><td>setosa</td></tr>\n",
       "</tbody>\n",
       "</table>\n"
      ],
      "text/latex": [
       "A data.frame: 6 × 5\n",
       "\\begin{tabular}{r|lllll}\n",
       " Sepal.Length & Sepal.Width & Petal.Length & Petal.Width & Species\\\\\n",
       " <dbl> & <dbl> & <dbl> & <dbl> & <fct>\\\\\n",
       "\\hline\n",
       "\t 5.1 & 3.5 & 1.4 & 0.2 & setosa\\\\\n",
       "\t 4.9 & 3.0 & 1.4 & 0.2 & setosa\\\\\n",
       "\t 4.7 & 3.2 & 1.3 & 0.2 & setosa\\\\\n",
       "\t 4.6 & 3.1 & 1.5 & 0.2 & setosa\\\\\n",
       "\t 5.0 & 3.6 & 1.4 & 0.2 & setosa\\\\\n",
       "\t 5.4 & 3.9 & 1.7 & 0.4 & setosa\\\\\n",
       "\\end{tabular}\n"
      ],
      "text/markdown": [
       "\n",
       "A data.frame: 6 × 5\n",
       "\n",
       "| Sepal.Length &lt;dbl&gt; | Sepal.Width &lt;dbl&gt; | Petal.Length &lt;dbl&gt; | Petal.Width &lt;dbl&gt; | Species &lt;fct&gt; |\n",
       "|---|---|---|---|---|\n",
       "| 5.1 | 3.5 | 1.4 | 0.2 | setosa |\n",
       "| 4.9 | 3.0 | 1.4 | 0.2 | setosa |\n",
       "| 4.7 | 3.2 | 1.3 | 0.2 | setosa |\n",
       "| 4.6 | 3.1 | 1.5 | 0.2 | setosa |\n",
       "| 5.0 | 3.6 | 1.4 | 0.2 | setosa |\n",
       "| 5.4 | 3.9 | 1.7 | 0.4 | setosa |\n",
       "\n"
      ],
      "text/plain": [
       "  Sepal.Length Sepal.Width Petal.Length Petal.Width Species\n",
       "1 5.1          3.5         1.4          0.2         setosa \n",
       "2 4.9          3.0         1.4          0.2         setosa \n",
       "3 4.7          3.2         1.3          0.2         setosa \n",
       "4 4.6          3.1         1.5          0.2         setosa \n",
       "5 5.0          3.6         1.4          0.2         setosa \n",
       "6 5.4          3.9         1.7          0.4         setosa "
      ]
     },
     "metadata": {},
     "output_type": "display_data"
    }
   ],
   "source": [
    "head(data)"
   ]
  },
  {
   "cell_type": "code",
   "execution_count": 4,
   "metadata": {},
   "outputs": [
    {
     "data": {
      "text/plain": [
       "    User_ID            Product_ID     Gender        Age        \n",
       " Min.   :1000001   P00265242:  1858   F:132197   0-17 : 14707  \n",
       " 1st Qu.:1001495   P00110742:  1591   M:405380   18-25: 97634  \n",
       " Median :1003031   P00025442:  1586              26-35:214690  \n",
       " Mean   :1002992   P00112142:  1539              36-45:107499  \n",
       " 3rd Qu.:1004417   P00057642:  1430              46-50: 44526  \n",
       " Max.   :1006040   P00184942:  1424              51-55: 37618  \n",
       "                   (Other)  :528149              55+  : 20903  \n",
       "   Occupation     City_Category Stay_In_Current_City_Years Marital_Status\n",
       " 4      : 70862   A:144638      0 : 72725                  0:317817      \n",
       " 0      : 68120   B:226493      1 :189192                  1:219760      \n",
       " 7      : 57806   C:166446      2 : 99459                                \n",
       " 1      : 45971                 3 : 93312                                \n",
       " 17     : 39090                 4+: 82889                                \n",
       " 20     : 32910                                                          \n",
       " (Other):222818                                                          \n",
       " Product_Category_1 Product_Category_2 Product_Category_3    Purchase    \n",
       " 5      :148592     0      :166986     0      :373299     Min.   :  185  \n",
       " 1      :138353     8      : 63058     16     : 32148     1st Qu.: 5866  \n",
       " 8      :112132     14     : 54158     15     : 27611     Median : 8062  \n",
       " 11     : 23960     2      : 48481     14     : 18121     Mean   : 9334  \n",
       " 2      : 23499     16     : 42602     17     : 16449     3rd Qu.:12073  \n",
       " 6      : 20164     15     : 37317     5      : 16380     Max.   :23961  \n",
       " (Other): 70877     (Other):124975     (Other): 53569                    "
      ]
     },
     "metadata": {},
     "output_type": "display_data"
    }
   ],
   "source": [
    "summary(data)"
   ]
  },
  {
   "cell_type": "code",
   "execution_count": 4,
   "metadata": {},
   "outputs": [
    {
     "name": "stderr",
     "output_type": "stream",
     "text": [
      "Loading required package: mechkar\n",
      "\n"
     ]
    }
   ],
   "source": [
    "#library(devtools)\n",
    "#install_github(\"karpatit/mechkar\")\n",
    "require(mechkar)"
   ]
  },
  {
   "cell_type": "code",
   "execution_count": 6,
   "metadata": {},
   "outputs": [
    {
     "name": "stdout",
     "output_type": "stream",
     "text": [
      "  |========================================================              |  80%"
     ]
    },
    {
     "data": {
      "text/html": [
       "<table>\n",
       "<caption>A tibble: 12 × 7</caption>\n",
       "<thead>\n",
       "\t<tr><th scope=col>V1</th><th scope=col>V2</th><th scope=col>Pop</th><th scope=col>setosa</th><th scope=col>versicolor</th><th scope=col>virginica</th><th scope=col>pval</th></tr>\n",
       "\t<tr><th scope=col>&lt;chr&gt;</th><th scope=col>&lt;chr&gt;</th><th scope=col>&lt;chr&gt;</th><th scope=col>&lt;fct&gt;</th><th scope=col>&lt;fct&gt;</th><th scope=col>&lt;fct&gt;</th><th scope=col>&lt;fct&gt;</th></tr>\n",
       "</thead>\n",
       "<tbody>\n",
       "\t<tr><td>Individuals </td><td>n           </td><td>150          </td><td>50           </td><td>50           </td><td>50           </td><td>NA</td></tr>\n",
       "\t<tr><td>Sepal.Length</td><td>Mean (SD)   </td><td>5.8 (0.8)    </td><td>5.0 (0.4)    </td><td>5.9 (0.5)    </td><td>6.6 (0.6)    </td><td>NA</td></tr>\n",
       "\t<tr><td>Sepal.Length</td><td>Median (IQR)</td><td>5.8 (5.1-6.4)</td><td>5.0 (4.8-5.2)</td><td>5.9 (5.6-6.3)</td><td>6.5 (6.2-6.9)</td><td>0 </td></tr>\n",
       "\t<tr><td>Sepal.Width </td><td>Mean (SD)   </td><td>3.1 (0.4)    </td><td>3.4 (0.4)    </td><td>2.8 (0.3)    </td><td>3.0 (0.3)    </td><td>NA</td></tr>\n",
       "\t<tr><td>Sepal.Width </td><td>Median (IQR)</td><td>3.0 (2.8-3.3)</td><td>3.4 (3.2-3.7)</td><td>2.8 (2.5-3.0)</td><td>3.0 (2.8-3.2)</td><td>0 </td></tr>\n",
       "\t<tr><td>Petal.Length</td><td>Mean (SD)   </td><td>3.8 (1.8)    </td><td>1.5 (0.2)    </td><td>4.3 (0.5)    </td><td>5.6 (0.6)    </td><td>NA</td></tr>\n",
       "\t<tr><td>Petal.Length</td><td>Median (IQR)</td><td>4.3 (1.6-5.1)</td><td>1.5 (1.4-1.6)</td><td>4.3 (4.0-4.6)</td><td>5.5 (5.1-5.9)</td><td>0 </td></tr>\n",
       "\t<tr><td>Petal.Width </td><td>Mean (SD)   </td><td>1.2 (0.8)    </td><td>0.2 (0.1)    </td><td>1.3 (0.2)    </td><td>2.0 (0.3)    </td><td>NA</td></tr>\n",
       "\t<tr><td>Petal.Width </td><td>Median (IQR)</td><td>1.3 (0.3-1.8)</td><td>0.2 (0.2-0.3)</td><td>1.3 (1.2-1.5)</td><td>2.0 (1.8-2.3)</td><td>0 </td></tr>\n",
       "\t<tr><td>Species     </td><td>setosa      </td><td>50 (33.3%)   </td><td>50 (100.0%)  </td><td>0 (0.0%)     </td><td>0 (0.0%)     </td><td>NA</td></tr>\n",
       "\t<tr><td>Species     </td><td>versicolor  </td><td>50 (33.3%)   </td><td>0 (0.0%)     </td><td>50 (100.0%)  </td><td>0 (0.0%)     </td><td>0 </td></tr>\n",
       "\t<tr><td>Species     </td><td>virginica   </td><td>50 (33.3%)   </td><td>0 (0.0%)     </td><td>0 (0.0%)     </td><td>50 (100.0%)  </td><td>NA</td></tr>\n",
       "</tbody>\n",
       "</table>\n"
      ],
      "text/latex": [
       "A tibble: 12 × 7\n",
       "\\begin{tabular}{r|lllllll}\n",
       " V1 & V2 & Pop & setosa & versicolor & virginica & pval\\\\\n",
       " <chr> & <chr> & <chr> & <fct> & <fct> & <fct> & <fct>\\\\\n",
       "\\hline\n",
       "\t Individuals  & n            & 150           & 50            & 50            & 50            & NA\\\\\n",
       "\t Sepal.Length & Mean (SD)    & 5.8 (0.8)     & 5.0 (0.4)     & 5.9 (0.5)     & 6.6 (0.6)     & NA\\\\\n",
       "\t Sepal.Length & Median (IQR) & 5.8 (5.1-6.4) & 5.0 (4.8-5.2) & 5.9 (5.6-6.3) & 6.5 (6.2-6.9) & 0 \\\\\n",
       "\t Sepal.Width  & Mean (SD)    & 3.1 (0.4)     & 3.4 (0.4)     & 2.8 (0.3)     & 3.0 (0.3)     & NA\\\\\n",
       "\t Sepal.Width  & Median (IQR) & 3.0 (2.8-3.3) & 3.4 (3.2-3.7) & 2.8 (2.5-3.0) & 3.0 (2.8-3.2) & 0 \\\\\n",
       "\t Petal.Length & Mean (SD)    & 3.8 (1.8)     & 1.5 (0.2)     & 4.3 (0.5)     & 5.6 (0.6)     & NA\\\\\n",
       "\t Petal.Length & Median (IQR) & 4.3 (1.6-5.1) & 1.5 (1.4-1.6) & 4.3 (4.0-4.6) & 5.5 (5.1-5.9) & 0 \\\\\n",
       "\t Petal.Width  & Mean (SD)    & 1.2 (0.8)     & 0.2 (0.1)     & 1.3 (0.2)     & 2.0 (0.3)     & NA\\\\\n",
       "\t Petal.Width  & Median (IQR) & 1.3 (0.3-1.8) & 0.2 (0.2-0.3) & 1.3 (1.2-1.5) & 2.0 (1.8-2.3) & 0 \\\\\n",
       "\t Species      & setosa       & 50 (33.3\\%)    & 50 (100.0\\%)   & 0 (0.0\\%)      & 0 (0.0\\%)      & NA\\\\\n",
       "\t Species      & versicolor   & 50 (33.3\\%)    & 0 (0.0\\%)      & 50 (100.0\\%)   & 0 (0.0\\%)      & 0 \\\\\n",
       "\t Species      & virginica    & 50 (33.3\\%)    & 0 (0.0\\%)      & 0 (0.0\\%)      & 50 (100.0\\%)   & NA\\\\\n",
       "\\end{tabular}\n"
      ],
      "text/markdown": [
       "\n",
       "A tibble: 12 × 7\n",
       "\n",
       "| V1 &lt;chr&gt; | V2 &lt;chr&gt; | Pop &lt;chr&gt; | setosa &lt;fct&gt; | versicolor &lt;fct&gt; | virginica &lt;fct&gt; | pval &lt;fct&gt; |\n",
       "|---|---|---|---|---|---|---|\n",
       "| Individuals  | n            | 150           | 50            | 50            | 50            | NA |\n",
       "| Sepal.Length | Mean (SD)    | 5.8 (0.8)     | 5.0 (0.4)     | 5.9 (0.5)     | 6.6 (0.6)     | NA |\n",
       "| Sepal.Length | Median (IQR) | 5.8 (5.1-6.4) | 5.0 (4.8-5.2) | 5.9 (5.6-6.3) | 6.5 (6.2-6.9) | 0  |\n",
       "| Sepal.Width  | Mean (SD)    | 3.1 (0.4)     | 3.4 (0.4)     | 2.8 (0.3)     | 3.0 (0.3)     | NA |\n",
       "| Sepal.Width  | Median (IQR) | 3.0 (2.8-3.3) | 3.4 (3.2-3.7) | 2.8 (2.5-3.0) | 3.0 (2.8-3.2) | 0  |\n",
       "| Petal.Length | Mean (SD)    | 3.8 (1.8)     | 1.5 (0.2)     | 4.3 (0.5)     | 5.6 (0.6)     | NA |\n",
       "| Petal.Length | Median (IQR) | 4.3 (1.6-5.1) | 1.5 (1.4-1.6) | 4.3 (4.0-4.6) | 5.5 (5.1-5.9) | 0  |\n",
       "| Petal.Width  | Mean (SD)    | 1.2 (0.8)     | 0.2 (0.1)     | 1.3 (0.2)     | 2.0 (0.3)     | NA |\n",
       "| Petal.Width  | Median (IQR) | 1.3 (0.3-1.8) | 0.2 (0.2-0.3) | 1.3 (1.2-1.5) | 2.0 (1.8-2.3) | 0  |\n",
       "| Species      | setosa       | 50 (33.3%)    | 50 (100.0%)   | 0 (0.0%)      | 0 (0.0%)      | NA |\n",
       "| Species      | versicolor   | 50 (33.3%)    | 0 (0.0%)      | 50 (100.0%)   | 0 (0.0%)      | 0  |\n",
       "| Species      | virginica    | 50 (33.3%)    | 0 (0.0%)      | 0 (0.0%)      | 50 (100.0%)   | NA |\n",
       "\n"
      ],
      "text/plain": [
       "   V1           V2           Pop           setosa        versicolor   \n",
       "1  Individuals  n            150           50            50           \n",
       "2  Sepal.Length Mean (SD)    5.8 (0.8)     5.0 (0.4)     5.9 (0.5)    \n",
       "3  Sepal.Length Median (IQR) 5.8 (5.1-6.4) 5.0 (4.8-5.2) 5.9 (5.6-6.3)\n",
       "4  Sepal.Width  Mean (SD)    3.1 (0.4)     3.4 (0.4)     2.8 (0.3)    \n",
       "5  Sepal.Width  Median (IQR) 3.0 (2.8-3.3) 3.4 (3.2-3.7) 2.8 (2.5-3.0)\n",
       "6  Petal.Length Mean (SD)    3.8 (1.8)     1.5 (0.2)     4.3 (0.5)    \n",
       "7  Petal.Length Median (IQR) 4.3 (1.6-5.1) 1.5 (1.4-1.6) 4.3 (4.0-4.6)\n",
       "8  Petal.Width  Mean (SD)    1.2 (0.8)     0.2 (0.1)     1.3 (0.2)    \n",
       "9  Petal.Width  Median (IQR) 1.3 (0.3-1.8) 0.2 (0.2-0.3) 1.3 (1.2-1.5)\n",
       "10 Species      setosa       50 (33.3%)    50 (100.0%)   0 (0.0%)     \n",
       "11 Species      versicolor   50 (33.3%)    0 (0.0%)      50 (100.0%)  \n",
       "12 Species      virginica    50 (33.3%)    0 (0.0%)      0 (0.0%)     \n",
       "   virginica     pval\n",
       "1  50            NA  \n",
       "2  6.6 (0.6)     NA  \n",
       "3  6.5 (6.2-6.9) 0   \n",
       "4  3.0 (0.3)     NA  \n",
       "5  3.0 (2.8-3.2) 0   \n",
       "6  5.6 (0.6)     NA  \n",
       "7  5.5 (5.1-5.9) 0   \n",
       "8  2.0 (0.3)     NA  \n",
       "9  2.0 (1.8-2.3) 0   \n",
       "10 0 (0.0%)      NA  \n",
       "11 0 (0.0%)      0   \n",
       "12 50 (100.0%)   NA  "
      ]
     },
     "metadata": {},
     "output_type": "display_data"
    }
   ],
   "source": [
    "Table1(data = data,y = \"Species\")"
   ]
  },
  {
   "cell_type": "code",
   "execution_count": 8,
   "metadata": {},
   "outputs": [],
   "source": [
    "############### TRAIN_TEST #######################\n",
    "train_test <- function(data=NULL,train_name=NULL,test_name=NULL,prop=NULL,seed=123,tableone=False)\n",
    "{\n",
    "  checkTrainTest <- function(train=NULL,test=NULL) {\n",
    "     train[[\"traintest_ind_\"]] <- 1\n",
    "     test[[\"traintest_ind_\"]] <- 2\n",
    "     data <- rbind(train, test)\n",
    "     tab <- Table1(data=data, y=\"traintest_ind_\",x=names(train),messages = F)\n",
    "     vars <- subset(tab, pval < 0.05)$V1\n",
    "     if (length(vars)==1) {\n",
    "        message(\"You got a perfectly balanced training and test datasets\")\n",
    "        message(\" \")\n",
    "     } else {\n",
    "        message(\"WARNING: The following variables are not balanced between the training and test datasets:\")\n",
    "       for (v in vars) { message(paste(\"*\",v)) }\n",
    "          message(\"You can try to change the seed value until you get a balanced partition.\")\n",
    "          message(\"Alternatively, you can ommit this warning and exclude those variables from your model\")\n",
    "          message(\" \")\n",
    "       }\n",
    "       return(tab)\n",
    "  }\n",
    "  ## set the seed to make your partition reproductible\n",
    "  set.seed(seed)\n",
    "  smp_size <- floor(prop * nrow(data))\n",
    "  train_ind <- sample(seq_len(nrow(data)), size = smp_size)\n",
    "  assign(train_name, data[train_ind, ], envir=globalenv())\n",
    "  assign(test_name, data[-train_ind, ], envir=globalenv())\n",
    "  tab = checkTrainTest(get(train_name),get(test_name))\n",
    "  message(paste(\"Dataset partitioned into:\"))\n",
    "  message(paste(\" + Train dataset:\", train_name))\n",
    "  message(paste(\" + Test dataset:\", test_name))\n",
    "  if(tableone==TRUE) {\n",
    "     return(tab)\n",
    "  } \n",
    "}"
   ]
  },
  {
   "cell_type": "markdown",
   "metadata": {},
   "source": [
    "## Test dataset"
   ]
  },
  {
   "cell_type": "code",
   "execution_count": 20,
   "metadata": {},
   "outputs": [
    {
     "name": "stderr",
     "output_type": "stream",
     "text": [
      "Dataset partitioned into:\n",
      "\n",
      " + Train dataset: temp\n",
      "\n",
      " + Test dataset: test\n",
      "\n"
     ]
    },
    {
     "name": "stdout",
     "output_type": "stream",
     "text": [
      "  |==========================================================            |  83%"
     ]
    },
    {
     "name": "stderr",
     "output_type": "stream",
     "text": [
      "You got a perfectly balanced training and test datasets\n",
      "\n",
      " \n",
      "\n"
     ]
    }
   ],
   "source": [
    "tab1 <- train_test(data = data, train_name = \"temp\", test_name = \"test\",prop = 0.7, seed = 123, tableone=T)"
   ]
  },
  {
   "cell_type": "code",
   "execution_count": 23,
   "metadata": {},
   "outputs": [
    {
     "data": {
      "image/png": "[encoded data removed]",
      "text/plain": [
       "plot without title"
      ]
     },
     "metadata": {
      "image/png": {
       "height": 420,
       "width": 420
      },
      "text/plain": {
       "height": 420,
       "width": 420
      }
     },
     "output_type": "display_data"
    }
   ],
   "source": [
    "barplot(table(test$Species))\n"
   ]
  },
  {
   "cell_type": "code",
   "execution_count": 24,
   "metadata": {},
   "outputs": [
    {
     "data": {
      "image/png": "[encoded data removed]",
      "text/plain": [
       "plot without title"
      ]
     },
     "metadata": {
      "image/png": {
       "height": 420,
       "width": 420
      },
      "text/plain": {
       "height": 420,
       "width": 420
      }
     },
     "output_type": "display_data"
    }
   ],
   "source": [
    "barplot(table(temp$Species))"
   ]
  },
  {
   "cell_type": "code",
   "execution_count": 18,
   "metadata": {},
   "outputs": [
    {
     "data": {
      "text/html": [
       "<ol class=list-inline>\n",
       "\t<li>105</li>\n",
       "\t<li>5</li>\n",
       "</ol>\n"
      ],
      "text/latex": [
       "\\begin{enumerate*}\n",
       "\\item 105\n",
       "\\item 5\n",
       "\\end{enumerate*}\n"
      ],
      "text/markdown": [
       "1. 105\n",
       "2. 5\n",
       "\n",
       "\n"
      ],
      "text/plain": [
       "[1] 105   5"
      ]
     },
     "metadata": {},
     "output_type": "display_data"
    },
    {
     "data": {
      "text/html": [
       "<ol class=list-inline>\n",
       "\t<li>45</li>\n",
       "\t<li>5</li>\n",
       "</ol>\n"
      ],
      "text/latex": [
       "\\begin{enumerate*}\n",
       "\\item 45\n",
       "\\item 5\n",
       "\\end{enumerate*}\n"
      ],
      "text/markdown": [
       "1. 45\n",
       "2. 5\n",
       "\n",
       "\n"
      ],
      "text/plain": [
       "[1] 45  5"
      ]
     },
     "metadata": {},
     "output_type": "display_data"
    },
    {
     "data": {
      "image/png": "[encoded data removed]",
      "text/plain": [
       "Plot with title “”"
      ]
     },
     "metadata": {
      "image/png": {
       "height": 420,
       "width": 420
      },
      "text/plain": {
       "height": 420,
       "width": 420
      }
     },
     "output_type": "display_data"
    }
   ],
   "source": [
    "dim(temp)\n",
    "dim(test)\n",
    "\n",
    "hist(temp)"
   ]
  },
  {
   "cell_type": "code",
   "execution_count": 16,
   "metadata": {},
   "outputs": [
    {
     "data": {
      "image/png": "[encoded data removed]",
      "text/plain": [
       "Plot with title “”"
      ]
     },
     "metadata": {
      "image/png": {
       "height": 420,
       "width": 420
      },
      "text/plain": {
       "height": 420,
       "width": 420
      }
     },
     "output_type": "display_data"
    }
   ],
   "source": [
    "hist(test)"
   ]
  },
  {
   "cell_type": "code",
   "execution_count": 25,
   "metadata": {},
   "outputs": [
    {
     "data": {
      "text/html": [
       "<table>\n",
       "<caption>A tibble: 14 × 6</caption>\n",
       "<thead>\n",
       "\t<tr><th scope=col>V1</th><th scope=col>V2</th><th scope=col>Pop</th><th scope=col>1</th><th scope=col>2</th><th scope=col>pval</th></tr>\n",
       "\t<tr><th scope=col>&lt;chr&gt;</th><th scope=col>&lt;chr&gt;</th><th scope=col>&lt;chr&gt;</th><th scope=col>&lt;fct&gt;</th><th scope=col>&lt;fct&gt;</th><th scope=col>&lt;fct&gt;</th></tr>\n",
       "</thead>\n",
       "<tbody>\n",
       "\t<tr><td>Individuals   </td><td>n           </td><td>150          </td><td>105          </td><td>45           </td><td>NA   </td></tr>\n",
       "\t<tr><td>Sepal.Length  </td><td>Mean (SD)   </td><td>5.8 (0.8)    </td><td>5.8 (0.9)    </td><td>5.8 (0.7)    </td><td>NA   </td></tr>\n",
       "\t<tr><td>Sepal.Length  </td><td>Median (IQR)</td><td>5.8 (5.1-6.4)</td><td>5.8 (5.1-6.4)</td><td>5.8 (5.2-6.5)</td><td>0.991</td></tr>\n",
       "\t<tr><td>Sepal.Width   </td><td>Mean (SD)   </td><td>3.1 (0.4)    </td><td>3.1 (0.4)    </td><td>3.1 (0.4)    </td><td>NA   </td></tr>\n",
       "\t<tr><td>Sepal.Width   </td><td>Median (IQR)</td><td>3.0 (2.8-3.3)</td><td>3.0 (2.8-3.4)</td><td>3.0 (2.8-3.3)</td><td>0.832</td></tr>\n",
       "\t<tr><td>Petal.Length  </td><td>Mean (SD)   </td><td>3.8 (1.8)    </td><td>3.8 (1.8)    </td><td>3.7 (1.7)    </td><td>NA   </td></tr>\n",
       "\t<tr><td>Petal.Length  </td><td>Median (IQR)</td><td>4.3 (1.6-5.1)</td><td>4.4 (1.6-5.1)</td><td>4.2 (1.5-5.3)</td><td>0.959</td></tr>\n",
       "\t<tr><td>Petal.Width   </td><td>Mean (SD)   </td><td>1.2 (0.8)    </td><td>1.2 (0.8)    </td><td>1.2 (0.8)    </td><td>NA   </td></tr>\n",
       "\t<tr><td>Petal.Width   </td><td>Median (IQR)</td><td>1.3 (0.3-1.8)</td><td>1.4 (0.3-1.8)</td><td>1.3 (0.3-1.8)</td><td>0.95 </td></tr>\n",
       "\t<tr><td>Species       </td><td>setosa      </td><td>50 (33.3%)   </td><td>36 (34.3%)   </td><td>14 (31.1%)   </td><td>NA   </td></tr>\n",
       "\t<tr><td>Species       </td><td>versicolor  </td><td>50 (33.3%)   </td><td>32 (30.5%)   </td><td>18 (40.0%)   </td><td>0.513</td></tr>\n",
       "\t<tr><td>Species       </td><td>virginica   </td><td>50 (33.3%)   </td><td>37 (35.2%)   </td><td>13 (28.9%)   </td><td>NA   </td></tr>\n",
       "\t<tr><td>traintest_ind_</td><td>Mean (SD)   </td><td>1.3 (0.5)    </td><td>NA           </td><td>NA           </td><td>NA   </td></tr>\n",
       "\t<tr><td>traintest_ind_</td><td>Median (IQR)</td><td>1.0 (1.0-2.0)</td><td>NA           </td><td>NA           </td><td>0    </td></tr>\n",
       "</tbody>\n",
       "</table>\n"
      ],
      "text/latex": [
       "A tibble: 14 × 6\n",
       "\\begin{tabular}{r|llllll}\n",
       " V1 & V2 & Pop & 1 & 2 & pval\\\\\n",
       " <chr> & <chr> & <chr> & <fct> & <fct> & <fct>\\\\\n",
       "\\hline\n",
       "\t Individuals    & n            & 150           & 105           & 45            & NA   \\\\\n",
       "\t Sepal.Length   & Mean (SD)    & 5.8 (0.8)     & 5.8 (0.9)     & 5.8 (0.7)     & NA   \\\\\n",
       "\t Sepal.Length   & Median (IQR) & 5.8 (5.1-6.4) & 5.8 (5.1-6.4) & 5.8 (5.2-6.5) & 0.991\\\\\n",
       "\t Sepal.Width    & Mean (SD)    & 3.1 (0.4)     & 3.1 (0.4)     & 3.1 (0.4)     & NA   \\\\\n",
       "\t Sepal.Width    & Median (IQR) & 3.0 (2.8-3.3) & 3.0 (2.8-3.4) & 3.0 (2.8-3.3) & 0.832\\\\\n",
       "\t Petal.Length   & Mean (SD)    & 3.8 (1.8)     & 3.8 (1.8)     & 3.7 (1.7)     & NA   \\\\\n",
       "\t Petal.Length   & Median (IQR) & 4.3 (1.6-5.1) & 4.4 (1.6-5.1) & 4.2 (1.5-5.3) & 0.959\\\\\n",
       "\t Petal.Width    & Mean (SD)    & 1.2 (0.8)     & 1.2 (0.8)     & 1.2 (0.8)     & NA   \\\\\n",
       "\t Petal.Width    & Median (IQR) & 1.3 (0.3-1.8) & 1.4 (0.3-1.8) & 1.3 (0.3-1.8) & 0.95 \\\\\n",
       "\t Species        & setosa       & 50 (33.3\\%)    & 36 (34.3\\%)    & 14 (31.1\\%)    & NA   \\\\\n",
       "\t Species        & versicolor   & 50 (33.3\\%)    & 32 (30.5\\%)    & 18 (40.0\\%)    & 0.513\\\\\n",
       "\t Species        & virginica    & 50 (33.3\\%)    & 37 (35.2\\%)    & 13 (28.9\\%)    & NA   \\\\\n",
       "\t traintest\\_ind\\_ & Mean (SD)    & 1.3 (0.5)     & NA            & NA            & NA   \\\\\n",
       "\t traintest\\_ind\\_ & Median (IQR) & 1.0 (1.0-2.0) & NA            & NA            & 0    \\\\\n",
       "\\end{tabular}\n"
      ],
      "text/markdown": [
       "\n",
       "A tibble: 14 × 6\n",
       "\n",
       "| V1 &lt;chr&gt; | V2 &lt;chr&gt; | Pop &lt;chr&gt; | 1 &lt;fct&gt; | 2 &lt;fct&gt; | pval &lt;fct&gt; |\n",
       "|---|---|---|---|---|---|\n",
       "| Individuals    | n            | 150           | 105           | 45            | NA    |\n",
       "| Sepal.Length   | Mean (SD)    | 5.8 (0.8)     | 5.8 (0.9)     | 5.8 (0.7)     | NA    |\n",
       "| Sepal.Length   | Median (IQR) | 5.8 (5.1-6.4) | 5.8 (5.1-6.4) | 5.8 (5.2-6.5) | 0.991 |\n",
       "| Sepal.Width    | Mean (SD)    | 3.1 (0.4)     | 3.1 (0.4)     | 3.1 (0.4)     | NA    |\n",
       "| Sepal.Width    | Median (IQR) | 3.0 (2.8-3.3) | 3.0 (2.8-3.4) | 3.0 (2.8-3.3) | 0.832 |\n",
       "| Petal.Length   | Mean (SD)    | 3.8 (1.8)     | 3.8 (1.8)     | 3.7 (1.7)     | NA    |\n",
       "| Petal.Length   | Median (IQR) | 4.3 (1.6-5.1) | 4.4 (1.6-5.1) | 4.2 (1.5-5.3) | 0.959 |\n",
       "| Petal.Width    | Mean (SD)    | 1.2 (0.8)     | 1.2 (0.8)     | 1.2 (0.8)     | NA    |\n",
       "| Petal.Width    | Median (IQR) | 1.3 (0.3-1.8) | 1.4 (0.3-1.8) | 1.3 (0.3-1.8) | 0.95  |\n",
       "| Species        | setosa       | 50 (33.3%)    | 36 (34.3%)    | 14 (31.1%)    | NA    |\n",
       "| Species        | versicolor   | 50 (33.3%)    | 32 (30.5%)    | 18 (40.0%)    | 0.513 |\n",
       "| Species        | virginica    | 50 (33.3%)    | 37 (35.2%)    | 13 (28.9%)    | NA    |\n",
       "| traintest_ind_ | Mean (SD)    | 1.3 (0.5)     | NA            | NA            | NA    |\n",
       "| traintest_ind_ | Median (IQR) | 1.0 (1.0-2.0) | NA            | NA            | 0     |\n",
       "\n"
      ],
      "text/plain": [
       "   V1             V2           Pop           1             2             pval \n",
       "1  Individuals    n            150           105           45            NA   \n",
       "2  Sepal.Length   Mean (SD)    5.8 (0.8)     5.8 (0.9)     5.8 (0.7)     NA   \n",
       "3  Sepal.Length   Median (IQR) 5.8 (5.1-6.4) 5.8 (5.1-6.4) 5.8 (5.2-6.5) 0.991\n",
       "4  Sepal.Width    Mean (SD)    3.1 (0.4)     3.1 (0.4)     3.1 (0.4)     NA   \n",
       "5  Sepal.Width    Median (IQR) 3.0 (2.8-3.3) 3.0 (2.8-3.4) 3.0 (2.8-3.3) 0.832\n",
       "6  Petal.Length   Mean (SD)    3.8 (1.8)     3.8 (1.8)     3.7 (1.7)     NA   \n",
       "7  Petal.Length   Median (IQR) 4.3 (1.6-5.1) 4.4 (1.6-5.1) 4.2 (1.5-5.3) 0.959\n",
       "8  Petal.Width    Mean (SD)    1.2 (0.8)     1.2 (0.8)     1.2 (0.8)     NA   \n",
       "9  Petal.Width    Median (IQR) 1.3 (0.3-1.8) 1.4 (0.3-1.8) 1.3 (0.3-1.8) 0.95 \n",
       "10 Species        setosa       50 (33.3%)    36 (34.3%)    14 (31.1%)    NA   \n",
       "11 Species        versicolor   50 (33.3%)    32 (30.5%)    18 (40.0%)    0.513\n",
       "12 Species        virginica    50 (33.3%)    37 (35.2%)    13 (28.9%)    NA   \n",
       "13 traintest_ind_ Mean (SD)    1.3 (0.5)     NA            NA            NA   \n",
       "14 traintest_ind_ Median (IQR) 1.0 (1.0-2.0) NA            NA            0    "
      ]
     },
     "metadata": {},
     "output_type": "display_data"
    }
   ],
   "source": [
    "tab1"
   ]
  },
  {
   "cell_type": "markdown",
   "metadata": {},
   "source": [
    "## Train and Dev"
   ]
  },
  {
   "cell_type": "code",
   "execution_count": 45,
   "metadata": {},
   "outputs": [
    {
     "name": "stderr",
     "output_type": "stream",
     "text": [
      "Dataset partitioned into:\n",
      "\n",
      " + Train dataset: train\n",
      "\n",
      " + Test dataset: dev\n",
      "\n"
     ]
    },
    {
     "name": "stdout",
     "output_type": "stream",
     "text": [
      "  |==========================================================            |  83%"
     ]
    },
    {
     "name": "stderr",
     "output_type": "stream",
     "text": [
      "You got a perfectly balanced training and test datasets\n",
      "\n",
      " \n",
      "\n"
     ]
    }
   ],
   "source": [
    "tab2 <- train_test(data = temp, train_name = \"train\", test_name = \"dev\",prop = 0.8, seed = 123, tableone=T)"
   ]
  },
  {
   "cell_type": "code",
   "execution_count": 27,
   "metadata": {},
   "outputs": [
    {
     "data": {
      "text/html": [
       "<ol class=list-inline>\n",
       "\t<li>84</li>\n",
       "\t<li>5</li>\n",
       "</ol>\n"
      ],
      "text/latex": [
       "\\begin{enumerate*}\n",
       "\\item 84\n",
       "\\item 5\n",
       "\\end{enumerate*}\n"
      ],
      "text/markdown": [
       "1. 84\n",
       "2. 5\n",
       "\n",
       "\n"
      ],
      "text/plain": [
       "[1] 84  5"
      ]
     },
     "metadata": {},
     "output_type": "display_data"
    },
    {
     "data": {
      "text/html": [
       "<ol class=list-inline>\n",
       "\t<li>21</li>\n",
       "\t<li>5</li>\n",
       "</ol>\n"
      ],
      "text/latex": [
       "\\begin{enumerate*}\n",
       "\\item 21\n",
       "\\item 5\n",
       "\\end{enumerate*}\n"
      ],
      "text/markdown": [
       "1. 21\n",
       "2. 5\n",
       "\n",
       "\n"
      ],
      "text/plain": [
       "[1] 21  5"
      ]
     },
     "metadata": {},
     "output_type": "display_data"
    }
   ],
   "source": [
    "dim(train)\n",
    "dim(dev)"
   ]
  },
  {
   "cell_type": "code",
   "execution_count": 28,
   "metadata": {},
   "outputs": [
    {
     "data": {
      "text/html": [
       "<table>\n",
       "<caption>A tibble: 14 × 6</caption>\n",
       "<thead>\n",
       "\t<tr><th scope=col>V1</th><th scope=col>V2</th><th scope=col>Pop</th><th scope=col>1</th><th scope=col>2</th><th scope=col>pval</th></tr>\n",
       "\t<tr><th scope=col>&lt;chr&gt;</th><th scope=col>&lt;chr&gt;</th><th scope=col>&lt;chr&gt;</th><th scope=col>&lt;fct&gt;</th><th scope=col>&lt;fct&gt;</th><th scope=col>&lt;fct&gt;</th></tr>\n",
       "</thead>\n",
       "<tbody>\n",
       "\t<tr><td>Individuals   </td><td>n           </td><td>105          </td><td>84           </td><td>21           </td><td>NA   </td></tr>\n",
       "\t<tr><td>Sepal.Length  </td><td>Mean (SD)   </td><td>5.8 (0.9)    </td><td>5.9 (0.9)    </td><td>5.6 (0.8)    </td><td>NA   </td></tr>\n",
       "\t<tr><td>Sepal.Length  </td><td>Median (IQR)</td><td>5.8 (5.1-6.4)</td><td>5.8 (5.2-6.4)</td><td>5.8 (4.9-6.1)</td><td>0.219</td></tr>\n",
       "\t<tr><td>Sepal.Width   </td><td>Mean (SD)   </td><td>3.1 (0.4)    </td><td>3.1 (0.5)    </td><td>3.0 (0.4)    </td><td>NA   </td></tr>\n",
       "\t<tr><td>Sepal.Width   </td><td>Median (IQR)</td><td>3.0 (2.8-3.4)</td><td>3.0 (2.8-3.4)</td><td>3.0 (2.8-3.2)</td><td>0.583</td></tr>\n",
       "\t<tr><td>Petal.Length  </td><td>Mean (SD)   </td><td>3.8 (1.8)    </td><td>3.8 (1.8)    </td><td>3.7 (1.8)    </td><td>NA   </td></tr>\n",
       "\t<tr><td>Petal.Length  </td><td>Median (IQR)</td><td>4.4 (1.6-5.1)</td><td>4.4 (1.6-5.1)</td><td>4.5 (1.6-4.9)</td><td>0.765</td></tr>\n",
       "\t<tr><td>Petal.Width   </td><td>Mean (SD)   </td><td>1.2 (0.8)    </td><td>1.2 (0.7)    </td><td>1.1 (0.8)    </td><td>NA   </td></tr>\n",
       "\t<tr><td>Petal.Width   </td><td>Median (IQR)</td><td>1.4 (0.3-1.8)</td><td>1.4 (0.4-1.8)</td><td>1.4 (0.2-1.8)</td><td>0.693</td></tr>\n",
       "\t<tr><td>Species       </td><td>setosa      </td><td>36 (34.3%)   </td><td>28 (33.3%)   </td><td>8 (38.1%)    </td><td>NA   </td></tr>\n",
       "\t<tr><td>Species       </td><td>versicolor  </td><td>32 (30.5%)   </td><td>28 (33.3%)   </td><td>4 (19.0%)    </td><td>0.812</td></tr>\n",
       "\t<tr><td>Species       </td><td>virginica   </td><td>37 (35.2%)   </td><td>28 (33.3%)   </td><td>9 (42.9%)    </td><td>NA   </td></tr>\n",
       "\t<tr><td>traintest_ind_</td><td>Mean (SD)   </td><td>1.2 (0.4)    </td><td>NA           </td><td>NA           </td><td>NA   </td></tr>\n",
       "\t<tr><td>traintest_ind_</td><td>Median (IQR)</td><td>1.0 (1.0-1.0)</td><td>NA           </td><td>NA           </td><td>0    </td></tr>\n",
       "</tbody>\n",
       "</table>\n"
      ],
      "text/latex": [
       "A tibble: 14 × 6\n",
       "\\begin{tabular}{r|llllll}\n",
       " V1 & V2 & Pop & 1 & 2 & pval\\\\\n",
       " <chr> & <chr> & <chr> & <fct> & <fct> & <fct>\\\\\n",
       "\\hline\n",
       "\t Individuals    & n            & 105           & 84            & 21            & NA   \\\\\n",
       "\t Sepal.Length   & Mean (SD)    & 5.8 (0.9)     & 5.9 (0.9)     & 5.6 (0.8)     & NA   \\\\\n",
       "\t Sepal.Length   & Median (IQR) & 5.8 (5.1-6.4) & 5.8 (5.2-6.4) & 5.8 (4.9-6.1) & 0.219\\\\\n",
       "\t Sepal.Width    & Mean (SD)    & 3.1 (0.4)     & 3.1 (0.5)     & 3.0 (0.4)     & NA   \\\\\n",
       "\t Sepal.Width    & Median (IQR) & 3.0 (2.8-3.4) & 3.0 (2.8-3.4) & 3.0 (2.8-3.2) & 0.583\\\\\n",
       "\t Petal.Length   & Mean (SD)    & 3.8 (1.8)     & 3.8 (1.8)     & 3.7 (1.8)     & NA   \\\\\n",
       "\t Petal.Length   & Median (IQR) & 4.4 (1.6-5.1) & 4.4 (1.6-5.1) & 4.5 (1.6-4.9) & 0.765\\\\\n",
       "\t Petal.Width    & Mean (SD)    & 1.2 (0.8)     & 1.2 (0.7)     & 1.1 (0.8)     & NA   \\\\\n",
       "\t Petal.Width    & Median (IQR) & 1.4 (0.3-1.8) & 1.4 (0.4-1.8) & 1.4 (0.2-1.8) & 0.693\\\\\n",
       "\t Species        & setosa       & 36 (34.3\\%)    & 28 (33.3\\%)    & 8 (38.1\\%)     & NA   \\\\\n",
       "\t Species        & versicolor   & 32 (30.5\\%)    & 28 (33.3\\%)    & 4 (19.0\\%)     & 0.812\\\\\n",
       "\t Species        & virginica    & 37 (35.2\\%)    & 28 (33.3\\%)    & 9 (42.9\\%)     & NA   \\\\\n",
       "\t traintest\\_ind\\_ & Mean (SD)    & 1.2 (0.4)     & NA            & NA            & NA   \\\\\n",
       "\t traintest\\_ind\\_ & Median (IQR) & 1.0 (1.0-1.0) & NA            & NA            & 0    \\\\\n",
       "\\end{tabular}\n"
      ],
      "text/markdown": [
       "\n",
       "A tibble: 14 × 6\n",
       "\n",
       "| V1 &lt;chr&gt; | V2 &lt;chr&gt; | Pop &lt;chr&gt; | 1 &lt;fct&gt; | 2 &lt;fct&gt; | pval &lt;fct&gt; |\n",
       "|---|---|---|---|---|---|\n",
       "| Individuals    | n            | 105           | 84            | 21            | NA    |\n",
       "| Sepal.Length   | Mean (SD)    | 5.8 (0.9)     | 5.9 (0.9)     | 5.6 (0.8)     | NA    |\n",
       "| Sepal.Length   | Median (IQR) | 5.8 (5.1-6.4) | 5.8 (5.2-6.4) | 5.8 (4.9-6.1) | 0.219 |\n",
       "| Sepal.Width    | Mean (SD)    | 3.1 (0.4)     | 3.1 (0.5)     | 3.0 (0.4)     | NA    |\n",
       "| Sepal.Width    | Median (IQR) | 3.0 (2.8-3.4) | 3.0 (2.8-3.4) | 3.0 (2.8-3.2) | 0.583 |\n",
       "| Petal.Length   | Mean (SD)    | 3.8 (1.8)     | 3.8 (1.8)     | 3.7 (1.8)     | NA    |\n",
       "| Petal.Length   | Median (IQR) | 4.4 (1.6-5.1) | 4.4 (1.6-5.1) | 4.5 (1.6-4.9) | 0.765 |\n",
       "| Petal.Width    | Mean (SD)    | 1.2 (0.8)     | 1.2 (0.7)     | 1.1 (0.8)     | NA    |\n",
       "| Petal.Width    | Median (IQR) | 1.4 (0.3-1.8) | 1.4 (0.4-1.8) | 1.4 (0.2-1.8) | 0.693 |\n",
       "| Species        | setosa       | 36 (34.3%)    | 28 (33.3%)    | 8 (38.1%)     | NA    |\n",
       "| Species        | versicolor   | 32 (30.5%)    | 28 (33.3%)    | 4 (19.0%)     | 0.812 |\n",
       "| Species        | virginica    | 37 (35.2%)    | 28 (33.3%)    | 9 (42.9%)     | NA    |\n",
       "| traintest_ind_ | Mean (SD)    | 1.2 (0.4)     | NA            | NA            | NA    |\n",
       "| traintest_ind_ | Median (IQR) | 1.0 (1.0-1.0) | NA            | NA            | 0     |\n",
       "\n"
      ],
      "text/plain": [
       "   V1             V2           Pop           1             2             pval \n",
       "1  Individuals    n            105           84            21            NA   \n",
       "2  Sepal.Length   Mean (SD)    5.8 (0.9)     5.9 (0.9)     5.6 (0.8)     NA   \n",
       "3  Sepal.Length   Median (IQR) 5.8 (5.1-6.4) 5.8 (5.2-6.4) 5.8 (4.9-6.1) 0.219\n",
       "4  Sepal.Width    Mean (SD)    3.1 (0.4)     3.1 (0.5)     3.0 (0.4)     NA   \n",
       "5  Sepal.Width    Median (IQR) 3.0 (2.8-3.4) 3.0 (2.8-3.4) 3.0 (2.8-3.2) 0.583\n",
       "6  Petal.Length   Mean (SD)    3.8 (1.8)     3.8 (1.8)     3.7 (1.8)     NA   \n",
       "7  Petal.Length   Median (IQR) 4.4 (1.6-5.1) 4.4 (1.6-5.1) 4.5 (1.6-4.9) 0.765\n",
       "8  Petal.Width    Mean (SD)    1.2 (0.8)     1.2 (0.7)     1.1 (0.8)     NA   \n",
       "9  Petal.Width    Median (IQR) 1.4 (0.3-1.8) 1.4 (0.4-1.8) 1.4 (0.2-1.8) 0.693\n",
       "10 Species        setosa       36 (34.3%)    28 (33.3%)    8 (38.1%)     NA   \n",
       "11 Species        versicolor   32 (30.5%)    28 (33.3%)    4 (19.0%)     0.812\n",
       "12 Species        virginica    37 (35.2%)    28 (33.3%)    9 (42.9%)     NA   \n",
       "13 traintest_ind_ Mean (SD)    1.2 (0.4)     NA            NA            NA   \n",
       "14 traintest_ind_ Median (IQR) 1.0 (1.0-1.0) NA            NA            0    "
      ]
     },
     "metadata": {},
     "output_type": "display_data"
    }
   ],
   "source": [
    "tab2"
   ]
  },
  {
   "cell_type": "code",
   "execution_count": 14,
   "metadata": {},
   "outputs": [],
   "source": [
    "### save memeory, remove the datasets that will not be used more...\n",
    "rm(temp,data)"
   ]
  },
  {
   "cell_type": "markdown",
   "metadata": {},
   "source": [
    "Checking the distribution of the outcome on the three subsets"
   ]
  },
  {
   "cell_type": "code",
   "execution_count": 15,
   "metadata": {},
   "outputs": [
    {
     "name": "stderr",
     "output_type": "stream",
     "text": [
      "Loading required package: ggplot2\n"
     ]
    },
    {
     "data": {},
     "metadata": {},
     "output_type": "display_data"
    },
    {
     "data": {
      "image/png": "[encoded data removed]",
      "text/plain": [
       "plot without title"
      ]
     },
     "metadata": {},
     "output_type": "display_data"
    }
   ],
   "source": [
    "require(ggplot2)\n",
    "\n",
    "options(repr.plot.width = 4, repr.plot.height = 4)\n",
    "\n",
    "ggplot() +\n",
    "    geom_density(aes(x=train$Purchase),color=\"red\",alpha=0.3) +\n",
    "    geom_density(aes(x=dev$Purchase),color=\"blue\",alpha=0.3) +\n",
    "    geom_density(aes(x=test$Purchase),color=\"green\",alpha=0.3)\n"
   ]
  },
  {
   "cell_type": "markdown",
   "metadata": {},
   "source": [
    "# Train-Dev"
   ]
  },
  {
   "cell_type": "code",
   "execution_count": 29,
   "metadata": {},
   "outputs": [],
   "source": [
    "library(ranger)\n",
    "\n",
    "mod1 <- ranger(Species ~., data=train)\n"
   ]
  },
  {
   "cell_type": "code",
   "execution_count": 30,
   "metadata": {},
   "outputs": [
    {
     "data": {
      "text/plain": [
       "Ranger result\n",
       "\n",
       "Call:\n",
       " ranger(Species ~ ., data = train) \n",
       "\n",
       "Type:                             Classification \n",
       "Number of trees:                  500 \n",
       "Sample size:                      84 \n",
       "Number of independent variables:  4 \n",
       "Mtry:                             2 \n",
       "Target node size:                 1 \n",
       "Variable importance mode:         none \n",
       "Splitrule:                        gini \n",
       "OOB prediction error:             4.76 % "
      ]
     },
     "metadata": {},
     "output_type": "display_data"
    }
   ],
   "source": [
    "mod1"
   ]
  },
  {
   "cell_type": "code",
   "execution_count": 46,
   "metadata": {},
   "outputs": [],
   "source": [
    "pred1 <- predict(mod1, data=dev)\n"
   ]
  },
  {
   "cell_type": "code",
   "execution_count": 47,
   "metadata": {},
   "outputs": [
    {
     "data": {
      "text/plain": [
       "            pred\n",
       "obs          setosa versicolor virginica\n",
       "  setosa          8          0         0\n",
       "  versicolor      0          4         0\n",
       "  virginica       0          2         7"
      ]
     },
     "metadata": {},
     "output_type": "display_data"
    }
   ],
   "source": [
    "table(obs=dev$Species, pred=pred1$predictions)"
   ]
  },
  {
   "cell_type": "markdown",
   "metadata": {},
   "source": [
    "# Cross-Validation\n",
    "\n",
    "<img src=\"https://genome.tugraz.at/proclassify/help/pages/images/xv_folds.gif\"/>\n"
   ]
  },
  {
   "cell_type": "code",
   "execution_count": 55,
   "metadata": {
    "scrolled": false
   },
   "outputs": [
    {
     "data": {
      "text/plain": [
       "Confusion Matrix and Statistics\n",
       "\n",
       "            Reference\n",
       "Prediction   setosa versicolor virginica\n",
       "  setosa          8          0         0\n",
       "  versicolor      0          4         2\n",
       "  virginica       0          0         7\n",
       "\n",
       "Overall Statistics\n",
       "                                          \n",
       "               Accuracy : 0.9048          \n",
       "                 95% CI : (0.6962, 0.9883)\n",
       "    No Information Rate : 0.4286          \n",
       "    P-Value [Acc > NIR] : 7.535e-06       \n",
       "                                          \n",
       "                  Kappa : 0.8552          \n",
       "                                          \n",
       " Mcnemar's Test P-Value : NA              \n",
       "\n",
       "Statistics by Class:\n",
       "\n",
       "                     Class: setosa Class: versicolor Class: virginica\n",
       "Sensitivity                  1.000            1.0000           0.7778\n",
       "Specificity                  1.000            0.8824           1.0000\n",
       "Pos Pred Value               1.000            0.6667           1.0000\n",
       "Neg Pred Value               1.000            1.0000           0.8571\n",
       "Prevalence                   0.381            0.1905           0.4286\n",
       "Detection Rate               0.381            0.1905           0.3333\n",
       "Detection Prevalence         0.381            0.2857           0.3333\n",
       "Balanced Accuracy            1.000            0.9412           0.8889"
      ]
     },
     "metadata": {},
     "output_type": "display_data"
    }
   ],
   "source": [
    "library(caret)\n",
    "\n",
    "# load the iris dataset\n",
    "data(iris)\n",
    "\n",
    "out<-confusionMatrix(pred1$predictions, dev$Species)\n",
    "\n",
    "\n",
    "out"
   ]
  },
  {
   "cell_type": "code",
   "execution_count": 66,
   "metadata": {},
   "outputs": [],
   "source": [
    "# define training control\n",
    "# the regular cross va;idation = 'cv'\n",
    "train_c <- trainControl(method = \"repeatedcv\", repeats = 5)\n",
    "# train the model\n",
    "model <- train(Species~., data=train, trControl=train_c, method=\"ranger\")"
   ]
  },
  {
   "cell_type": "code",
   "execution_count": 69,
   "metadata": {},
   "outputs": [
    {
     "data": {
      "text/html": [
       "<ol class=list-inline>\n",
       "\t<li>406</li>\n",
       "\t<li>69</li>\n",
       "</ol>\n"
      ],
      "text/latex": [
       "\\begin{enumerate*}\n",
       "\\item 406\n",
       "\\item 69\n",
       "\\end{enumerate*}\n"
      ],
      "text/markdown": [
       "1. 406\n",
       "2. 69\n",
       "\n",
       "\n"
      ],
      "text/plain": [
       "[1] 406  69"
      ]
     },
     "metadata": {},
     "output_type": "display_data"
    }
   ],
   "source": [
    "sample.int(1000,2)"
   ]
  },
  {
   "cell_type": "code",
   "execution_count": 67,
   "metadata": {},
   "outputs": [
    {
     "name": "stdout",
     "output_type": "stream",
     "text": [
      "Random Forest \n",
      "\n",
      "84 samples\n",
      " 4 predictor\n",
      " 3 classes: 'setosa', 'versicolor', 'virginica' \n",
      "\n",
      "No pre-processing\n",
      "Resampling: Cross-Validated (10 fold, repeated 5 times) \n",
      "Summary of sample sizes: 75, 76, 76, 76, 75, 75, ... \n",
      "Resampling results across tuning parameters:\n",
      "\n",
      "  mtry  splitrule   Accuracy   Kappa    \n",
      "  2     gini        0.9501190  0.9250579\n",
      "  2     extratrees  0.9481746  0.9222894\n",
      "  3     gini        0.9501190  0.9250579\n",
      "  3     extratrees  0.9501190  0.9250579\n",
      "  4     gini        0.9501190  0.9250579\n",
      "  4     extratrees  0.9501190  0.9250579\n",
      "\n",
      "Tuning parameter 'min.node.size' was held constant at a value of 1\n",
      "Accuracy was used to select the optimal model using the largest value.\n",
      "The final values used for the model were mtry = 2, splitrule = gini\n",
      " and min.node.size = 1.\n"
     ]
    }
   ],
   "source": [
    "# summarize results\n",
    "print(model)"
   ]
  },
  {
   "cell_type": "markdown",
   "metadata": {},
   "source": [
    "# Leave-one-out Cross Validation"
   ]
  },
  {
   "cell_type": "code",
   "execution_count": 74,
   "metadata": {},
   "outputs": [],
   "source": [
    "# define training control\n",
    "train_control <- trainControl(method=\"LOOCV\")\n",
    "# train the model\n",
    "model <- train(Species~., data=iris, trControl=train_control, method=\"ranger\")"
   ]
  },
  {
   "cell_type": "code",
   "execution_count": 72,
   "metadata": {},
   "outputs": [
    {
     "name": "stdout",
     "output_type": "stream",
     "text": [
      "Random Forest \n",
      "\n",
      "150 samples\n",
      "  4 predictor\n",
      "  3 classes: 'setosa', 'versicolor', 'virginica' \n",
      "\n",
      "No pre-processing\n",
      "Resampling: Leave-One-Out Cross-Validation \n",
      "Summary of sample sizes: 149, 149, 149, 149, 149, 149, ... \n",
      "Resampling results across tuning parameters:\n",
      "\n",
      "  mtry  splitrule   Accuracy   Kappa\n",
      "  2     gini        0.9600000  0.94 \n",
      "  2     extratrees  0.9533333  0.93 \n",
      "  3     gini        0.9533333  0.93 \n",
      "  3     extratrees  0.9533333  0.93 \n",
      "  4     gini        0.9533333  0.93 \n",
      "  4     extratrees  0.9600000  0.94 \n",
      "\n",
      "Tuning parameter 'min.node.size' was held constant at a value of 1\n",
      "Accuracy was used to select the optimal model using the largest value.\n",
      "The final values used for the model were mtry = 2, splitrule = gini\n",
      " and min.node.size = 1.\n"
     ]
    }
   ],
   "source": [
    "# summarize results\n",
    "print(model)"
   ]
  },
  {
   "cell_type": "code",
   "execution_count": 41,
   "metadata": {},
   "outputs": [],
   "source": [
    "?caret::trainControl"
   ]
  },
  {
   "cell_type": "code",
   "execution_count": null,
   "metadata": {},
   "outputs": [],
   "source": [
    "?carer::train"
   ]
  },
  {
   "cell_type": "markdown",
   "metadata": {},
   "source": [
    "# Boostrapping\n",
    "\n"
   ]
  },
  {
   "cell_type": "code",
   "execution_count": 75,
   "metadata": {},
   "outputs": [
    {
     "name": "stdout",
     "output_type": "stream",
     "text": [
      "1 package is needed for this model and is not installed. (party). Would you like to try to install it now?"
     ]
    },
    {
     "ename": "ERROR",
     "evalue": "Error: Required package is missing\n",
     "output_type": "error",
     "traceback": [
      "Error: Required package is missing\nTraceback:\n",
      "1. train(Species ~ ., data = iris, trControl = train_control, method = \"ctree\")",
      "2. train.formula(Species ~ ., data = iris, trControl = train_control, \n .     method = \"ctree\")",
      "3. train(x, y, weights = w, ...)",
      "4. train.default(x, y, weights = w, ...)",
      "5. checkInstall(models$library)",
      "6. stop(\"Required package is missing\", call. = FALSE)"
     ]
    }
   ],
   "source": [
    "# define training control\n",
    "train_control <- trainControl(method=\"boot\", number=100)\n",
    "# train the model\n",
    "model <- train(Species~., data=iris, trControl=train_control,method=\"ctree\")"
   ]
  },
  {
   "cell_type": "code",
   "execution_count": 38,
   "metadata": {},
   "outputs": [
    {
     "name": "stdout",
     "output_type": "stream",
     "text": [
      "Conditional Inference Tree \n",
      "\n",
      "150 samples\n",
      "  4 predictors\n",
      "  3 classes: 'setosa', 'versicolor', 'virginica' \n",
      "\n",
      "No pre-processing\n",
      "Resampling: Bootstrapped (100 reps) \n",
      "Summary of sample sizes: 150, 150, 150, 150, 150, 150, ... \n",
      "Resampling results across tuning parameters:\n",
      "\n",
      "  mincriterion  Accuracy   Kappa    \n",
      "  0.01          0.9432746  0.9140960\n",
      "  0.50          0.9432746  0.9140960\n",
      "  0.99          0.9434500  0.9143576\n",
      "\n",
      "Accuracy was used to select the optimal model using the largest value.\n",
      "The final value used for the model was mincriterion = 0.99.\n"
     ]
    }
   ],
   "source": [
    "# summarize results\n",
    "print(model)"
   ]
  },
  {
   "cell_type": "markdown",
   "metadata": {},
   "source": [
    "# Dataset Inbalance"
   ]
  },
  {
   "cell_type": "code",
   "execution_count": 76,
   "metadata": {},
   "outputs": [
    {
     "name": "stderr",
     "output_type": "stream",
     "text": [
      "Loading required package: imbalance\n",
      "\n",
      "Installing package into ‘/home/dsuser08/R/x86_64-pc-linux-gnu-library/3.6’\n",
      "(as ‘lib’ is unspecified)\n",
      "\n",
      "also installing the dependencies ‘bnlearn’, ‘KernelKnn’, ‘smotefamily’\n",
      "\n",
      "\n",
      "Loading required package: imbalance\n",
      "\n",
      "Loading required package: ROSE\n",
      "\n",
      "Loaded ROSE 0.0-3\n",
      "\n",
      "\n"
     ]
    }
   ],
   "source": [
    "if(!require(imbalance)){install.packages(\"imbalance\");require(imbalance)}\n",
    "### ROSE = Random Over-Sampling Examples\n",
    "if(!require(ROSE)){install.packages(\"ROSE\");require(ROSE)}\n"
   ]
  },
  {
   "cell_type": "code",
   "execution_count": 18,
   "metadata": {},
   "outputs": [
    {
     "data": {
      "text/html": [
       "<table>\n",
       "<thead><tr><th scope=col>T3resin</th><th scope=col>Thyroxin</th><th scope=col>Triiodothyronine</th><th scope=col>Thyroidstimulating</th><th scope=col>TSH_value</th><th scope=col>Class</th></tr></thead>\n",
       "<tbody>\n",
       "\t<tr><td>105     </td><td> 7.3    </td><td>1.5     </td><td>1.5     </td><td>-0.1    </td><td>negative</td></tr>\n",
       "\t<tr><td> 67     </td><td>23.3    </td><td>7.4     </td><td>1.8     </td><td>-0.6    </td><td>positive</td></tr>\n",
       "\t<tr><td>111     </td><td> 8.4    </td><td>1.5     </td><td>0.8     </td><td> 1.2    </td><td>negative</td></tr>\n",
       "\t<tr><td> 89     </td><td>14.3    </td><td>4.1     </td><td>0.5     </td><td> 0.2    </td><td>positive</td></tr>\n",
       "\t<tr><td>105     </td><td> 9.5    </td><td>1.8     </td><td>1.6     </td><td> 3.6    </td><td>negative</td></tr>\n",
       "\t<tr><td>110     </td><td>20.3    </td><td>3.7     </td><td>0.6     </td><td> 0.2    </td><td>positive</td></tr>\n",
       "</tbody>\n",
       "</table>\n"
      ],
      "text/latex": [
       "\\begin{tabular}{r|llllll}\n",
       " T3resin & Thyroxin & Triiodothyronine & Thyroidstimulating & TSH\\_value & Class\\\\\n",
       "\\hline\n",
       "\t 105      &  7.3     & 1.5      & 1.5      & -0.1     & negative\\\\\n",
       "\t  67      & 23.3     & 7.4      & 1.8      & -0.6     & positive\\\\\n",
       "\t 111      &  8.4     & 1.5      & 0.8      &  1.2     & negative\\\\\n",
       "\t  89      & 14.3     & 4.1      & 0.5      &  0.2     & positive\\\\\n",
       "\t 105      &  9.5     & 1.8      & 1.6      &  3.6     & negative\\\\\n",
       "\t 110      & 20.3     & 3.7      & 0.6      &  0.2     & positive\\\\\n",
       "\\end{tabular}\n"
      ],
      "text/markdown": [
       "\n",
       "T3resin | Thyroxin | Triiodothyronine | Thyroidstimulating | TSH_value | Class | \n",
       "|---|---|---|---|---|---|\n",
       "| 105      |  7.3     | 1.5      | 1.5      | -0.1     | negative | \n",
       "|  67      | 23.3     | 7.4      | 1.8      | -0.6     | positive | \n",
       "| 111      |  8.4     | 1.5      | 0.8      |  1.2     | negative | \n",
       "|  89      | 14.3     | 4.1      | 0.5      |  0.2     | positive | \n",
       "| 105      |  9.5     | 1.8      | 1.6      |  3.6     | negative | \n",
       "| 110      | 20.3     | 3.7      | 0.6      |  0.2     | positive | \n",
       "\n",
       "\n"
      ],
      "text/plain": [
       "  T3resin Thyroxin Triiodothyronine Thyroidstimulating TSH_value Class   \n",
       "1 105      7.3     1.5              1.5                -0.1      negative\n",
       "2  67     23.3     7.4              1.8                -0.6      positive\n",
       "3 111      8.4     1.5              0.8                 1.2      negative\n",
       "4  89     14.3     4.1              0.5                 0.2      positive\n",
       "5 105      9.5     1.8              1.6                 3.6      negative\n",
       "6 110     20.3     3.7              0.6                 0.2      positive"
      ]
     },
     "metadata": {},
     "output_type": "display_data"
    }
   ],
   "source": [
    "data(newthyroid1)\n",
    "head(newthyroid1)"
   ]
  },
  {
   "cell_type": "code",
   "execution_count": 19,
   "metadata": {},
   "outputs": [
    {
     "data": {
      "text/plain": [
       "\n",
       "negative positive \n",
       "     180       35 "
      ]
     },
     "metadata": {},
     "output_type": "display_data"
    },
    {
     "data": {
      "text/plain": [
       "\n",
       "negative positive \n",
       "83.72093 16.27907 "
      ]
     },
     "metadata": {},
     "output_type": "display_data"
    }
   ],
   "source": [
    "table(newthyroid1$Class)\n",
    "table(newthyroid1$Class)/nrow(newthyroid1)*100"
   ]
  },
  {
   "cell_type": "code",
   "execution_count": 20,
   "metadata": {},
   "outputs": [
    {
     "data": {
      "text/html": [
       "<table>\n",
       "<thead><tr><th scope=col>numPositive</th><th scope=col>numNegative</th><th scope=col>nInstances</th></tr></thead>\n",
       "<tbody>\n",
       "\t<tr><td>35 </td><td>180</td><td>145</td></tr>\n",
       "</tbody>\n",
       "</table>\n"
      ],
      "text/latex": [
       "\\begin{tabular}{lll}\n",
       " numPositive & numNegative & nInstances\\\\\n",
       "\\hline\n",
       "\t 35  & 180 & 145\\\\\n",
       "\\end{tabular}\n"
      ],
      "text/markdown": [
       "\n",
       "numPositive | numNegative | nInstances | \n",
       "|---|\n",
       "| 35  | 180 | 145 | \n",
       "\n",
       "\n"
      ],
      "text/plain": [
       "     numPositive numNegative nInstances\n",
       "[1,] 35          180         145       "
      ]
     },
     "metadata": {},
     "output_type": "display_data"
    }
   ],
   "source": [
    "numPositive <- length(which(newthyroid1$Class == \"positive\"))\n",
    "numNegative <- length(which(newthyroid1$Class == \"negative\"))\n",
    "nInstances <- numNegative - numPositive\n",
    "cbind(numPositive=numPositive,numNegative=numNegative,nInstances=nInstances)"
   ]
  },
  {
   "cell_type": "code",
   "execution_count": null,
   "metadata": {},
   "outputs": [],
   "source": []
  },
  {
   "cell_type": "markdown",
   "metadata": {},
   "source": [
    "## Under Sampling\n",
    " \n",
    "This techniques uses all the rows containing the minority class and select randomly the same number of minority class for the rows with the mayority class "
   ]
  },
  {
   "cell_type": "code",
   "execution_count": 21,
   "metadata": {},
   "outputs": [
    {
     "data": {
      "text/plain": [
       "\n",
       "negative positive \n",
       "      35       35 "
      ]
     },
     "metadata": {},
     "output_type": "display_data"
    }
   ],
   "source": [
    "data_balanced_under <- ovun.sample(Class ~ ., data = newthyroid1, method = \"under\",N = numPositive*2)$data\n",
    "table(data_balanced_under$Class)"
   ]
  },
  {
   "cell_type": "markdown",
   "metadata": {},
   "source": [
    "## Over Sampling\n",
    " \n",
    "Over sampling takes the number of rows of the mayority class and repeat the rows of the minority class up to the same number of the mayority class. The repeated rows are selected randomly."
   ]
  },
  {
   "cell_type": "code",
   "execution_count": 57,
   "metadata": {},
   "outputs": [
    {
     "data": {
      "text/plain": [
       "\n",
       "negative positive \n",
       "     180      180 "
      ]
     },
     "metadata": {},
     "output_type": "display_data"
    }
   ],
   "source": [
    "#over sampling\n",
    "data_balanced_over <- ovun.sample(Class ~ ., data = newthyroid1, method = \"over\",N = numNegative*2)$data\n",
    "table(data_balanced_over$Class)"
   ]
  },
  {
   "cell_type": "markdown",
   "metadata": {},
   "source": [
    "## Over-Under Sampling\n",
    " \n",
    "In this technique we randomly select half of the majority class rows (under sampling) and increment the minority class rows by selecting them randomly.   "
   ]
  },
  {
   "cell_type": "code",
   "execution_count": 22,
   "metadata": {},
   "outputs": [
    {
     "data": {
      "text/plain": [
       "\n",
       "negative positive \n",
       "      90       90 "
      ]
     },
     "metadata": {},
     "output_type": "display_data"
    }
   ],
   "source": [
    "#over_under sampling\n",
    "data_balanced_both <- ovun.sample(Class ~ ., data = newthyroid1, method = \"both\", p=0.5,N = 180, seed = 1)$data\n",
    "table(data_balanced_both$Class)"
   ]
  },
  {
   "cell_type": "markdown",
   "metadata": {},
   "source": [
    "## ROSE (Random Over-Sampling Examples) \n",
    " \n",
    "Creates a sample of synthetic data by enlarging the features space of minority and majority class examples. ROSE selects an observation belonging to the class k and generates new examples in its neighbourhood"
   ]
  },
  {
   "cell_type": "code",
   "execution_count": 23,
   "metadata": {},
   "outputs": [
    {
     "data": {
      "text/plain": [
       "\n",
       "negative positive \n",
       "     105      110 "
      ]
     },
     "metadata": {},
     "output_type": "display_data"
    }
   ],
   "source": [
    "# Rose: \n",
    "data.rose <- ROSE(Class ~ ., data = newthyroid1, seed = 1)$data\n",
    "table(data.rose$Class)"
   ]
  },
  {
   "cell_type": "markdown",
   "metadata": {},
   "source": [
    "## Oversampling with Synthetic data\n",
    " \n",
    "Additionally to ROSE. The package 'inbalance' has the function pdfos. This function generates synthetic minority examples for a numerical dataset approximating a Gaussian multivariate distribution.\n"
   ]
  },
  {
   "cell_type": "code",
   "execution_count": 24,
   "metadata": {},
   "outputs": [
    {
     "data": {
      "text/plain": [
       "\n",
       "negative positive \n",
       "     180      180 "
      ]
     },
     "metadata": {},
     "output_type": "display_data"
    }
   ],
   "source": [
    "newSamples <- pdfos(dataset = newthyroid1, numInstances = nInstances,classAttr = \"Class\")\n",
    "newDataset <- rbind(newthyroid1, newSamples)\n",
    "table(newDataset$Class)"
   ]
  },
  {
   "cell_type": "code",
   "execution_count": 79,
   "metadata": {},
   "outputs": [
    {
     "data": {
      "text/html": [
       "<table>\n",
       "<caption>A data.frame: 215 × 6</caption>\n",
       "<thead>\n",
       "\t<tr><th scope=col>T3resin</th><th scope=col>Thyroxin</th><th scope=col>Triiodothyronine</th><th scope=col>Thyroidstimulating</th><th scope=col>TSH_value</th><th scope=col>Class</th></tr>\n",
       "\t<tr><th scope=col>&lt;int&gt;</th><th scope=col>&lt;dbl&gt;</th><th scope=col>&lt;dbl&gt;</th><th scope=col>&lt;dbl&gt;</th><th scope=col>&lt;dbl&gt;</th><th scope=col>&lt;fct&gt;</th></tr>\n",
       "</thead>\n",
       "<tbody>\n",
       "\t<tr><td>105</td><td> 7.3</td><td>1.5</td><td> 1.5</td><td>-0.1</td><td>negative</td></tr>\n",
       "\t<tr><td> 67</td><td>23.3</td><td>7.4</td><td> 1.8</td><td>-0.6</td><td>positive</td></tr>\n",
       "\t<tr><td>111</td><td> 8.4</td><td>1.5</td><td> 0.8</td><td> 1.2</td><td>negative</td></tr>\n",
       "\t<tr><td> 89</td><td>14.3</td><td>4.1</td><td> 0.5</td><td> 0.2</td><td>positive</td></tr>\n",
       "\t<tr><td>105</td><td> 9.5</td><td>1.8</td><td> 1.6</td><td> 3.6</td><td>negative</td></tr>\n",
       "\t<tr><td>110</td><td>20.3</td><td>3.7</td><td> 0.6</td><td> 0.2</td><td>positive</td></tr>\n",
       "\t<tr><td> 84</td><td>21.5</td><td>2.7</td><td> 1.1</td><td>-0.6</td><td>positive</td></tr>\n",
       "\t<tr><td>113</td><td>11.1</td><td>1.7</td><td> 0.8</td><td> 2.3</td><td>negative</td></tr>\n",
       "\t<tr><td> 97</td><td> 7.8</td><td>1.3</td><td> 1.2</td><td> 0.9</td><td>negative</td></tr>\n",
       "\t<tr><td>106</td><td>13.4</td><td>3.0</td><td> 1.1</td><td> 0.0</td><td>positive</td></tr>\n",
       "\t<tr><td>104</td><td> 6.3</td><td>2.0</td><td> 1.2</td><td> 4.0</td><td>negative</td></tr>\n",
       "\t<tr><td>112</td><td> 5.9</td><td>1.7</td><td> 2.0</td><td> 1.3</td><td>negative</td></tr>\n",
       "\t<tr><td>120</td><td> 1.9</td><td>0.7</td><td>18.5</td><td>24.0</td><td>negative</td></tr>\n",
       "\t<tr><td>118</td><td> 3.6</td><td>1.5</td><td>11.6</td><td>48.8</td><td>negative</td></tr>\n",
       "\t<tr><td>106</td><td> 9.4</td><td>1.7</td><td> 0.9</td><td> 3.1</td><td>negative</td></tr>\n",
       "\t<tr><td> 99</td><td>13.0</td><td>3.6</td><td> 0.7</td><td>-0.1</td><td>positive</td></tr>\n",
       "\t<tr><td>107</td><td>13.8</td><td>1.5</td><td> 1.0</td><td> 1.9</td><td>negative</td></tr>\n",
       "\t<tr><td>111</td><td>16.0</td><td>2.1</td><td> 0.9</td><td>-0.1</td><td>positive</td></tr>\n",
       "\t<tr><td>129</td><td>11.9</td><td>2.7</td><td> 1.2</td><td> 3.5</td><td>negative</td></tr>\n",
       "\t<tr><td>115</td><td> 6.3</td><td>1.2</td><td> 4.7</td><td>14.4</td><td>negative</td></tr>\n",
       "\t<tr><td>113</td><td> 9.0</td><td>2.0</td><td> 1.8</td><td> 1.6</td><td>negative</td></tr>\n",
       "\t<tr><td>111</td><td> 9.1</td><td>1.7</td><td> 1.2</td><td> 4.1</td><td>negative</td></tr>\n",
       "\t<tr><td>119</td><td>10.6</td><td>2.1</td><td> 1.3</td><td> 1.1</td><td>negative</td></tr>\n",
       "\t<tr><td> 97</td><td>14.2</td><td>3.6</td><td> 1.5</td><td> 0.3</td><td>positive</td></tr>\n",
       "\t<tr><td> 97</td><td>15.1</td><td>1.8</td><td> 1.2</td><td>-0.2</td><td>positive</td></tr>\n",
       "\t<tr><td> 98</td><td> 8.6</td><td>1.6</td><td> 1.6</td><td> 6.0</td><td>negative</td></tr>\n",
       "\t<tr><td>105</td><td> 5.7</td><td>1.0</td><td> 0.9</td><td> 0.9</td><td>negative</td></tr>\n",
       "\t<tr><td>121</td><td>13.5</td><td>1.5</td><td> 1.6</td><td> 0.5</td><td>negative</td></tr>\n",
       "\t<tr><td>131</td><td> 2.7</td><td>0.8</td><td> 9.9</td><td> 4.7</td><td>negative</td></tr>\n",
       "\t<tr><td>106</td><td> 9.4</td><td>2.2</td><td> 1.5</td><td> 0.0</td><td>negative</td></tr>\n",
       "\t<tr><td>⋮</td><td>⋮</td><td>⋮</td><td>⋮</td><td>⋮</td><td>⋮</td></tr>\n",
       "\t<tr><td>130</td><td>10.0</td><td> 1.6</td><td> 0.9</td><td> 4.6</td><td>negative</td></tr>\n",
       "\t<tr><td>116</td><td>11.9</td><td> 1.8</td><td> 1.9</td><td> 1.5</td><td>negative</td></tr>\n",
       "\t<tr><td>126</td><td> 0.5</td><td> 0.2</td><td>12.2</td><td> 8.8</td><td>negative</td></tr>\n",
       "\t<tr><td>109</td><td> 7.6</td><td> 1.3</td><td> 2.2</td><td> 1.9</td><td>negative</td></tr>\n",
       "\t<tr><td>120</td><td> 6.8</td><td> 2.1</td><td>10.4</td><td>38.6</td><td>negative</td></tr>\n",
       "\t<tr><td>127</td><td>12.9</td><td> 2.4</td><td> 1.4</td><td> 0.6</td><td>negative</td></tr>\n",
       "\t<tr><td> 94</td><td> 7.5</td><td> 1.2</td><td> 1.3</td><td> 4.4</td><td>negative</td></tr>\n",
       "\t<tr><td>105</td><td> 6.1</td><td> 2.1</td><td> 1.4</td><td> 7.0</td><td>negative</td></tr>\n",
       "\t<tr><td>105</td><td>11.1</td><td> 1.1</td><td> 0.8</td><td> 1.2</td><td>negative</td></tr>\n",
       "\t<tr><td>105</td><td> 8.1</td><td> 2.0</td><td> 1.9</td><td>-0.5</td><td>negative</td></tr>\n",
       "\t<tr><td> 65</td><td>18.2</td><td>10.0</td><td> 1.3</td><td> 0.1</td><td>positive</td></tr>\n",
       "\t<tr><td> 79</td><td>19.0</td><td> 5.5</td><td> 0.9</td><td> 0.3</td><td>positive</td></tr>\n",
       "\t<tr><td>141</td><td> 2.5</td><td> 1.3</td><td> 8.5</td><td> 7.5</td><td>negative</td></tr>\n",
       "\t<tr><td>107</td><td>13.0</td><td> 1.1</td><td> 0.9</td><td> 3.1</td><td>negative</td></tr>\n",
       "\t<tr><td>141</td><td> 5.6</td><td> 1.8</td><td> 9.2</td><td>14.4</td><td>negative</td></tr>\n",
       "\t<tr><td>116</td><td> 9.2</td><td> 2.7</td><td> 1.0</td><td> 4.2</td><td>negative</td></tr>\n",
       "\t<tr><td> 91</td><td> 8.0</td><td> 1.7</td><td> 2.1</td><td> 4.6</td><td>negative</td></tr>\n",
       "\t<tr><td>133</td><td> 9.7</td><td> 2.9</td><td> 0.8</td><td> 1.9</td><td>negative</td></tr>\n",
       "\t<tr><td> 88</td><td>16.5</td><td> 4.9</td><td> 0.8</td><td> 0.1</td><td>positive</td></tr>\n",
       "\t<tr><td>116</td><td> 7.8</td><td> 1.4</td><td> 1.1</td><td> 3.7</td><td>negative</td></tr>\n",
       "\t<tr><td>130</td><td> 9.5</td><td> 1.7</td><td> 0.4</td><td> 3.2</td><td>negative</td></tr>\n",
       "\t<tr><td>119</td><td> 0.8</td><td> 0.7</td><td>56.4</td><td>21.6</td><td>negative</td></tr>\n",
       "\t<tr><td>113</td><td> 9.9</td><td> 3.1</td><td> 2.0</td><td> 5.9</td><td>negative</td></tr>\n",
       "\t<tr><td>106</td><td> 6.7</td><td> 1.5</td><td> 1.2</td><td> 3.9</td><td>negative</td></tr>\n",
       "\t<tr><td>101</td><td> 7.1</td><td> 2.2</td><td> 0.8</td><td> 2.2</td><td>negative</td></tr>\n",
       "\t<tr><td>120</td><td> 3.0</td><td> 2.5</td><td> 1.2</td><td> 4.5</td><td>negative</td></tr>\n",
       "\t<tr><td>116</td><td>10.0</td><td> 1.7</td><td> 1.5</td><td> 4.3</td><td>negative</td></tr>\n",
       "\t<tr><td>103</td><td>10.1</td><td> 1.3</td><td> 0.7</td><td> 0.1</td><td>negative</td></tr>\n",
       "\t<tr><td>110</td><td>15.2</td><td> 1.9</td><td> 0.7</td><td>-0.2</td><td>positive</td></tr>\n",
       "\t<tr><td>114</td><td>11.1</td><td> 2.4</td><td> 2.0</td><td>-0.3</td><td>negative</td></tr>\n",
       "</tbody>\n",
       "</table>\n"
      ],
      "text/latex": [
       "A data.frame: 215 × 6\n",
       "\\begin{tabular}{r|llllll}\n",
       " T3resin & Thyroxin & Triiodothyronine & Thyroidstimulating & TSH\\_value & Class\\\\\n",
       " <int> & <dbl> & <dbl> & <dbl> & <dbl> & <fct>\\\\\n",
       "\\hline\n",
       "\t 105 &  7.3 & 1.5 &  1.5 & -0.1 & negative\\\\\n",
       "\t  67 & 23.3 & 7.4 &  1.8 & -0.6 & positive\\\\\n",
       "\t 111 &  8.4 & 1.5 &  0.8 &  1.2 & negative\\\\\n",
       "\t  89 & 14.3 & 4.1 &  0.5 &  0.2 & positive\\\\\n",
       "\t 105 &  9.5 & 1.8 &  1.6 &  3.6 & negative\\\\\n",
       "\t 110 & 20.3 & 3.7 &  0.6 &  0.2 & positive\\\\\n",
       "\t  84 & 21.5 & 2.7 &  1.1 & -0.6 & positive\\\\\n",
       "\t 113 & 11.1 & 1.7 &  0.8 &  2.3 & negative\\\\\n",
       "\t  97 &  7.8 & 1.3 &  1.2 &  0.9 & negative\\\\\n",
       "\t 106 & 13.4 & 3.0 &  1.1 &  0.0 & positive\\\\\n",
       "\t 104 &  6.3 & 2.0 &  1.2 &  4.0 & negative\\\\\n",
       "\t 112 &  5.9 & 1.7 &  2.0 &  1.3 & negative\\\\\n",
       "\t 120 &  1.9 & 0.7 & 18.5 & 24.0 & negative\\\\\n",
       "\t 118 &  3.6 & 1.5 & 11.6 & 48.8 & negative\\\\\n",
       "\t 106 &  9.4 & 1.7 &  0.9 &  3.1 & negative\\\\\n",
       "\t  99 & 13.0 & 3.6 &  0.7 & -0.1 & positive\\\\\n",
       "\t 107 & 13.8 & 1.5 &  1.0 &  1.9 & negative\\\\\n",
       "\t 111 & 16.0 & 2.1 &  0.9 & -0.1 & positive\\\\\n",
       "\t 129 & 11.9 & 2.7 &  1.2 &  3.5 & negative\\\\\n",
       "\t 115 &  6.3 & 1.2 &  4.7 & 14.4 & negative\\\\\n",
       "\t 113 &  9.0 & 2.0 &  1.8 &  1.6 & negative\\\\\n",
       "\t 111 &  9.1 & 1.7 &  1.2 &  4.1 & negative\\\\\n",
       "\t 119 & 10.6 & 2.1 &  1.3 &  1.1 & negative\\\\\n",
       "\t  97 & 14.2 & 3.6 &  1.5 &  0.3 & positive\\\\\n",
       "\t  97 & 15.1 & 1.8 &  1.2 & -0.2 & positive\\\\\n",
       "\t  98 &  8.6 & 1.6 &  1.6 &  6.0 & negative\\\\\n",
       "\t 105 &  5.7 & 1.0 &  0.9 &  0.9 & negative\\\\\n",
       "\t 121 & 13.5 & 1.5 &  1.6 &  0.5 & negative\\\\\n",
       "\t 131 &  2.7 & 0.8 &  9.9 &  4.7 & negative\\\\\n",
       "\t 106 &  9.4 & 2.2 &  1.5 &  0.0 & negative\\\\\n",
       "\t ⋮ & ⋮ & ⋮ & ⋮ & ⋮ & ⋮\\\\\n",
       "\t 130 & 10.0 &  1.6 &  0.9 &  4.6 & negative\\\\\n",
       "\t 116 & 11.9 &  1.8 &  1.9 &  1.5 & negative\\\\\n",
       "\t 126 &  0.5 &  0.2 & 12.2 &  8.8 & negative\\\\\n",
       "\t 109 &  7.6 &  1.3 &  2.2 &  1.9 & negative\\\\\n",
       "\t 120 &  6.8 &  2.1 & 10.4 & 38.6 & negative\\\\\n",
       "\t 127 & 12.9 &  2.4 &  1.4 &  0.6 & negative\\\\\n",
       "\t  94 &  7.5 &  1.2 &  1.3 &  4.4 & negative\\\\\n",
       "\t 105 &  6.1 &  2.1 &  1.4 &  7.0 & negative\\\\\n",
       "\t 105 & 11.1 &  1.1 &  0.8 &  1.2 & negative\\\\\n",
       "\t 105 &  8.1 &  2.0 &  1.9 & -0.5 & negative\\\\\n",
       "\t  65 & 18.2 & 10.0 &  1.3 &  0.1 & positive\\\\\n",
       "\t  79 & 19.0 &  5.5 &  0.9 &  0.3 & positive\\\\\n",
       "\t 141 &  2.5 &  1.3 &  8.5 &  7.5 & negative\\\\\n",
       "\t 107 & 13.0 &  1.1 &  0.9 &  3.1 & negative\\\\\n",
       "\t 141 &  5.6 &  1.8 &  9.2 & 14.4 & negative\\\\\n",
       "\t 116 &  9.2 &  2.7 &  1.0 &  4.2 & negative\\\\\n",
       "\t  91 &  8.0 &  1.7 &  2.1 &  4.6 & negative\\\\\n",
       "\t 133 &  9.7 &  2.9 &  0.8 &  1.9 & negative\\\\\n",
       "\t  88 & 16.5 &  4.9 &  0.8 &  0.1 & positive\\\\\n",
       "\t 116 &  7.8 &  1.4 &  1.1 &  3.7 & negative\\\\\n",
       "\t 130 &  9.5 &  1.7 &  0.4 &  3.2 & negative\\\\\n",
       "\t 119 &  0.8 &  0.7 & 56.4 & 21.6 & negative\\\\\n",
       "\t 113 &  9.9 &  3.1 &  2.0 &  5.9 & negative\\\\\n",
       "\t 106 &  6.7 &  1.5 &  1.2 &  3.9 & negative\\\\\n",
       "\t 101 &  7.1 &  2.2 &  0.8 &  2.2 & negative\\\\\n",
       "\t 120 &  3.0 &  2.5 &  1.2 &  4.5 & negative\\\\\n",
       "\t 116 & 10.0 &  1.7 &  1.5 &  4.3 & negative\\\\\n",
       "\t 103 & 10.1 &  1.3 &  0.7 &  0.1 & negative\\\\\n",
       "\t 110 & 15.2 &  1.9 &  0.7 & -0.2 & positive\\\\\n",
       "\t 114 & 11.1 &  2.4 &  2.0 & -0.3 & negative\\\\\n",
       "\\end{tabular}\n"
      ],
      "text/markdown": [
       "\n",
       "A data.frame: 215 × 6\n",
       "\n",
       "| T3resin &lt;int&gt; | Thyroxin &lt;dbl&gt; | Triiodothyronine &lt;dbl&gt; | Thyroidstimulating &lt;dbl&gt; | TSH_value &lt;dbl&gt; | Class &lt;fct&gt; |\n",
       "|---|---|---|---|---|---|\n",
       "| 105 |  7.3 | 1.5 |  1.5 | -0.1 | negative |\n",
       "|  67 | 23.3 | 7.4 |  1.8 | -0.6 | positive |\n",
       "| 111 |  8.4 | 1.5 |  0.8 |  1.2 | negative |\n",
       "|  89 | 14.3 | 4.1 |  0.5 |  0.2 | positive |\n",
       "| 105 |  9.5 | 1.8 |  1.6 |  3.6 | negative |\n",
       "| 110 | 20.3 | 3.7 |  0.6 |  0.2 | positive |\n",
       "|  84 | 21.5 | 2.7 |  1.1 | -0.6 | positive |\n",
       "| 113 | 11.1 | 1.7 |  0.8 |  2.3 | negative |\n",
       "|  97 |  7.8 | 1.3 |  1.2 |  0.9 | negative |\n",
       "| 106 | 13.4 | 3.0 |  1.1 |  0.0 | positive |\n",
       "| 104 |  6.3 | 2.0 |  1.2 |  4.0 | negative |\n",
       "| 112 |  5.9 | 1.7 |  2.0 |  1.3 | negative |\n",
       "| 120 |  1.9 | 0.7 | 18.5 | 24.0 | negative |\n",
       "| 118 |  3.6 | 1.5 | 11.6 | 48.8 | negative |\n",
       "| 106 |  9.4 | 1.7 |  0.9 |  3.1 | negative |\n",
       "|  99 | 13.0 | 3.6 |  0.7 | -0.1 | positive |\n",
       "| 107 | 13.8 | 1.5 |  1.0 |  1.9 | negative |\n",
       "| 111 | 16.0 | 2.1 |  0.9 | -0.1 | positive |\n",
       "| 129 | 11.9 | 2.7 |  1.2 |  3.5 | negative |\n",
       "| 115 |  6.3 | 1.2 |  4.7 | 14.4 | negative |\n",
       "| 113 |  9.0 | 2.0 |  1.8 |  1.6 | negative |\n",
       "| 111 |  9.1 | 1.7 |  1.2 |  4.1 | negative |\n",
       "| 119 | 10.6 | 2.1 |  1.3 |  1.1 | negative |\n",
       "|  97 | 14.2 | 3.6 |  1.5 |  0.3 | positive |\n",
       "|  97 | 15.1 | 1.8 |  1.2 | -0.2 | positive |\n",
       "|  98 |  8.6 | 1.6 |  1.6 |  6.0 | negative |\n",
       "| 105 |  5.7 | 1.0 |  0.9 |  0.9 | negative |\n",
       "| 121 | 13.5 | 1.5 |  1.6 |  0.5 | negative |\n",
       "| 131 |  2.7 | 0.8 |  9.9 |  4.7 | negative |\n",
       "| 106 |  9.4 | 2.2 |  1.5 |  0.0 | negative |\n",
       "| ⋮ | ⋮ | ⋮ | ⋮ | ⋮ | ⋮ |\n",
       "| 130 | 10.0 |  1.6 |  0.9 |  4.6 | negative |\n",
       "| 116 | 11.9 |  1.8 |  1.9 |  1.5 | negative |\n",
       "| 126 |  0.5 |  0.2 | 12.2 |  8.8 | negative |\n",
       "| 109 |  7.6 |  1.3 |  2.2 |  1.9 | negative |\n",
       "| 120 |  6.8 |  2.1 | 10.4 | 38.6 | negative |\n",
       "| 127 | 12.9 |  2.4 |  1.4 |  0.6 | negative |\n",
       "|  94 |  7.5 |  1.2 |  1.3 |  4.4 | negative |\n",
       "| 105 |  6.1 |  2.1 |  1.4 |  7.0 | negative |\n",
       "| 105 | 11.1 |  1.1 |  0.8 |  1.2 | negative |\n",
       "| 105 |  8.1 |  2.0 |  1.9 | -0.5 | negative |\n",
       "|  65 | 18.2 | 10.0 |  1.3 |  0.1 | positive |\n",
       "|  79 | 19.0 |  5.5 |  0.9 |  0.3 | positive |\n",
       "| 141 |  2.5 |  1.3 |  8.5 |  7.5 | negative |\n",
       "| 107 | 13.0 |  1.1 |  0.9 |  3.1 | negative |\n",
       "| 141 |  5.6 |  1.8 |  9.2 | 14.4 | negative |\n",
       "| 116 |  9.2 |  2.7 |  1.0 |  4.2 | negative |\n",
       "|  91 |  8.0 |  1.7 |  2.1 |  4.6 | negative |\n",
       "| 133 |  9.7 |  2.9 |  0.8 |  1.9 | negative |\n",
       "|  88 | 16.5 |  4.9 |  0.8 |  0.1 | positive |\n",
       "| 116 |  7.8 |  1.4 |  1.1 |  3.7 | negative |\n",
       "| 130 |  9.5 |  1.7 |  0.4 |  3.2 | negative |\n",
       "| 119 |  0.8 |  0.7 | 56.4 | 21.6 | negative |\n",
       "| 113 |  9.9 |  3.1 |  2.0 |  5.9 | negative |\n",
       "| 106 |  6.7 |  1.5 |  1.2 |  3.9 | negative |\n",
       "| 101 |  7.1 |  2.2 |  0.8 |  2.2 | negative |\n",
       "| 120 |  3.0 |  2.5 |  1.2 |  4.5 | negative |\n",
       "| 116 | 10.0 |  1.7 |  1.5 |  4.3 | negative |\n",
       "| 103 | 10.1 |  1.3 |  0.7 |  0.1 | negative |\n",
       "| 110 | 15.2 |  1.9 |  0.7 | -0.2 | positive |\n",
       "| 114 | 11.1 |  2.4 |  2.0 | -0.3 | negative |\n",
       "\n"
      ],
      "text/plain": [
       "    T3resin Thyroxin Triiodothyronine Thyroidstimulating TSH_value Class   \n",
       "1   105      7.3     1.5               1.5               -0.1      negative\n",
       "2    67     23.3     7.4               1.8               -0.6      positive\n",
       "3   111      8.4     1.5               0.8                1.2      negative\n",
       "4    89     14.3     4.1               0.5                0.2      positive\n",
       "5   105      9.5     1.8               1.6                3.6      negative\n",
       "6   110     20.3     3.7               0.6                0.2      positive\n",
       "7    84     21.5     2.7               1.1               -0.6      positive\n",
       "8   113     11.1     1.7               0.8                2.3      negative\n",
       "9    97      7.8     1.3               1.2                0.9      negative\n",
       "10  106     13.4     3.0               1.1                0.0      positive\n",
       "11  104      6.3     2.0               1.2                4.0      negative\n",
       "12  112      5.9     1.7               2.0                1.3      negative\n",
       "13  120      1.9     0.7              18.5               24.0      negative\n",
       "14  118      3.6     1.5              11.6               48.8      negative\n",
       "15  106      9.4     1.7               0.9                3.1      negative\n",
       "16   99     13.0     3.6               0.7               -0.1      positive\n",
       "17  107     13.8     1.5               1.0                1.9      negative\n",
       "18  111     16.0     2.1               0.9               -0.1      positive\n",
       "19  129     11.9     2.7               1.2                3.5      negative\n",
       "20  115      6.3     1.2               4.7               14.4      negative\n",
       "21  113      9.0     2.0               1.8                1.6      negative\n",
       "22  111      9.1     1.7               1.2                4.1      negative\n",
       "23  119     10.6     2.1               1.3                1.1      negative\n",
       "24   97     14.2     3.6               1.5                0.3      positive\n",
       "25   97     15.1     1.8               1.2               -0.2      positive\n",
       "26   98      8.6     1.6               1.6                6.0      negative\n",
       "27  105      5.7     1.0               0.9                0.9      negative\n",
       "28  121     13.5     1.5               1.6                0.5      negative\n",
       "29  131      2.7     0.8               9.9                4.7      negative\n",
       "30  106      9.4     2.2               1.5                0.0      negative\n",
       "⋮   ⋮       ⋮        ⋮                ⋮                  ⋮         ⋮       \n",
       "186 130     10.0      1.6              0.9                4.6      negative\n",
       "187 116     11.9      1.8              1.9                1.5      negative\n",
       "188 126      0.5      0.2             12.2                8.8      negative\n",
       "189 109      7.6      1.3              2.2                1.9      negative\n",
       "190 120      6.8      2.1             10.4               38.6      negative\n",
       "191 127     12.9      2.4              1.4                0.6      negative\n",
       "192  94      7.5      1.2              1.3                4.4      negative\n",
       "193 105      6.1      2.1              1.4                7.0      negative\n",
       "194 105     11.1      1.1              0.8                1.2      negative\n",
       "195 105      8.1      2.0              1.9               -0.5      negative\n",
       "196  65     18.2     10.0              1.3                0.1      positive\n",
       "197  79     19.0      5.5              0.9                0.3      positive\n",
       "198 141      2.5      1.3              8.5                7.5      negative\n",
       "199 107     13.0      1.1              0.9                3.1      negative\n",
       "200 141      5.6      1.8              9.2               14.4      negative\n",
       "201 116      9.2      2.7              1.0                4.2      negative\n",
       "202  91      8.0      1.7              2.1                4.6      negative\n",
       "203 133      9.7      2.9              0.8                1.9      negative\n",
       "204  88     16.5      4.9              0.8                0.1      positive\n",
       "205 116      7.8      1.4              1.1                3.7      negative\n",
       "206 130      9.5      1.7              0.4                3.2      negative\n",
       "207 119      0.8      0.7             56.4               21.6      negative\n",
       "208 113      9.9      3.1              2.0                5.9      negative\n",
       "209 106      6.7      1.5              1.2                3.9      negative\n",
       "210 101      7.1      2.2              0.8                2.2      negative\n",
       "211 120      3.0      2.5              1.2                4.5      negative\n",
       "212 116     10.0      1.7              1.5                4.3      negative\n",
       "213 103     10.1      1.3              0.7                0.1      negative\n",
       "214 110     15.2      1.9              0.7               -0.2      positive\n",
       "215 114     11.1      2.4              2.0               -0.3      negative"
      ]
     },
     "metadata": {},
     "output_type": "display_data"
    }
   ],
   "source": [
    "newthyroid1"
   ]
  },
  {
   "cell_type": "code",
   "execution_count": 87,
   "metadata": {},
   "outputs": [],
   "source": [
    "mod1<-glm(Class ~., data=newthyroid1, na.action = na.omit, family=\"binomial\")\n",
    "\n",
    "\n",
    "\n"
   ]
  },
  {
   "cell_type": "code",
   "execution_count": 88,
   "metadata": {},
   "outputs": [],
   "source": [
    "?glm\n"
   ]
  }
 ],
 "metadata": {
  "kernelspec": {
   "display_name": "R",
   "language": "R",
   "name": "ir"
  },
  "language_info": {
   "codemirror_mode": "r",
   "file_extension": ".r",
   "mimetype": "text/x-r-source",
   "name": "R",
   "pygments_lexer": "r",
   "version": "3.6.1"
  }
 },
 "nbformat": 4,
 "nbformat_minor": 2
}
