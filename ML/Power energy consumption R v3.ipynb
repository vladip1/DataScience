{
 "cells": [
  {
   "cell_type": "markdown",
   "metadata": {},
   "source": [
    "# Feature Engineering \n",
    " \n",
    "The dataset contains 2075259 measurements gathered in a house located in Sceaux (7km of Paris, France) between December 2006 and November 2010 (47 months). \n",
    " \n",
    "The dataset contains some missing values in the measurements (nearly 1,25% of the rows). All calendar timestamps are present in the dataset but for some timestamps, the measurement values are missing: a missing value is represented by the absence of value between two consecutive semi-colon attribute separators. For instance, the dataset shows missing values on April 28, 2007.\n",
    "\n"
   ]
  },
  {
   "cell_type": "markdown",
   "metadata": {},
   "source": [
    "Attribute Information:\n",
    "\n",
    "1.date: Date in format dd/mm/yyyy \n",
    " \n",
    "2.time: time in format hh:mm:ss \n",
    " \n",
    "3.global_active_power: household global minute-averaged active power (in kilowatt) \n",
    " \n",
    "4.global_reactive_power: household global minute-averaged reactive power (in kilowatt) \n",
    " \n",
    "5.voltage: minute-averaged voltage (in volt) \n",
    " \n",
    "6.global_intensity: household global minute-averaged current intensity (in ampere) \n",
    " \n",
    "7.sub_metering_1: energy sub-metering No. 1 (in watt-hour of active energy). It corresponds to the kitchen, containing mainly a dishwasher, an oven and a microwave (hot plates are not electric but gas powered). \n",
    " \n",
    "8.sub_metering_2: energy sub-metering No. 2 (in watt-hour of active energy). It corresponds to the laundry room, containing a washing-machine, a tumble-drier, a refrigerator and a light.  \n",
    " \n",
    "9.sub_metering_3: energy sub-metering No. 3 (in watt-hour of active energy). It corresponds to an electric water-heater and an air-conditioner.\n",
    "\n"
   ]
  },
  {
   "cell_type": "code",
   "execution_count": 1,
   "metadata": {},
   "outputs": [
    {
     "name": "stderr",
     "output_type": "stream",
     "text": [
      "Loading required package: data.table\n",
      "Loading required package: dplyr\n",
      "\n",
      "Attaching package: ‘dplyr’\n",
      "\n",
      "The following objects are masked from ‘package:data.table’:\n",
      "\n",
      "    between, first, last\n",
      "\n",
      "The following objects are masked from ‘package:stats’:\n",
      "\n",
      "    filter, lag\n",
      "\n",
      "The following objects are masked from ‘package:base’:\n",
      "\n",
      "    intersect, setdiff, setequal, union\n",
      "\n",
      "Loading required package: ggplot2\n"
     ]
    }
   ],
   "source": [
    "if (!require(data.table)){install.packages(\"data.table\");require(data.table)}\n",
    "if (!require(dplyr)){install.packages(\"dplyr\");require(dplyr)}\n",
    "if (!require(ggplot2)){install.packages(\"ggplot2\");require(ggplot2)}"
   ]
  },
  {
   "cell_type": "code",
   "execution_count": 2,
   "metadata": {},
   "outputs": [
    {
     "data": {
      "text/html": [
       "<table>\n",
       "<thead><tr><th scope=col>Date</th><th scope=col>Time</th><th scope=col>Global_active_power</th><th scope=col>Global_reactive_power</th><th scope=col>Voltage</th><th scope=col>Global_intensity</th><th scope=col>Sub_metering_1</th><th scope=col>Sub_metering_2</th><th scope=col>Sub_metering_3</th></tr></thead>\n",
       "<tbody>\n",
       "\t<tr><td>16/12/2006</td><td>17:24:00  </td><td>4.216     </td><td>0.418     </td><td>234.840   </td><td>18.400    </td><td>0.000     </td><td>1.000     </td><td>17        </td></tr>\n",
       "\t<tr><td>16/12/2006</td><td>17:25:00  </td><td>5.360     </td><td>0.436     </td><td>233.630   </td><td>23.000    </td><td>0.000     </td><td>1.000     </td><td>16        </td></tr>\n",
       "\t<tr><td>16/12/2006</td><td>17:26:00  </td><td>5.374     </td><td>0.498     </td><td>233.290   </td><td>23.000    </td><td>0.000     </td><td>2.000     </td><td>17        </td></tr>\n",
       "\t<tr><td>16/12/2006</td><td>17:27:00  </td><td>5.388     </td><td>0.502     </td><td>233.740   </td><td>23.000    </td><td>0.000     </td><td>1.000     </td><td>17        </td></tr>\n",
       "\t<tr><td>16/12/2006</td><td>17:28:00  </td><td>3.666     </td><td>0.528     </td><td>235.680   </td><td>15.800    </td><td>0.000     </td><td>1.000     </td><td>17        </td></tr>\n",
       "\t<tr><td>16/12/2006</td><td>17:29:00  </td><td>3.520     </td><td>0.522     </td><td>235.020   </td><td>15.000    </td><td>0.000     </td><td>2.000     </td><td>17        </td></tr>\n",
       "</tbody>\n",
       "</table>\n"
      ],
      "text/latex": [
       "\\begin{tabular}{r|lllllllll}\n",
       " Date & Time & Global\\_active\\_power & Global\\_reactive\\_power & Voltage & Global\\_intensity & Sub\\_metering\\_1 & Sub\\_metering\\_2 & Sub\\_metering\\_3\\\\\n",
       "\\hline\n",
       "\t 16/12/2006 & 17:24:00   & 4.216      & 0.418      & 234.840    & 18.400     & 0.000      & 1.000      & 17        \\\\\n",
       "\t 16/12/2006 & 17:25:00   & 5.360      & 0.436      & 233.630    & 23.000     & 0.000      & 1.000      & 16        \\\\\n",
       "\t 16/12/2006 & 17:26:00   & 5.374      & 0.498      & 233.290    & 23.000     & 0.000      & 2.000      & 17        \\\\\n",
       "\t 16/12/2006 & 17:27:00   & 5.388      & 0.502      & 233.740    & 23.000     & 0.000      & 1.000      & 17        \\\\\n",
       "\t 16/12/2006 & 17:28:00   & 3.666      & 0.528      & 235.680    & 15.800     & 0.000      & 1.000      & 17        \\\\\n",
       "\t 16/12/2006 & 17:29:00   & 3.520      & 0.522      & 235.020    & 15.000     & 0.000      & 2.000      & 17        \\\\\n",
       "\\end{tabular}\n"
      ],
      "text/markdown": [
       "\n",
       "Date | Time | Global_active_power | Global_reactive_power | Voltage | Global_intensity | Sub_metering_1 | Sub_metering_2 | Sub_metering_3 | \n",
       "|---|---|---|---|---|---|\n",
       "| 16/12/2006 | 17:24:00   | 4.216      | 0.418      | 234.840    | 18.400     | 0.000      | 1.000      | 17         | \n",
       "| 16/12/2006 | 17:25:00   | 5.360      | 0.436      | 233.630    | 23.000     | 0.000      | 1.000      | 16         | \n",
       "| 16/12/2006 | 17:26:00   | 5.374      | 0.498      | 233.290    | 23.000     | 0.000      | 2.000      | 17         | \n",
       "| 16/12/2006 | 17:27:00   | 5.388      | 0.502      | 233.740    | 23.000     | 0.000      | 1.000      | 17         | \n",
       "| 16/12/2006 | 17:28:00   | 3.666      | 0.528      | 235.680    | 15.800     | 0.000      | 1.000      | 17         | \n",
       "| 16/12/2006 | 17:29:00   | 3.520      | 0.522      | 235.020    | 15.000     | 0.000      | 2.000      | 17         | \n",
       "\n",
       "\n"
      ],
      "text/plain": [
       "  Date       Time     Global_active_power Global_reactive_power Voltage\n",
       "1 16/12/2006 17:24:00 4.216               0.418                 234.840\n",
       "2 16/12/2006 17:25:00 5.360               0.436                 233.630\n",
       "3 16/12/2006 17:26:00 5.374               0.498                 233.290\n",
       "4 16/12/2006 17:27:00 5.388               0.502                 233.740\n",
       "5 16/12/2006 17:28:00 3.666               0.528                 235.680\n",
       "6 16/12/2006 17:29:00 3.520               0.522                 235.020\n",
       "  Global_intensity Sub_metering_1 Sub_metering_2 Sub_metering_3\n",
       "1 18.400           0.000          1.000          17            \n",
       "2 23.000           0.000          1.000          16            \n",
       "3 23.000           0.000          2.000          17            \n",
       "4 23.000           0.000          1.000          17            \n",
       "5 15.800           0.000          1.000          17            \n",
       "6 15.000           0.000          2.000          17            "
      ]
     },
     "metadata": {},
     "output_type": "display_data"
    }
   ],
   "source": [
    "power <- fread(file = \"/home/tomas/Documents/Technion/household_power_consumption.txt\",sep=\";\")\n",
    "head(power)"
   ]
  },
  {
   "cell_type": "code",
   "execution_count": 3,
   "metadata": {},
   "outputs": [
    {
     "name": "stdout",
     "output_type": "stream",
     "text": [
      "Classes ‘data.table’ and 'data.frame':\t2075259 obs. of  9 variables:\n",
      " $ Date                 : chr  \"16/12/2006\" \"16/12/2006\" \"16/12/2006\" \"16/12/2006\" ...\n",
      " $ Time                 : chr  \"17:24:00\" \"17:25:00\" \"17:26:00\" \"17:27:00\" ...\n",
      " $ Global_active_power  : chr  \"4.216\" \"5.360\" \"5.374\" \"5.388\" ...\n",
      " $ Global_reactive_power: chr  \"0.418\" \"0.436\" \"0.498\" \"0.502\" ...\n",
      " $ Voltage              : chr  \"234.840\" \"233.630\" \"233.290\" \"233.740\" ...\n",
      " $ Global_intensity     : chr  \"18.400\" \"23.000\" \"23.000\" \"23.000\" ...\n",
      " $ Sub_metering_1       : chr  \"0.000\" \"0.000\" \"0.000\" \"0.000\" ...\n",
      " $ Sub_metering_2       : chr  \"1.000\" \"1.000\" \"2.000\" \"1.000\" ...\n",
      " $ Sub_metering_3       : num  17 16 17 17 17 17 17 17 17 16 ...\n",
      " - attr(*, \".internal.selfref\")=<externalptr> \n"
     ]
    }
   ],
   "source": [
    "str(power)"
   ]
  },
  {
   "cell_type": "markdown",
   "metadata": {},
   "source": [
    "The numeric data was imported as strings. We have to correct that"
   ]
  },
  {
   "cell_type": "code",
   "execution_count": 4,
   "metadata": {},
   "outputs": [
    {
     "data": {
      "text/plain": [
       "     Date               Time           Global_active_power\n",
       " Length:2075259     Length:2075259     Length:2075259     \n",
       " Class :character   Class :character   Class :character   \n",
       " Mode  :character   Mode  :character   Mode  :character   \n",
       "                                                          \n",
       "                                                          \n",
       "                                                          \n",
       "                                                          \n",
       " Global_reactive_power   Voltage          Global_intensity   Sub_metering_1    \n",
       " Length:2075259        Length:2075259     Length:2075259     Length:2075259    \n",
       " Class :character      Class :character   Class :character   Class :character  \n",
       " Mode  :character      Mode  :character   Mode  :character   Mode  :character  \n",
       "                                                                               \n",
       "                                                                               \n",
       "                                                                               \n",
       "                                                                               \n",
       " Sub_metering_2     Sub_metering_3  \n",
       " Length:2075259     Min.   : 0.000  \n",
       " Class :character   1st Qu.: 0.000  \n",
       " Mode  :character   Median : 1.000  \n",
       "                    Mean   : 6.458  \n",
       "                    3rd Qu.:17.000  \n",
       "                    Max.   :31.000  \n",
       "                    NA's   :25979   "
      ]
     },
     "metadata": {},
     "output_type": "display_data"
    },
    {
     "name": "stderr",
     "output_type": "stream",
     "text": [
      "Warning message in eval(expr, envir, enclos):\n",
      "“NAs introducidos por coerción”Warning message in eval(expr, envir, enclos):\n",
      "“NAs introducidos por coerción”Warning message in eval(expr, envir, enclos):\n",
      "“NAs introducidos por coerción”Warning message in eval(expr, envir, enclos):\n",
      "“NAs introducidos por coerción”Warning message in eval(expr, envir, enclos):\n",
      "“NAs introducidos por coerción”Warning message in eval(expr, envir, enclos):\n",
      "“NAs introducidos por coerción”"
     ]
    },
    {
     "name": "stdout",
     "output_type": "stream",
     "text": [
      "[1] \" ----------------------------------------------------------------- \"\n"
     ]
    },
    {
     "data": {
      "text/plain": [
       "     Date               Time           Global_active_power\n",
       " Length:2075259     Length:2075259     Min.   : 0.076     \n",
       " Class :character   Class :character   1st Qu.: 0.308     \n",
       " Mode  :character   Mode  :character   Median : 0.602     \n",
       "                                       Mean   : 1.092     \n",
       "                                       3rd Qu.: 1.528     \n",
       "                                       Max.   :11.122     \n",
       "                                       NA's   :25979      \n",
       " Global_reactive_power    Voltage      Global_intensity Sub_metering_1  \n",
       " Min.   :0.000         Min.   :223.2   Min.   : 0.200   Min.   : 0.000  \n",
       " 1st Qu.:0.048         1st Qu.:239.0   1st Qu.: 1.400   1st Qu.: 0.000  \n",
       " Median :0.100         Median :241.0   Median : 2.600   Median : 0.000  \n",
       " Mean   :0.124         Mean   :240.8   Mean   : 4.628   Mean   : 1.122  \n",
       " 3rd Qu.:0.194         3rd Qu.:242.9   3rd Qu.: 6.400   3rd Qu.: 0.000  \n",
       " Max.   :1.390         Max.   :254.2   Max.   :48.400   Max.   :88.000  \n",
       " NA's   :25979         NA's   :25979   NA's   :25979    NA's   :25979   \n",
       " Sub_metering_2   Sub_metering_3  \n",
       " Min.   : 0.000   Min.   : 0.000  \n",
       " 1st Qu.: 0.000   1st Qu.: 0.000  \n",
       " Median : 0.000   Median : 1.000  \n",
       " Mean   : 1.299   Mean   : 6.458  \n",
       " 3rd Qu.: 1.000   3rd Qu.:17.000  \n",
       " Max.   :80.000   Max.   :31.000  \n",
       " NA's   :25979    NA's   :25979   "
      ]
     },
     "metadata": {},
     "output_type": "display_data"
    }
   ],
   "source": [
    "summary(power)\n",
    "power$`Global_active_power` <- as.numeric(power$`Global_active_power`)\n",
    "power$`Global_intensity` <- as.numeric(power$`Global_intensity`)\n",
    "power$`Global_reactive_power` <- as.numeric(power$`Global_reactive_power`)\n",
    "power$`Sub_metering_1` <- as.numeric(power$`Sub_metering_1`)\n",
    "power$`Sub_metering_2` <- as.numeric(power$`Sub_metering_2`)\n",
    "power$`Sub_metering_3` <- as.numeric(power$`Sub_metering_3`)\n",
    "power$Voltage <- as.numeric(power$Voltage)\n",
    "print(\" ----------------------------------------------------------------- \")\n",
    "summary(power)\n"
   ]
  },
  {
   "cell_type": "markdown",
   "metadata": {},
   "source": [
    "Now we can see that we have missing values. Those missings are likely full rows as the same number of the features are missing. Lets check it:"
   ]
  },
  {
   "cell_type": "code",
   "execution_count": 5,
   "metadata": {},
   "outputs": [],
   "source": [
    "#if (!require(devtools)){install.packages(\"devtools\");require(devtools)}\n",
    "#if (!require(mechkar)){install_github(\"karpatit/mechkar\");require(mechkar)}"
   ]
  },
  {
   "cell_type": "code",
   "execution_count": 5,
   "metadata": {},
   "outputs": [
    {
     "name": "stdout",
     "output_type": "stream",
     "text": [
      "[[1]]\n",
      "                    var na_count rate\n",
      "1   Global_active_power    25979  1.3\n",
      "2 Global_reactive_power    25979  1.3\n",
      "3               Voltage    25979  1.3\n",
      "4      Global_intensity    25979  1.3\n",
      "5        Sub_metering_1    25979  1.3\n",
      "6        Sub_metering_2    25979  1.3\n",
      "7        Sub_metering_3    25979  1.3\n",
      "\n",
      "[[2]]\n",
      "[1] \"This dataset has 2049280 (98.7%) complete rows. Original data has 2075259 rows.\"\n",
      "\n"
     ]
    },
    {
     "data": {
      "text/html": [
       "<dl>\n",
       "\t<dt>$missingness</dt>\n",
       "\t\t<dd><table>\n",
       "<thead><tr><th scope=col>var</th><th scope=col>na_count</th><th scope=col>rate</th></tr></thead>\n",
       "<tbody>\n",
       "\t<tr><td>Global_active_power  </td><td>25979                </td><td>1.3                  </td></tr>\n",
       "\t<tr><td>Global_reactive_power</td><td>25979                </td><td>1.3                  </td></tr>\n",
       "\t<tr><td>Voltage              </td><td>25979                </td><td>1.3                  </td></tr>\n",
       "\t<tr><td>Global_intensity     </td><td>25979                </td><td>1.3                  </td></tr>\n",
       "\t<tr><td>Sub_metering_1       </td><td>25979                </td><td>1.3                  </td></tr>\n",
       "\t<tr><td>Sub_metering_2       </td><td>25979                </td><td>1.3                  </td></tr>\n",
       "\t<tr><td>Sub_metering_3       </td><td>25979                </td><td>1.3                  </td></tr>\n",
       "</tbody>\n",
       "</table>\n",
       "</dd>\n",
       "\t<dt>$message</dt>\n",
       "\t\t<dd>'This dataset has 2049280 (98.7%) complete rows. Original data has 2075259 rows.'</dd>\n",
       "\t<dt>$rows</dt>\n",
       "\t\t<dd>NULL</dd>\n",
       "</dl>\n"
      ],
      "text/latex": [
       "\\begin{description}\n",
       "\\item[\\$missingness] \\begin{tabular}{r|lll}\n",
       " var & na\\_count & rate\\\\\n",
       "\\hline\n",
       "\t Global\\_active\\_power   & 25979                     & 1.3                      \\\\\n",
       "\t Global\\_reactive\\_power & 25979                     & 1.3                      \\\\\n",
       "\t Voltage               & 25979                 & 1.3                  \\\\\n",
       "\t Global\\_intensity      & 25979                   & 1.3                    \\\\\n",
       "\t Sub\\_metering\\_1        & 25979                     & 1.3                      \\\\\n",
       "\t Sub\\_metering\\_2        & 25979                     & 1.3                      \\\\\n",
       "\t Sub\\_metering\\_3        & 25979                     & 1.3                      \\\\\n",
       "\\end{tabular}\n",
       "\n",
       "\\item[\\$message] 'This dataset has 2049280 (98.7\\%) complete rows. Original data has 2075259 rows.'\n",
       "\\item[\\$rows] NULL\n",
       "\\end{description}\n"
      ],
      "text/markdown": [
       "$missingness\n",
       ":   \n",
       "var | na_count | rate | \n",
       "|---|---|---|---|---|---|---|\n",
       "| Global_active_power   | 25979                 | 1.3                   | \n",
       "| Global_reactive_power | 25979                 | 1.3                   | \n",
       "| Voltage               | 25979                 | 1.3                   | \n",
       "| Global_intensity      | 25979                 | 1.3                   | \n",
       "| Sub_metering_1        | 25979                 | 1.3                   | \n",
       "| Sub_metering_2        | 25979                 | 1.3                   | \n",
       "| Sub_metering_3        | 25979                 | 1.3                   | \n",
       "\n",
       "\n",
       "\n",
       "$message\n",
       ":   'This dataset has 2049280 (98.7%) complete rows. Original data has 2075259 rows.'\n",
       "$rows\n",
       ":   NULL\n",
       "\n",
       "\n"
      ],
      "text/plain": [
       "$missingness\n",
       "                    var na_count rate\n",
       "1   Global_active_power    25979  1.3\n",
       "2 Global_reactive_power    25979  1.3\n",
       "3               Voltage    25979  1.3\n",
       "4      Global_intensity    25979  1.3\n",
       "5        Sub_metering_1    25979  1.3\n",
       "6        Sub_metering_2    25979  1.3\n",
       "7        Sub_metering_3    25979  1.3\n",
       "\n",
       "$message\n",
       "[1] \"This dataset has 2049280 (98.7%) complete rows. Original data has 2075259 rows.\"\n",
       "\n",
       "$rows\n",
       "NULL\n"
      ]
     },
     "metadata": {},
     "output_type": "display_data"
    }
   ],
   "source": [
    "getMissingness <- function(data, getRows=FALSE) {\n",
    "  require(dplyr)\n",
    "  l <- nrow(data)\n",
    "  vn <- names(data)\n",
    "  ### copy the dataset and replace the NAs by 1 else 0\n",
    "  nadf <- data\n",
    "  cnt <- NULL\n",
    "  miss <- function(x) return(sum(is.na(x) ))\n",
    "  for(n in vn) {\n",
    "    nadf[[n]] <- ifelse(is.na(nadf[[n]])==T,1,0)\n",
    "    cnt <- rbind(cnt, data.frame(n,sum(nadf[[n]])))\n",
    "  }\n",
    "  names(cnt) <- c(\"var\",\"na_count\")\n",
    "  cnt$rate <- round((cnt$na_count / nrow(nadf))*100,1)\n",
    "  ### now sum by column\n",
    "  nadf$na_cnt <- 0\n",
    "  nadf$na_cnt <- rowSums(nadf)\n",
    "  ### order descending the count of mossings and leave only those with missings\n",
    "  cnt <- cnt %>%\n",
    "    dplyr::arrange(desc(na_count)) %>%\n",
    "    dplyr::filter(na_count>0)\n",
    "  #totmiss <- nadf %>% dplyr::filter(na_cnt==0) %>% dplyr::tally()\n",
    "  totmiss <- nadf %>% dplyr::filter(na_cnt==0) %>% dplyr::summarise(n=n())\n",
    "  idx <- NULL\n",
    "  msg <- (paste(\"This dataset has \", as.character(totmiss), \" (\",as.character(round(totmiss/nrow(data)*100,1)),\"%)\" ,\" complete rows. Original data has \",nrow(data),\" rows.\",sep=\"\"))\n",
    "  ### check id needs to return the row indexes\n",
    "  if(getRows==TRUE & totmiss != 0) {\n",
    "    nadf$rn <- seq_len(nrow(data))\n",
    "    idx <- nadf %>% dplyr::filter(na_cnt==0) %>% dplyr::select(rn)\n",
    "  }\n",
    "  print(list(head(cnt,n=10), msg))\n",
    "  return(list(missingness=cnt, message=msg, rows=idx$rn))\n",
    "}\n",
    "\n",
    "getMissingness(power)\n"
   ]
  },
  {
   "cell_type": "code",
   "execution_count": 6,
   "metadata": {},
   "outputs": [
    {
     "data": {
      "text/html": [
       "<table>\n",
       "<thead><tr><th scope=col>Date</th><th scope=col>Time</th><th scope=col>Global_active_power</th><th scope=col>Global_reactive_power</th><th scope=col>Voltage</th><th scope=col>Global_intensity</th><th scope=col>Sub_metering_1</th><th scope=col>Sub_metering_2</th><th scope=col>Sub_metering_3</th></tr></thead>\n",
       "<tbody>\n",
       "\t<tr><td>21/12/2006</td><td>11:23:00  </td><td>NA        </td><td>NA        </td><td>NA        </td><td>NA        </td><td>NA        </td><td>NA        </td><td>NA        </td></tr>\n",
       "\t<tr><td>21/12/2006</td><td>11:24:00  </td><td>NA        </td><td>NA        </td><td>NA        </td><td>NA        </td><td>NA        </td><td>NA        </td><td>NA        </td></tr>\n",
       "\t<tr><td>30/12/2006</td><td>10:08:00  </td><td>NA        </td><td>NA        </td><td>NA        </td><td>NA        </td><td>NA        </td><td>NA        </td><td>NA        </td></tr>\n",
       "\t<tr><td>30/12/2006</td><td>10:09:00  </td><td>NA        </td><td>NA        </td><td>NA        </td><td>NA        </td><td>NA        </td><td>NA        </td><td>NA        </td></tr>\n",
       "\t<tr><td>14/1/2007 </td><td>18:36:00  </td><td>NA        </td><td>NA        </td><td>NA        </td><td>NA        </td><td>NA        </td><td>NA        </td><td>NA        </td></tr>\n",
       "\t<tr><td>28/1/2007 </td><td>17:13:00  </td><td>NA        </td><td>NA        </td><td>NA        </td><td>NA        </td><td>NA        </td><td>NA        </td><td>NA        </td></tr>\n",
       "\t<tr><td>22/2/2007 </td><td>22:58:00  </td><td>NA        </td><td>NA        </td><td>NA        </td><td>NA        </td><td>NA        </td><td>NA        </td><td>NA        </td></tr>\n",
       "\t<tr><td>22/2/2007 </td><td>22:59:00  </td><td>NA        </td><td>NA        </td><td>NA        </td><td>NA        </td><td>NA        </td><td>NA        </td><td>NA        </td></tr>\n",
       "\t<tr><td>25/3/2007 </td><td>17:52:00  </td><td>NA        </td><td>NA        </td><td>NA        </td><td>NA        </td><td>NA        </td><td>NA        </td><td>NA        </td></tr>\n",
       "\t<tr><td>28/4/2007 </td><td>00:21:00  </td><td>NA        </td><td>NA        </td><td>NA        </td><td>NA        </td><td>NA        </td><td>NA        </td><td>NA        </td></tr>\n",
       "</tbody>\n",
       "</table>\n"
      ],
      "text/latex": [
       "\\begin{tabular}{r|lllllllll}\n",
       " Date & Time & Global\\_active\\_power & Global\\_reactive\\_power & Voltage & Global\\_intensity & Sub\\_metering\\_1 & Sub\\_metering\\_2 & Sub\\_metering\\_3\\\\\n",
       "\\hline\n",
       "\t 21/12/2006 & 11:23:00   & NA         & NA         & NA         & NA         & NA         & NA         & NA        \\\\\n",
       "\t 21/12/2006 & 11:24:00   & NA         & NA         & NA         & NA         & NA         & NA         & NA        \\\\\n",
       "\t 30/12/2006 & 10:08:00   & NA         & NA         & NA         & NA         & NA         & NA         & NA        \\\\\n",
       "\t 30/12/2006 & 10:09:00   & NA         & NA         & NA         & NA         & NA         & NA         & NA        \\\\\n",
       "\t 14/1/2007  & 18:36:00   & NA         & NA         & NA         & NA         & NA         & NA         & NA        \\\\\n",
       "\t 28/1/2007  & 17:13:00   & NA         & NA         & NA         & NA         & NA         & NA         & NA        \\\\\n",
       "\t 22/2/2007  & 22:58:00   & NA         & NA         & NA         & NA         & NA         & NA         & NA        \\\\\n",
       "\t 22/2/2007  & 22:59:00   & NA         & NA         & NA         & NA         & NA         & NA         & NA        \\\\\n",
       "\t 25/3/2007  & 17:52:00   & NA         & NA         & NA         & NA         & NA         & NA         & NA        \\\\\n",
       "\t 28/4/2007  & 00:21:00   & NA         & NA         & NA         & NA         & NA         & NA         & NA        \\\\\n",
       "\\end{tabular}\n"
      ],
      "text/markdown": [
       "\n",
       "Date | Time | Global_active_power | Global_reactive_power | Voltage | Global_intensity | Sub_metering_1 | Sub_metering_2 | Sub_metering_3 | \n",
       "|---|---|---|---|---|---|---|---|---|---|\n",
       "| 21/12/2006 | 11:23:00   | NA         | NA         | NA         | NA         | NA         | NA         | NA         | \n",
       "| 21/12/2006 | 11:24:00   | NA         | NA         | NA         | NA         | NA         | NA         | NA         | \n",
       "| 30/12/2006 | 10:08:00   | NA         | NA         | NA         | NA         | NA         | NA         | NA         | \n",
       "| 30/12/2006 | 10:09:00   | NA         | NA         | NA         | NA         | NA         | NA         | NA         | \n",
       "| 14/1/2007  | 18:36:00   | NA         | NA         | NA         | NA         | NA         | NA         | NA         | \n",
       "| 28/1/2007  | 17:13:00   | NA         | NA         | NA         | NA         | NA         | NA         | NA         | \n",
       "| 22/2/2007  | 22:58:00   | NA         | NA         | NA         | NA         | NA         | NA         | NA         | \n",
       "| 22/2/2007  | 22:59:00   | NA         | NA         | NA         | NA         | NA         | NA         | NA         | \n",
       "| 25/3/2007  | 17:52:00   | NA         | NA         | NA         | NA         | NA         | NA         | NA         | \n",
       "| 28/4/2007  | 00:21:00   | NA         | NA         | NA         | NA         | NA         | NA         | NA         | \n",
       "\n",
       "\n"
      ],
      "text/plain": [
       "   Date       Time     Global_active_power Global_reactive_power Voltage\n",
       "1  21/12/2006 11:23:00 NA                  NA                    NA     \n",
       "2  21/12/2006 11:24:00 NA                  NA                    NA     \n",
       "3  30/12/2006 10:08:00 NA                  NA                    NA     \n",
       "4  30/12/2006 10:09:00 NA                  NA                    NA     \n",
       "5  14/1/2007  18:36:00 NA                  NA                    NA     \n",
       "6  28/1/2007  17:13:00 NA                  NA                    NA     \n",
       "7  22/2/2007  22:58:00 NA                  NA                    NA     \n",
       "8  22/2/2007  22:59:00 NA                  NA                    NA     \n",
       "9  25/3/2007  17:52:00 NA                  NA                    NA     \n",
       "10 28/4/2007  00:21:00 NA                  NA                    NA     \n",
       "   Global_intensity Sub_metering_1 Sub_metering_2 Sub_metering_3\n",
       "1  NA               NA             NA             NA            \n",
       "2  NA               NA             NA             NA            \n",
       "3  NA               NA             NA             NA            \n",
       "4  NA               NA             NA             NA            \n",
       "5  NA               NA             NA             NA            \n",
       "6  NA               NA             NA             NA            \n",
       "7  NA               NA             NA             NA            \n",
       "8  NA               NA             NA             NA            \n",
       "9  NA               NA             NA             NA            \n",
       "10 NA               NA             NA             NA            "
      ]
     },
     "metadata": {},
     "output_type": "display_data"
    }
   ],
   "source": [
    "power.na <- power %>% filter(is.na(Voltage)==T)\n",
    "head(power.na,10)"
   ]
  },
  {
   "cell_type": "code",
   "execution_count": 7,
   "metadata": {},
   "outputs": [
    {
     "data": {
      "text/html": [
       "<table>\n",
       "<thead><tr><th scope=col>Time</th><th scope=col>n</th></tr></thead>\n",
       "<tbody>\n",
       "\t<tr><td>06:57:00</td><td>21      </td></tr>\n",
       "\t<tr><td>07:20:00</td><td>21      </td></tr>\n",
       "\t<tr><td>08:26:00</td><td>21      </td></tr>\n",
       "\t<tr><td>08:27:00</td><td>21      </td></tr>\n",
       "\t<tr><td>10:08:00</td><td>21      </td></tr>\n",
       "\t<tr><td>10:09:00</td><td>21      </td></tr>\n",
       "</tbody>\n",
       "</table>\n"
      ],
      "text/latex": [
       "\\begin{tabular}{r|ll}\n",
       " Time & n\\\\\n",
       "\\hline\n",
       "\t 06:57:00 & 21      \\\\\n",
       "\t 07:20:00 & 21      \\\\\n",
       "\t 08:26:00 & 21      \\\\\n",
       "\t 08:27:00 & 21      \\\\\n",
       "\t 10:08:00 & 21      \\\\\n",
       "\t 10:09:00 & 21      \\\\\n",
       "\\end{tabular}\n"
      ],
      "text/markdown": [
       "\n",
       "Time | n | \n",
       "|---|---|---|---|---|---|\n",
       "| 06:57:00 | 21       | \n",
       "| 07:20:00 | 21       | \n",
       "| 08:26:00 | 21       | \n",
       "| 08:27:00 | 21       | \n",
       "| 10:08:00 | 21       | \n",
       "| 10:09:00 | 21       | \n",
       "\n",
       "\n"
      ],
      "text/plain": [
       "  Time     n \n",
       "1 06:57:00 21\n",
       "2 07:20:00 21\n",
       "3 08:26:00 21\n",
       "4 08:27:00 21\n",
       "5 10:08:00 21\n",
       "6 10:09:00 21"
      ]
     },
     "metadata": {},
     "output_type": "display_data"
    },
    {
     "data": {
      "text/html": [
       "<table>\n",
       "<thead><tr><th scope=col>Time</th><th scope=col>n</th></tr></thead>\n",
       "<tbody>\n",
       "\t<tr><td>00:00:00</td><td>15      </td></tr>\n",
       "\t<tr><td>00:01:00</td><td>15      </td></tr>\n",
       "\t<tr><td>00:02:00</td><td>15      </td></tr>\n",
       "\t<tr><td>00:03:00</td><td>15      </td></tr>\n",
       "\t<tr><td>00:04:00</td><td>15      </td></tr>\n",
       "\t<tr><td>00:05:00</td><td>15      </td></tr>\n",
       "</tbody>\n",
       "</table>\n"
      ],
      "text/latex": [
       "\\begin{tabular}{r|ll}\n",
       " Time & n\\\\\n",
       "\\hline\n",
       "\t 00:00:00 & 15      \\\\\n",
       "\t 00:01:00 & 15      \\\\\n",
       "\t 00:02:00 & 15      \\\\\n",
       "\t 00:03:00 & 15      \\\\\n",
       "\t 00:04:00 & 15      \\\\\n",
       "\t 00:05:00 & 15      \\\\\n",
       "\\end{tabular}\n"
      ],
      "text/markdown": [
       "\n",
       "Time | n | \n",
       "|---|---|---|---|---|---|\n",
       "| 00:00:00 | 15       | \n",
       "| 00:01:00 | 15       | \n",
       "| 00:02:00 | 15       | \n",
       "| 00:03:00 | 15       | \n",
       "| 00:04:00 | 15       | \n",
       "| 00:05:00 | 15       | \n",
       "\n",
       "\n"
      ],
      "text/plain": [
       "  Time     n \n",
       "1 00:00:00 15\n",
       "2 00:01:00 15\n",
       "3 00:02:00 15\n",
       "4 00:03:00 15\n",
       "5 00:04:00 15\n",
       "6 00:05:00 15"
      ]
     },
     "metadata": {},
     "output_type": "display_data"
    }
   ],
   "source": [
    "power.na %>% group_by(Time) %>% summarise(n=n()) %>% arrange(desc(n)) %>% head\n",
    "power.na %>% group_by(Time) %>% summarise(n=n()) %>% arrange(n) %>% head\n"
   ]
  },
  {
   "cell_type": "code",
   "execution_count": 8,
   "metadata": {},
   "outputs": [
    {
     "data": {},
     "metadata": {},
     "output_type": "display_data"
    },
    {
     "data": {
      "image/png": "[encoded data removed]",
      "text/plain": [
       "plot without title"
      ]
     },
     "metadata": {},
     "output_type": "display_data"
    }
   ],
   "source": [
    "options(repr.plot.width = 8, repr.plot.height = 3)\n",
    "ggplot(data=power.na %>% group_by(Time) %>% summarise(n=n())) +\n",
    "    geom_point(aes(x=factor(Time), y=n))"
   ]
  },
  {
   "cell_type": "markdown",
   "metadata": {},
   "source": [
    "We got that we can count between 15 to 21 missings at different hours. The missing counts are most likely to occure during the day and less during the night. It may be due to measure failures or mantainance of the sensors. As the minimal and maximal counts for the times are not so broad, we can assume that their are missing at random (MAR). As at this time we don't have enough insides about how missing values may affect our analysis. Let's proceed with generating more data based on the existing data (data ) and decide later how will we proceed with the missing values.\n",
    " \n",
    "Lets extract new features from the existing data. We will take the date and time and will generate from them new data:\n",
    "For the date,  we will separate the country, month and day. We will add also the weekday and the season."
   ]
  },
  {
   "cell_type": "code",
   "execution_count": 9,
   "metadata": {},
   "outputs": [
    {
     "name": "stderr",
     "output_type": "stream",
     "text": [
      "Loading required package: lubridate\n",
      "\n",
      "Attaching package: ‘lubridate’\n",
      "\n",
      "The following objects are masked from ‘package:data.table’:\n",
      "\n",
      "    hour, isoweek, mday, minute, month, quarter, second, wday, week,\n",
      "    yday, year\n",
      "\n",
      "The following object is masked from ‘package:base’:\n",
      "\n",
      "    date\n",
      "\n"
     ]
    }
   ],
   "source": [
    "if (!require(lubridate)){install.packages(\"lubridate\");require(lubridate)}\n"
   ]
  },
  {
   "cell_type": "code",
   "execution_count": 10,
   "metadata": {},
   "outputs": [
    {
     "data": {
      "text/html": [
       "<table>\n",
       "<thead><tr><th scope=col>Date</th><th scope=col>Time</th><th scope=col>Global_active_power</th><th scope=col>Global_reactive_power</th><th scope=col>Voltage</th><th scope=col>Global_intensity</th><th scope=col>Sub_metering_1</th><th scope=col>Sub_metering_2</th><th scope=col>Sub_metering_3</th><th scope=col>datetime</th><th scope=col>year</th><th scope=col>month</th><th scope=col>day</th><th scope=col>wday</th><th scope=col>hour</th><th scope=col>minute</th></tr></thead>\n",
       "<tbody>\n",
       "\t<tr><td>16/12/2006         </td><td>17:24:00           </td><td>4.216              </td><td>0.418              </td><td>234.84             </td><td>18.4               </td><td>0                  </td><td>1                  </td><td>17                 </td><td>2006-12-16 17:24:00</td><td>2006               </td><td>12                 </td><td>16                 </td><td>7                  </td><td>17                 </td><td>24                 </td></tr>\n",
       "\t<tr><td>16/12/2006         </td><td>17:25:00           </td><td>5.360              </td><td>0.436              </td><td>233.63             </td><td>23.0               </td><td>0                  </td><td>1                  </td><td>16                 </td><td>2006-12-16 17:25:00</td><td>2006               </td><td>12                 </td><td>16                 </td><td>7                  </td><td>17                 </td><td>25                 </td></tr>\n",
       "\t<tr><td>16/12/2006         </td><td>17:26:00           </td><td>5.374              </td><td>0.498              </td><td>233.29             </td><td>23.0               </td><td>0                  </td><td>2                  </td><td>17                 </td><td>2006-12-16 17:26:00</td><td>2006               </td><td>12                 </td><td>16                 </td><td>7                  </td><td>17                 </td><td>26                 </td></tr>\n",
       "\t<tr><td>16/12/2006         </td><td>17:27:00           </td><td>5.388              </td><td>0.502              </td><td>233.74             </td><td>23.0               </td><td>0                  </td><td>1                  </td><td>17                 </td><td>2006-12-16 17:27:00</td><td>2006               </td><td>12                 </td><td>16                 </td><td>7                  </td><td>17                 </td><td>27                 </td></tr>\n",
       "\t<tr><td>16/12/2006         </td><td>17:28:00           </td><td>3.666              </td><td>0.528              </td><td>235.68             </td><td>15.8               </td><td>0                  </td><td>1                  </td><td>17                 </td><td>2006-12-16 17:28:00</td><td>2006               </td><td>12                 </td><td>16                 </td><td>7                  </td><td>17                 </td><td>28                 </td></tr>\n",
       "\t<tr><td>16/12/2006         </td><td>17:29:00           </td><td>3.520              </td><td>0.522              </td><td>235.02             </td><td>15.0               </td><td>0                  </td><td>2                  </td><td>17                 </td><td>2006-12-16 17:29:00</td><td>2006               </td><td>12                 </td><td>16                 </td><td>7                  </td><td>17                 </td><td>29                 </td></tr>\n",
       "</tbody>\n",
       "</table>\n"
      ],
      "text/latex": [
       "\\begin{tabular}{r|llllllllllllllll}\n",
       " Date & Time & Global\\_active\\_power & Global\\_reactive\\_power & Voltage & Global\\_intensity & Sub\\_metering\\_1 & Sub\\_metering\\_2 & Sub\\_metering\\_3 & datetime & year & month & day & wday & hour & minute\\\\\n",
       "\\hline\n",
       "\t 16/12/2006          & 17:24:00            & 4.216               & 0.418               & 234.84              & 18.4                & 0                   & 1                   & 17                  & 2006-12-16 17:24:00 & 2006                & 12                  & 16                  & 7                   & 17                  & 24                 \\\\\n",
       "\t 16/12/2006          & 17:25:00            & 5.360               & 0.436               & 233.63              & 23.0                & 0                   & 1                   & 16                  & 2006-12-16 17:25:00 & 2006                & 12                  & 16                  & 7                   & 17                  & 25                 \\\\\n",
       "\t 16/12/2006          & 17:26:00            & 5.374               & 0.498               & 233.29              & 23.0                & 0                   & 2                   & 17                  & 2006-12-16 17:26:00 & 2006                & 12                  & 16                  & 7                   & 17                  & 26                 \\\\\n",
       "\t 16/12/2006          & 17:27:00            & 5.388               & 0.502               & 233.74              & 23.0                & 0                   & 1                   & 17                  & 2006-12-16 17:27:00 & 2006                & 12                  & 16                  & 7                   & 17                  & 27                 \\\\\n",
       "\t 16/12/2006          & 17:28:00            & 3.666               & 0.528               & 235.68              & 15.8                & 0                   & 1                   & 17                  & 2006-12-16 17:28:00 & 2006                & 12                  & 16                  & 7                   & 17                  & 28                 \\\\\n",
       "\t 16/12/2006          & 17:29:00            & 3.520               & 0.522               & 235.02              & 15.0                & 0                   & 2                   & 17                  & 2006-12-16 17:29:00 & 2006                & 12                  & 16                  & 7                   & 17                  & 29                 \\\\\n",
       "\\end{tabular}\n"
      ],
      "text/markdown": [
       "\n",
       "Date | Time | Global_active_power | Global_reactive_power | Voltage | Global_intensity | Sub_metering_1 | Sub_metering_2 | Sub_metering_3 | datetime | year | month | day | wday | hour | minute | \n",
       "|---|---|---|---|---|---|\n",
       "| 16/12/2006          | 17:24:00            | 4.216               | 0.418               | 234.84              | 18.4                | 0                   | 1                   | 17                  | 2006-12-16 17:24:00 | 2006                | 12                  | 16                  | 7                   | 17                  | 24                  | \n",
       "| 16/12/2006          | 17:25:00            | 5.360               | 0.436               | 233.63              | 23.0                | 0                   | 1                   | 16                  | 2006-12-16 17:25:00 | 2006                | 12                  | 16                  | 7                   | 17                  | 25                  | \n",
       "| 16/12/2006          | 17:26:00            | 5.374               | 0.498               | 233.29              | 23.0                | 0                   | 2                   | 17                  | 2006-12-16 17:26:00 | 2006                | 12                  | 16                  | 7                   | 17                  | 26                  | \n",
       "| 16/12/2006          | 17:27:00            | 5.388               | 0.502               | 233.74              | 23.0                | 0                   | 1                   | 17                  | 2006-12-16 17:27:00 | 2006                | 12                  | 16                  | 7                   | 17                  | 27                  | \n",
       "| 16/12/2006          | 17:28:00            | 3.666               | 0.528               | 235.68              | 15.8                | 0                   | 1                   | 17                  | 2006-12-16 17:28:00 | 2006                | 12                  | 16                  | 7                   | 17                  | 28                  | \n",
       "| 16/12/2006          | 17:29:00            | 3.520               | 0.522               | 235.02              | 15.0                | 0                   | 2                   | 17                  | 2006-12-16 17:29:00 | 2006                | 12                  | 16                  | 7                   | 17                  | 29                  | \n",
       "\n",
       "\n"
      ],
      "text/plain": [
       "  Date       Time     Global_active_power Global_reactive_power Voltage\n",
       "1 16/12/2006 17:24:00 4.216               0.418                 234.84 \n",
       "2 16/12/2006 17:25:00 5.360               0.436                 233.63 \n",
       "3 16/12/2006 17:26:00 5.374               0.498                 233.29 \n",
       "4 16/12/2006 17:27:00 5.388               0.502                 233.74 \n",
       "5 16/12/2006 17:28:00 3.666               0.528                 235.68 \n",
       "6 16/12/2006 17:29:00 3.520               0.522                 235.02 \n",
       "  Global_intensity Sub_metering_1 Sub_metering_2 Sub_metering_3\n",
       "1 18.4             0              1              17            \n",
       "2 23.0             0              1              16            \n",
       "3 23.0             0              2              17            \n",
       "4 23.0             0              1              17            \n",
       "5 15.8             0              1              17            \n",
       "6 15.0             0              2              17            \n",
       "  datetime            year month day wday hour minute\n",
       "1 2006-12-16 17:24:00 2006 12    16  7    17   24    \n",
       "2 2006-12-16 17:25:00 2006 12    16  7    17   25    \n",
       "3 2006-12-16 17:26:00 2006 12    16  7    17   26    \n",
       "4 2006-12-16 17:27:00 2006 12    16  7    17   27    \n",
       "5 2006-12-16 17:28:00 2006 12    16  7    17   28    \n",
       "6 2006-12-16 17:29:00 2006 12    16  7    17   29    "
      ]
     },
     "metadata": {},
     "output_type": "display_data"
    }
   ],
   "source": [
    "## Datetime\n",
    "power$datetime <- as.POSIXct(paste(as.IDate(power$Date,'%d/%m/%Y'), power$Time), format=\"%Y-%m-%d %H:%M:%S\")\n",
    "## date\n",
    "power$year <- year(as.IDate(power$Date,'%d/%m/%Y'))\n",
    "power$month <- month(as.IDate(power$Date,'%d/%m/%Y'))\n",
    "power$day <- day(as.IDate(power$Date,'%d/%m/%Y'))\n",
    "power$wday <- wday(as.IDate(power$Date,'%d/%m/%Y'))\n",
    "## time\n",
    "power$hour <- hour(power$datetime)\n",
    "power$minute <- minute(power$datetime)\n",
    "#power$datetime <- NULL\n",
    "\n",
    "head(power)"
   ]
  },
  {
   "cell_type": "code",
   "execution_count": 11,
   "metadata": {},
   "outputs": [
    {
     "data": {
      "image/png": "[encoded data removed]",
      "text/plain": [
       "Plot with title “Voltage by day of the week”"
      ]
     },
     "metadata": {},
     "output_type": "display_data"
    }
   ],
   "source": [
    "options(repr.plot.width = 8, repr.plot.height = 8)\n",
    "par(mfrow=c(3,2))\n",
    "plot(power$Voltage ~ factor(power$year),main=\"Voltage by year\", xlab=\"year\",ylab=\"Voltage\")\n",
    "plot(power$Voltage ~ factor(power$mont),main=\"Voltage by month\", xlab=\"month\",ylab=\"Voltage\")\n",
    "plot(power$Voltage ~ factor(power$day) ,main=\"Voltage by day of the month\", xlab=\"day\",ylab=\"Voltage\")\n",
    "plot(power$Voltage ~ factor(power$wday),main=\"Voltage by day of the week\", xlab=\"week day\",ylab=\"Voltage\")\n",
    "plot(power$Voltage ~ factor(power$hour),main=\"Voltage by day of the week\", xlab=\"hour\",ylab=\"Voltage\")\n",
    "plot(power$Voltage ~ factor(power$minute),main=\"Voltage by day of the week\", xlab=\"minute\",ylab=\"Voltage\")\n",
    "par(mfrow=c(1,1))\n"
   ]
  },
  {
   "cell_type": "code",
   "execution_count": 12,
   "metadata": {},
   "outputs": [
    {
     "name": "stderr",
     "output_type": "stream",
     "text": [
      "Loading required package: xts\n",
      "Loading required package: zoo\n",
      "\n",
      "Attaching package: ‘zoo’\n",
      "\n",
      "The following objects are masked from ‘package:base’:\n",
      "\n",
      "    as.Date, as.Date.numeric\n",
      "\n",
      "\n",
      "Attaching package: ‘xts’\n",
      "\n",
      "The following objects are masked from ‘package:dplyr’:\n",
      "\n",
      "    first, last\n",
      "\n",
      "The following objects are masked from ‘package:data.table’:\n",
      "\n",
      "    first, last\n",
      "\n"
     ]
    }
   ],
   "source": [
    "if (!require(xts)){install.packages(\"xts\");require(xts)}"
   ]
  },
  {
   "cell_type": "code",
   "execution_count": 49,
   "metadata": {},
   "outputs": [
    {
     "data": {
      "text/plain": [
       "                      [,1]\n",
       "2006-12-16 17:24:00 234.84\n",
       "2006-12-16 17:25:00 233.63\n",
       "2006-12-16 17:26:00 233.29\n",
       "2006-12-16 17:27:00 233.74\n",
       "2006-12-16 17:28:00 235.68\n",
       "2006-12-16 17:29:00 235.02"
      ]
     },
     "metadata": {},
     "output_type": "display_data"
    }
   ],
   "source": [
    "# transform the data to time-series...\n",
    "power.ts <- xts(power$Voltage,order.by = power$datetime)\n",
    "head(power.ts)"
   ]
  },
  {
   "cell_type": "code",
   "execution_count": 14,
   "metadata": {},
   "outputs": [
    {
     "data": {},
     "metadata": {},
     "output_type": "display_data"
    },
    {
     "data": {
      "image/png": "[encoded data removed]",
      "text/plain": [
       "plot without title"
      ]
     },
     "metadata": {},
     "output_type": "display_data"
    }
   ],
   "source": [
    "options(repr.plot.width = 4, repr.plot.height = 4)\n",
    "plot(power.ts)"
   ]
  },
  {
   "cell_type": "markdown",
   "metadata": {},
   "source": [
    "Lets also analyze the missingness as a time series"
   ]
  },
  {
   "cell_type": "code",
   "execution_count": 15,
   "metadata": {},
   "outputs": [
    {
     "data": {
      "text/plain": [
       "                    [,1]\n",
       "2006-12-16 17:24:00    0\n",
       "2006-12-16 17:25:00    0\n",
       "2006-12-16 17:26:00    0\n",
       "2006-12-16 17:27:00    0\n",
       "2006-12-16 17:28:00    0\n",
       "2006-12-16 17:29:00    0"
      ]
     },
     "metadata": {},
     "output_type": "display_data"
    },
    {
     "data": {},
     "metadata": {},
     "output_type": "display_data"
    },
    {
     "data": {
      "image/png": "[encoded data removed]",
      "text/plain": [
       "plot without title"
      ]
     },
     "metadata": {},
     "output_type": "display_data"
    }
   ],
   "source": [
    "power.ts <- xts(ifelse(is.na(power$Voltage)==T,1,0),order.by = power$datetime)\n",
    "head(power.ts)\n",
    "plot(power.ts)"
   ]
  },
  {
   "cell_type": "markdown",
   "metadata": {},
   "source": [
    "We can see that there is some seasonality on the energy consumption, but we can't say the same for the missingness. As we will not analyze this dataset as a time-series problem. we will obviate the missing dates.\n",
    " \n",
    "Now let's try out our first model. We have to check if it's ok to run linear regression on our dataset. If y (voltage) follows a normal distribution we are safe."
   ]
  },
  {
   "cell_type": "code",
   "execution_count": 16,
   "metadata": {},
   "outputs": [
    {
     "data": {
      "image/png": "[encoded data removed]",
      "text/plain": [
       "Plot with title “Histogram of power$Voltage”"
      ]
     },
     "metadata": {},
     "output_type": "display_data"
    }
   ],
   "source": [
    "options(repr.plot.width = 3, repr.plot.height = 3)\n",
    "hist(power$Voltage)"
   ]
  },
  {
   "cell_type": "markdown",
   "metadata": {},
   "source": [
    "We can assume normality of y, so we can tray to get a model from the available data..."
   ]
  },
  {
   "cell_type": "code",
   "execution_count": 17,
   "metadata": {},
   "outputs": [
    {
     "data": {
      "text/plain": [
       "\n",
       "Call:\n",
       "lm(formula = Voltage ~ ., data = power[, ..vn])\n",
       "\n",
       "Residuals:\n",
       "    Min      1Q  Median      3Q     Max \n",
       "-16.918  -1.586   0.033   1.688  22.470 \n",
       "\n",
       "Coefficients:\n",
       "                        Estimate Std. Error  t value Pr(>|t|)    \n",
       "(Intercept)            2.422e+02  3.451e-03 70163.34   <2e-16 ***\n",
       "Global_active_power    2.127e+01  4.598e-02   462.54   <2e-16 ***\n",
       "Global_reactive_power  3.625e+00  1.990e-02   182.20   <2e-16 ***\n",
       "Global_intensity      -5.336e+00  1.091e-02  -488.88   <2e-16 ***\n",
       "Sub_metering_1         1.045e-02  4.047e-04    25.82   <2e-16 ***\n",
       "Sub_metering_2         1.767e-02  4.124e-04    42.83   <2e-16 ***\n",
       "Sub_metering_3        -4.973e-02  3.523e-04  -141.16   <2e-16 ***\n",
       "---\n",
       "Signif. codes:  0 ‘***’ 0.001 ‘**’ 0.01 ‘*’ 0.05 ‘.’ 0.1 ‘ ’ 1\n",
       "\n",
       "Residual standard error: 2.809 on 2049273 degrees of freedom\n",
       "  (25979 observations deleted due to missingness)\n",
       "Multiple R-squared:  0.2481,\tAdjusted R-squared:  0.2481 \n",
       "F-statistic: 1.127e+05 on 6 and 2049273 DF,  p-value: < 2.2e-16\n"
      ]
     },
     "metadata": {},
     "output_type": "display_data"
    }
   ],
   "source": [
    "vn <- c(\"Voltage\",\"Global_active_power\",\"Global_reactive_power\",\"Global_intensity\",\"Sub_metering_1\",\"Sub_metering_2\",\"Sub_metering_3\")\n",
    "#head(power[,..vn])\n",
    "mod <- lm(Voltage ~., data=power[,..vn])\n",
    "summary(mod)"
   ]
  },
  {
   "cell_type": "code",
   "execution_count": 18,
   "metadata": {},
   "outputs": [],
   "source": [
    "pred <- predict(mod, newdata=power)"
   ]
  },
  {
   "cell_type": "markdown",
   "metadata": {},
   "source": [
    "Lets include the date-time derived variables to the model"
   ]
  },
  {
   "cell_type": "code",
   "execution_count": 19,
   "metadata": {},
   "outputs": [
    {
     "data": {
      "text/plain": [
       "\n",
       "Call:\n",
       "lm(formula = Voltage ~ ., data = power[, ..vn])\n",
       "\n",
       "Residuals:\n",
       "     Min       1Q   Median       3Q      Max \n",
       "-17.2247  -1.6071  -0.0164   1.6360  20.6007 \n",
       "\n",
       "Coefficients:\n",
       "                        Estimate Std. Error  t value Pr(>|t|)    \n",
       "(Intercept)           -1.044e+03  3.446e+00 -302.817  < 2e-16 ***\n",
       "Global_active_power    1.994e+01  4.453e-02  447.768  < 2e-16 ***\n",
       "Global_reactive_power  3.026e+00  1.932e-02  156.625  < 2e-16 ***\n",
       "Global_intensity      -4.957e+00  1.057e-02 -468.944  < 2e-16 ***\n",
       "Sub_metering_1        -2.023e-03  3.918e-04   -5.163 2.43e-07 ***\n",
       "Sub_metering_2         7.981e-03  3.990e-04   20.002  < 2e-16 ***\n",
       "Sub_metering_3        -6.745e-02  3.442e-04 -195.944  < 2e-16 ***\n",
       "year                   6.404e-01  1.716e-03  373.212  < 2e-16 ***\n",
       "month                 -4.418e-03  5.554e-04   -7.955 1.79e-15 ***\n",
       "day                    9.961e-03  2.149e-04   46.356  < 2e-16 ***\n",
       "wday                  -3.302e-02  9.490e-04  -34.792  < 2e-16 ***\n",
       "hour                  -3.971e-02  2.880e-04 -137.910  < 2e-16 ***\n",
       "minute                 1.857e-03  1.091e-04   17.023  < 2e-16 ***\n",
       "---\n",
       "Signif. codes:  0 ‘***’ 0.001 ‘**’ 0.01 ‘*’ 0.05 ‘.’ 0.1 ‘ ’ 1\n",
       "\n",
       "Residual standard error: 2.705 on 2049267 degrees of freedom\n",
       "  (25979 observations deleted due to missingness)\n",
       "Multiple R-squared:  0.3029,\tAdjusted R-squared:  0.3029 \n",
       "F-statistic: 7.422e+04 on 12 and 2049267 DF,  p-value: < 2.2e-16\n"
      ]
     },
     "metadata": {},
     "output_type": "display_data"
    }
   ],
   "source": [
    "## hour is not included as it is constant\n",
    "vn <- c(\"Voltage\",\"Global_active_power\",\"Global_reactive_power\",\"Global_intensity\",\"Sub_metering_1\",\"Sub_metering_2\",\"Sub_metering_3\",\n",
    "       \"year\",\"month\",\"day\",\"wday\",\"hour\",\"minute\")\n",
    "#head(power[,..vn])\n",
    "mod <- lm(Voltage ~., data=power[,..vn])\n",
    "summary(mod)"
   ]
  },
  {
   "cell_type": "markdown",
   "metadata": {},
   "source": [
    "As we see, all the variables are significant. The R-square was improved from 0.2481 to 0.3029 with our new variables"
   ]
  },
  {
   "cell_type": "code",
   "execution_count": 21,
   "metadata": {},
   "outputs": [
    {
     "data": {
      "image/png": "[encoded data removed]",
      "text/plain": [
       "plot without title"
      ]
     },
     "metadata": {},
     "output_type": "display_data"
    }
   ],
   "source": [
    "pred <- predict(mod, newdata=power)\n",
    "plot(pred ~ power$Voltage)"
   ]
  },
  {
   "cell_type": "markdown",
   "metadata": {},
   "source": [
    "## Searching the internet for additional information that could help us to add important features\n",
    " \n",
    "1. Climate: search google - https://www.google.com/search?q=Sceaux+historical+climate+information&oq=Sceaux+historical+climate+information\n",
    " \n",
    "  1.1 - Seasons in Paris (https://www.parisperfect.com/plan-your-trip/practical-information/weather-in-paris.php)\n",
    " \n",
    "  1.2 - We can find a synoptic table for average climate measures by month (https://en.climate-data.org/europe/france/ile-de-france/sceaux-7899/)\n",
    " \n",
    "  1.3 - World bank climate information portal (http://sdwebx.worldbank.org/climateportal/index.cfm?page=country_historical_climate&ThisCCode=FRA)\n",
    "\n"
   ]
  },
  {
   "cell_type": "markdown",
   "metadata": {},
   "source": [
    "#### Seasons in Paris:\n",
    "\n",
    " \n",
    " - Winter: January - February\n",
    " \n",
    " - Spring: March - May\n",
    " \n",
    " - Summer: June - August\n",
    " \n",
    " - Autumn: September - December\n",
    " "
   ]
  },
  {
   "cell_type": "code",
   "execution_count": 20,
   "metadata": {},
   "outputs": [
    {
     "data": {
      "text/html": [
       "<table>\n",
       "<thead><tr><th scope=col>Date</th><th scope=col>Time</th><th scope=col>Global_active_power</th><th scope=col>Global_reactive_power</th><th scope=col>Voltage</th><th scope=col>Global_intensity</th><th scope=col>Sub_metering_1</th><th scope=col>Sub_metering_2</th><th scope=col>Sub_metering_3</th><th scope=col>datetime</th><th scope=col>year</th><th scope=col>month</th><th scope=col>day</th><th scope=col>wday</th><th scope=col>hour</th><th scope=col>minute</th><th scope=col>season</th></tr></thead>\n",
       "<tbody>\n",
       "\t<tr><td>16/12/2006         </td><td>17:24:00           </td><td>4.216              </td><td>0.418              </td><td>234.84             </td><td>18.4               </td><td>0                  </td><td>1                  </td><td>17                 </td><td>2006-12-16 17:24:00</td><td>2006               </td><td>12                 </td><td>16                 </td><td>7                  </td><td>17                 </td><td>24                 </td><td>Winter             </td></tr>\n",
       "\t<tr><td>16/12/2006         </td><td>17:25:00           </td><td>5.360              </td><td>0.436              </td><td>233.63             </td><td>23.0               </td><td>0                  </td><td>1                  </td><td>16                 </td><td>2006-12-16 17:25:00</td><td>2006               </td><td>12                 </td><td>16                 </td><td>7                  </td><td>17                 </td><td>25                 </td><td>Winter             </td></tr>\n",
       "\t<tr><td>16/12/2006         </td><td>17:26:00           </td><td>5.374              </td><td>0.498              </td><td>233.29             </td><td>23.0               </td><td>0                  </td><td>2                  </td><td>17                 </td><td>2006-12-16 17:26:00</td><td>2006               </td><td>12                 </td><td>16                 </td><td>7                  </td><td>17                 </td><td>26                 </td><td>Winter             </td></tr>\n",
       "\t<tr><td>16/12/2006         </td><td>17:27:00           </td><td>5.388              </td><td>0.502              </td><td>233.74             </td><td>23.0               </td><td>0                  </td><td>1                  </td><td>17                 </td><td>2006-12-16 17:27:00</td><td>2006               </td><td>12                 </td><td>16                 </td><td>7                  </td><td>17                 </td><td>27                 </td><td>Winter             </td></tr>\n",
       "\t<tr><td>16/12/2006         </td><td>17:28:00           </td><td>3.666              </td><td>0.528              </td><td>235.68             </td><td>15.8               </td><td>0                  </td><td>1                  </td><td>17                 </td><td>2006-12-16 17:28:00</td><td>2006               </td><td>12                 </td><td>16                 </td><td>7                  </td><td>17                 </td><td>28                 </td><td>Winter             </td></tr>\n",
       "\t<tr><td>16/12/2006         </td><td>17:29:00           </td><td>3.520              </td><td>0.522              </td><td>235.02             </td><td>15.0               </td><td>0                  </td><td>2                  </td><td>17                 </td><td>2006-12-16 17:29:00</td><td>2006               </td><td>12                 </td><td>16                 </td><td>7                  </td><td>17                 </td><td>29                 </td><td>Winter             </td></tr>\n",
       "</tbody>\n",
       "</table>\n"
      ],
      "text/latex": [
       "\\begin{tabular}{r|lllllllllllllllll}\n",
       " Date & Time & Global\\_active\\_power & Global\\_reactive\\_power & Voltage & Global\\_intensity & Sub\\_metering\\_1 & Sub\\_metering\\_2 & Sub\\_metering\\_3 & datetime & year & month & day & wday & hour & minute & season\\\\\n",
       "\\hline\n",
       "\t 16/12/2006          & 17:24:00            & 4.216               & 0.418               & 234.84              & 18.4                & 0                   & 1                   & 17                  & 2006-12-16 17:24:00 & 2006                & 12                  & 16                  & 7                   & 17                  & 24                  & Winter             \\\\\n",
       "\t 16/12/2006          & 17:25:00            & 5.360               & 0.436               & 233.63              & 23.0                & 0                   & 1                   & 16                  & 2006-12-16 17:25:00 & 2006                & 12                  & 16                  & 7                   & 17                  & 25                  & Winter             \\\\\n",
       "\t 16/12/2006          & 17:26:00            & 5.374               & 0.498               & 233.29              & 23.0                & 0                   & 2                   & 17                  & 2006-12-16 17:26:00 & 2006                & 12                  & 16                  & 7                   & 17                  & 26                  & Winter             \\\\\n",
       "\t 16/12/2006          & 17:27:00            & 5.388               & 0.502               & 233.74              & 23.0                & 0                   & 1                   & 17                  & 2006-12-16 17:27:00 & 2006                & 12                  & 16                  & 7                   & 17                  & 27                  & Winter             \\\\\n",
       "\t 16/12/2006          & 17:28:00            & 3.666               & 0.528               & 235.68              & 15.8                & 0                   & 1                   & 17                  & 2006-12-16 17:28:00 & 2006                & 12                  & 16                  & 7                   & 17                  & 28                  & Winter             \\\\\n",
       "\t 16/12/2006          & 17:29:00            & 3.520               & 0.522               & 235.02              & 15.0                & 0                   & 2                   & 17                  & 2006-12-16 17:29:00 & 2006                & 12                  & 16                  & 7                   & 17                  & 29                  & Winter             \\\\\n",
       "\\end{tabular}\n"
      ],
      "text/markdown": [
       "\n",
       "Date | Time | Global_active_power | Global_reactive_power | Voltage | Global_intensity | Sub_metering_1 | Sub_metering_2 | Sub_metering_3 | datetime | year | month | day | wday | hour | minute | season | \n",
       "|---|---|---|---|---|---|\n",
       "| 16/12/2006          | 17:24:00            | 4.216               | 0.418               | 234.84              | 18.4                | 0                   | 1                   | 17                  | 2006-12-16 17:24:00 | 2006                | 12                  | 16                  | 7                   | 17                  | 24                  | Winter              | \n",
       "| 16/12/2006          | 17:25:00            | 5.360               | 0.436               | 233.63              | 23.0                | 0                   | 1                   | 16                  | 2006-12-16 17:25:00 | 2006                | 12                  | 16                  | 7                   | 17                  | 25                  | Winter              | \n",
       "| 16/12/2006          | 17:26:00            | 5.374               | 0.498               | 233.29              | 23.0                | 0                   | 2                   | 17                  | 2006-12-16 17:26:00 | 2006                | 12                  | 16                  | 7                   | 17                  | 26                  | Winter              | \n",
       "| 16/12/2006          | 17:27:00            | 5.388               | 0.502               | 233.74              | 23.0                | 0                   | 1                   | 17                  | 2006-12-16 17:27:00 | 2006                | 12                  | 16                  | 7                   | 17                  | 27                  | Winter              | \n",
       "| 16/12/2006          | 17:28:00            | 3.666               | 0.528               | 235.68              | 15.8                | 0                   | 1                   | 17                  | 2006-12-16 17:28:00 | 2006                | 12                  | 16                  | 7                   | 17                  | 28                  | Winter              | \n",
       "| 16/12/2006          | 17:29:00            | 3.520               | 0.522               | 235.02              | 15.0                | 0                   | 2                   | 17                  | 2006-12-16 17:29:00 | 2006                | 12                  | 16                  | 7                   | 17                  | 29                  | Winter              | \n",
       "\n",
       "\n"
      ],
      "text/plain": [
       "  Date       Time     Global_active_power Global_reactive_power Voltage\n",
       "1 16/12/2006 17:24:00 4.216               0.418                 234.84 \n",
       "2 16/12/2006 17:25:00 5.360               0.436                 233.63 \n",
       "3 16/12/2006 17:26:00 5.374               0.498                 233.29 \n",
       "4 16/12/2006 17:27:00 5.388               0.502                 233.74 \n",
       "5 16/12/2006 17:28:00 3.666               0.528                 235.68 \n",
       "6 16/12/2006 17:29:00 3.520               0.522                 235.02 \n",
       "  Global_intensity Sub_metering_1 Sub_metering_2 Sub_metering_3\n",
       "1 18.4             0              1              17            \n",
       "2 23.0             0              1              16            \n",
       "3 23.0             0              2              17            \n",
       "4 23.0             0              1              17            \n",
       "5 15.8             0              1              17            \n",
       "6 15.0             0              2              17            \n",
       "  datetime            year month day wday hour minute season\n",
       "1 2006-12-16 17:24:00 2006 12    16  7    17   24     Winter\n",
       "2 2006-12-16 17:25:00 2006 12    16  7    17   25     Winter\n",
       "3 2006-12-16 17:26:00 2006 12    16  7    17   26     Winter\n",
       "4 2006-12-16 17:27:00 2006 12    16  7    17   27     Winter\n",
       "5 2006-12-16 17:28:00 2006 12    16  7    17   28     Winter\n",
       "6 2006-12-16 17:29:00 2006 12    16  7    17   29     Winter"
      ]
     },
     "metadata": {},
     "output_type": "display_data"
    }
   ],
   "source": [
    "power$season <- factor(ifelse(power$month < 3, 1,\n",
    "                       ifelse(power$month < 6, 2,\n",
    "                       ifelse(power$month < 9, 3, 4))), levels=c(2,1,3,4), labels=c(\"Spring\",\"Summer\",\"Autum\",\"Winter\"))\n",
    "\n",
    "head(power)\n"
   ]
  },
  {
   "cell_type": "markdown",
   "metadata": {},
   "source": [
    "We will check if the added variable (season) improves somehow the model"
   ]
  },
  {
   "cell_type": "code",
   "execution_count": 21,
   "metadata": {},
   "outputs": [
    {
     "data": {
      "text/plain": [
       "\n",
       "Call:\n",
       "lm(formula = Voltage ~ ., data = power[, ..vn])\n",
       "\n",
       "Residuals:\n",
       "     Min       1Q   Median       3Q      Max \n",
       "-17.0898  -1.5518   0.0616   1.6465  18.5694 \n",
       "\n",
       "Coefficients:\n",
       "                        Estimate Std. Error  t value Pr(>|t|)    \n",
       "(Intercept)           -1.100e+03  3.294e+00 -334.089   <2e-16 ***\n",
       "Global_active_power    1.648e+01  4.318e-02  381.523   <2e-16 ***\n",
       "Global_reactive_power  3.869e+00  1.851e-02  208.963   <2e-16 ***\n",
       "Global_intensity      -4.243e+00  1.021e-02 -415.540   <2e-16 ***\n",
       "Sub_metering_1         2.297e-02  3.776e-04   60.841   <2e-16 ***\n",
       "Sub_metering_2         3.008e-02  3.835e-04   78.449   <2e-16 ***\n",
       "Sub_metering_3        -4.282e-02  3.326e-04 -128.746   <2e-16 ***\n",
       "year                   6.682e-01  1.640e-03  407.520   <2e-16 ***\n",
       "month                  1.483e-01  2.057e-03   72.095   <2e-16 ***\n",
       "day                    1.116e-02  2.048e-04   54.475   <2e-16 ***\n",
       "wday                  -3.736e-02  9.046e-04  -41.295   <2e-16 ***\n",
       "hour                  -2.929e-02  2.755e-04 -106.314   <2e-16 ***\n",
       "minute                 1.964e-03  1.040e-04   18.882   <2e-16 ***\n",
       "seasonSummer           1.990e+00  7.794e-03  255.378   <2e-16 ***\n",
       "seasonAutum           -1.261e+00  8.100e-03 -155.707   <2e-16 ***\n",
       "seasonWinter          -1.470e-02  1.407e-02   -1.045    0.296    \n",
       "---\n",
       "Signif. codes:  0 ‘***’ 0.001 ‘**’ 0.01 ‘*’ 0.05 ‘.’ 0.1 ‘ ’ 1\n",
       "\n",
       "Residual standard error: 2.578 on 2049264 degrees of freedom\n",
       "  (25979 observations deleted due to missingness)\n",
       "Multiple R-squared:  0.3668,\tAdjusted R-squared:  0.3668 \n",
       "F-statistic: 7.913e+04 on 15 and 2049264 DF,  p-value: < 2.2e-16\n"
      ]
     },
     "metadata": {},
     "output_type": "display_data"
    }
   ],
   "source": [
    "\n",
    "vn <- c(\"Voltage\",\"Global_active_power\",\"Global_reactive_power\",\"Global_intensity\",\"Sub_metering_1\",\"Sub_metering_2\",\"Sub_metering_3\",\n",
    "       \"year\",\"month\",\"day\",\"wday\",\"hour\",\"minute\",\"season\")\n",
    "\n",
    "mod <- lm(Voltage ~., data=power[,..vn])\n",
    "summary(mod)"
   ]
  },
  {
   "cell_type": "code",
   "execution_count": 24,
   "metadata": {},
   "outputs": [
    {
     "data": {
      "image/png": "[encoded data removed]",
      "text/plain": [
       "plot without title"
      ]
     },
     "metadata": {},
     "output_type": "display_data"
    }
   ],
   "source": [
    "pred <- predict(mod, newdata=power)\n",
    "plot(pred ~ power$Voltage)"
   ]
  },
  {
   "cell_type": "markdown",
   "metadata": {},
   "source": [
    "Only by adding a unique variable (season) we improved the R-square from 0.3029 to 0.3668 !\n",
    "\n",
    "Let's try another one: a feature indicating if there is day or night!"
   ]
  },
  {
   "cell_type": "code",
   "execution_count": 22,
   "metadata": {},
   "outputs": [
    {
     "data": {
      "text/plain": [
       "\n",
       "    Day   Night \n",
       "1210596  864663 "
      ]
     },
     "metadata": {},
     "output_type": "display_data"
    },
    {
     "data": {
      "text/html": [
       "<table>\n",
       "<thead><tr><th scope=col>Date</th><th scope=col>Time</th><th scope=col>Global_active_power</th><th scope=col>Global_reactive_power</th><th scope=col>Voltage</th><th scope=col>Global_intensity</th><th scope=col>Sub_metering_1</th><th scope=col>Sub_metering_2</th><th scope=col>Sub_metering_3</th><th scope=col>datetime</th><th scope=col>year</th><th scope=col>month</th><th scope=col>day</th><th scope=col>wday</th><th scope=col>hour</th><th scope=col>minute</th><th scope=col>season</th><th scope=col>night</th></tr></thead>\n",
       "<tbody>\n",
       "\t<tr><td>16/12/2006         </td><td>17:24:00           </td><td>4.216              </td><td>0.418              </td><td>234.84             </td><td>18.4               </td><td>0                  </td><td>1                  </td><td>17                 </td><td>2006-12-16 17:24:00</td><td>2006               </td><td>12                 </td><td>16                 </td><td>7                  </td><td>17                 </td><td>24                 </td><td>Winter             </td><td>Day                </td></tr>\n",
       "\t<tr><td>16/12/2006         </td><td>17:25:00           </td><td>5.360              </td><td>0.436              </td><td>233.63             </td><td>23.0               </td><td>0                  </td><td>1                  </td><td>16                 </td><td>2006-12-16 17:25:00</td><td>2006               </td><td>12                 </td><td>16                 </td><td>7                  </td><td>17                 </td><td>25                 </td><td>Winter             </td><td>Day                </td></tr>\n",
       "\t<tr><td>16/12/2006         </td><td>17:26:00           </td><td>5.374              </td><td>0.498              </td><td>233.29             </td><td>23.0               </td><td>0                  </td><td>2                  </td><td>17                 </td><td>2006-12-16 17:26:00</td><td>2006               </td><td>12                 </td><td>16                 </td><td>7                  </td><td>17                 </td><td>26                 </td><td>Winter             </td><td>Day                </td></tr>\n",
       "\t<tr><td>16/12/2006         </td><td>17:27:00           </td><td>5.388              </td><td>0.502              </td><td>233.74             </td><td>23.0               </td><td>0                  </td><td>1                  </td><td>17                 </td><td>2006-12-16 17:27:00</td><td>2006               </td><td>12                 </td><td>16                 </td><td>7                  </td><td>17                 </td><td>27                 </td><td>Winter             </td><td>Day                </td></tr>\n",
       "\t<tr><td>16/12/2006         </td><td>17:28:00           </td><td>3.666              </td><td>0.528              </td><td>235.68             </td><td>15.8               </td><td>0                  </td><td>1                  </td><td>17                 </td><td>2006-12-16 17:28:00</td><td>2006               </td><td>12                 </td><td>16                 </td><td>7                  </td><td>17                 </td><td>28                 </td><td>Winter             </td><td>Day                </td></tr>\n",
       "\t<tr><td>16/12/2006         </td><td>17:29:00           </td><td>3.520              </td><td>0.522              </td><td>235.02             </td><td>15.0               </td><td>0                  </td><td>2                  </td><td>17                 </td><td>2006-12-16 17:29:00</td><td>2006               </td><td>12                 </td><td>16                 </td><td>7                  </td><td>17                 </td><td>29                 </td><td>Winter             </td><td>Day                </td></tr>\n",
       "</tbody>\n",
       "</table>\n"
      ],
      "text/latex": [
       "\\begin{tabular}{r|llllllllllllllllll}\n",
       " Date & Time & Global\\_active\\_power & Global\\_reactive\\_power & Voltage & Global\\_intensity & Sub\\_metering\\_1 & Sub\\_metering\\_2 & Sub\\_metering\\_3 & datetime & year & month & day & wday & hour & minute & season & night\\\\\n",
       "\\hline\n",
       "\t 16/12/2006          & 17:24:00            & 4.216               & 0.418               & 234.84              & 18.4                & 0                   & 1                   & 17                  & 2006-12-16 17:24:00 & 2006                & 12                  & 16                  & 7                   & 17                  & 24                  & Winter              & Day                \\\\\n",
       "\t 16/12/2006          & 17:25:00            & 5.360               & 0.436               & 233.63              & 23.0                & 0                   & 1                   & 16                  & 2006-12-16 17:25:00 & 2006                & 12                  & 16                  & 7                   & 17                  & 25                  & Winter              & Day                \\\\\n",
       "\t 16/12/2006          & 17:26:00            & 5.374               & 0.498               & 233.29              & 23.0                & 0                   & 2                   & 17                  & 2006-12-16 17:26:00 & 2006                & 12                  & 16                  & 7                   & 17                  & 26                  & Winter              & Day                \\\\\n",
       "\t 16/12/2006          & 17:27:00            & 5.388               & 0.502               & 233.74              & 23.0                & 0                   & 1                   & 17                  & 2006-12-16 17:27:00 & 2006                & 12                  & 16                  & 7                   & 17                  & 27                  & Winter              & Day                \\\\\n",
       "\t 16/12/2006          & 17:28:00            & 3.666               & 0.528               & 235.68              & 15.8                & 0                   & 1                   & 17                  & 2006-12-16 17:28:00 & 2006                & 12                  & 16                  & 7                   & 17                  & 28                  & Winter              & Day                \\\\\n",
       "\t 16/12/2006          & 17:29:00            & 3.520               & 0.522               & 235.02              & 15.0                & 0                   & 2                   & 17                  & 2006-12-16 17:29:00 & 2006                & 12                  & 16                  & 7                   & 17                  & 29                  & Winter              & Day                \\\\\n",
       "\\end{tabular}\n"
      ],
      "text/markdown": [
       "\n",
       "Date | Time | Global_active_power | Global_reactive_power | Voltage | Global_intensity | Sub_metering_1 | Sub_metering_2 | Sub_metering_3 | datetime | year | month | day | wday | hour | minute | season | night | \n",
       "|---|---|---|---|---|---|\n",
       "| 16/12/2006          | 17:24:00            | 4.216               | 0.418               | 234.84              | 18.4                | 0                   | 1                   | 17                  | 2006-12-16 17:24:00 | 2006                | 12                  | 16                  | 7                   | 17                  | 24                  | Winter              | Day                 | \n",
       "| 16/12/2006          | 17:25:00            | 5.360               | 0.436               | 233.63              | 23.0                | 0                   | 1                   | 16                  | 2006-12-16 17:25:00 | 2006                | 12                  | 16                  | 7                   | 17                  | 25                  | Winter              | Day                 | \n",
       "| 16/12/2006          | 17:26:00            | 5.374               | 0.498               | 233.29              | 23.0                | 0                   | 2                   | 17                  | 2006-12-16 17:26:00 | 2006                | 12                  | 16                  | 7                   | 17                  | 26                  | Winter              | Day                 | \n",
       "| 16/12/2006          | 17:27:00            | 5.388               | 0.502               | 233.74              | 23.0                | 0                   | 1                   | 17                  | 2006-12-16 17:27:00 | 2006                | 12                  | 16                  | 7                   | 17                  | 27                  | Winter              | Day                 | \n",
       "| 16/12/2006          | 17:28:00            | 3.666               | 0.528               | 235.68              | 15.8                | 0                   | 1                   | 17                  | 2006-12-16 17:28:00 | 2006                | 12                  | 16                  | 7                   | 17                  | 28                  | Winter              | Day                 | \n",
       "| 16/12/2006          | 17:29:00            | 3.520               | 0.522               | 235.02              | 15.0                | 0                   | 2                   | 17                  | 2006-12-16 17:29:00 | 2006                | 12                  | 16                  | 7                   | 17                  | 29                  | Winter              | Day                 | \n",
       "\n",
       "\n"
      ],
      "text/plain": [
       "  Date       Time     Global_active_power Global_reactive_power Voltage\n",
       "1 16/12/2006 17:24:00 4.216               0.418                 234.84 \n",
       "2 16/12/2006 17:25:00 5.360               0.436                 233.63 \n",
       "3 16/12/2006 17:26:00 5.374               0.498                 233.29 \n",
       "4 16/12/2006 17:27:00 5.388               0.502                 233.74 \n",
       "5 16/12/2006 17:28:00 3.666               0.528                 235.68 \n",
       "6 16/12/2006 17:29:00 3.520               0.522                 235.02 \n",
       "  Global_intensity Sub_metering_1 Sub_metering_2 Sub_metering_3\n",
       "1 18.4             0              1              17            \n",
       "2 23.0             0              1              16            \n",
       "3 23.0             0              2              17            \n",
       "4 23.0             0              1              17            \n",
       "5 15.8             0              1              17            \n",
       "6 15.0             0              2              17            \n",
       "  datetime            year month day wday hour minute season night\n",
       "1 2006-12-16 17:24:00 2006 12    16  7    17   24     Winter Day  \n",
       "2 2006-12-16 17:25:00 2006 12    16  7    17   25     Winter Day  \n",
       "3 2006-12-16 17:26:00 2006 12    16  7    17   26     Winter Day  \n",
       "4 2006-12-16 17:27:00 2006 12    16  7    17   27     Winter Day  \n",
       "5 2006-12-16 17:28:00 2006 12    16  7    17   28     Winter Day  \n",
       "6 2006-12-16 17:29:00 2006 12    16  7    17   29     Winter Day  "
      ]
     },
     "metadata": {},
     "output_type": "display_data"
    }
   ],
   "source": [
    "power$night <- factor(ifelse(power$hour < 6 | power$hour > 19, 1, 0),levels=c(0,1),labels=c(\"Day\",\"Night\"))\n",
    "table(power$night)\n",
    "head(power)"
   ]
  },
  {
   "cell_type": "code",
   "execution_count": 23,
   "metadata": {},
   "outputs": [
    {
     "data": {
      "text/plain": [
       "\n",
       "Call:\n",
       "lm(formula = Voltage ~ ., data = power[, ..vn])\n",
       "\n",
       "Residuals:\n",
       "     Min       1Q   Median       3Q      Max \n",
       "-16.6982  -1.5390   0.0657   1.6308  18.4055 \n",
       "\n",
       "Coefficients:\n",
       "                        Estimate Std. Error  t value Pr(>|t|)    \n",
       "(Intercept)           -1.088e+03  3.261e+00 -333.694   <2e-16 ***\n",
       "Global_active_power    1.564e+01  4.295e-02  364.198   <2e-16 ***\n",
       "Global_reactive_power  3.860e+00  1.833e-02  210.572   <2e-16 ***\n",
       "Global_intensity      -4.066e+00  1.015e-02 -400.751   <2e-16 ***\n",
       "Sub_metering_1         2.694e-02  3.743e-04   71.974   <2e-16 ***\n",
       "Sub_metering_2         3.775e-02  3.815e-04   98.951   <2e-16 ***\n",
       "Sub_metering_3        -2.433e-02  3.415e-04  -71.230   <2e-16 ***\n",
       "year                   6.619e-01  1.623e-03  407.700   <2e-16 ***\n",
       "month                  1.523e-01  2.036e-03   74.802   <2e-16 ***\n",
       "day                    1.121e-02  2.028e-04   55.293   <2e-16 ***\n",
       "wday                  -4.011e-02  8.956e-04  -44.779   <2e-16 ***\n",
       "hour                  -1.944e-02  2.769e-04  -70.189   <2e-16 ***\n",
       "minute                 1.992e-03  1.030e-04   19.345   <2e-16 ***\n",
       "seasonSummer           2.016e+00  7.717e-03  261.236   <2e-16 ***\n",
       "seasonAutum           -1.280e+00  8.019e-03 -159.562   <2e-16 ***\n",
       "seasonWinter          -3.118e-02  1.393e-02   -2.238   0.0252 *  \n",
       "nightNight             7.832e-01  3.834e-03  204.309   <2e-16 ***\n",
       "---\n",
       "Signif. codes:  0 ‘***’ 0.001 ‘**’ 0.01 ‘*’ 0.05 ‘.’ 0.1 ‘ ’ 1\n",
       "\n",
       "Residual standard error: 2.552 on 2049263 degrees of freedom\n",
       "  (25979 observations deleted due to missingness)\n",
       "Multiple R-squared:  0.3794,\tAdjusted R-squared:  0.3794 \n",
       "F-statistic: 7.83e+04 on 16 and 2049263 DF,  p-value: < 2.2e-16\n"
      ]
     },
     "metadata": {},
     "output_type": "display_data"
    }
   ],
   "source": [
    "vn <- c(\"Voltage\",\"Global_active_power\",\"Global_reactive_power\",\"Global_intensity\",\"Sub_metering_1\",\"Sub_metering_2\",\"Sub_metering_3\",\n",
    "       \"year\",\"month\",\"day\",\"wday\",\"hour\",\"minute\",\"season\",\"night\")\n",
    "\n",
    "mod <- lm(Voltage ~., data=power[,..vn])\n",
    "summary(mod)"
   ]
  },
  {
   "cell_type": "code",
   "execution_count": 28,
   "metadata": {},
   "outputs": [
    {
     "data": {
      "image/png": "[encoded data removed]",
      "text/plain": [
       "plot without title"
      ]
     },
     "metadata": {},
     "output_type": "display_data"
    }
   ],
   "source": [
    "pred <- predict(mod, newdata=power)\n",
    "plot(pred ~ power$Voltage)"
   ]
  },
  {
   "cell_type": "markdown",
   "metadata": {},
   "source": [
    "Only by adding a unique variable (season) we improved the R-square from 0.3668 to 0.3794 !\n",
    " \n",
    "This indicates that weather data may have a significant impact on our model. We will import some new data from external sources."
   ]
  },
  {
   "cell_type": "markdown",
   "metadata": {},
   "source": [
    "Temperature and rain data"
   ]
  },
  {
   "cell_type": "markdown",
   "metadata": {},
   "source": [
    "<table id=\"small_weather_table\">\n",
    "<thead>\n",
    "<tr>\n",
    "<th>&nbsp;</th><th>Avg. Temperature (°C)</th><th>Avg. Temperature (°F)</th><th>Precipitation / Rainfall (mm)</th></tr></thead>\n",
    "<tbody>\n",
    "<tr><td>January</td><td>3.1</td><td>37.6</td><td>55</td></tr>\n",
    "<tr><td>February</td><td>4.1</td><td>39.4</td><td>47</td></tr>\n",
    "<tr><td>March</td><td>7.5</td><td>45.5</td><td>51</td></tr><tr>\n",
    "<td>April</td><td>10.6</td><td>51.1</td><td>45</td></tr>\n",
    "<tr><td>May</td><td>13.9</td><td>57.0</td><td>60</td></tr>\n",
    "<tr><td>June</td><td>17</td><td>62.6</td><td>56</td></tr>\n",
    "<tr><td>July</td><td>19</td><td>66.2</td><td>54</td></tr>\n",
    "<tr><td>August</td><td>18.7</td><td>65.7</td><td>52</td></tr>\n",
    "<tr><td>September</td><td>16</td><td>60.8</td><td>57</td></tr>\n",
    "<tr><td>October</td><td>11.5</td><td>52.7</td><td>58</td></tr>\n",
    "<tr><td>November</td><td>7</td><td>44.6</td><td>59</td></tr>\n",
    "<tr><td>December</td><td>4</td><td>39.2</td><td>55</td></tr>\n"
   ]
  },
  {
   "cell_type": "markdown",
   "metadata": {},
   "source": [
    "<table id=\"weather_table\">\n",
    "<thead>\n",
    "<tr><th>&nbsp;</th><th>January</th><th>February</th><th>March</th><th>April</th><th>May</th><th>June</th><th>July</th><th>August</th><th>September</th><th>October</th><th>November</th><th>December</th></tr>\n",
    "</thead>\n",
    "<tbody>\n",
    "<tr><td>Avg. Temperature (°C)</td><td>3.1</td><td>4.1</td><td>7.5</td><td>10.6</td><td>13.9</td><td>17</td><td>19</td><td>18.7</td><td>16</td><td>11.5</td><td>7</td><td>4</td></tr>\n",
    "<tr><td>Min. Temperature (°C)</td><td>0.6</td><td>1.1</td><td>3.2</td><td>5.7</td><td>8.7</td><td>11.8</td><td>13.8</td><td>13.7</td><td>11.3</td><td>7.6</td><td>4.2</td><td>1.6</td></tr>\n",
    "<tr><td>Max. Temperature (°C)</td><td>5.7</td><td>7.1</td><td>11.8</td><td>15.5</td><td>19.2</td><td>22.3</td><td>24.3</td><td>23.8</td><td>20.8</td><td>15.4</td><td>9.8</td><td>6.4</td></tr>\n",
    "<tr><td>Avg. Temperature (°F)</td><td>37.6</td><td>39.4</td><td>45.5</td><td>51.1</td><td>57.0</td><td>62.6</td><td>66.2</td><td>65.7</td><td>60.8</td><td>52.7</td><td>44.6</td><td>39.2</td></tr>\n",
    "<tr><td>Min. Temperature (°F)</td><td>33.1</td><td>34.0</td><td>37.8</td><td>42.3</td><td>47.7</td><td>53.2</td><td>56.8</td><td>56.7</td><td>52.3</td><td>45.7</td><td>39.6</td><td>34.9</td></tr>\n",
    "<tr><td>Max. Temperature (°F)</td><td>42.3</td><td>44.8</td><td>53.2</td><td>59.9</td><td>66.6</td><td>72.1</td><td> 75.7</td><td>74.8</td><td>69.4</td><td>59.7</td><td>49.6</td><td>43.5</td></tr>\n",
    "<tr><td>Precipitation / Rainfall (mm)</td><td>55</td><td>47</td><td>51</td><td>45</td><td>60</td><td>56</td><td>54</td><td>52</td><td>57</td><td>58</td><td>59</td><td>55</td></tr>\n",
    "</tbody>\n",
    "</table>"
   ]
  },
  {
   "cell_type": "markdown",
   "metadata": {},
   "source": [
    "### Extract tables from web pages\n",
    " \n",
    "We can import into R tables we found on web pages:\n"
   ]
  },
  {
   "cell_type": "code",
   "execution_count": 24,
   "metadata": {},
   "outputs": [
    {
     "name": "stderr",
     "output_type": "stream",
     "text": [
      "Loading required package: XML\n",
      "Loading required package: RCurl\n",
      "Loading required package: bitops\n",
      "Loading required package: rlist\n"
     ]
    }
   ],
   "source": [
    "if (!require(XML)){install.packages(\"XML\");require(XML)}\n",
    "if (!require(RCurl)){install.packages(\"RCurl\");require(RCurl)}\n",
    "if (!require(rlist)){install.packages(\"rlist\");require(rlist)}\n"
   ]
  },
  {
   "cell_type": "code",
   "execution_count": 25,
   "metadata": {},
   "outputs": [
    {
     "name": "stdout",
     "output_type": "stream",
     "text": [
      "List of 2\n",
      " $ small_weather_table:'data.frame':\t12 obs. of  4 variables:\n",
      "  ..$                              : Factor w/ 12 levels \"April\",\"August\",..: 5 4 8 1 9 7 6 2 12 11 ...\n",
      "  ..$ Avg. Temperature (°C)        : Factor w/ 12 levels \"10.6\",\"11.5\",..: 8 10 12 1 3 5 7 6 4 2 ...\n",
      "  ..$ Avg. Temperature (°F)        : Factor w/ 12 levels \"37.6\",\"39.2\",..: 1 3 5 6 8 10 12 11 9 7 ...\n",
      "  ..$ Precipitation / Rainfall (mm): Factor w/ 11 levels \"45\",\"47\",\"51\",..: 6 2 3 1 11 7 5 4 8 9 ...\n",
      " $ weather_table      :'data.frame':\t7 obs. of  13 variables:\n",
      "  ..$          : Factor w/ 7 levels \"Avg. Temperature (°C)\",..: 1 5 3 2 6 4 7\n",
      "  ..$ January  : Factor w/ 7 levels \"0.6\",\"3.1\",\"33.1\",..: 2 1 7 4 3 5 6\n",
      "  ..$ February : Factor w/ 7 levels \"1.1\",\"34.0\",\"39.4\",..: 4 1 7 3 2 5 6\n",
      "  ..$ March    : Factor w/ 7 levels \"11.8\",\"3.2\",\"37.8\",..: 7 2 1 4 3 6 5\n",
      "  ..$ April    : Factor w/ 7 levels \"10.6\",\"15.5\",..: 1 6 2 5 3 7 4\n",
      "  ..$ May      : Factor w/ 7 levels \"13.9\",\"19.2\",..: 1 7 2 4 3 6 5\n",
      "  ..$ June     : Factor w/ 7 levels \"11.8\",\"17\",\"22.3\",..: 2 1 3 6 4 7 5\n",
      "  ..$ July     : Factor w/ 7 levels \"13.8\",\"19\",\"24.3\",..: 2 1 3 6 5 7 4\n",
      "  ..$ August   : Factor w/ 7 levels \"13.7\",\"18.7\",..: 2 1 3 6 5 7 4\n",
      "  ..$ September: Factor w/ 7 levels \"11.3\",\"16\",\"20.8\",..: 2 1 3 6 4 7 5\n",
      "  ..$ October  : Factor w/ 7 levels \"11.5\",\"15.4\",..: 1 7 2 4 3 6 5\n",
      "  ..$ November : Factor w/ 7 levels \"39.6\",\"4.2\",\"44.6\",..: 6 2 7 3 1 4 5\n",
      "  ..$ December : Factor w/ 7 levels \"1.6\",\"34.9\",\"39.2\",..: 4 1 7 3 2 5 6\n"
     ]
    }
   ],
   "source": [
    "### read the web page and extract the tables on it\n",
    "url <- getURL(\"https://en.climate-data.org/europe/france/ile-de-france/sceaux-7899/\",.opts = list(ssl.verifypeer = FALSE) )\n",
    "tables <- readHTMLTable(url)\n",
    "str(tables)"
   ]
  },
  {
   "cell_type": "code",
   "execution_count": 26,
   "metadata": {},
   "outputs": [],
   "source": [
    "tables <- list.clean(tables, fun = is.null, recursive = FALSE)\n",
    "n.rows <- unlist(lapply(tables, function(t) dim(t)[1]))"
   ]
  },
  {
   "cell_type": "code",
   "execution_count": 27,
   "metadata": {},
   "outputs": [
    {
     "data": {
      "text/html": [
       "<dl class=dl-horizontal>\n",
       "\t<dt>small_weather_table</dt>\n",
       "\t\t<dd>12</dd>\n",
       "\t<dt>weather_table</dt>\n",
       "\t\t<dd>7</dd>\n",
       "</dl>\n"
      ],
      "text/latex": [
       "\\begin{description*}\n",
       "\\item[small\\textbackslash{}\\_weather\\textbackslash{}\\_table] 12\n",
       "\\item[weather\\textbackslash{}\\_table] 7\n",
       "\\end{description*}\n"
      ],
      "text/markdown": [
       "small_weather_table\n",
       ":   12weather_table\n",
       ":   7\n",
       "\n"
      ],
      "text/plain": [
       "small_weather_table       weather_table \n",
       "                 12                   7 "
      ]
     },
     "metadata": {},
     "output_type": "display_data"
    }
   ],
   "source": [
    "n.rows"
   ]
  },
  {
   "cell_type": "code",
   "execution_count": 28,
   "metadata": {},
   "outputs": [
    {
     "data": {
      "text/html": [
       "<table>\n",
       "<thead><tr><th scope=col> </th><th scope=col>Avg. Temperature (°C)</th><th scope=col>Avg. Temperature (°F)</th><th scope=col>Precipitation / Rainfall (mm)</th></tr></thead>\n",
       "<tbody>\n",
       "\t<tr><td>January </td><td>3.1     </td><td>37.6    </td><td>55      </td></tr>\n",
       "\t<tr><td>February</td><td>4.1     </td><td>39.4    </td><td>47      </td></tr>\n",
       "\t<tr><td>March   </td><td>7.5     </td><td>45.5    </td><td>51      </td></tr>\n",
       "\t<tr><td>April   </td><td>10.6    </td><td>51.1    </td><td>45      </td></tr>\n",
       "\t<tr><td>May     </td><td>13.9    </td><td>57.0    </td><td>60      </td></tr>\n",
       "\t<tr><td>June    </td><td>17      </td><td>62.6    </td><td>56      </td></tr>\n",
       "</tbody>\n",
       "</table>\n"
      ],
      "text/latex": [
       "\\begin{tabular}{r|llll}\n",
       "   & Avg. Temperature (°C) & Avg. Temperature (°F) & Precipitation / Rainfall (mm)\\\\\n",
       "\\hline\n",
       "\t January  & 3.1      & 37.6     & 55      \\\\\n",
       "\t February & 4.1      & 39.4     & 47      \\\\\n",
       "\t March    & 7.5      & 45.5     & 51      \\\\\n",
       "\t April    & 10.6     & 51.1     & 45      \\\\\n",
       "\t May      & 13.9     & 57.0     & 60      \\\\\n",
       "\t June     & 17       & 62.6     & 56      \\\\\n",
       "\\end{tabular}\n"
      ],
      "text/markdown": [
       "\n",
       "  | Avg. Temperature (°C) | Avg. Temperature (°F) | Precipitation / Rainfall (mm) | \n",
       "|---|---|---|---|---|---|\n",
       "| January  | 3.1      | 37.6     | 55       | \n",
       "| February | 4.1      | 39.4     | 47       | \n",
       "| March    | 7.5      | 45.5     | 51       | \n",
       "| April    | 10.6     | 51.1     | 45       | \n",
       "| May      | 13.9     | 57.0     | 60       | \n",
       "| June     | 17       | 62.6     | 56       | \n",
       "\n",
       "\n"
      ],
      "text/plain": [
       "           Avg. Temperature (°C) Avg. Temperature (°F)\n",
       "1 January  3.1                   37.6                 \n",
       "2 February 4.1                   39.4                 \n",
       "3 March    7.5                   45.5                 \n",
       "4 April    10.6                  51.1                 \n",
       "5 May      13.9                  57.0                 \n",
       "6 June     17                    62.6                 \n",
       "  Precipitation / Rainfall (mm)\n",
       "1 55                           \n",
       "2 47                           \n",
       "3 51                           \n",
       "4 45                           \n",
       "5 60                           \n",
       "6 56                           "
      ]
     },
     "metadata": {},
     "output_type": "display_data"
    }
   ],
   "source": [
    "head(tables$small_weather_table)"
   ]
  },
  {
   "cell_type": "code",
   "execution_count": 29,
   "metadata": {},
   "outputs": [
    {
     "data": {
      "text/html": [
       "<table>\n",
       "<thead><tr><th scope=col> </th><th scope=col>January</th><th scope=col>February</th><th scope=col>March</th><th scope=col>April</th><th scope=col>May</th><th scope=col>June</th><th scope=col>July</th><th scope=col>August</th><th scope=col>September</th><th scope=col>October</th><th scope=col>November</th><th scope=col>December</th></tr></thead>\n",
       "<tbody>\n",
       "\t<tr><td>Avg. Temperature (°C)</td><td>3.1                  </td><td>4.1                  </td><td>7.5                  </td><td>10.6                 </td><td>13.9                 </td><td>17                   </td><td>19                   </td><td>18.7                 </td><td>16                   </td><td>11.5                 </td><td>7                    </td><td>4                    </td></tr>\n",
       "\t<tr><td>Min. Temperature (°C)</td><td>0.6                  </td><td>1.1                  </td><td>3.2                  </td><td>5.7                  </td><td>8.7                  </td><td>11.8                 </td><td>13.8                 </td><td>13.7                 </td><td>11.3                 </td><td>7.6                  </td><td>4.2                  </td><td>1.6                  </td></tr>\n",
       "\t<tr><td>Max. Temperature (°C)</td><td>5.7                  </td><td>7.1                  </td><td>11.8                 </td><td>15.5                 </td><td>19.2                 </td><td>22.3                 </td><td>24.3                 </td><td>23.8                 </td><td>20.8                 </td><td>15.4                 </td><td>9.8                  </td><td>6.4                  </td></tr>\n",
       "\t<tr><td>Avg. Temperature (°F)</td><td>37.6                 </td><td>39.4                 </td><td>45.5                 </td><td>51.1                 </td><td>57.0                 </td><td>62.6                 </td><td>66.2                 </td><td>65.7                 </td><td>60.8                 </td><td>52.7                 </td><td>44.6                 </td><td>39.2                 </td></tr>\n",
       "\t<tr><td>Min. Temperature (°F)</td><td>33.1                 </td><td>34.0                 </td><td>37.8                 </td><td>42.3                 </td><td>47.7                 </td><td>53.2                 </td><td>56.8                 </td><td>56.7                 </td><td>52.3                 </td><td>45.7                 </td><td>39.6                 </td><td>34.9                 </td></tr>\n",
       "\t<tr><td>Max. Temperature (°F)</td><td>42.3                 </td><td>44.8                 </td><td>53.2                 </td><td>59.9                 </td><td>66.6                 </td><td>72.1                 </td><td>75.7                 </td><td>74.8                 </td><td>69.4                 </td><td>59.7                 </td><td>49.6                 </td><td>43.5                 </td></tr>\n",
       "</tbody>\n",
       "</table>\n"
      ],
      "text/latex": [
       "\\begin{tabular}{r|lllllllllllll}\n",
       "   & January & February & March & April & May & June & July & August & September & October & November & December\\\\\n",
       "\\hline\n",
       "\t Avg. Temperature (°C) & 3.1                   & 4.1                   & 7.5                   & 10.6                  & 13.9                  & 17                    & 19                    & 18.7                  & 16                    & 11.5                  & 7                     & 4                    \\\\\n",
       "\t Min. Temperature (°C) & 0.6                   & 1.1                   & 3.2                   & 5.7                   & 8.7                   & 11.8                  & 13.8                  & 13.7                  & 11.3                  & 7.6                   & 4.2                   & 1.6                  \\\\\n",
       "\t Max. Temperature (°C) & 5.7                   & 7.1                   & 11.8                  & 15.5                  & 19.2                  & 22.3                  & 24.3                  & 23.8                  & 20.8                  & 15.4                  & 9.8                   & 6.4                  \\\\\n",
       "\t Avg. Temperature (°F) & 37.6                  & 39.4                  & 45.5                  & 51.1                  & 57.0                  & 62.6                  & 66.2                  & 65.7                  & 60.8                  & 52.7                  & 44.6                  & 39.2                 \\\\\n",
       "\t Min. Temperature (°F) & 33.1                  & 34.0                  & 37.8                  & 42.3                  & 47.7                  & 53.2                  & 56.8                  & 56.7                  & 52.3                  & 45.7                  & 39.6                  & 34.9                 \\\\\n",
       "\t Max. Temperature (°F) & 42.3                  & 44.8                  & 53.2                  & 59.9                  & 66.6                  & 72.1                  & 75.7                  & 74.8                  & 69.4                  & 59.7                  & 49.6                  & 43.5                 \\\\\n",
       "\\end{tabular}\n"
      ],
      "text/markdown": [
       "\n",
       "  | January | February | March | April | May | June | July | August | September | October | November | December | \n",
       "|---|---|---|---|---|---|\n",
       "| Avg. Temperature (°C) | 3.1                   | 4.1                   | 7.5                   | 10.6                  | 13.9                  | 17                    | 19                    | 18.7                  | 16                    | 11.5                  | 7                     | 4                     | \n",
       "| Min. Temperature (°C) | 0.6                   | 1.1                   | 3.2                   | 5.7                   | 8.7                   | 11.8                  | 13.8                  | 13.7                  | 11.3                  | 7.6                   | 4.2                   | 1.6                   | \n",
       "| Max. Temperature (°C) | 5.7                   | 7.1                   | 11.8                  | 15.5                  | 19.2                  | 22.3                  | 24.3                  | 23.8                  | 20.8                  | 15.4                  | 9.8                   | 6.4                   | \n",
       "| Avg. Temperature (°F) | 37.6                  | 39.4                  | 45.5                  | 51.1                  | 57.0                  | 62.6                  | 66.2                  | 65.7                  | 60.8                  | 52.7                  | 44.6                  | 39.2                  | \n",
       "| Min. Temperature (°F) | 33.1                  | 34.0                  | 37.8                  | 42.3                  | 47.7                  | 53.2                  | 56.8                  | 56.7                  | 52.3                  | 45.7                  | 39.6                  | 34.9                  | \n",
       "| Max. Temperature (°F) | 42.3                  | 44.8                  | 53.2                  | 59.9                  | 66.6                  | 72.1                  | 75.7                  | 74.8                  | 69.4                  | 59.7                  | 49.6                  | 43.5                  | \n",
       "\n",
       "\n"
      ],
      "text/plain": [
       "                        January February March April May  June July August\n",
       "1 Avg. Temperature (°C) 3.1     4.1      7.5   10.6  13.9 17   19   18.7  \n",
       "2 Min. Temperature (°C) 0.6     1.1      3.2   5.7   8.7  11.8 13.8 13.7  \n",
       "3 Max. Temperature (°C) 5.7     7.1      11.8  15.5  19.2 22.3 24.3 23.8  \n",
       "4 Avg. Temperature (°F) 37.6    39.4     45.5  51.1  57.0 62.6 66.2 65.7  \n",
       "5 Min. Temperature (°F) 33.1    34.0     37.8  42.3  47.7 53.2 56.8 56.7  \n",
       "6 Max. Temperature (°F) 42.3    44.8     53.2  59.9  66.6 72.1 75.7 74.8  \n",
       "  September October November December\n",
       "1 16        11.5    7        4       \n",
       "2 11.3      7.6     4.2      1.6     \n",
       "3 20.8      15.4    9.8      6.4     \n",
       "4 60.8      52.7    44.6     39.2    \n",
       "5 52.3      45.7    39.6     34.9    \n",
       "6 69.4      59.7    49.6     43.5    "
      ]
     },
     "metadata": {},
     "output_type": "display_data"
    }
   ],
   "source": [
    "head(tables$weather_table)"
   ]
  },
  {
   "cell_type": "code",
   "execution_count": 30,
   "metadata": {},
   "outputs": [
    {
     "data": {
      "text/html": [
       "<table>\n",
       "<tbody>\n",
       "\t<tr><th scope=row> </th><td>Avg. Temperature (°C)        </td><td>Min. Temperature (°C)        </td><td>Max. Temperature (°C)        </td><td>Avg. Temperature (°F)        </td><td>Min. Temperature (°F)        </td><td>Max. Temperature (°F)        </td><td>Precipitation / Rainfall (mm)</td></tr>\n",
       "\t<tr><th scope=row>January</th><td>3.1                          </td><td>0.6                          </td><td>5.7                          </td><td>37.6                         </td><td>33.1                         </td><td>42.3                         </td><td>55                           </td></tr>\n",
       "\t<tr><th scope=row>February</th><td>4.1                          </td><td>1.1                          </td><td>7.1                          </td><td>39.4                         </td><td>34.0                         </td><td>44.8                         </td><td>47                           </td></tr>\n",
       "\t<tr><th scope=row>March</th><td>7.5                          </td><td>3.2                          </td><td>11.8                         </td><td>45.5                         </td><td>37.8                         </td><td>53.2                         </td><td>51                           </td></tr>\n",
       "\t<tr><th scope=row>April</th><td>10.6                         </td><td>5.7                          </td><td>15.5                         </td><td>51.1                         </td><td>42.3                         </td><td>59.9                         </td><td>45                           </td></tr>\n",
       "\t<tr><th scope=row>May</th><td>13.9                         </td><td>8.7                          </td><td>19.2                         </td><td>57.0                         </td><td>47.7                         </td><td>66.6                         </td><td>60                           </td></tr>\n",
       "</tbody>\n",
       "</table>\n"
      ],
      "text/latex": [
       "\\begin{tabular}{r|lllllll}\n",
       "\t  & Avg. Temperature (°C)         & Min. Temperature (°C)         & Max. Temperature (°C)         & Avg. Temperature (°F)         & Min. Temperature (°F)         & Max. Temperature (°F)         & Precipitation / Rainfall (mm)\\\\\n",
       "\tJanuary & 3.1                           & 0.6                           & 5.7                           & 37.6                          & 33.1                          & 42.3                          & 55                           \\\\\n",
       "\tFebruary & 4.1                           & 1.1                           & 7.1                           & 39.4                          & 34.0                          & 44.8                          & 47                           \\\\\n",
       "\tMarch & 7.5                           & 3.2                           & 11.8                          & 45.5                          & 37.8                          & 53.2                          & 51                           \\\\\n",
       "\tApril & 10.6                          & 5.7                           & 15.5                          & 51.1                          & 42.3                          & 59.9                          & 45                           \\\\\n",
       "\tMay & 13.9                          & 8.7                           & 19.2                          & 57.0                          & 47.7                          & 66.6                          & 60                           \\\\\n",
       "\\end{tabular}\n"
      ],
      "text/markdown": [
       "\n",
       "|   | Avg. Temperature (°C)         | Min. Temperature (°C)         | Max. Temperature (°C)         | Avg. Temperature (°F)         | Min. Temperature (°F)         | Max. Temperature (°F)         | Precipitation / Rainfall (mm) | \n",
       "| January | 3.1                           | 0.6                           | 5.7                           | 37.6                          | 33.1                          | 42.3                          | 55                            | \n",
       "| February | 4.1                           | 1.1                           | 7.1                           | 39.4                          | 34.0                          | 44.8                          | 47                            | \n",
       "| March | 7.5                           | 3.2                           | 11.8                          | 45.5                          | 37.8                          | 53.2                          | 51                            | \n",
       "| April | 10.6                          | 5.7                           | 15.5                          | 51.1                          | 42.3                          | 59.9                          | 45                            | \n",
       "| May | 13.9                          | 8.7                           | 19.2                          | 57.0                          | 47.7                          | 66.6                          | 60                            | \n",
       "\n",
       "\n"
      ],
      "text/plain": [
       "         [,1]                  [,2]                  [,3]                 \n",
       "         Avg. Temperature (°C) Min. Temperature (°C) Max. Temperature (°C)\n",
       "January  3.1                   0.6                   5.7                  \n",
       "February 4.1                   1.1                   7.1                  \n",
       "March    7.5                   3.2                   11.8                 \n",
       "April    10.6                  5.7                   15.5                 \n",
       "May      13.9                  8.7                   19.2                 \n",
       "         [,4]                  [,5]                  [,6]                 \n",
       "         Avg. Temperature (°F) Min. Temperature (°F) Max. Temperature (°F)\n",
       "January  37.6                  33.1                  42.3                 \n",
       "February 39.4                  34.0                  44.8                 \n",
       "March    45.5                  37.8                  53.2                 \n",
       "April    51.1                  42.3                  59.9                 \n",
       "May      57.0                  47.7                  66.6                 \n",
       "         [,7]                         \n",
       "         Precipitation / Rainfall (mm)\n",
       "January  55                           \n",
       "February 47                           \n",
       "March    51                           \n",
       "April    45                           \n",
       "May      60                           "
      ]
     },
     "metadata": {},
     "output_type": "display_data"
    }
   ],
   "source": [
    "## the last table is not in our required format... we transpose it\n",
    "head(t(tables$weather_table))"
   ]
  },
  {
   "cell_type": "markdown",
   "metadata": {},
   "source": [
    "As we can appreciate, the content of the first table is included in the second table. So we will use only the second one.\n",
    " \n",
    "We will add the data to our main table. The temperature in °F will be excluded as it will represent the same levels as the °C"
   ]
  },
  {
   "cell_type": "code",
   "execution_count": 31,
   "metadata": {},
   "outputs": [
    {
     "name": "stdout",
     "output_type": "stream",
     "text": [
      " chr [1:12, 1:4] \"3.1\" \"4.1\" \"7.5\" \"10.6\" \"13.9\" \"17\" \"19\" \"18.7\" \"16\" ...\n",
      " - attr(*, \"dimnames\")=List of 2\n",
      "  ..$ : chr [1:12] \"January\" \"February\" \"March\" \"April\" ...\n",
      "  ..$ : NULL\n"
     ]
    }
   ],
   "source": [
    "weather <- t(tables$weather_table)[2:13,c(1:3,7)]\n",
    "str(weather)\n"
   ]
  },
  {
   "cell_type": "code",
   "execution_count": 32,
   "metadata": {},
   "outputs": [
    {
     "name": "stdout",
     "output_type": "stream",
     "text": [
      "Classes ‘data.table’ and 'data.frame':\t12 obs. of  5 variables:\n",
      " $ temperature_avg: num  3.1 4.1 7.5 10.6 13.9 17 19 18.7 16 11.5 ...\n",
      " $ temperature_min: num  0.6 1.1 3.2 5.7 8.7 11.8 13.8 13.7 11.3 7.6 ...\n",
      " $ temperature_max: num  5.7 7.1 11.8 15.5 19.2 22.3 24.3 23.8 20.8 15.4 ...\n",
      " $ rain           : num  55 47 51 45 60 56 54 52 57 58 ...\n",
      " $ month          : int  1 2 3 4 5 6 7 8 9 10 ...\n",
      " - attr(*, \".internal.selfref\")=<externalptr> \n"
     ]
    },
    {
     "data": {
      "text/html": [
       "<table>\n",
       "<thead><tr><th scope=col>temperature_avg</th><th scope=col>temperature_min</th><th scope=col>temperature_max</th><th scope=col>rain</th><th scope=col>month</th></tr></thead>\n",
       "<tbody>\n",
       "\t<tr><td> 3.1</td><td> 0.6</td><td> 5.7</td><td>55  </td><td>1   </td></tr>\n",
       "\t<tr><td> 4.1</td><td> 1.1</td><td> 7.1</td><td>47  </td><td>2   </td></tr>\n",
       "\t<tr><td> 7.5</td><td> 3.2</td><td>11.8</td><td>51  </td><td>3   </td></tr>\n",
       "\t<tr><td>10.6</td><td> 5.7</td><td>15.5</td><td>45  </td><td>4   </td></tr>\n",
       "\t<tr><td>13.9</td><td> 8.7</td><td>19.2</td><td>60  </td><td>5   </td></tr>\n",
       "\t<tr><td>17.0</td><td>11.8</td><td>22.3</td><td>56  </td><td>6   </td></tr>\n",
       "</tbody>\n",
       "</table>\n"
      ],
      "text/latex": [
       "\\begin{tabular}{r|lllll}\n",
       " temperature\\_avg & temperature\\_min & temperature\\_max & rain & month\\\\\n",
       "\\hline\n",
       "\t  3.1 &  0.6 &  5.7 & 55   & 1   \\\\\n",
       "\t  4.1 &  1.1 &  7.1 & 47   & 2   \\\\\n",
       "\t  7.5 &  3.2 & 11.8 & 51   & 3   \\\\\n",
       "\t 10.6 &  5.7 & 15.5 & 45   & 4   \\\\\n",
       "\t 13.9 &  8.7 & 19.2 & 60   & 5   \\\\\n",
       "\t 17.0 & 11.8 & 22.3 & 56   & 6   \\\\\n",
       "\\end{tabular}\n"
      ],
      "text/markdown": [
       "\n",
       "temperature_avg | temperature_min | temperature_max | rain | month | \n",
       "|---|---|---|---|---|---|\n",
       "|  3.1 |  0.6 |  5.7 | 55   | 1    | \n",
       "|  4.1 |  1.1 |  7.1 | 47   | 2    | \n",
       "|  7.5 |  3.2 | 11.8 | 51   | 3    | \n",
       "| 10.6 |  5.7 | 15.5 | 45   | 4    | \n",
       "| 13.9 |  8.7 | 19.2 | 60   | 5    | \n",
       "| 17.0 | 11.8 | 22.3 | 56   | 6    | \n",
       "\n",
       "\n"
      ],
      "text/plain": [
       "  temperature_avg temperature_min temperature_max rain month\n",
       "1  3.1             0.6             5.7            55   1    \n",
       "2  4.1             1.1             7.1            47   2    \n",
       "3  7.5             3.2            11.8            51   3    \n",
       "4 10.6             5.7            15.5            45   4    \n",
       "5 13.9             8.7            19.2            60   5    \n",
       "6 17.0            11.8            22.3            56   6    "
      ]
     },
     "metadata": {},
     "output_type": "display_data"
    }
   ],
   "source": [
    "weather <- type.convert(weather)#,numerals = c(\"temperature_avg\",\"temperature_min\",\"temperature_max\",\"rain\"))\n",
    "weather <- data.table(weather)\n",
    "names(weather) <- c(\"temperature_avg\",\"temperature_min\",\"temperature_max\",\"rain\")\n",
    "weather$month <- c(1:12)\n",
    "str(weather)\n",
    "head(weather)"
   ]
  },
  {
   "cell_type": "code",
   "execution_count": 33,
   "metadata": {},
   "outputs": [],
   "source": [
    "\n",
    "power <- left_join(power, weather, by=\"month\")"
   ]
  },
  {
   "cell_type": "code",
   "execution_count": 34,
   "metadata": {},
   "outputs": [
    {
     "data": {
      "text/html": [
       "<table>\n",
       "<thead><tr><th scope=col>Date</th><th scope=col>Time</th><th scope=col>Global_active_power</th><th scope=col>Global_reactive_power</th><th scope=col>Voltage</th><th scope=col>Global_intensity</th><th scope=col>Sub_metering_1</th><th scope=col>Sub_metering_2</th><th scope=col>Sub_metering_3</th><th scope=col>datetime</th><th scope=col>⋯</th><th scope=col>day</th><th scope=col>wday</th><th scope=col>hour</th><th scope=col>minute</th><th scope=col>season</th><th scope=col>night</th><th scope=col>temperature_avg</th><th scope=col>temperature_min</th><th scope=col>temperature_max</th><th scope=col>rain</th></tr></thead>\n",
       "<tbody>\n",
       "\t<tr><td>16/12/2006         </td><td>17:24:00           </td><td>4.216              </td><td>0.418              </td><td>234.84             </td><td>18.4               </td><td>0                  </td><td>1                  </td><td>17                 </td><td>2006-12-16 17:24:00</td><td>⋯                  </td><td>16                 </td><td>7                  </td><td>17                 </td><td>24                 </td><td>Winter             </td><td>Day                </td><td>4                  </td><td>1.6                </td><td>6.4                </td><td>55                 </td></tr>\n",
       "\t<tr><td>16/12/2006         </td><td>17:25:00           </td><td>5.360              </td><td>0.436              </td><td>233.63             </td><td>23.0               </td><td>0                  </td><td>1                  </td><td>16                 </td><td>2006-12-16 17:25:00</td><td>⋯                  </td><td>16                 </td><td>7                  </td><td>17                 </td><td>25                 </td><td>Winter             </td><td>Day                </td><td>4                  </td><td>1.6                </td><td>6.4                </td><td>55                 </td></tr>\n",
       "\t<tr><td>16/12/2006         </td><td>17:26:00           </td><td>5.374              </td><td>0.498              </td><td>233.29             </td><td>23.0               </td><td>0                  </td><td>2                  </td><td>17                 </td><td>2006-12-16 17:26:00</td><td>⋯                  </td><td>16                 </td><td>7                  </td><td>17                 </td><td>26                 </td><td>Winter             </td><td>Day                </td><td>4                  </td><td>1.6                </td><td>6.4                </td><td>55                 </td></tr>\n",
       "\t<tr><td>16/12/2006         </td><td>17:27:00           </td><td>5.388              </td><td>0.502              </td><td>233.74             </td><td>23.0               </td><td>0                  </td><td>1                  </td><td>17                 </td><td>2006-12-16 17:27:00</td><td>⋯                  </td><td>16                 </td><td>7                  </td><td>17                 </td><td>27                 </td><td>Winter             </td><td>Day                </td><td>4                  </td><td>1.6                </td><td>6.4                </td><td>55                 </td></tr>\n",
       "\t<tr><td>16/12/2006         </td><td>17:28:00           </td><td>3.666              </td><td>0.528              </td><td>235.68             </td><td>15.8               </td><td>0                  </td><td>1                  </td><td>17                 </td><td>2006-12-16 17:28:00</td><td>⋯                  </td><td>16                 </td><td>7                  </td><td>17                 </td><td>28                 </td><td>Winter             </td><td>Day                </td><td>4                  </td><td>1.6                </td><td>6.4                </td><td>55                 </td></tr>\n",
       "\t<tr><td>16/12/2006         </td><td>17:29:00           </td><td>3.520              </td><td>0.522              </td><td>235.02             </td><td>15.0               </td><td>0                  </td><td>2                  </td><td>17                 </td><td>2006-12-16 17:29:00</td><td>⋯                  </td><td>16                 </td><td>7                  </td><td>17                 </td><td>29                 </td><td>Winter             </td><td>Day                </td><td>4                  </td><td>1.6                </td><td>6.4                </td><td>55                 </td></tr>\n",
       "</tbody>\n",
       "</table>\n"
      ],
      "text/latex": [
       "\\begin{tabular}{r|llllllllllllllllllllll}\n",
       " Date & Time & Global\\_active\\_power & Global\\_reactive\\_power & Voltage & Global\\_intensity & Sub\\_metering\\_1 & Sub\\_metering\\_2 & Sub\\_metering\\_3 & datetime & ⋯ & day & wday & hour & minute & season & night & temperature\\_avg & temperature\\_min & temperature\\_max & rain\\\\\n",
       "\\hline\n",
       "\t 16/12/2006          & 17:24:00            & 4.216               & 0.418               & 234.84              & 18.4                & 0                   & 1                   & 17                  & 2006-12-16 17:24:00 & ⋯                   & 16                  & 7                   & 17                  & 24                  & Winter              & Day                 & 4                   & 1.6                 & 6.4                 & 55                 \\\\\n",
       "\t 16/12/2006          & 17:25:00            & 5.360               & 0.436               & 233.63              & 23.0                & 0                   & 1                   & 16                  & 2006-12-16 17:25:00 & ⋯                   & 16                  & 7                   & 17                  & 25                  & Winter              & Day                 & 4                   & 1.6                 & 6.4                 & 55                 \\\\\n",
       "\t 16/12/2006          & 17:26:00            & 5.374               & 0.498               & 233.29              & 23.0                & 0                   & 2                   & 17                  & 2006-12-16 17:26:00 & ⋯                   & 16                  & 7                   & 17                  & 26                  & Winter              & Day                 & 4                   & 1.6                 & 6.4                 & 55                 \\\\\n",
       "\t 16/12/2006          & 17:27:00            & 5.388               & 0.502               & 233.74              & 23.0                & 0                   & 1                   & 17                  & 2006-12-16 17:27:00 & ⋯                   & 16                  & 7                   & 17                  & 27                  & Winter              & Day                 & 4                   & 1.6                 & 6.4                 & 55                 \\\\\n",
       "\t 16/12/2006          & 17:28:00            & 3.666               & 0.528               & 235.68              & 15.8                & 0                   & 1                   & 17                  & 2006-12-16 17:28:00 & ⋯                   & 16                  & 7                   & 17                  & 28                  & Winter              & Day                 & 4                   & 1.6                 & 6.4                 & 55                 \\\\\n",
       "\t 16/12/2006          & 17:29:00            & 3.520               & 0.522               & 235.02              & 15.0                & 0                   & 2                   & 17                  & 2006-12-16 17:29:00 & ⋯                   & 16                  & 7                   & 17                  & 29                  & Winter              & Day                 & 4                   & 1.6                 & 6.4                 & 55                 \\\\\n",
       "\\end{tabular}\n"
      ],
      "text/markdown": [
       "\n",
       "Date | Time | Global_active_power | Global_reactive_power | Voltage | Global_intensity | Sub_metering_1 | Sub_metering_2 | Sub_metering_3 | datetime | ⋯ | day | wday | hour | minute | season | night | temperature_avg | temperature_min | temperature_max | rain | \n",
       "|---|---|---|---|---|---|\n",
       "| 16/12/2006          | 17:24:00            | 4.216               | 0.418               | 234.84              | 18.4                | 0                   | 1                   | 17                  | 2006-12-16 17:24:00 | ⋯                   | 16                  | 7                   | 17                  | 24                  | Winter              | Day                 | 4                   | 1.6                 | 6.4                 | 55                  | \n",
       "| 16/12/2006          | 17:25:00            | 5.360               | 0.436               | 233.63              | 23.0                | 0                   | 1                   | 16                  | 2006-12-16 17:25:00 | ⋯                   | 16                  | 7                   | 17                  | 25                  | Winter              | Day                 | 4                   | 1.6                 | 6.4                 | 55                  | \n",
       "| 16/12/2006          | 17:26:00            | 5.374               | 0.498               | 233.29              | 23.0                | 0                   | 2                   | 17                  | 2006-12-16 17:26:00 | ⋯                   | 16                  | 7                   | 17                  | 26                  | Winter              | Day                 | 4                   | 1.6                 | 6.4                 | 55                  | \n",
       "| 16/12/2006          | 17:27:00            | 5.388               | 0.502               | 233.74              | 23.0                | 0                   | 1                   | 17                  | 2006-12-16 17:27:00 | ⋯                   | 16                  | 7                   | 17                  | 27                  | Winter              | Day                 | 4                   | 1.6                 | 6.4                 | 55                  | \n",
       "| 16/12/2006          | 17:28:00            | 3.666               | 0.528               | 235.68              | 15.8                | 0                   | 1                   | 17                  | 2006-12-16 17:28:00 | ⋯                   | 16                  | 7                   | 17                  | 28                  | Winter              | Day                 | 4                   | 1.6                 | 6.4                 | 55                  | \n",
       "| 16/12/2006          | 17:29:00            | 3.520               | 0.522               | 235.02              | 15.0                | 0                   | 2                   | 17                  | 2006-12-16 17:29:00 | ⋯                   | 16                  | 7                   | 17                  | 29                  | Winter              | Day                 | 4                   | 1.6                 | 6.4                 | 55                  | \n",
       "\n",
       "\n"
      ],
      "text/plain": [
       "  Date       Time     Global_active_power Global_reactive_power Voltage\n",
       "1 16/12/2006 17:24:00 4.216               0.418                 234.84 \n",
       "2 16/12/2006 17:25:00 5.360               0.436                 233.63 \n",
       "3 16/12/2006 17:26:00 5.374               0.498                 233.29 \n",
       "4 16/12/2006 17:27:00 5.388               0.502                 233.74 \n",
       "5 16/12/2006 17:28:00 3.666               0.528                 235.68 \n",
       "6 16/12/2006 17:29:00 3.520               0.522                 235.02 \n",
       "  Global_intensity Sub_metering_1 Sub_metering_2 Sub_metering_3\n",
       "1 18.4             0              1              17            \n",
       "2 23.0             0              1              16            \n",
       "3 23.0             0              2              17            \n",
       "4 23.0             0              1              17            \n",
       "5 15.8             0              1              17            \n",
       "6 15.0             0              2              17            \n",
       "  datetime            ⋯ day wday hour minute season night temperature_avg\n",
       "1 2006-12-16 17:24:00 ⋯ 16  7    17   24     Winter Day   4              \n",
       "2 2006-12-16 17:25:00 ⋯ 16  7    17   25     Winter Day   4              \n",
       "3 2006-12-16 17:26:00 ⋯ 16  7    17   26     Winter Day   4              \n",
       "4 2006-12-16 17:27:00 ⋯ 16  7    17   27     Winter Day   4              \n",
       "5 2006-12-16 17:28:00 ⋯ 16  7    17   28     Winter Day   4              \n",
       "6 2006-12-16 17:29:00 ⋯ 16  7    17   29     Winter Day   4              \n",
       "  temperature_min temperature_max rain\n",
       "1 1.6             6.4             55  \n",
       "2 1.6             6.4             55  \n",
       "3 1.6             6.4             55  \n",
       "4 1.6             6.4             55  \n",
       "5 1.6             6.4             55  \n",
       "6 1.6             6.4             55  "
      ]
     },
     "metadata": {},
     "output_type": "display_data"
    }
   ],
   "source": [
    "head(power)"
   ]
  },
  {
   "cell_type": "markdown",
   "metadata": {},
   "source": [
    "Now we will create a new model with the added weather variables"
   ]
  },
  {
   "cell_type": "code",
   "execution_count": 35,
   "metadata": {},
   "outputs": [
    {
     "data": {
      "text/plain": [
       "\n",
       "Call:\n",
       "lm(formula = Voltage ~ ., data = power[, vn])\n",
       "\n",
       "Residuals:\n",
       "     Min       1Q   Median       3Q      Max \n",
       "-15.0846  -1.4576   0.0827   1.5657  16.3849 \n",
       "\n",
       "Coefficients:\n",
       "                        Estimate Std. Error t value Pr(>|t|)    \n",
       "(Intercept)           -1.237e+03  3.080e+00 -401.56   <2e-16 ***\n",
       "Global_active_power    1.279e+01  4.062e-02  314.77   <2e-16 ***\n",
       "Global_reactive_power  3.974e+00  1.719e-02  231.17   <2e-16 ***\n",
       "Global_intensity      -3.454e+00  9.582e-03 -360.45   <2e-16 ***\n",
       "Sub_metering_1         4.185e-02  3.521e-04  118.85   <2e-16 ***\n",
       "Sub_metering_2         5.180e-02  3.586e-04  144.45   <2e-16 ***\n",
       "Sub_metering_3        -6.297e-03  3.224e-04  -19.53   <2e-16 ***\n",
       "year                   7.414e-01  1.533e-03  483.80   <2e-16 ***\n",
       "month                 -1.096e-01  2.732e-03  -40.11   <2e-16 ***\n",
       "day                    9.514e-03  1.901e-04   50.05   <2e-16 ***\n",
       "wday                  -3.469e-02  8.391e-04  -41.35   <2e-16 ***\n",
       "hour                  -1.244e-02  2.599e-04  -47.86   <2e-16 ***\n",
       "minute                 2.059e-03  9.645e-05   21.35   <2e-16 ***\n",
       "seasonSummer          -1.539e+00  1.913e-02  -80.48   <2e-16 ***\n",
       "seasonAutum            1.809e+00  1.454e-02  124.41   <2e-16 ***\n",
       "seasonWinter           2.436e+00  1.554e-02  156.70   <2e-16 ***\n",
       "nightNight             8.151e-01  3.592e-03  226.90   <2e-16 ***\n",
       "temperature_avg       -2.966e+01  1.616e-01 -183.59   <2e-16 ***\n",
       "temperature_min        1.452e+01  7.785e-02  186.57   <2e-16 ***\n",
       "temperature_max        1.472e+01  8.300e-02  177.34   <2e-16 ***\n",
       "rain                  -1.381e-01  6.562e-04 -210.51   <2e-16 ***\n",
       "---\n",
       "Signif. codes:  0 ‘***’ 0.001 ‘**’ 0.01 ‘*’ 0.05 ‘.’ 0.1 ‘ ’ 1\n",
       "\n",
       "Residual standard error: 2.391 on 2049259 degrees of freedom\n",
       "  (25979 observations deleted due to missingness)\n",
       "Multiple R-squared:  0.4554,\tAdjusted R-squared:  0.4554 \n",
       "F-statistic: 8.567e+04 on 20 and 2049259 DF,  p-value: < 2.2e-16\n"
      ]
     },
     "metadata": {},
     "output_type": "display_data"
    }
   ],
   "source": [
    "vn <- c(\"Voltage\",\"Global_active_power\",\"Global_reactive_power\",\"Global_intensity\",\"Sub_metering_1\",\"Sub_metering_2\",\"Sub_metering_3\",\n",
    "       \"year\",\"month\",\"day\",\"wday\",\"hour\",\"minute\",\"season\",\"night\",\"temperature_avg\",\"temperature_min\",\"temperature_max\",\"rain\")\n",
    "        \n",
    "mod <- lm(Voltage ~., data=power[,vn])\n",
    "summary(mod)"
   ]
  },
  {
   "cell_type": "code",
   "execution_count": 60,
   "metadata": {},
   "outputs": [
    {
     "data": {
      "image/png": "[encoded data removed]",
      "text/plain": [
       "plot without title"
      ]
     },
     "metadata": {},
     "output_type": "display_data"
    }
   ],
   "source": [
    "pred <- predict(mod, newdata=power)\n",
    "plot(pred ~ power$Voltage)"
   ]
  },
  {
   "cell_type": "markdown",
   "metadata": {},
   "source": [
    "Now, the model is a lot better, and the R-square was improved from 0.3794 to 0.4554 only by adding the average monthly temperature and rain variables !!!\n",
    " \n",
    "The graph also shows a bit better, and we begin to see a trend on it. "
   ]
  },
  {
   "cell_type": "markdown",
   "metadata": {},
   "source": [
    "### World bank rain and temperature \n",
    " \n",
    "We found on our search the world bank temperature and rain data. We yet added such a variable, but it was the monthly average over the years. In the new dataset, we have the measures at a higher resolution (year/month). We will check if adding it will improve our model.\n",
    " \n",
    "The data is presented as excel files. We will read each of them:\n"
   ]
  },
  {
   "cell_type": "code",
   "execution_count": 44,
   "metadata": {},
   "outputs": [],
   "source": [
    "#Sys.setenv(JAVA_HOME=\"\")\n",
    "#if (!require(xlsx)){install.packages(\"xlsx\");require(rlist)}"
   ]
  },
  {
   "cell_type": "code",
   "execution_count": 36,
   "metadata": {},
   "outputs": [
    {
     "name": "stderr",
     "output_type": "stream",
     "text": [
      "Loading required package: gdata\n",
      "gdata: read.xls support for 'XLS' (Excel 97-2004) files ENABLED.\n",
      "\n",
      "gdata: read.xls support for 'XLSX' (Excel 2007+) files ENABLED.\n",
      "\n",
      "Attaching package: ‘gdata’\n",
      "\n",
      "The following objects are masked from ‘package:xts’:\n",
      "\n",
      "    first, last\n",
      "\n",
      "The following objects are masked from ‘package:dplyr’:\n",
      "\n",
      "    combine, first, last\n",
      "\n",
      "The following objects are masked from ‘package:data.table’:\n",
      "\n",
      "    first, last\n",
      "\n",
      "The following object is masked from ‘package:stats’:\n",
      "\n",
      "    nobs\n",
      "\n",
      "The following object is masked from ‘package:utils’:\n",
      "\n",
      "    object.size\n",
      "\n",
      "The following object is masked from ‘package:base’:\n",
      "\n",
      "    startsWith\n",
      "\n"
     ]
    }
   ],
   "source": [
    "if (!require(gdata)){install.packages(\"gdata\");require(gdata)}\n"
   ]
  },
  {
   "cell_type": "code",
   "execution_count": 38,
   "metadata": {},
   "outputs": [
    {
     "data": {
      "text/html": [
       "<table>\n",
       "<thead><tr><th scope=col>tas</th><th scope=col>X.Year</th><th scope=col>X.Month</th><th scope=col>X.Country</th><th scope=col>X.ISO3</th><th scope=col>X.ISO2</th></tr></thead>\n",
       "<tbody>\n",
       "\t<tr><td> 3.79271</td><td>1991    </td><td>1       </td><td>FRA     </td><td>NA      </td><td>NA      </td></tr>\n",
       "\t<tr><td> 3.25842</td><td>1991    </td><td>2       </td><td>FRA     </td><td>NA      </td><td>NA      </td></tr>\n",
       "\t<tr><td> 9.80699</td><td>1991    </td><td>3       </td><td>FRA     </td><td>NA      </td><td>NA      </td></tr>\n",
       "\t<tr><td> 9.28827</td><td>1991    </td><td>4       </td><td>FRA     </td><td>NA      </td><td>NA      </td></tr>\n",
       "\t<tr><td>11.74500</td><td>1991    </td><td>5       </td><td>FRA     </td><td>NA      </td><td>NA      </td></tr>\n",
       "\t<tr><td>15.66490</td><td>1991    </td><td>6       </td><td>FRA     </td><td>NA      </td><td>NA      </td></tr>\n",
       "</tbody>\n",
       "</table>\n"
      ],
      "text/latex": [
       "\\begin{tabular}{r|llllll}\n",
       " tas & X.Year & X.Month & X.Country & X.ISO3 & X.ISO2\\\\\n",
       "\\hline\n",
       "\t  3.79271 & 1991     & 1        & FRA      & NA       & NA      \\\\\n",
       "\t  3.25842 & 1991     & 2        & FRA      & NA       & NA      \\\\\n",
       "\t  9.80699 & 1991     & 3        & FRA      & NA       & NA      \\\\\n",
       "\t  9.28827 & 1991     & 4        & FRA      & NA       & NA      \\\\\n",
       "\t 11.74500 & 1991     & 5        & FRA      & NA       & NA      \\\\\n",
       "\t 15.66490 & 1991     & 6        & FRA      & NA       & NA      \\\\\n",
       "\\end{tabular}\n"
      ],
      "text/markdown": [
       "\n",
       "tas | X.Year | X.Month | X.Country | X.ISO3 | X.ISO2 | \n",
       "|---|---|---|---|---|---|\n",
       "|  3.79271 | 1991     | 1        | FRA      | NA       | NA       | \n",
       "|  3.25842 | 1991     | 2        | FRA      | NA       | NA       | \n",
       "|  9.80699 | 1991     | 3        | FRA      | NA       | NA       | \n",
       "|  9.28827 | 1991     | 4        | FRA      | NA       | NA       | \n",
       "| 11.74500 | 1991     | 5        | FRA      | NA       | NA       | \n",
       "| 15.66490 | 1991     | 6        | FRA      | NA       | NA       | \n",
       "\n",
       "\n"
      ],
      "text/plain": [
       "  tas      X.Year X.Month X.Country X.ISO3 X.ISO2\n",
       "1  3.79271 1991   1       FRA       NA     NA    \n",
       "2  3.25842 1991   2       FRA       NA     NA    \n",
       "3  9.80699 1991   3       FRA       NA     NA    \n",
       "4  9.28827 1991   4       FRA       NA     NA    \n",
       "5 11.74500 1991   5       FRA       NA     NA    \n",
       "6 15.66490 1991   6       FRA       NA     NA    "
      ]
     },
     "metadata": {},
     "output_type": "display_data"
    },
    {
     "data": {
      "text/html": [
       "<table>\n",
       "<thead><tr><th scope=col>pr</th><th scope=col>X.Year</th><th scope=col>X.Month</th><th scope=col>X.Country</th><th scope=col>X.ISO3</th><th scope=col>X.ISO2</th></tr></thead>\n",
       "<tbody>\n",
       "\t<tr><td>55.3925</td><td>1991   </td><td>1      </td><td>FRA    </td><td>NA     </td><td>NA     </td></tr>\n",
       "\t<tr><td>36.3468</td><td>1991   </td><td>2      </td><td>FRA    </td><td>NA     </td><td>NA     </td></tr>\n",
       "\t<tr><td>71.2423</td><td>1991   </td><td>3      </td><td>FRA    </td><td>NA     </td><td>NA     </td></tr>\n",
       "\t<tr><td>49.9777</td><td>1991   </td><td>4      </td><td>FRA    </td><td>NA     </td><td>NA     </td></tr>\n",
       "\t<tr><td>35.7295</td><td>1991   </td><td>5      </td><td>FRA    </td><td>NA     </td><td>NA     </td></tr>\n",
       "\t<tr><td>69.0414</td><td>1991   </td><td>6      </td><td>FRA    </td><td>NA     </td><td>NA     </td></tr>\n",
       "</tbody>\n",
       "</table>\n"
      ],
      "text/latex": [
       "\\begin{tabular}{r|llllll}\n",
       " pr & X.Year & X.Month & X.Country & X.ISO3 & X.ISO2\\\\\n",
       "\\hline\n",
       "\t 55.3925 & 1991    & 1       & FRA     & NA      & NA     \\\\\n",
       "\t 36.3468 & 1991    & 2       & FRA     & NA      & NA     \\\\\n",
       "\t 71.2423 & 1991    & 3       & FRA     & NA      & NA     \\\\\n",
       "\t 49.9777 & 1991    & 4       & FRA     & NA      & NA     \\\\\n",
       "\t 35.7295 & 1991    & 5       & FRA     & NA      & NA     \\\\\n",
       "\t 69.0414 & 1991    & 6       & FRA     & NA      & NA     \\\\\n",
       "\\end{tabular}\n"
      ],
      "text/markdown": [
       "\n",
       "pr | X.Year | X.Month | X.Country | X.ISO3 | X.ISO2 | \n",
       "|---|---|---|---|---|---|\n",
       "| 55.3925 | 1991    | 1       | FRA     | NA      | NA      | \n",
       "| 36.3468 | 1991    | 2       | FRA     | NA      | NA      | \n",
       "| 71.2423 | 1991    | 3       | FRA     | NA      | NA      | \n",
       "| 49.9777 | 1991    | 4       | FRA     | NA      | NA      | \n",
       "| 35.7295 | 1991    | 5       | FRA     | NA      | NA      | \n",
       "| 69.0414 | 1991    | 6       | FRA     | NA      | NA      | \n",
       "\n",
       "\n"
      ],
      "text/plain": [
       "  pr      X.Year X.Month X.Country X.ISO3 X.ISO2\n",
       "1 55.3925 1991   1       FRA       NA     NA    \n",
       "2 36.3468 1991   2       FRA       NA     NA    \n",
       "3 71.2423 1991   3       FRA       NA     NA    \n",
       "4 49.9777 1991   4       FRA       NA     NA    \n",
       "5 35.7295 1991   5       FRA       NA     NA    \n",
       "6 69.0414 1991   6       FRA       NA     NA    "
      ]
     },
     "metadata": {},
     "output_type": "display_data"
    }
   ],
   "source": [
    "wb.temp <- read.xls(\"/home/tomas/Documents/Technion/Data/tas_1991_2015.xls\")\n",
    "head(wb.temp)\n",
    "\n",
    "wb.rain <- read.xls(\"/home/tomas/Documents/Technion/Data/pr_1991_2015.xls\")\n",
    "head(wb.rain)\n"
   ]
  },
  {
   "cell_type": "code",
   "execution_count": 39,
   "metadata": {},
   "outputs": [
    {
     "data": {
      "text/html": [
       "<ol class=list-inline>\n",
       "\t<li>300</li>\n",
       "\t<li>6</li>\n",
       "</ol>\n"
      ],
      "text/latex": [
       "\\begin{enumerate*}\n",
       "\\item 300\n",
       "\\item 6\n",
       "\\end{enumerate*}\n"
      ],
      "text/markdown": [
       "1. 300\n",
       "2. 6\n",
       "\n",
       "\n"
      ],
      "text/plain": [
       "[1] 300   6"
      ]
     },
     "metadata": {},
     "output_type": "display_data"
    },
    {
     "name": "stdout",
     "output_type": "stream",
     "text": [
      "'data.frame':\t300 obs. of  6 variables:\n",
      " $ tas      : num  3.79 3.26 9.81 9.29 11.74 ...\n",
      " $ X.Year   : int  1991 1991 1991 1991 1991 1991 1991 1991 1991 1991 ...\n",
      " $ X.Month  : int  1 2 3 4 5 6 7 8 9 10 ...\n",
      " $ X.Country: Factor w/ 1 level \"FRA\": 1 1 1 1 1 1 1 1 1 1 ...\n",
      " $ X.ISO3   : logi  NA NA NA NA NA NA ...\n",
      " $ X.ISO2   : logi  NA NA NA NA NA NA ...\n"
     ]
    },
    {
     "data": {
      "text/plain": [
       "      tas             X.Year        X.Month      X.Country  X.ISO3       \n",
       " Min.   : 1.827   Min.   :1991   Min.   : 1.00   FRA:300   Mode:logical  \n",
       " 1st Qu.: 7.832   1st Qu.:1997   1st Qu.: 3.75             NA's:300      \n",
       " Median :11.526   Median :2003   Median : 6.50                           \n",
       " Mean   :12.012   Mean   :2003   Mean   : 6.50                           \n",
       " 3rd Qu.:16.858   3rd Qu.:2009   3rd Qu.: 9.25                           \n",
       " Max.   :21.603   Max.   :2015   Max.   :12.00                           \n",
       "  X.ISO2       \n",
       " Mode:logical  \n",
       " NA's:300      \n",
       "               \n",
       "               \n",
       "               \n",
       "               "
      ]
     },
     "metadata": {},
     "output_type": "display_data"
    },
    {
     "data": {
      "text/plain": [
       "      year          month       temperature_month\n",
       " Min.   :1991   Min.   : 1.00   Min.   : 1.827   \n",
       " 1st Qu.:1997   1st Qu.: 3.75   1st Qu.: 7.832   \n",
       " Median :2003   Median : 6.50   Median :11.526   \n",
       " Mean   :2003   Mean   : 6.50   Mean   :12.012   \n",
       " 3rd Qu.:2009   3rd Qu.: 9.25   3rd Qu.:16.858   \n",
       " Max.   :2015   Max.   :12.00   Max.   :21.603   "
      ]
     },
     "metadata": {},
     "output_type": "display_data"
    }
   ],
   "source": [
    "dim(wb.temp)\n",
    "str(wb.temp)\n",
    "summary(wb.temp)\n",
    "wb.temp <- wb.temp[,c(2,3,1)]\n",
    "names(wb.temp) <- c(\"year\", \"month\", \"temperature_month\")\n",
    "summary(wb.temp)"
   ]
  },
  {
   "cell_type": "code",
   "execution_count": 40,
   "metadata": {},
   "outputs": [
    {
     "data": {
      "text/html": [
       "<ol class=list-inline>\n",
       "\t<li>300</li>\n",
       "\t<li>6</li>\n",
       "</ol>\n"
      ],
      "text/latex": [
       "\\begin{enumerate*}\n",
       "\\item 300\n",
       "\\item 6\n",
       "\\end{enumerate*}\n"
      ],
      "text/markdown": [
       "1. 300\n",
       "2. 6\n",
       "\n",
       "\n"
      ],
      "text/plain": [
       "[1] 300   6"
      ]
     },
     "metadata": {},
     "output_type": "display_data"
    },
    {
     "data": {
      "text/plain": [
       "       pr             X.Year        X.Month      X.Country  X.ISO3       \n",
       " Min.   : 10.30   Min.   :1991   Min.   : 1.00   FRA:300   Mode:logical  \n",
       " 1st Qu.: 48.74   1st Qu.:1997   1st Qu.: 3.75             NA's:300      \n",
       " Median : 65.71   Median :2003   Median : 6.50                           \n",
       " Mean   : 70.08   Mean   :2003   Mean   : 6.50                           \n",
       " 3rd Qu.: 87.23   3rd Qu.:2009   3rd Qu.: 9.25                           \n",
       " Max.   :159.26   Max.   :2015   Max.   :12.00                           \n",
       "  X.ISO2       \n",
       " Mode:logical  \n",
       " NA's:300      \n",
       "               \n",
       "               \n",
       "               \n",
       "               "
      ]
     },
     "metadata": {},
     "output_type": "display_data"
    },
    {
     "data": {
      "text/plain": [
       "      year          month         rain_month    \n",
       " Min.   :1991   Min.   : 1.00   Min.   : 10.30  \n",
       " 1st Qu.:1997   1st Qu.: 3.75   1st Qu.: 48.74  \n",
       " Median :2003   Median : 6.50   Median : 65.71  \n",
       " Mean   :2003   Mean   : 6.50   Mean   : 70.08  \n",
       " 3rd Qu.:2009   3rd Qu.: 9.25   3rd Qu.: 87.23  \n",
       " Max.   :2015   Max.   :12.00   Max.   :159.26  "
      ]
     },
     "metadata": {},
     "output_type": "display_data"
    }
   ],
   "source": [
    "dim(wb.rain)\n",
    "summary(wb.rain)\n",
    "wb.rain <- wb.rain[,c(2,3,1)]\n",
    "names(wb.rain) <- c(\"year\", \"month\", \"rain_month\")\n",
    "summary(wb.rain)"
   ]
  },
  {
   "cell_type": "code",
   "execution_count": 41,
   "metadata": {},
   "outputs": [
    {
     "data": {
      "text/html": [
       "<table>\n",
       "<thead><tr><th scope=col>Date</th><th scope=col>Time</th><th scope=col>Global_active_power</th><th scope=col>Global_reactive_power</th><th scope=col>Voltage</th><th scope=col>Global_intensity</th><th scope=col>Sub_metering_1</th><th scope=col>Sub_metering_2</th><th scope=col>Sub_metering_3</th><th scope=col>datetime</th><th scope=col>⋯</th><th scope=col>wday</th><th scope=col>hour</th><th scope=col>minute</th><th scope=col>season</th><th scope=col>night</th><th scope=col>temperature_avg</th><th scope=col>temperature_min</th><th scope=col>temperature_max</th><th scope=col>rain</th><th scope=col>temperature_month</th></tr></thead>\n",
       "<tbody>\n",
       "\t<tr><td>16/12/2006         </td><td>17:24:00           </td><td>4.216              </td><td>0.418              </td><td>234.84             </td><td>18.4               </td><td>0                  </td><td>1                  </td><td>17                 </td><td>2006-12-16 17:24:00</td><td>⋯                  </td><td>7                  </td><td>17                 </td><td>24                 </td><td>Winter             </td><td>Day                </td><td>4                  </td><td>1.6                </td><td>6.4                </td><td>55                 </td><td>7.57946            </td></tr>\n",
       "\t<tr><td>16/12/2006         </td><td>17:25:00           </td><td>5.360              </td><td>0.436              </td><td>233.63             </td><td>23.0               </td><td>0                  </td><td>1                  </td><td>16                 </td><td>2006-12-16 17:25:00</td><td>⋯                  </td><td>7                  </td><td>17                 </td><td>25                 </td><td>Winter             </td><td>Day                </td><td>4                  </td><td>1.6                </td><td>6.4                </td><td>55                 </td><td>7.57946            </td></tr>\n",
       "\t<tr><td>16/12/2006         </td><td>17:26:00           </td><td>5.374              </td><td>0.498              </td><td>233.29             </td><td>23.0               </td><td>0                  </td><td>2                  </td><td>17                 </td><td>2006-12-16 17:26:00</td><td>⋯                  </td><td>7                  </td><td>17                 </td><td>26                 </td><td>Winter             </td><td>Day                </td><td>4                  </td><td>1.6                </td><td>6.4                </td><td>55                 </td><td>7.57946            </td></tr>\n",
       "\t<tr><td>16/12/2006         </td><td>17:27:00           </td><td>5.388              </td><td>0.502              </td><td>233.74             </td><td>23.0               </td><td>0                  </td><td>1                  </td><td>17                 </td><td>2006-12-16 17:27:00</td><td>⋯                  </td><td>7                  </td><td>17                 </td><td>27                 </td><td>Winter             </td><td>Day                </td><td>4                  </td><td>1.6                </td><td>6.4                </td><td>55                 </td><td>7.57946            </td></tr>\n",
       "\t<tr><td>16/12/2006         </td><td>17:28:00           </td><td>3.666              </td><td>0.528              </td><td>235.68             </td><td>15.8               </td><td>0                  </td><td>1                  </td><td>17                 </td><td>2006-12-16 17:28:00</td><td>⋯                  </td><td>7                  </td><td>17                 </td><td>28                 </td><td>Winter             </td><td>Day                </td><td>4                  </td><td>1.6                </td><td>6.4                </td><td>55                 </td><td>7.57946            </td></tr>\n",
       "\t<tr><td>16/12/2006         </td><td>17:29:00           </td><td>3.520              </td><td>0.522              </td><td>235.02             </td><td>15.0               </td><td>0                  </td><td>2                  </td><td>17                 </td><td>2006-12-16 17:29:00</td><td>⋯                  </td><td>7                  </td><td>17                 </td><td>29                 </td><td>Winter             </td><td>Day                </td><td>4                  </td><td>1.6                </td><td>6.4                </td><td>55                 </td><td>7.57946            </td></tr>\n",
       "</tbody>\n",
       "</table>\n"
      ],
      "text/latex": [
       "\\begin{tabular}{r|lllllllllllllllllllllll}\n",
       " Date & Time & Global\\_active\\_power & Global\\_reactive\\_power & Voltage & Global\\_intensity & Sub\\_metering\\_1 & Sub\\_metering\\_2 & Sub\\_metering\\_3 & datetime & ⋯ & wday & hour & minute & season & night & temperature\\_avg & temperature\\_min & temperature\\_max & rain & temperature\\_month\\\\\n",
       "\\hline\n",
       "\t 16/12/2006          & 17:24:00            & 4.216               & 0.418               & 234.84              & 18.4                & 0                   & 1                   & 17                  & 2006-12-16 17:24:00 & ⋯                   & 7                   & 17                  & 24                  & Winter              & Day                 & 4                   & 1.6                 & 6.4                 & 55                  & 7.57946            \\\\\n",
       "\t 16/12/2006          & 17:25:00            & 5.360               & 0.436               & 233.63              & 23.0                & 0                   & 1                   & 16                  & 2006-12-16 17:25:00 & ⋯                   & 7                   & 17                  & 25                  & Winter              & Day                 & 4                   & 1.6                 & 6.4                 & 55                  & 7.57946            \\\\\n",
       "\t 16/12/2006          & 17:26:00            & 5.374               & 0.498               & 233.29              & 23.0                & 0                   & 2                   & 17                  & 2006-12-16 17:26:00 & ⋯                   & 7                   & 17                  & 26                  & Winter              & Day                 & 4                   & 1.6                 & 6.4                 & 55                  & 7.57946            \\\\\n",
       "\t 16/12/2006          & 17:27:00            & 5.388               & 0.502               & 233.74              & 23.0                & 0                   & 1                   & 17                  & 2006-12-16 17:27:00 & ⋯                   & 7                   & 17                  & 27                  & Winter              & Day                 & 4                   & 1.6                 & 6.4                 & 55                  & 7.57946            \\\\\n",
       "\t 16/12/2006          & 17:28:00            & 3.666               & 0.528               & 235.68              & 15.8                & 0                   & 1                   & 17                  & 2006-12-16 17:28:00 & ⋯                   & 7                   & 17                  & 28                  & Winter              & Day                 & 4                   & 1.6                 & 6.4                 & 55                  & 7.57946            \\\\\n",
       "\t 16/12/2006          & 17:29:00            & 3.520               & 0.522               & 235.02              & 15.0                & 0                   & 2                   & 17                  & 2006-12-16 17:29:00 & ⋯                   & 7                   & 17                  & 29                  & Winter              & Day                 & 4                   & 1.6                 & 6.4                 & 55                  & 7.57946            \\\\\n",
       "\\end{tabular}\n"
      ],
      "text/markdown": [
       "\n",
       "Date | Time | Global_active_power | Global_reactive_power | Voltage | Global_intensity | Sub_metering_1 | Sub_metering_2 | Sub_metering_3 | datetime | ⋯ | wday | hour | minute | season | night | temperature_avg | temperature_min | temperature_max | rain | temperature_month | \n",
       "|---|---|---|---|---|---|\n",
       "| 16/12/2006          | 17:24:00            | 4.216               | 0.418               | 234.84              | 18.4                | 0                   | 1                   | 17                  | 2006-12-16 17:24:00 | ⋯                   | 7                   | 17                  | 24                  | Winter              | Day                 | 4                   | 1.6                 | 6.4                 | 55                  | 7.57946             | \n",
       "| 16/12/2006          | 17:25:00            | 5.360               | 0.436               | 233.63              | 23.0                | 0                   | 1                   | 16                  | 2006-12-16 17:25:00 | ⋯                   | 7                   | 17                  | 25                  | Winter              | Day                 | 4                   | 1.6                 | 6.4                 | 55                  | 7.57946             | \n",
       "| 16/12/2006          | 17:26:00            | 5.374               | 0.498               | 233.29              | 23.0                | 0                   | 2                   | 17                  | 2006-12-16 17:26:00 | ⋯                   | 7                   | 17                  | 26                  | Winter              | Day                 | 4                   | 1.6                 | 6.4                 | 55                  | 7.57946             | \n",
       "| 16/12/2006          | 17:27:00            | 5.388               | 0.502               | 233.74              | 23.0                | 0                   | 1                   | 17                  | 2006-12-16 17:27:00 | ⋯                   | 7                   | 17                  | 27                  | Winter              | Day                 | 4                   | 1.6                 | 6.4                 | 55                  | 7.57946             | \n",
       "| 16/12/2006          | 17:28:00            | 3.666               | 0.528               | 235.68              | 15.8                | 0                   | 1                   | 17                  | 2006-12-16 17:28:00 | ⋯                   | 7                   | 17                  | 28                  | Winter              | Day                 | 4                   | 1.6                 | 6.4                 | 55                  | 7.57946             | \n",
       "| 16/12/2006          | 17:29:00            | 3.520               | 0.522               | 235.02              | 15.0                | 0                   | 2                   | 17                  | 2006-12-16 17:29:00 | ⋯                   | 7                   | 17                  | 29                  | Winter              | Day                 | 4                   | 1.6                 | 6.4                 | 55                  | 7.57946             | \n",
       "\n",
       "\n"
      ],
      "text/plain": [
       "  Date       Time     Global_active_power Global_reactive_power Voltage\n",
       "1 16/12/2006 17:24:00 4.216               0.418                 234.84 \n",
       "2 16/12/2006 17:25:00 5.360               0.436                 233.63 \n",
       "3 16/12/2006 17:26:00 5.374               0.498                 233.29 \n",
       "4 16/12/2006 17:27:00 5.388               0.502                 233.74 \n",
       "5 16/12/2006 17:28:00 3.666               0.528                 235.68 \n",
       "6 16/12/2006 17:29:00 3.520               0.522                 235.02 \n",
       "  Global_intensity Sub_metering_1 Sub_metering_2 Sub_metering_3\n",
       "1 18.4             0              1              17            \n",
       "2 23.0             0              1              16            \n",
       "3 23.0             0              2              17            \n",
       "4 23.0             0              1              17            \n",
       "5 15.8             0              1              17            \n",
       "6 15.0             0              2              17            \n",
       "  datetime            ⋯ wday hour minute season night temperature_avg\n",
       "1 2006-12-16 17:24:00 ⋯ 7    17   24     Winter Day   4              \n",
       "2 2006-12-16 17:25:00 ⋯ 7    17   25     Winter Day   4              \n",
       "3 2006-12-16 17:26:00 ⋯ 7    17   26     Winter Day   4              \n",
       "4 2006-12-16 17:27:00 ⋯ 7    17   27     Winter Day   4              \n",
       "5 2006-12-16 17:28:00 ⋯ 7    17   28     Winter Day   4              \n",
       "6 2006-12-16 17:29:00 ⋯ 7    17   29     Winter Day   4              \n",
       "  temperature_min temperature_max rain temperature_month\n",
       "1 1.6             6.4             55   7.57946          \n",
       "2 1.6             6.4             55   7.57946          \n",
       "3 1.6             6.4             55   7.57946          \n",
       "4 1.6             6.4             55   7.57946          \n",
       "5 1.6             6.4             55   7.57946          \n",
       "6 1.6             6.4             55   7.57946          "
      ]
     },
     "metadata": {},
     "output_type": "display_data"
    }
   ],
   "source": [
    "### joining the monthly temperature\n",
    "power <- left_join(power,wb.temp,by=c(\"year\",\"month\"),copy=T)\n",
    "head(power)\n"
   ]
  },
  {
   "cell_type": "code",
   "execution_count": 42,
   "metadata": {},
   "outputs": [
    {
     "data": {
      "text/html": [
       "<table>\n",
       "<thead><tr><th scope=col>Date</th><th scope=col>Time</th><th scope=col>Global_active_power</th><th scope=col>Global_reactive_power</th><th scope=col>Voltage</th><th scope=col>Global_intensity</th><th scope=col>Sub_metering_1</th><th scope=col>Sub_metering_2</th><th scope=col>Sub_metering_3</th><th scope=col>datetime</th><th scope=col>⋯</th><th scope=col>hour</th><th scope=col>minute</th><th scope=col>season</th><th scope=col>night</th><th scope=col>temperature_avg</th><th scope=col>temperature_min</th><th scope=col>temperature_max</th><th scope=col>rain</th><th scope=col>temperature_month</th><th scope=col>rain_month</th></tr></thead>\n",
       "<tbody>\n",
       "\t<tr><td>16/12/2006         </td><td>17:24:00           </td><td>4.216              </td><td>0.418              </td><td>234.84             </td><td>18.4               </td><td>0                  </td><td>1                  </td><td>17                 </td><td>2006-12-16 17:24:00</td><td>⋯                  </td><td>17                 </td><td>24                 </td><td>Winter             </td><td>Day                </td><td>4                  </td><td>1.6                </td><td>6.4                </td><td>55                 </td><td>7.57946            </td><td>65.5835            </td></tr>\n",
       "\t<tr><td>16/12/2006         </td><td>17:25:00           </td><td>5.360              </td><td>0.436              </td><td>233.63             </td><td>23.0               </td><td>0                  </td><td>1                  </td><td>16                 </td><td>2006-12-16 17:25:00</td><td>⋯                  </td><td>17                 </td><td>25                 </td><td>Winter             </td><td>Day                </td><td>4                  </td><td>1.6                </td><td>6.4                </td><td>55                 </td><td>7.57946            </td><td>65.5835            </td></tr>\n",
       "\t<tr><td>16/12/2006         </td><td>17:26:00           </td><td>5.374              </td><td>0.498              </td><td>233.29             </td><td>23.0               </td><td>0                  </td><td>2                  </td><td>17                 </td><td>2006-12-16 17:26:00</td><td>⋯                  </td><td>17                 </td><td>26                 </td><td>Winter             </td><td>Day                </td><td>4                  </td><td>1.6                </td><td>6.4                </td><td>55                 </td><td>7.57946            </td><td>65.5835            </td></tr>\n",
       "\t<tr><td>16/12/2006         </td><td>17:27:00           </td><td>5.388              </td><td>0.502              </td><td>233.74             </td><td>23.0               </td><td>0                  </td><td>1                  </td><td>17                 </td><td>2006-12-16 17:27:00</td><td>⋯                  </td><td>17                 </td><td>27                 </td><td>Winter             </td><td>Day                </td><td>4                  </td><td>1.6                </td><td>6.4                </td><td>55                 </td><td>7.57946            </td><td>65.5835            </td></tr>\n",
       "\t<tr><td>16/12/2006         </td><td>17:28:00           </td><td>3.666              </td><td>0.528              </td><td>235.68             </td><td>15.8               </td><td>0                  </td><td>1                  </td><td>17                 </td><td>2006-12-16 17:28:00</td><td>⋯                  </td><td>17                 </td><td>28                 </td><td>Winter             </td><td>Day                </td><td>4                  </td><td>1.6                </td><td>6.4                </td><td>55                 </td><td>7.57946            </td><td>65.5835            </td></tr>\n",
       "\t<tr><td>16/12/2006         </td><td>17:29:00           </td><td>3.520              </td><td>0.522              </td><td>235.02             </td><td>15.0               </td><td>0                  </td><td>2                  </td><td>17                 </td><td>2006-12-16 17:29:00</td><td>⋯                  </td><td>17                 </td><td>29                 </td><td>Winter             </td><td>Day                </td><td>4                  </td><td>1.6                </td><td>6.4                </td><td>55                 </td><td>7.57946            </td><td>65.5835            </td></tr>\n",
       "</tbody>\n",
       "</table>\n"
      ],
      "text/latex": [
       "\\begin{tabular}{r|llllllllllllllllllllllll}\n",
       " Date & Time & Global\\_active\\_power & Global\\_reactive\\_power & Voltage & Global\\_intensity & Sub\\_metering\\_1 & Sub\\_metering\\_2 & Sub\\_metering\\_3 & datetime & ⋯ & hour & minute & season & night & temperature\\_avg & temperature\\_min & temperature\\_max & rain & temperature\\_month & rain\\_month\\\\\n",
       "\\hline\n",
       "\t 16/12/2006          & 17:24:00            & 4.216               & 0.418               & 234.84              & 18.4                & 0                   & 1                   & 17                  & 2006-12-16 17:24:00 & ⋯                   & 17                  & 24                  & Winter              & Day                 & 4                   & 1.6                 & 6.4                 & 55                  & 7.57946             & 65.5835            \\\\\n",
       "\t 16/12/2006          & 17:25:00            & 5.360               & 0.436               & 233.63              & 23.0                & 0                   & 1                   & 16                  & 2006-12-16 17:25:00 & ⋯                   & 17                  & 25                  & Winter              & Day                 & 4                   & 1.6                 & 6.4                 & 55                  & 7.57946             & 65.5835            \\\\\n",
       "\t 16/12/2006          & 17:26:00            & 5.374               & 0.498               & 233.29              & 23.0                & 0                   & 2                   & 17                  & 2006-12-16 17:26:00 & ⋯                   & 17                  & 26                  & Winter              & Day                 & 4                   & 1.6                 & 6.4                 & 55                  & 7.57946             & 65.5835            \\\\\n",
       "\t 16/12/2006          & 17:27:00            & 5.388               & 0.502               & 233.74              & 23.0                & 0                   & 1                   & 17                  & 2006-12-16 17:27:00 & ⋯                   & 17                  & 27                  & Winter              & Day                 & 4                   & 1.6                 & 6.4                 & 55                  & 7.57946             & 65.5835            \\\\\n",
       "\t 16/12/2006          & 17:28:00            & 3.666               & 0.528               & 235.68              & 15.8                & 0                   & 1                   & 17                  & 2006-12-16 17:28:00 & ⋯                   & 17                  & 28                  & Winter              & Day                 & 4                   & 1.6                 & 6.4                 & 55                  & 7.57946             & 65.5835            \\\\\n",
       "\t 16/12/2006          & 17:29:00            & 3.520               & 0.522               & 235.02              & 15.0                & 0                   & 2                   & 17                  & 2006-12-16 17:29:00 & ⋯                   & 17                  & 29                  & Winter              & Day                 & 4                   & 1.6                 & 6.4                 & 55                  & 7.57946             & 65.5835            \\\\\n",
       "\\end{tabular}\n"
      ],
      "text/markdown": [
       "\n",
       "Date | Time | Global_active_power | Global_reactive_power | Voltage | Global_intensity | Sub_metering_1 | Sub_metering_2 | Sub_metering_3 | datetime | ⋯ | hour | minute | season | night | temperature_avg | temperature_min | temperature_max | rain | temperature_month | rain_month | \n",
       "|---|---|---|---|---|---|\n",
       "| 16/12/2006          | 17:24:00            | 4.216               | 0.418               | 234.84              | 18.4                | 0                   | 1                   | 17                  | 2006-12-16 17:24:00 | ⋯                   | 17                  | 24                  | Winter              | Day                 | 4                   | 1.6                 | 6.4                 | 55                  | 7.57946             | 65.5835             | \n",
       "| 16/12/2006          | 17:25:00            | 5.360               | 0.436               | 233.63              | 23.0                | 0                   | 1                   | 16                  | 2006-12-16 17:25:00 | ⋯                   | 17                  | 25                  | Winter              | Day                 | 4                   | 1.6                 | 6.4                 | 55                  | 7.57946             | 65.5835             | \n",
       "| 16/12/2006          | 17:26:00            | 5.374               | 0.498               | 233.29              | 23.0                | 0                   | 2                   | 17                  | 2006-12-16 17:26:00 | ⋯                   | 17                  | 26                  | Winter              | Day                 | 4                   | 1.6                 | 6.4                 | 55                  | 7.57946             | 65.5835             | \n",
       "| 16/12/2006          | 17:27:00            | 5.388               | 0.502               | 233.74              | 23.0                | 0                   | 1                   | 17                  | 2006-12-16 17:27:00 | ⋯                   | 17                  | 27                  | Winter              | Day                 | 4                   | 1.6                 | 6.4                 | 55                  | 7.57946             | 65.5835             | \n",
       "| 16/12/2006          | 17:28:00            | 3.666               | 0.528               | 235.68              | 15.8                | 0                   | 1                   | 17                  | 2006-12-16 17:28:00 | ⋯                   | 17                  | 28                  | Winter              | Day                 | 4                   | 1.6                 | 6.4                 | 55                  | 7.57946             | 65.5835             | \n",
       "| 16/12/2006          | 17:29:00            | 3.520               | 0.522               | 235.02              | 15.0                | 0                   | 2                   | 17                  | 2006-12-16 17:29:00 | ⋯                   | 17                  | 29                  | Winter              | Day                 | 4                   | 1.6                 | 6.4                 | 55                  | 7.57946             | 65.5835             | \n",
       "\n",
       "\n"
      ],
      "text/plain": [
       "  Date       Time     Global_active_power Global_reactive_power Voltage\n",
       "1 16/12/2006 17:24:00 4.216               0.418                 234.84 \n",
       "2 16/12/2006 17:25:00 5.360               0.436                 233.63 \n",
       "3 16/12/2006 17:26:00 5.374               0.498                 233.29 \n",
       "4 16/12/2006 17:27:00 5.388               0.502                 233.74 \n",
       "5 16/12/2006 17:28:00 3.666               0.528                 235.68 \n",
       "6 16/12/2006 17:29:00 3.520               0.522                 235.02 \n",
       "  Global_intensity Sub_metering_1 Sub_metering_2 Sub_metering_3\n",
       "1 18.4             0              1              17            \n",
       "2 23.0             0              1              16            \n",
       "3 23.0             0              2              17            \n",
       "4 23.0             0              1              17            \n",
       "5 15.8             0              1              17            \n",
       "6 15.0             0              2              17            \n",
       "  datetime            ⋯ hour minute season night temperature_avg\n",
       "1 2006-12-16 17:24:00 ⋯ 17   24     Winter Day   4              \n",
       "2 2006-12-16 17:25:00 ⋯ 17   25     Winter Day   4              \n",
       "3 2006-12-16 17:26:00 ⋯ 17   26     Winter Day   4              \n",
       "4 2006-12-16 17:27:00 ⋯ 17   27     Winter Day   4              \n",
       "5 2006-12-16 17:28:00 ⋯ 17   28     Winter Day   4              \n",
       "6 2006-12-16 17:29:00 ⋯ 17   29     Winter Day   4              \n",
       "  temperature_min temperature_max rain temperature_month rain_month\n",
       "1 1.6             6.4             55   7.57946           65.5835   \n",
       "2 1.6             6.4             55   7.57946           65.5835   \n",
       "3 1.6             6.4             55   7.57946           65.5835   \n",
       "4 1.6             6.4             55   7.57946           65.5835   \n",
       "5 1.6             6.4             55   7.57946           65.5835   \n",
       "6 1.6             6.4             55   7.57946           65.5835   "
      ]
     },
     "metadata": {},
     "output_type": "display_data"
    }
   ],
   "source": [
    "### joining the monthly rain (precipitations)\n",
    "power <- left_join(power,wb.rain,by=c(\"year\",\"month\"),copy=T)\n",
    "head(power)"
   ]
  },
  {
   "cell_type": "markdown",
   "metadata": {},
   "source": [
    "Now lets try our new model..."
   ]
  },
  {
   "cell_type": "code",
   "execution_count": 43,
   "metadata": {},
   "outputs": [
    {
     "data": {
      "text/plain": [
       "\n",
       "Call:\n",
       "lm(formula = Voltage ~ ., data = power[, vn])\n",
       "\n",
       "Residuals:\n",
       "     Min       1Q   Median       3Q      Max \n",
       "-15.3657  -1.4579   0.0738   1.5592  16.5271 \n",
       "\n",
       "Coefficients:\n",
       "                        Estimate Std. Error t value Pr(>|t|)    \n",
       "(Intercept)           -1.192e+03  3.209e+00 -371.57   <2e-16 ***\n",
       "Global_active_power    1.272e+01  4.053e-02  313.85   <2e-16 ***\n",
       "Global_reactive_power  3.977e+00  1.716e-02  231.75   <2e-16 ***\n",
       "Global_intensity      -3.439e+00  9.561e-03 -359.65   <2e-16 ***\n",
       "Sub_metering_1         4.217e-02  3.512e-04  120.07   <2e-16 ***\n",
       "Sub_metering_2         5.176e-02  3.577e-04  144.71   <2e-16 ***\n",
       "Sub_metering_3        -6.272e-03  3.215e-04  -19.51   <2e-16 ***\n",
       "year                   7.189e-01  1.596e-03  450.47   <2e-16 ***\n",
       "month                 -5.086e-02  2.781e-03  -18.29   <2e-16 ***\n",
       "day                    9.073e-03  1.896e-04   47.85   <2e-16 ***\n",
       "wday                  -3.414e-02  8.368e-04  -40.79   <2e-16 ***\n",
       "hour                  -1.245e-02  2.591e-04  -48.02   <2e-16 ***\n",
       "minute                 2.060e-03  9.619e-05   21.41   <2e-16 ***\n",
       "seasonSummer          -1.372e+00  1.919e-02  -71.53   <2e-16 ***\n",
       "seasonAutum            1.791e+00  1.454e-02  123.19   <2e-16 ***\n",
       "seasonWinter           2.066e+00  1.593e-02  129.68   <2e-16 ***\n",
       "nightNight             8.148e-01  3.582e-03  227.47   <2e-16 ***\n",
       "temperature_avg       -2.914e+01  1.612e-01 -180.73   <2e-16 ***\n",
       "temperature_min        1.420e+01  7.771e-02  182.74   <2e-16 ***\n",
       "temperature_max        1.452e+01  8.280e-02  175.35   <2e-16 ***\n",
       "rain                  -1.162e-01  6.900e-04 -168.38   <2e-16 ***\n",
       "temperature_month     -4.367e-02  1.524e-03  -28.65   <2e-16 ***\n",
       "rain_month            -9.280e-03  8.712e-05 -106.51   <2e-16 ***\n",
       "---\n",
       "Signif. codes:  0 ‘***’ 0.001 ‘**’ 0.01 ‘*’ 0.05 ‘.’ 0.1 ‘ ’ 1\n",
       "\n",
       "Residual standard error: 2.384 on 2049257 degrees of freedom\n",
       "  (25979 observations deleted due to missingness)\n",
       "Multiple R-squared:  0.4584,\tAdjusted R-squared:  0.4584 \n",
       "F-statistic: 7.883e+04 on 22 and 2049257 DF,  p-value: < 2.2e-16\n"
      ]
     },
     "metadata": {},
     "output_type": "display_data"
    }
   ],
   "source": [
    "vn <- c(\"Voltage\",\"Global_active_power\",\"Global_reactive_power\",\"Global_intensity\",\"Sub_metering_1\",\"Sub_metering_2\",\"Sub_metering_3\",\n",
    "       \"year\",\"month\",\"day\",\"wday\",\"hour\",\"minute\",\"season\",\"night\",\"temperature_avg\",\"temperature_min\",\"temperature_max\",\"rain\",\"temperature_month\",\"rain_month\")\n",
    "\n",
    "mod <- lm(Voltage ~., data=power[,vn])\n",
    "summary(mod)"
   ]
  },
  {
   "cell_type": "code",
   "execution_count": 37,
   "metadata": {},
   "outputs": [
    {
     "data": {
      "image/png": "[encoded data removed]",
      "text/plain": [
       "plot without title"
      ]
     },
     "metadata": {},
     "output_type": "display_data"
    }
   ],
   "source": [
    "pred <- predict(mod, newdata=power)\n",
    "plot(pred ~ power$Voltage)"
   ]
  },
  {
   "cell_type": "markdown",
   "metadata": {},
   "source": [
    "The new variables have added to this model another improvement. The R-square improved from 0.4554 to 0.4584. \n",
    " \n",
    "We will now try to improve our model a bit more by adding some interaction features"
   ]
  },
  {
   "cell_type": "code",
   "execution_count": 44,
   "metadata": {},
   "outputs": [],
   "source": [
    "options(repr.plot.width = 3, repr.plot.height = 3)"
   ]
  },
  {
   "cell_type": "code",
   "execution_count": 45,
   "metadata": {},
   "outputs": [
    {
     "data": {
      "text/html": [
       "<table>\n",
       "<thead><tr><th scope=col>Date</th><th scope=col>Time</th><th scope=col>Global_active_power</th><th scope=col>Global_reactive_power</th><th scope=col>Voltage</th><th scope=col>Global_intensity</th><th scope=col>Sub_metering_1</th><th scope=col>Sub_metering_2</th><th scope=col>Sub_metering_3</th><th scope=col>datetime</th><th scope=col>⋯</th><th scope=col>night</th><th scope=col>temperature_avg</th><th scope=col>temperature_min</th><th scope=col>temperature_max</th><th scope=col>rain</th><th scope=col>temperature_month</th><th scope=col>rain_month</th><th scope=col>temperature_delta</th><th scope=col>temperature_ratio</th><th scope=col>rain_ratio</th></tr></thead>\n",
       "<tbody>\n",
       "\t<tr><td>16/12/2006         </td><td>17:24:00           </td><td>4.216              </td><td>0.418              </td><td>234.84             </td><td>18.4               </td><td>0                  </td><td>1                  </td><td>17                 </td><td>2006-12-16 17:24:00</td><td>⋯                  </td><td>Day                </td><td>4                  </td><td>1.6                </td><td>6.4                </td><td>55                 </td><td>7.57946            </td><td>65.5835            </td><td>4                  </td><td>1.894865           </td><td>1.192427           </td></tr>\n",
       "\t<tr><td>16/12/2006         </td><td>17:25:00           </td><td>5.360              </td><td>0.436              </td><td>233.63             </td><td>23.0               </td><td>0                  </td><td>1                  </td><td>16                 </td><td>2006-12-16 17:25:00</td><td>⋯                  </td><td>Day                </td><td>4                  </td><td>1.6                </td><td>6.4                </td><td>55                 </td><td>7.57946            </td><td>65.5835            </td><td>4                  </td><td>1.894865           </td><td>1.192427           </td></tr>\n",
       "\t<tr><td>16/12/2006         </td><td>17:26:00           </td><td>5.374              </td><td>0.498              </td><td>233.29             </td><td>23.0               </td><td>0                  </td><td>2                  </td><td>17                 </td><td>2006-12-16 17:26:00</td><td>⋯                  </td><td>Day                </td><td>4                  </td><td>1.6                </td><td>6.4                </td><td>55                 </td><td>7.57946            </td><td>65.5835            </td><td>4                  </td><td>1.894865           </td><td>1.192427           </td></tr>\n",
       "\t<tr><td>16/12/2006         </td><td>17:27:00           </td><td>5.388              </td><td>0.502              </td><td>233.74             </td><td>23.0               </td><td>0                  </td><td>1                  </td><td>17                 </td><td>2006-12-16 17:27:00</td><td>⋯                  </td><td>Day                </td><td>4                  </td><td>1.6                </td><td>6.4                </td><td>55                 </td><td>7.57946            </td><td>65.5835            </td><td>4                  </td><td>1.894865           </td><td>1.192427           </td></tr>\n",
       "\t<tr><td>16/12/2006         </td><td>17:28:00           </td><td>3.666              </td><td>0.528              </td><td>235.68             </td><td>15.8               </td><td>0                  </td><td>1                  </td><td>17                 </td><td>2006-12-16 17:28:00</td><td>⋯                  </td><td>Day                </td><td>4                  </td><td>1.6                </td><td>6.4                </td><td>55                 </td><td>7.57946            </td><td>65.5835            </td><td>4                  </td><td>1.894865           </td><td>1.192427           </td></tr>\n",
       "\t<tr><td>16/12/2006         </td><td>17:29:00           </td><td>3.520              </td><td>0.522              </td><td>235.02             </td><td>15.0               </td><td>0                  </td><td>2                  </td><td>17                 </td><td>2006-12-16 17:29:00</td><td>⋯                  </td><td>Day                </td><td>4                  </td><td>1.6                </td><td>6.4                </td><td>55                 </td><td>7.57946            </td><td>65.5835            </td><td>4                  </td><td>1.894865           </td><td>1.192427           </td></tr>\n",
       "</tbody>\n",
       "</table>\n"
      ],
      "text/latex": [
       "\\begin{tabular}{r|lllllllllllllllllllllllllll}\n",
       " Date & Time & Global\\_active\\_power & Global\\_reactive\\_power & Voltage & Global\\_intensity & Sub\\_metering\\_1 & Sub\\_metering\\_2 & Sub\\_metering\\_3 & datetime & ⋯ & night & temperature\\_avg & temperature\\_min & temperature\\_max & rain & temperature\\_month & rain\\_month & temperature\\_delta & temperature\\_ratio & rain\\_ratio\\\\\n",
       "\\hline\n",
       "\t 16/12/2006          & 17:24:00            & 4.216               & 0.418               & 234.84              & 18.4                & 0                   & 1                   & 17                  & 2006-12-16 17:24:00 & ⋯                   & Day                 & 4                   & 1.6                 & 6.4                 & 55                  & 7.57946             & 65.5835             & 4                   & 1.894865            & 1.192427           \\\\\n",
       "\t 16/12/2006          & 17:25:00            & 5.360               & 0.436               & 233.63              & 23.0                & 0                   & 1                   & 16                  & 2006-12-16 17:25:00 & ⋯                   & Day                 & 4                   & 1.6                 & 6.4                 & 55                  & 7.57946             & 65.5835             & 4                   & 1.894865            & 1.192427           \\\\\n",
       "\t 16/12/2006          & 17:26:00            & 5.374               & 0.498               & 233.29              & 23.0                & 0                   & 2                   & 17                  & 2006-12-16 17:26:00 & ⋯                   & Day                 & 4                   & 1.6                 & 6.4                 & 55                  & 7.57946             & 65.5835             & 4                   & 1.894865            & 1.192427           \\\\\n",
       "\t 16/12/2006          & 17:27:00            & 5.388               & 0.502               & 233.74              & 23.0                & 0                   & 1                   & 17                  & 2006-12-16 17:27:00 & ⋯                   & Day                 & 4                   & 1.6                 & 6.4                 & 55                  & 7.57946             & 65.5835             & 4                   & 1.894865            & 1.192427           \\\\\n",
       "\t 16/12/2006          & 17:28:00            & 3.666               & 0.528               & 235.68              & 15.8                & 0                   & 1                   & 17                  & 2006-12-16 17:28:00 & ⋯                   & Day                 & 4                   & 1.6                 & 6.4                 & 55                  & 7.57946             & 65.5835             & 4                   & 1.894865            & 1.192427           \\\\\n",
       "\t 16/12/2006          & 17:29:00            & 3.520               & 0.522               & 235.02              & 15.0                & 0                   & 2                   & 17                  & 2006-12-16 17:29:00 & ⋯                   & Day                 & 4                   & 1.6                 & 6.4                 & 55                  & 7.57946             & 65.5835             & 4                   & 1.894865            & 1.192427           \\\\\n",
       "\\end{tabular}\n"
      ],
      "text/markdown": [
       "\n",
       "Date | Time | Global_active_power | Global_reactive_power | Voltage | Global_intensity | Sub_metering_1 | Sub_metering_2 | Sub_metering_3 | datetime | ⋯ | night | temperature_avg | temperature_min | temperature_max | rain | temperature_month | rain_month | temperature_delta | temperature_ratio | rain_ratio | \n",
       "|---|---|---|---|---|---|\n",
       "| 16/12/2006          | 17:24:00            | 4.216               | 0.418               | 234.84              | 18.4                | 0                   | 1                   | 17                  | 2006-12-16 17:24:00 | ⋯                   | Day                 | 4                   | 1.6                 | 6.4                 | 55                  | 7.57946             | 65.5835             | 4                   | 1.894865            | 1.192427            | \n",
       "| 16/12/2006          | 17:25:00            | 5.360               | 0.436               | 233.63              | 23.0                | 0                   | 1                   | 16                  | 2006-12-16 17:25:00 | ⋯                   | Day                 | 4                   | 1.6                 | 6.4                 | 55                  | 7.57946             | 65.5835             | 4                   | 1.894865            | 1.192427            | \n",
       "| 16/12/2006          | 17:26:00            | 5.374               | 0.498               | 233.29              | 23.0                | 0                   | 2                   | 17                  | 2006-12-16 17:26:00 | ⋯                   | Day                 | 4                   | 1.6                 | 6.4                 | 55                  | 7.57946             | 65.5835             | 4                   | 1.894865            | 1.192427            | \n",
       "| 16/12/2006          | 17:27:00            | 5.388               | 0.502               | 233.74              | 23.0                | 0                   | 1                   | 17                  | 2006-12-16 17:27:00 | ⋯                   | Day                 | 4                   | 1.6                 | 6.4                 | 55                  | 7.57946             | 65.5835             | 4                   | 1.894865            | 1.192427            | \n",
       "| 16/12/2006          | 17:28:00            | 3.666               | 0.528               | 235.68              | 15.8                | 0                   | 1                   | 17                  | 2006-12-16 17:28:00 | ⋯                   | Day                 | 4                   | 1.6                 | 6.4                 | 55                  | 7.57946             | 65.5835             | 4                   | 1.894865            | 1.192427            | \n",
       "| 16/12/2006          | 17:29:00            | 3.520               | 0.522               | 235.02              | 15.0                | 0                   | 2                   | 17                  | 2006-12-16 17:29:00 | ⋯                   | Day                 | 4                   | 1.6                 | 6.4                 | 55                  | 7.57946             | 65.5835             | 4                   | 1.894865            | 1.192427            | \n",
       "\n",
       "\n"
      ],
      "text/plain": [
       "  Date       Time     Global_active_power Global_reactive_power Voltage\n",
       "1 16/12/2006 17:24:00 4.216               0.418                 234.84 \n",
       "2 16/12/2006 17:25:00 5.360               0.436                 233.63 \n",
       "3 16/12/2006 17:26:00 5.374               0.498                 233.29 \n",
       "4 16/12/2006 17:27:00 5.388               0.502                 233.74 \n",
       "5 16/12/2006 17:28:00 3.666               0.528                 235.68 \n",
       "6 16/12/2006 17:29:00 3.520               0.522                 235.02 \n",
       "  Global_intensity Sub_metering_1 Sub_metering_2 Sub_metering_3\n",
       "1 18.4             0              1              17            \n",
       "2 23.0             0              1              16            \n",
       "3 23.0             0              2              17            \n",
       "4 23.0             0              1              17            \n",
       "5 15.8             0              1              17            \n",
       "6 15.0             0              2              17            \n",
       "  datetime            ⋯ night temperature_avg temperature_min temperature_max\n",
       "1 2006-12-16 17:24:00 ⋯ Day   4               1.6             6.4            \n",
       "2 2006-12-16 17:25:00 ⋯ Day   4               1.6             6.4            \n",
       "3 2006-12-16 17:26:00 ⋯ Day   4               1.6             6.4            \n",
       "4 2006-12-16 17:27:00 ⋯ Day   4               1.6             6.4            \n",
       "5 2006-12-16 17:28:00 ⋯ Day   4               1.6             6.4            \n",
       "6 2006-12-16 17:29:00 ⋯ Day   4               1.6             6.4            \n",
       "  rain temperature_month rain_month temperature_delta temperature_ratio\n",
       "1 55   7.57946           65.5835    4                 1.894865         \n",
       "2 55   7.57946           65.5835    4                 1.894865         \n",
       "3 55   7.57946           65.5835    4                 1.894865         \n",
       "4 55   7.57946           65.5835    4                 1.894865         \n",
       "5 55   7.57946           65.5835    4                 1.894865         \n",
       "6 55   7.57946           65.5835    4                 1.894865         \n",
       "  rain_ratio\n",
       "1 1.192427  \n",
       "2 1.192427  \n",
       "3 1.192427  \n",
       "4 1.192427  \n",
       "5 1.192427  \n",
       "6 1.192427  "
      ]
     },
     "metadata": {},
     "output_type": "display_data"
    }
   ],
   "source": [
    "### more transformations:\n",
    "\n",
    "power$temperature_delta <- power$temperature_max/power$temperature_min\n",
    "power$temperature_ratio <- power$temperature_month/power$temperature_avg\n",
    "power$rain_ratio <- power$rain_month/power$rain\n",
    "\n",
    "head(power)\n"
   ]
  },
  {
   "cell_type": "code",
   "execution_count": 46,
   "metadata": {},
   "outputs": [
    {
     "data": {
      "text/plain": [
       "\n",
       "Call:\n",
       "lm(formula = Voltage ~ ., data = power[, vn])\n",
       "\n",
       "Residuals:\n",
       "     Min       1Q   Median       3Q      Max \n",
       "-16.0225  -1.4543   0.0627   1.5385  16.2357 \n",
       "\n",
       "Coefficients:\n",
       "                        Estimate Std. Error t value Pr(>|t|)    \n",
       "(Intercept)           -1.267e+03  3.322e+00 -381.30   <2e-16 ***\n",
       "Global_active_power    1.231e+01  4.016e-02  306.42   <2e-16 ***\n",
       "Global_reactive_power  3.814e+00  1.700e-02  224.26   <2e-16 ***\n",
       "Global_intensity      -3.342e+00  9.473e-03 -352.86   <2e-16 ***\n",
       "Sub_metering_1         4.310e-02  3.477e-04  123.97   <2e-16 ***\n",
       "Sub_metering_2         5.196e-02  3.539e-04  146.80   <2e-16 ***\n",
       "Sub_metering_3        -5.300e-03  3.182e-04  -16.66   <2e-16 ***\n",
       "year                   7.467e-01  1.646e-03  453.50   <2e-16 ***\n",
       "month                  1.820e-01  3.420e-03   53.20   <2e-16 ***\n",
       "day                    8.149e-03  1.877e-04   43.41   <2e-16 ***\n",
       "wday                  -3.596e-02  8.279e-04  -43.43   <2e-16 ***\n",
       "hour                  -1.183e-02  2.564e-04  -46.14   <2e-16 ***\n",
       "minute                 2.064e-03  9.515e-05   21.69   <2e-16 ***\n",
       "seasonSummer          -1.215e+00  1.925e-02  -63.11   <2e-16 ***\n",
       "seasonAutum            1.886e+00  1.464e-02  128.83   <2e-16 ***\n",
       "seasonWinter           1.569e+00  1.617e-02   97.01   <2e-16 ***\n",
       "nightNight             8.157e-01  3.544e-03  230.19   <2e-16 ***\n",
       "temperature_avg       -1.645e+01  2.638e-01  -62.34   <2e-16 ***\n",
       "temperature_min        7.262e+00  1.324e-01   54.84   <2e-16 ***\n",
       "temperature_max        8.433e+00  1.301e-01   64.82   <2e-16 ***\n",
       "rain                   1.352e-01  1.426e-03   94.76   <2e-16 ***\n",
       "temperature_month      2.823e-01  3.120e-03   90.48   <2e-16 ***\n",
       "rain_month            -1.621e-01  8.590e-04 -188.73   <2e-16 ***\n",
       "temperature_delta      5.003e-01  5.645e-03   88.63   <2e-16 ***\n",
       "temperature_ratio     -1.213e+00  1.462e-02  -82.98   <2e-16 ***\n",
       "rain_ratio             8.310e+00  4.580e-02  181.42   <2e-16 ***\n",
       "---\n",
       "Signif. codes:  0 ‘***’ 0.001 ‘**’ 0.01 ‘*’ 0.05 ‘.’ 0.1 ‘ ’ 1\n",
       "\n",
       "Residual standard error: 2.359 on 2049254 degrees of freedom\n",
       "  (25979 observations deleted due to missingness)\n",
       "Multiple R-squared:   0.47,\tAdjusted R-squared:   0.47 \n",
       "F-statistic: 7.269e+04 on 25 and 2049254 DF,  p-value: < 2.2e-16\n"
      ]
     },
     "metadata": {},
     "output_type": "display_data"
    }
   ],
   "source": [
    "vn <- c(\"Voltage\",\"Global_active_power\",\"Global_reactive_power\",\"Global_intensity\",\"Sub_metering_1\",\"Sub_metering_2\",\"Sub_metering_3\",\n",
    "       \"year\",\"month\",\"day\",\"wday\",\"hour\",\"minute\",\"season\",\"night\",\"temperature_avg\",\"temperature_min\",\"temperature_max\",\"rain\",\"temperature_month\",\"rain_month\",\n",
    "       \"temperature_delta\",\"temperature_ratio\",\"rain_ratio\")\n",
    "\n",
    "mod <- lm(Voltage ~., data=power[,vn])\n",
    "summary(mod)"
   ]
  },
  {
   "cell_type": "code",
   "execution_count": 82,
   "metadata": {},
   "outputs": [
    {
     "data": {
      "image/png": "[encoded data removed]",
      "text/plain": [
       "plot without title"
      ]
     },
     "metadata": {},
     "output_type": "display_data"
    }
   ],
   "source": [
    "pred <- predict(mod, newdata=power)\n",
    "plot(pred ~ power$Voltage)"
   ]
  },
  {
   "cell_type": "markdown",
   "metadata": {},
   "source": [
    "We added another bit of improvement. The R-square improved from 0.4584 to 0.470 !!!"
   ]
  },
  {
   "cell_type": "code",
   "execution_count": 58,
   "metadata": {},
   "outputs": [
    {
     "data": {
      "text/plain": [
       "                    Votlage\n",
       "2006-12-16 17:24:00  234.84\n",
       "2006-12-16 17:25:00  233.63\n",
       "2006-12-16 17:26:00  233.29\n",
       "2006-12-16 17:27:00  233.74\n",
       "2006-12-16 17:28:00  235.68\n",
       "2006-12-16 17:29:00  235.02"
      ]
     },
     "metadata": {},
     "output_type": "display_data"
    }
   ],
   "source": [
    "### Add time-series based data\n",
    "names(power.ts) <- \"Votlage\"\n",
    "head(power.ts)"
   ]
  },
  {
   "cell_type": "code",
   "execution_count": 61,
   "metadata": {},
   "outputs": [
    {
     "name": "stderr",
     "output_type": "stream",
     "text": [
      "Loading required package: imputeTS\n",
      "Warning message in library(package, lib.loc = lib.loc, character.only = TRUE, logical.return = TRUE, :\n",
      "“there is no package called ‘imputeTS’”Installing package into ‘/home/tomas/R/x86_64-pc-linux-gnu-library/3.4’\n",
      "(as ‘lib’ is unspecified)\n",
      "also installing the dependency ‘stinepack’\n",
      "\n",
      "Loading required package: imputeTS\n",
      "\n",
      "Attaching package: ‘imputeTS’\n",
      "\n",
      "The following object is masked from ‘package:zoo’:\n",
      "\n",
      "    na.locf\n",
      "\n"
     ]
    }
   ],
   "source": [
    "if (!require(TTR)){install.packages(\"TTR\");require(TTR)}\n",
    "if (!require(imputeTS)){install.packages(\"imputeTS\");require(imputeTS)}"
   ]
  },
  {
   "cell_type": "code",
   "execution_count": 68,
   "metadata": {},
   "outputs": [
    {
     "data": {
      "text/plain": [
       "                    Votlage\n",
       "2006-12-16 17:24:00  234.84\n",
       "2006-12-16 17:25:00  233.63\n",
       "2006-12-16 17:26:00  233.29\n",
       "2006-12-16 17:27:00  233.74\n",
       "2006-12-16 17:28:00  235.68\n",
       "2006-12-16 17:29:00  235.02"
      ]
     },
     "metadata": {},
     "output_type": "display_data"
    }
   ],
   "source": [
    "## Impute missing values using \"Last Observation Carried Forward\"\n",
    "power.ts$Voltage <- na.locf(power.ts$Votlage)\n",
    "\n",
    "vec <- which(!complete.cases(power.ts))  # rows 2305 2398\n",
    "power.ts2 <- power.ts[-vec, ]\n",
    "head(power.ts)"
   ]
  },
  {
   "cell_type": "code",
   "execution_count": 74,
   "metadata": {},
   "outputs": [
    {
     "data": {
      "text/plain": [
       "                    Votlage Voltage_last5_min\n",
       "2006-12-16 17:24:00  234.84                NA\n",
       "2006-12-16 17:25:00  233.63                NA\n",
       "2006-12-16 17:26:00  233.29                NA\n",
       "2006-12-16 17:27:00  233.74                NA\n",
       "2006-12-16 17:28:00  235.68            233.29\n",
       "2006-12-16 17:29:00  235.02            233.29\n",
       "2006-12-16 17:30:00  235.09            233.29\n",
       "2006-12-16 17:31:00  235.22            233.74\n",
       "2006-12-16 17:32:00  233.99            233.99\n",
       "2006-12-16 17:33:00  233.86            233.86"
      ]
     },
     "metadata": {},
     "output_type": "display_data"
    }
   ],
   "source": [
    "## add new variables\n",
    "power.ts$Voltage_last5_min <- runMin(power.ts, n = 5)\n",
    "head(power.ts,10)"
   ]
  },
  {
   "cell_type": "code",
   "execution_count": 77,
   "metadata": {},
   "outputs": [
    {
     "data": {
      "text/plain": [
       "                    Votlage Voltage_last5_min Voltage_last5_max\n",
       "2006-12-16 17:24:00  234.84                NA                NA\n",
       "2006-12-16 17:25:00  233.63                NA                NA\n",
       "2006-12-16 17:26:00  233.29                NA                NA\n",
       "2006-12-16 17:27:00  233.74                NA                NA\n",
       "2006-12-16 17:28:00  235.68            233.29            235.68\n",
       "2006-12-16 17:29:00  235.02            233.29            235.68\n",
       "2006-12-16 17:30:00  235.09            233.29            235.68\n",
       "2006-12-16 17:31:00  235.22            233.74            235.68\n",
       "2006-12-16 17:32:00  233.99            233.99            235.68\n",
       "2006-12-16 17:33:00  233.86            233.86            235.22\n",
       "                    Voltage_last5_sd\n",
       "2006-12-16 17:24:00               NA\n",
       "2006-12-16 17:25:00               NA\n",
       "2006-12-16 17:26:00               NA\n",
       "2006-12-16 17:27:00               NA\n",
       "2006-12-16 17:28:00        0.9947512\n",
       "2006-12-16 17:29:00        1.0248756\n",
       "2006-12-16 17:30:00        1.0040070\n",
       "2006-12-16 17:31:00        0.7236021\n",
       "2006-12-16 17:32:00        0.6203628\n",
       "2006-12-16 17:33:00        0.6546220"
      ]
     },
     "metadata": {},
     "output_type": "display_data"
    }
   ],
   "source": [
    "power.ts$Voltage_last5_max <- runMax(power.ts[,1], n = 5)\n",
    "power.ts$Voltage_last5_sd <- runSD(power.ts[,1], n = 5)\n",
    "head(power.ts,10)"
   ]
  },
  {
   "cell_type": "code",
   "execution_count": 81,
   "metadata": {},
   "outputs": [
    {
     "name": "stderr",
     "output_type": "stream",
     "text": [
      "Warning message in data.row.names(row.names, rowsi, i):\n",
      "“some row.names duplicated: 148778,148780,148782,148784,148786,148788,148790,148792,148794,148796,148798,148800,148802,148804,148806,148808,148810,148812,148814,148816,148818,148820,148822,148824,148826,148828,148830,148832,148834,148836,148838,148840,148842,148844,148846,148848,148850,148852,148854,148856,148858,148860,148862,148864,148866,148868,148870,148872,148874,148876,148878,148880,148882,148884,148886,148888,148890,148892,148894,148896,672938,672940,672942,672944,672946,672948,672950,672952,672954,672956,672958,672960,672962,672964,672966,672968,672970,672972,672974,672976,672978,672980,672982,672984,672986,672988,672990,672992,672994,672996,672998,673000,673002,673004,673006,673008,673010,673012,673014,673016,673018,673020,673022,673024,673026,673028,673030,673032,673034,673036,673038,673040,673042,673044,673046,673048,673050,673052,673054,673056,1197098,1197100,1197102,1197104,1197106,1197108,1197110,1197112,1197114,1197116,1197118,1197120,1197122,1197124,1197126,1197128,1197130,1197132,1197134,1197136,1197138,1197140,1197142,1197144,1197146,1197148,1197150,1197152,1197154,1197156,1197158,1197160,1197162,1197164,1197166,1197168,1197170,1197172,1197174,1197176,1197178,1197180,1197182,1197184,1197186,1197188,1197190,1197192,1197194,1197196,1197198,1197200,1197202,1197204,1197206,1197208,1197210,1197212,1197214,1197216,1721258,1721260,1721262,1721264,1721266,1721268,1721270,1721272,1721274,1721276,1721278,1721280,1721282,1721284,1721286,1721288,1721290,1721292,1721294,1721296,1721298,1721300,1721302,1721304,1721306,1721308,1721310,1721312,1721314,1721316,1721318,1721320,1721322,1721324,1721326,1721328,1721330,1721332,1721334,1721336,1721338,1721340,1721342,1721344,1721346,1721348,1721350,1721352,1721354,1721356,1721358,1721360,1721362,1721364,1721366,1721368,1721370,1721372,1721374,1721376 --> row.names NOT used”"
     ]
    }
   ],
   "source": [
    "power_ts2 <- data.frame(power.ts)\n",
    "power_ts2$datetime <- index(power.ts)"
   ]
  },
  {
   "cell_type": "code",
   "execution_count": 82,
   "metadata": {},
   "outputs": [
    {
     "data": {
      "text/html": [
       "<table>\n",
       "<thead><tr><th scope=col>Votlage</th><th scope=col>Voltage_last5_min</th><th scope=col>Voltage_last5_max</th><th scope=col>Voltage_last5_sd</th><th scope=col>datetime</th></tr></thead>\n",
       "<tbody>\n",
       "\t<tr><td>234.84             </td><td>    NA             </td><td>    NA             </td><td>       NA          </td><td>2006-12-16 17:24:00</td></tr>\n",
       "\t<tr><td>233.63             </td><td>    NA             </td><td>    NA             </td><td>       NA          </td><td>2006-12-16 17:25:00</td></tr>\n",
       "\t<tr><td>233.29             </td><td>    NA             </td><td>    NA             </td><td>       NA          </td><td>2006-12-16 17:26:00</td></tr>\n",
       "\t<tr><td>233.74             </td><td>    NA             </td><td>    NA             </td><td>       NA          </td><td>2006-12-16 17:27:00</td></tr>\n",
       "\t<tr><td>235.68             </td><td>233.29             </td><td>235.68             </td><td>0.9947512          </td><td>2006-12-16 17:28:00</td></tr>\n",
       "\t<tr><td>235.02             </td><td>233.29             </td><td>235.68             </td><td>1.0248756          </td><td>2006-12-16 17:29:00</td></tr>\n",
       "</tbody>\n",
       "</table>\n"
      ],
      "text/latex": [
       "\\begin{tabular}{r|lllll}\n",
       " Votlage & Voltage\\_last5\\_min & Voltage\\_last5\\_max & Voltage\\_last5\\_sd & datetime\\\\\n",
       "\\hline\n",
       "\t 234.84              &     NA              &     NA              &        NA           & 2006-12-16 17:24:00\\\\\n",
       "\t 233.63              &     NA              &     NA              &        NA           & 2006-12-16 17:25:00\\\\\n",
       "\t 233.29              &     NA              &     NA              &        NA           & 2006-12-16 17:26:00\\\\\n",
       "\t 233.74              &     NA              &     NA              &        NA           & 2006-12-16 17:27:00\\\\\n",
       "\t 235.68              & 233.29              & 235.68              & 0.9947512           & 2006-12-16 17:28:00\\\\\n",
       "\t 235.02              & 233.29              & 235.68              & 1.0248756           & 2006-12-16 17:29:00\\\\\n",
       "\\end{tabular}\n"
      ],
      "text/markdown": [
       "\n",
       "Votlage | Voltage_last5_min | Voltage_last5_max | Voltage_last5_sd | datetime | \n",
       "|---|---|---|---|---|---|\n",
       "| 234.84              |     NA              |     NA              |        NA           | 2006-12-16 17:24:00 | \n",
       "| 233.63              |     NA              |     NA              |        NA           | 2006-12-16 17:25:00 | \n",
       "| 233.29              |     NA              |     NA              |        NA           | 2006-12-16 17:26:00 | \n",
       "| 233.74              |     NA              |     NA              |        NA           | 2006-12-16 17:27:00 | \n",
       "| 235.68              | 233.29              | 235.68              | 0.9947512           | 2006-12-16 17:28:00 | \n",
       "| 235.02              | 233.29              | 235.68              | 1.0248756           | 2006-12-16 17:29:00 | \n",
       "\n",
       "\n"
      ],
      "text/plain": [
       "  Votlage Voltage_last5_min Voltage_last5_max Voltage_last5_sd\n",
       "1 234.84      NA                NA                   NA       \n",
       "2 233.63      NA                NA                   NA       \n",
       "3 233.29      NA                NA                   NA       \n",
       "4 233.74      NA                NA                   NA       \n",
       "5 235.68  233.29            235.68            0.9947512       \n",
       "6 235.02  233.29            235.68            1.0248756       \n",
       "  datetime           \n",
       "1 2006-12-16 17:24:00\n",
       "2 2006-12-16 17:25:00\n",
       "3 2006-12-16 17:26:00\n",
       "4 2006-12-16 17:27:00\n",
       "5 2006-12-16 17:28:00\n",
       "6 2006-12-16 17:29:00"
      ]
     },
     "metadata": {},
     "output_type": "display_data"
    }
   ],
   "source": [
    "head(power_ts2)"
   ]
  },
  {
   "cell_type": "code",
   "execution_count": 83,
   "metadata": {},
   "outputs": [
    {
     "name": "stdout",
     "output_type": "stream",
     "text": [
      "'data.frame':\t2075259 obs. of  5 variables:\n",
      " $ Votlage          : num  235 234 233 234 236 ...\n",
      " $ Voltage_last5_min: num  NA NA NA NA 233 ...\n",
      " $ Voltage_last5_max: num  NA NA NA NA 236 ...\n",
      " $ Voltage_last5_sd : num  NA NA NA NA 0.995 ...\n",
      " $ datetime         : POSIXct, format: \"2006-12-16 17:24:00\" \"2006-12-16 17:25:00\" ...\n"
     ]
    }
   ],
   "source": [
    "str(power_ts2)"
   ]
  },
  {
   "cell_type": "code",
   "execution_count": 87,
   "metadata": {},
   "outputs": [
    {
     "name": "stderr",
     "output_type": "stream",
     "text": [
      "Joining, by = \"datetime\"\n"
     ]
    }
   ],
   "source": [
    "power2 <- left_join(power, power_ts2)\n"
   ]
  },
  {
   "cell_type": "code",
   "execution_count": 89,
   "metadata": {},
   "outputs": [
    {
     "data": {
      "text/html": [
       "<table>\n",
       "<thead><tr><th scope=col>Date</th><th scope=col>Time</th><th scope=col>Global_active_power</th><th scope=col>Global_reactive_power</th><th scope=col>Voltage</th><th scope=col>Global_intensity</th><th scope=col>Sub_metering_1</th><th scope=col>Sub_metering_2</th><th scope=col>Sub_metering_3</th><th scope=col>datetime</th><th scope=col>⋯</th><th scope=col>temperature_max</th><th scope=col>rain</th><th scope=col>temperature_month</th><th scope=col>rain_month</th><th scope=col>temperature_delta</th><th scope=col>temperature_ratio</th><th scope=col>rain_ratio</th><th scope=col>Voltage_last5_min</th><th scope=col>Voltage_last5_max</th><th scope=col>Voltage_last5_sd</th></tr></thead>\n",
       "<tbody>\n",
       "\t<tr><td>16/12/2006         </td><td>17:24:00           </td><td>4.216              </td><td>0.418              </td><td>234.84             </td><td>18.4               </td><td>0                  </td><td>1                  </td><td>17                 </td><td>2006-12-16 17:24:00</td><td>⋯                  </td><td>6.4                </td><td>55                 </td><td>7.57946            </td><td>65.5835            </td><td>4                  </td><td>1.894865           </td><td>1.192427           </td><td>    NA             </td><td>    NA             </td><td>       NA          </td></tr>\n",
       "\t<tr><td>16/12/2006         </td><td>17:25:00           </td><td>5.360              </td><td>0.436              </td><td>233.63             </td><td>23.0               </td><td>0                  </td><td>1                  </td><td>16                 </td><td>2006-12-16 17:25:00</td><td>⋯                  </td><td>6.4                </td><td>55                 </td><td>7.57946            </td><td>65.5835            </td><td>4                  </td><td>1.894865           </td><td>1.192427           </td><td>    NA             </td><td>    NA             </td><td>       NA          </td></tr>\n",
       "\t<tr><td>16/12/2006         </td><td>17:26:00           </td><td>5.374              </td><td>0.498              </td><td>233.29             </td><td>23.0               </td><td>0                  </td><td>2                  </td><td>17                 </td><td>2006-12-16 17:26:00</td><td>⋯                  </td><td>6.4                </td><td>55                 </td><td>7.57946            </td><td>65.5835            </td><td>4                  </td><td>1.894865           </td><td>1.192427           </td><td>    NA             </td><td>    NA             </td><td>       NA          </td></tr>\n",
       "\t<tr><td>16/12/2006         </td><td>17:27:00           </td><td>5.388              </td><td>0.502              </td><td>233.74             </td><td>23.0               </td><td>0                  </td><td>1                  </td><td>17                 </td><td>2006-12-16 17:27:00</td><td>⋯                  </td><td>6.4                </td><td>55                 </td><td>7.57946            </td><td>65.5835            </td><td>4                  </td><td>1.894865           </td><td>1.192427           </td><td>    NA             </td><td>    NA             </td><td>       NA          </td></tr>\n",
       "\t<tr><td>16/12/2006         </td><td>17:28:00           </td><td>3.666              </td><td>0.528              </td><td>235.68             </td><td>15.8               </td><td>0                  </td><td>1                  </td><td>17                 </td><td>2006-12-16 17:28:00</td><td>⋯                  </td><td>6.4                </td><td>55                 </td><td>7.57946            </td><td>65.5835            </td><td>4                  </td><td>1.894865           </td><td>1.192427           </td><td>233.29             </td><td>235.68             </td><td>0.9947512          </td></tr>\n",
       "\t<tr><td>16/12/2006         </td><td>17:29:00           </td><td>3.520              </td><td>0.522              </td><td>235.02             </td><td>15.0               </td><td>0                  </td><td>2                  </td><td>17                 </td><td>2006-12-16 17:29:00</td><td>⋯                  </td><td>6.4                </td><td>55                 </td><td>7.57946            </td><td>65.5835            </td><td>4                  </td><td>1.894865           </td><td>1.192427           </td><td>233.29             </td><td>235.68             </td><td>1.0248756          </td></tr>\n",
       "</tbody>\n",
       "</table>\n"
      ],
      "text/latex": [
       "\\begin{tabular}{r|llllllllllllllllllllllllllllll}\n",
       " Date & Time & Global\\_active\\_power & Global\\_reactive\\_power & Voltage & Global\\_intensity & Sub\\_metering\\_1 & Sub\\_metering\\_2 & Sub\\_metering\\_3 & datetime & ⋯ & temperature\\_max & rain & temperature\\_month & rain\\_month & temperature\\_delta & temperature\\_ratio & rain\\_ratio & Voltage\\_last5\\_min & Voltage\\_last5\\_max & Voltage\\_last5\\_sd\\\\\n",
       "\\hline\n",
       "\t 16/12/2006          & 17:24:00            & 4.216               & 0.418               & 234.84              & 18.4                & 0                   & 1                   & 17                  & 2006-12-16 17:24:00 & ⋯                   & 6.4                 & 55                  & 7.57946             & 65.5835             & 4                   & 1.894865            & 1.192427            &     NA              &     NA              &        NA          \\\\\n",
       "\t 16/12/2006          & 17:25:00            & 5.360               & 0.436               & 233.63              & 23.0                & 0                   & 1                   & 16                  & 2006-12-16 17:25:00 & ⋯                   & 6.4                 & 55                  & 7.57946             & 65.5835             & 4                   & 1.894865            & 1.192427            &     NA              &     NA              &        NA          \\\\\n",
       "\t 16/12/2006          & 17:26:00            & 5.374               & 0.498               & 233.29              & 23.0                & 0                   & 2                   & 17                  & 2006-12-16 17:26:00 & ⋯                   & 6.4                 & 55                  & 7.57946             & 65.5835             & 4                   & 1.894865            & 1.192427            &     NA              &     NA              &        NA          \\\\\n",
       "\t 16/12/2006          & 17:27:00            & 5.388               & 0.502               & 233.74              & 23.0                & 0                   & 1                   & 17                  & 2006-12-16 17:27:00 & ⋯                   & 6.4                 & 55                  & 7.57946             & 65.5835             & 4                   & 1.894865            & 1.192427            &     NA              &     NA              &        NA          \\\\\n",
       "\t 16/12/2006          & 17:28:00            & 3.666               & 0.528               & 235.68              & 15.8                & 0                   & 1                   & 17                  & 2006-12-16 17:28:00 & ⋯                   & 6.4                 & 55                  & 7.57946             & 65.5835             & 4                   & 1.894865            & 1.192427            & 233.29              & 235.68              & 0.9947512          \\\\\n",
       "\t 16/12/2006          & 17:29:00            & 3.520               & 0.522               & 235.02              & 15.0                & 0                   & 2                   & 17                  & 2006-12-16 17:29:00 & ⋯                   & 6.4                 & 55                  & 7.57946             & 65.5835             & 4                   & 1.894865            & 1.192427            & 233.29              & 235.68              & 1.0248756          \\\\\n",
       "\\end{tabular}\n"
      ],
      "text/markdown": [
       "\n",
       "Date | Time | Global_active_power | Global_reactive_power | Voltage | Global_intensity | Sub_metering_1 | Sub_metering_2 | Sub_metering_3 | datetime | ⋯ | temperature_max | rain | temperature_month | rain_month | temperature_delta | temperature_ratio | rain_ratio | Voltage_last5_min | Voltage_last5_max | Voltage_last5_sd | \n",
       "|---|---|---|---|---|---|\n",
       "| 16/12/2006          | 17:24:00            | 4.216               | 0.418               | 234.84              | 18.4                | 0                   | 1                   | 17                  | 2006-12-16 17:24:00 | ⋯                   | 6.4                 | 55                  | 7.57946             | 65.5835             | 4                   | 1.894865            | 1.192427            |     NA              |     NA              |        NA           | \n",
       "| 16/12/2006          | 17:25:00            | 5.360               | 0.436               | 233.63              | 23.0                | 0                   | 1                   | 16                  | 2006-12-16 17:25:00 | ⋯                   | 6.4                 | 55                  | 7.57946             | 65.5835             | 4                   | 1.894865            | 1.192427            |     NA              |     NA              |        NA           | \n",
       "| 16/12/2006          | 17:26:00            | 5.374               | 0.498               | 233.29              | 23.0                | 0                   | 2                   | 17                  | 2006-12-16 17:26:00 | ⋯                   | 6.4                 | 55                  | 7.57946             | 65.5835             | 4                   | 1.894865            | 1.192427            |     NA              |     NA              |        NA           | \n",
       "| 16/12/2006          | 17:27:00            | 5.388               | 0.502               | 233.74              | 23.0                | 0                   | 1                   | 17                  | 2006-12-16 17:27:00 | ⋯                   | 6.4                 | 55                  | 7.57946             | 65.5835             | 4                   | 1.894865            | 1.192427            |     NA              |     NA              |        NA           | \n",
       "| 16/12/2006          | 17:28:00            | 3.666               | 0.528               | 235.68              | 15.8                | 0                   | 1                   | 17                  | 2006-12-16 17:28:00 | ⋯                   | 6.4                 | 55                  | 7.57946             | 65.5835             | 4                   | 1.894865            | 1.192427            | 233.29              | 235.68              | 0.9947512           | \n",
       "| 16/12/2006          | 17:29:00            | 3.520               | 0.522               | 235.02              | 15.0                | 0                   | 2                   | 17                  | 2006-12-16 17:29:00 | ⋯                   | 6.4                 | 55                  | 7.57946             | 65.5835             | 4                   | 1.894865            | 1.192427            | 233.29              | 235.68              | 1.0248756           | \n",
       "\n",
       "\n"
      ],
      "text/plain": [
       "  Date       Time     Global_active_power Global_reactive_power Voltage\n",
       "1 16/12/2006 17:24:00 4.216               0.418                 234.84 \n",
       "2 16/12/2006 17:25:00 5.360               0.436                 233.63 \n",
       "3 16/12/2006 17:26:00 5.374               0.498                 233.29 \n",
       "4 16/12/2006 17:27:00 5.388               0.502                 233.74 \n",
       "5 16/12/2006 17:28:00 3.666               0.528                 235.68 \n",
       "6 16/12/2006 17:29:00 3.520               0.522                 235.02 \n",
       "  Global_intensity Sub_metering_1 Sub_metering_2 Sub_metering_3\n",
       "1 18.4             0              1              17            \n",
       "2 23.0             0              1              16            \n",
       "3 23.0             0              2              17            \n",
       "4 23.0             0              1              17            \n",
       "5 15.8             0              1              17            \n",
       "6 15.0             0              2              17            \n",
       "  datetime            ⋯ temperature_max rain temperature_month rain_month\n",
       "1 2006-12-16 17:24:00 ⋯ 6.4             55   7.57946           65.5835   \n",
       "2 2006-12-16 17:25:00 ⋯ 6.4             55   7.57946           65.5835   \n",
       "3 2006-12-16 17:26:00 ⋯ 6.4             55   7.57946           65.5835   \n",
       "4 2006-12-16 17:27:00 ⋯ 6.4             55   7.57946           65.5835   \n",
       "5 2006-12-16 17:28:00 ⋯ 6.4             55   7.57946           65.5835   \n",
       "6 2006-12-16 17:29:00 ⋯ 6.4             55   7.57946           65.5835   \n",
       "  temperature_delta temperature_ratio rain_ratio Voltage_last5_min\n",
       "1 4                 1.894865          1.192427       NA           \n",
       "2 4                 1.894865          1.192427       NA           \n",
       "3 4                 1.894865          1.192427       NA           \n",
       "4 4                 1.894865          1.192427       NA           \n",
       "5 4                 1.894865          1.192427   233.29           \n",
       "6 4                 1.894865          1.192427   233.29           \n",
       "  Voltage_last5_max Voltage_last5_sd\n",
       "1     NA                   NA       \n",
       "2     NA                   NA       \n",
       "3     NA                   NA       \n",
       "4     NA                   NA       \n",
       "5 235.68            0.9947512       \n",
       "6 235.68            1.0248756       "
      ]
     },
     "metadata": {},
     "output_type": "display_data"
    }
   ],
   "source": [
    "head(power2)"
   ]
  },
  {
   "cell_type": "code",
   "execution_count": 91,
   "metadata": {},
   "outputs": [
    {
     "data": {
      "text/plain": [
       "\n",
       "Call:\n",
       "lm(formula = Voltage ~ ., data = power2[, vn])\n",
       "\n",
       "Residuals:\n",
       "    Min      1Q  Median      3Q     Max \n",
       "-7.0447 -0.3699  0.0066  0.3708  5.9835 \n",
       "\n",
       "Coefficients:\n",
       "                        Estimate Std. Error  t value Pr(>|t|)    \n",
       "(Intercept)           -1.735e+01  8.678e-01  -19.995  < 2e-16 ***\n",
       "Global_active_power    9.870e-01  1.036e-02   95.256  < 2e-16 ***\n",
       "Global_reactive_power  2.444e-01  4.336e-03   56.362  < 2e-16 ***\n",
       "Global_intensity      -2.700e-01  2.463e-03 -109.611  < 2e-16 ***\n",
       "Sub_metering_1        -2.278e-03  8.804e-05  -25.877  < 2e-16 ***\n",
       "Sub_metering_2         3.412e-03  8.969e-05   38.046  < 2e-16 ***\n",
       "Sub_metering_3         4.546e-03  8.040e-05   56.547  < 2e-16 ***\n",
       "year                   1.177e-02  4.360e-04   26.991  < 2e-16 ***\n",
       "month                  3.325e-03  8.630e-04    3.852 0.000117 ***\n",
       "day                    1.136e-04  4.735e-05    2.399 0.016420 *  \n",
       "wday                  -1.934e-03  2.088e-04   -9.262  < 2e-16 ***\n",
       "hour                   4.537e-03  6.474e-05   70.080  < 2e-16 ***\n",
       "minute                -5.969e-04  2.399e-05  -24.880  < 2e-16 ***\n",
       "seasonSummer          -3.832e-02  4.855e-03   -7.893 2.95e-15 ***\n",
       "seasonAutum            6.197e-02  3.706e-03   16.721  < 2e-16 ***\n",
       "seasonWinter           6.178e-02  4.088e-03   15.113  < 2e-16 ***\n",
       "nightNight             4.669e-02  9.093e-04   51.353  < 2e-16 ***\n",
       "temperature_avg       -5.674e-01  6.657e-02   -8.523  < 2e-16 ***\n",
       "temperature_min        2.488e-01  3.341e-02    7.447 9.54e-14 ***\n",
       "temperature_max        2.930e-01  3.283e-02    8.925  < 2e-16 ***\n",
       "rain                   4.714e-03  3.604e-04   13.080  < 2e-16 ***\n",
       "temperature_month      8.991e-03  7.882e-04   11.407  < 2e-16 ***\n",
       "rain_month            -4.310e-03  2.184e-04  -19.728  < 2e-16 ***\n",
       "temperature_delta      1.315e-02  1.426e-03    9.222  < 2e-16 ***\n",
       "temperature_ratio     -2.616e-02  3.692e-03   -7.084 1.40e-12 ***\n",
       "rain_ratio             2.241e-01  1.164e-02   19.250  < 2e-16 ***\n",
       "Voltage_last5_min      3.985e-01  3.791e-03  105.121  < 2e-16 ***\n",
       "Voltage_last5_max      5.742e-01  3.792e-03  151.424  < 2e-16 ***\n",
       "Voltage_last5_sd      -1.350e-01  8.946e-03  -15.094  < 2e-16 ***\n",
       "---\n",
       "Signif. codes:  0 ‘***’ 0.001 ‘**’ 0.01 ‘*’ 0.05 ‘.’ 0.1 ‘ ’ 1\n",
       "\n",
       "Residual standard error: 0.5946 on 2049727 degrees of freedom\n",
       "  (25983 observations deleted due to missingness)\n",
       "Multiple R-squared:  0.9663,\tAdjusted R-squared:  0.9663 \n",
       "F-statistic: 2.1e+06 on 28 and 2049727 DF,  p-value: < 2.2e-16\n"
      ]
     },
     "metadata": {},
     "output_type": "display_data"
    }
   ],
   "source": [
    "vn <- c(\"Voltage\",\"Global_active_power\",\"Global_reactive_power\",\"Global_intensity\",\"Sub_metering_1\",\n",
    "        \"Sub_metering_2\",\"Sub_metering_3\",\"year\",\"month\",\"day\",\"wday\",\"hour\",\"minute\",\"season\",\"night\",\n",
    "        \"temperature_avg\",\"temperature_min\",\"temperature_max\",\"rain\",\"temperature_month\",\"rain_month\",\n",
    "        \"temperature_delta\",\"temperature_ratio\",\"rain_ratio\",\"Voltage_last5_min\",\"Voltage_last5_max\",\n",
    "        \"Voltage_last5_sd\")\n",
    "\n",
    "mod <- lm(Voltage ~., data=power2[,vn])\n",
    "summary(mod)"
   ]
  },
  {
   "cell_type": "code",
   "execution_count": 92,
   "metadata": {},
   "outputs": [
    {
     "data": {
      "image/png": "[encoded data removed]",
      "text/plain": [
       "plot without title"
      ]
     },
     "metadata": {},
     "output_type": "display_data"
    }
   ],
   "source": [
    "pred <- predict(mod, newdata=power2)\n",
    "plot(pred ~ power2$Voltage)"
   ]
  },
  {
   "cell_type": "markdown",
   "metadata": {},
   "source": [
    "Adding the last 5 time periods data increased up the R-square to 0.9663 !!!!\n",
    " \n",
    "Now, in such a case, the R-square becomes a not so useful metrics, as it shows the high correlation existing between the last 5 measures and the current measure!!!\n",
    " \n",
    "We will add now a new variable, and it will become the new outcome variable: the delta-Voltage. We will indicate with it the increase/decrease of the voltage relative to the last measure..."
   ]
  },
  {
   "cell_type": "code",
   "execution_count": 108,
   "metadata": {},
   "outputs": [
    {
     "data": {
      "text/plain": [
       "                      [,1]\n",
       "2006-12-16 17:24:00 234.84\n",
       "2006-12-16 17:25:00 233.63\n",
       "2006-12-16 17:26:00 233.29\n",
       "2006-12-16 17:27:00 233.74\n",
       "2006-12-16 17:28:00 235.68\n",
       "2006-12-16 17:29:00 235.02"
      ]
     },
     "metadata": {},
     "output_type": "display_data"
    }
   ],
   "source": [
    "power.ts <- xts(power$Voltage,order.by = power$datetime)\n",
    "head(power.ts)"
   ]
  },
  {
   "cell_type": "code",
   "execution_count": 98,
   "metadata": {},
   "outputs": [],
   "source": [
    "#vec <- which(!complete.cases(power.ts))  \n",
    "#power.ts <- power.ts[-vec, ]\n"
   ]
  },
  {
   "cell_type": "code",
   "execution_count": 109,
   "metadata": {},
   "outputs": [
    {
     "data": {
      "text/plain": [
       "                    Voltage last_measure\n",
       "2006-12-16 17:24:00  234.84           NA\n",
       "2006-12-16 17:25:00  233.63       234.84\n",
       "2006-12-16 17:26:00  233.29       233.63\n",
       "2006-12-16 17:27:00  233.74       233.29\n",
       "2006-12-16 17:28:00  235.68       233.74\n",
       "2006-12-16 17:29:00  235.02       235.68"
      ]
     },
     "metadata": {},
     "output_type": "display_data"
    }
   ],
   "source": [
    "names(power.ts) <- \"Voltage\"\n",
    "power.ts$last_measure <- lag(power.ts[,1],n = 1)\n",
    "head(power.ts)"
   ]
  },
  {
   "cell_type": "code",
   "execution_count": 110,
   "metadata": {},
   "outputs": [
    {
     "data": {
      "text/plain": [
       "                    Voltage last_measure delta_Voltage\n",
       "2006-12-16 17:24:00  234.84           NA            NA\n",
       "2006-12-16 17:25:00  233.63       234.84          1.21\n",
       "2006-12-16 17:26:00  233.29       233.63          0.34\n",
       "2006-12-16 17:27:00  233.74       233.29         -0.45\n",
       "2006-12-16 17:28:00  235.68       233.74         -1.94\n",
       "2006-12-16 17:29:00  235.02       235.68          0.66"
      ]
     },
     "metadata": {},
     "output_type": "display_data"
    }
   ],
   "source": [
    "power.ts$delta_Voltage <- power.ts$last_measure - power.ts$Voltage\n",
    "head(power.ts)"
   ]
  },
  {
   "cell_type": "code",
   "execution_count": 112,
   "metadata": {},
   "outputs": [
    {
     "name": "stderr",
     "output_type": "stream",
     "text": [
      "Warning message in data.row.names(row.names, rowsi, i):\n",
      "“some row.names duplicated: 148778,148780,148782,148784,148786,148788,148790,148792,148794,148796,148798,148800,148802,148804,148806,148808,148810,148812,148814,148816,148818,148820,148822,148824,148826,148828,148830,148832,148834,148836,148838,148840,148842,148844,148846,148848,148850,148852,148854,148856,148858,148860,148862,148864,148866,148868,148870,148872,148874,148876,148878,148880,148882,148884,148886,148888,148890,148892,148894,148896,672938,672940,672942,672944,672946,672948,672950,672952,672954,672956,672958,672960,672962,672964,672966,672968,672970,672972,672974,672976,672978,672980,672982,672984,672986,672988,672990,672992,672994,672996,672998,673000,673002,673004,673006,673008,673010,673012,673014,673016,673018,673020,673022,673024,673026,673028,673030,673032,673034,673036,673038,673040,673042,673044,673046,673048,673050,673052,673054,673056,1197098,1197100,1197102,1197104,1197106,1197108,1197110,1197112,1197114,1197116,1197118,1197120,1197122,1197124,1197126,1197128,1197130,1197132,1197134,1197136,1197138,1197140,1197142,1197144,1197146,1197148,1197150,1197152,1197154,1197156,1197158,1197160,1197162,1197164,1197166,1197168,1197170,1197172,1197174,1197176,1197178,1197180,1197182,1197184,1197186,1197188,1197190,1197192,1197194,1197196,1197198,1197200,1197202,1197204,1197206,1197208,1197210,1197212,1197214,1197216,1721258,1721260,1721262,1721264,1721266,1721268,1721270,1721272,1721274,1721276,1721278,1721280,1721282,1721284,1721286,1721288,1721290,1721292,1721294,1721296,1721298,1721300,1721302,1721304,1721306,1721308,1721310,1721312,1721314,1721316,1721318,1721320,1721322,1721324,1721326,1721328,1721330,1721332,1721334,1721336,1721338,1721340,1721342,1721344,1721346,1721348,1721350,1721352,1721354,1721356,1721358,1721360,1721362,1721364,1721366,1721368,1721370,1721372,1721374,1721376 --> row.names NOT used”"
     ]
    },
    {
     "data": {
      "text/html": [
       "<table>\n",
       "<thead><tr><th scope=col>Voltage</th><th scope=col>last_measure</th><th scope=col>delta_Voltage</th><th scope=col>datetime</th></tr></thead>\n",
       "<tbody>\n",
       "\t<tr><td>234.84             </td><td>    NA             </td><td>   NA              </td><td>2006-12-16 17:24:00</td></tr>\n",
       "\t<tr><td>233.63             </td><td>234.84             </td><td> 1.21              </td><td>2006-12-16 17:25:00</td></tr>\n",
       "\t<tr><td>233.29             </td><td>233.63             </td><td> 0.34              </td><td>2006-12-16 17:26:00</td></tr>\n",
       "\t<tr><td>233.74             </td><td>233.29             </td><td>-0.45              </td><td>2006-12-16 17:27:00</td></tr>\n",
       "\t<tr><td>235.68             </td><td>233.74             </td><td>-1.94              </td><td>2006-12-16 17:28:00</td></tr>\n",
       "\t<tr><td>235.02             </td><td>235.68             </td><td> 0.66              </td><td>2006-12-16 17:29:00</td></tr>\n",
       "</tbody>\n",
       "</table>\n"
      ],
      "text/latex": [
       "\\begin{tabular}{r|llll}\n",
       " Voltage & last\\_measure & delta\\_Voltage & datetime\\\\\n",
       "\\hline\n",
       "\t 234.84              &     NA              &    NA               & 2006-12-16 17:24:00\\\\\n",
       "\t 233.63              & 234.84              &  1.21               & 2006-12-16 17:25:00\\\\\n",
       "\t 233.29              & 233.63              &  0.34               & 2006-12-16 17:26:00\\\\\n",
       "\t 233.74              & 233.29              & -0.45               & 2006-12-16 17:27:00\\\\\n",
       "\t 235.68              & 233.74              & -1.94               & 2006-12-16 17:28:00\\\\\n",
       "\t 235.02              & 235.68              &  0.66               & 2006-12-16 17:29:00\\\\\n",
       "\\end{tabular}\n"
      ],
      "text/markdown": [
       "\n",
       "Voltage | last_measure | delta_Voltage | datetime | \n",
       "|---|---|---|---|---|---|\n",
       "| 234.84              |     NA              |    NA               | 2006-12-16 17:24:00 | \n",
       "| 233.63              | 234.84              |  1.21               | 2006-12-16 17:25:00 | \n",
       "| 233.29              | 233.63              |  0.34               | 2006-12-16 17:26:00 | \n",
       "| 233.74              | 233.29              | -0.45               | 2006-12-16 17:27:00 | \n",
       "| 235.68              | 233.74              | -1.94               | 2006-12-16 17:28:00 | \n",
       "| 235.02              | 235.68              |  0.66               | 2006-12-16 17:29:00 | \n",
       "\n",
       "\n"
      ],
      "text/plain": [
       "  Voltage last_measure delta_Voltage datetime           \n",
       "1 234.84      NA          NA         2006-12-16 17:24:00\n",
       "2 233.63  234.84        1.21         2006-12-16 17:25:00\n",
       "3 233.29  233.63        0.34         2006-12-16 17:26:00\n",
       "4 233.74  233.29       -0.45         2006-12-16 17:27:00\n",
       "5 235.68  233.74       -1.94         2006-12-16 17:28:00\n",
       "6 235.02  235.68        0.66         2006-12-16 17:29:00"
      ]
     },
     "metadata": {},
     "output_type": "display_data"
    }
   ],
   "source": [
    "power_ts2 <- data.frame(power.ts)\n",
    "power_ts2$datetime <- index(power.ts)\n",
    "head(power_ts2)"
   ]
  },
  {
   "cell_type": "code",
   "execution_count": 114,
   "metadata": {},
   "outputs": [
    {
     "name": "stderr",
     "output_type": "stream",
     "text": [
      "Joining, by = \"datetime\"\n"
     ]
    }
   ],
   "source": [
    "power2 <- left_join(power2, power_ts2[,c(\"datetime\",\"delta_Voltage\")])"
   ]
  },
  {
   "cell_type": "code",
   "execution_count": 115,
   "metadata": {},
   "outputs": [
    {
     "data": {
      "text/html": [
       "<table>\n",
       "<thead><tr><th scope=col>Date</th><th scope=col>Time</th><th scope=col>Global_active_power</th><th scope=col>Global_reactive_power</th><th scope=col>Voltage</th><th scope=col>Global_intensity</th><th scope=col>Sub_metering_1</th><th scope=col>Sub_metering_2</th><th scope=col>Sub_metering_3</th><th scope=col>datetime</th><th scope=col>⋯</th><th scope=col>rain</th><th scope=col>temperature_month</th><th scope=col>rain_month</th><th scope=col>temperature_delta</th><th scope=col>temperature_ratio</th><th scope=col>rain_ratio</th><th scope=col>Voltage_last5_min</th><th scope=col>Voltage_last5_max</th><th scope=col>Voltage_last5_sd</th><th scope=col>delta_Voltage</th></tr></thead>\n",
       "<tbody>\n",
       "\t<tr><td>16/12/2006         </td><td>17:24:00           </td><td>4.216              </td><td>0.418              </td><td>234.84             </td><td>18.4               </td><td>0                  </td><td>1                  </td><td>17                 </td><td>2006-12-16 17:24:00</td><td>⋯                  </td><td>55                 </td><td>7.57946            </td><td>65.5835            </td><td>4                  </td><td>1.894865           </td><td>1.192427           </td><td>    NA             </td><td>    NA             </td><td>       NA          </td><td>   NA              </td></tr>\n",
       "\t<tr><td>16/12/2006         </td><td>17:25:00           </td><td>5.360              </td><td>0.436              </td><td>233.63             </td><td>23.0               </td><td>0                  </td><td>1                  </td><td>16                 </td><td>2006-12-16 17:25:00</td><td>⋯                  </td><td>55                 </td><td>7.57946            </td><td>65.5835            </td><td>4                  </td><td>1.894865           </td><td>1.192427           </td><td>    NA             </td><td>    NA             </td><td>       NA          </td><td> 1.21              </td></tr>\n",
       "\t<tr><td>16/12/2006         </td><td>17:26:00           </td><td>5.374              </td><td>0.498              </td><td>233.29             </td><td>23.0               </td><td>0                  </td><td>2                  </td><td>17                 </td><td>2006-12-16 17:26:00</td><td>⋯                  </td><td>55                 </td><td>7.57946            </td><td>65.5835            </td><td>4                  </td><td>1.894865           </td><td>1.192427           </td><td>    NA             </td><td>    NA             </td><td>       NA          </td><td> 0.34              </td></tr>\n",
       "\t<tr><td>16/12/2006         </td><td>17:27:00           </td><td>5.388              </td><td>0.502              </td><td>233.74             </td><td>23.0               </td><td>0                  </td><td>1                  </td><td>17                 </td><td>2006-12-16 17:27:00</td><td>⋯                  </td><td>55                 </td><td>7.57946            </td><td>65.5835            </td><td>4                  </td><td>1.894865           </td><td>1.192427           </td><td>    NA             </td><td>    NA             </td><td>       NA          </td><td>-0.45              </td></tr>\n",
       "\t<tr><td>16/12/2006         </td><td>17:28:00           </td><td>3.666              </td><td>0.528              </td><td>235.68             </td><td>15.8               </td><td>0                  </td><td>1                  </td><td>17                 </td><td>2006-12-16 17:28:00</td><td>⋯                  </td><td>55                 </td><td>7.57946            </td><td>65.5835            </td><td>4                  </td><td>1.894865           </td><td>1.192427           </td><td>233.29             </td><td>235.68             </td><td>0.9947512          </td><td>-1.94              </td></tr>\n",
       "\t<tr><td>16/12/2006         </td><td>17:29:00           </td><td>3.520              </td><td>0.522              </td><td>235.02             </td><td>15.0               </td><td>0                  </td><td>2                  </td><td>17                 </td><td>2006-12-16 17:29:00</td><td>⋯                  </td><td>55                 </td><td>7.57946            </td><td>65.5835            </td><td>4                  </td><td>1.894865           </td><td>1.192427           </td><td>233.29             </td><td>235.68             </td><td>1.0248756          </td><td> 0.66              </td></tr>\n",
       "</tbody>\n",
       "</table>\n"
      ],
      "text/latex": [
       "\\begin{tabular}{r|lllllllllllllllllllllllllllllll}\n",
       " Date & Time & Global\\_active\\_power & Global\\_reactive\\_power & Voltage & Global\\_intensity & Sub\\_metering\\_1 & Sub\\_metering\\_2 & Sub\\_metering\\_3 & datetime & ⋯ & rain & temperature\\_month & rain\\_month & temperature\\_delta & temperature\\_ratio & rain\\_ratio & Voltage\\_last5\\_min & Voltage\\_last5\\_max & Voltage\\_last5\\_sd & delta\\_Voltage\\\\\n",
       "\\hline\n",
       "\t 16/12/2006          & 17:24:00            & 4.216               & 0.418               & 234.84              & 18.4                & 0                   & 1                   & 17                  & 2006-12-16 17:24:00 & ⋯                   & 55                  & 7.57946             & 65.5835             & 4                   & 1.894865            & 1.192427            &     NA              &     NA              &        NA           &    NA              \\\\\n",
       "\t 16/12/2006          & 17:25:00            & 5.360               & 0.436               & 233.63              & 23.0                & 0                   & 1                   & 16                  & 2006-12-16 17:25:00 & ⋯                   & 55                  & 7.57946             & 65.5835             & 4                   & 1.894865            & 1.192427            &     NA              &     NA              &        NA           &  1.21              \\\\\n",
       "\t 16/12/2006          & 17:26:00            & 5.374               & 0.498               & 233.29              & 23.0                & 0                   & 2                   & 17                  & 2006-12-16 17:26:00 & ⋯                   & 55                  & 7.57946             & 65.5835             & 4                   & 1.894865            & 1.192427            &     NA              &     NA              &        NA           &  0.34              \\\\\n",
       "\t 16/12/2006          & 17:27:00            & 5.388               & 0.502               & 233.74              & 23.0                & 0                   & 1                   & 17                  & 2006-12-16 17:27:00 & ⋯                   & 55                  & 7.57946             & 65.5835             & 4                   & 1.894865            & 1.192427            &     NA              &     NA              &        NA           & -0.45              \\\\\n",
       "\t 16/12/2006          & 17:28:00            & 3.666               & 0.528               & 235.68              & 15.8                & 0                   & 1                   & 17                  & 2006-12-16 17:28:00 & ⋯                   & 55                  & 7.57946             & 65.5835             & 4                   & 1.894865            & 1.192427            & 233.29              & 235.68              & 0.9947512           & -1.94              \\\\\n",
       "\t 16/12/2006          & 17:29:00            & 3.520               & 0.522               & 235.02              & 15.0                & 0                   & 2                   & 17                  & 2006-12-16 17:29:00 & ⋯                   & 55                  & 7.57946             & 65.5835             & 4                   & 1.894865            & 1.192427            & 233.29              & 235.68              & 1.0248756           &  0.66              \\\\\n",
       "\\end{tabular}\n"
      ],
      "text/markdown": [
       "\n",
       "Date | Time | Global_active_power | Global_reactive_power | Voltage | Global_intensity | Sub_metering_1 | Sub_metering_2 | Sub_metering_3 | datetime | ⋯ | rain | temperature_month | rain_month | temperature_delta | temperature_ratio | rain_ratio | Voltage_last5_min | Voltage_last5_max | Voltage_last5_sd | delta_Voltage | \n",
       "|---|---|---|---|---|---|\n",
       "| 16/12/2006          | 17:24:00            | 4.216               | 0.418               | 234.84              | 18.4                | 0                   | 1                   | 17                  | 2006-12-16 17:24:00 | ⋯                   | 55                  | 7.57946             | 65.5835             | 4                   | 1.894865            | 1.192427            |     NA              |     NA              |        NA           |    NA               | \n",
       "| 16/12/2006          | 17:25:00            | 5.360               | 0.436               | 233.63              | 23.0                | 0                   | 1                   | 16                  | 2006-12-16 17:25:00 | ⋯                   | 55                  | 7.57946             | 65.5835             | 4                   | 1.894865            | 1.192427            |     NA              |     NA              |        NA           |  1.21               | \n",
       "| 16/12/2006          | 17:26:00            | 5.374               | 0.498               | 233.29              | 23.0                | 0                   | 2                   | 17                  | 2006-12-16 17:26:00 | ⋯                   | 55                  | 7.57946             | 65.5835             | 4                   | 1.894865            | 1.192427            |     NA              |     NA              |        NA           |  0.34               | \n",
       "| 16/12/2006          | 17:27:00            | 5.388               | 0.502               | 233.74              | 23.0                | 0                   | 1                   | 17                  | 2006-12-16 17:27:00 | ⋯                   | 55                  | 7.57946             | 65.5835             | 4                   | 1.894865            | 1.192427            |     NA              |     NA              |        NA           | -0.45               | \n",
       "| 16/12/2006          | 17:28:00            | 3.666               | 0.528               | 235.68              | 15.8                | 0                   | 1                   | 17                  | 2006-12-16 17:28:00 | ⋯                   | 55                  | 7.57946             | 65.5835             | 4                   | 1.894865            | 1.192427            | 233.29              | 235.68              | 0.9947512           | -1.94               | \n",
       "| 16/12/2006          | 17:29:00            | 3.520               | 0.522               | 235.02              | 15.0                | 0                   | 2                   | 17                  | 2006-12-16 17:29:00 | ⋯                   | 55                  | 7.57946             | 65.5835             | 4                   | 1.894865            | 1.192427            | 233.29              | 235.68              | 1.0248756           |  0.66               | \n",
       "\n",
       "\n"
      ],
      "text/plain": [
       "  Date       Time     Global_active_power Global_reactive_power Voltage\n",
       "1 16/12/2006 17:24:00 4.216               0.418                 234.84 \n",
       "2 16/12/2006 17:25:00 5.360               0.436                 233.63 \n",
       "3 16/12/2006 17:26:00 5.374               0.498                 233.29 \n",
       "4 16/12/2006 17:27:00 5.388               0.502                 233.74 \n",
       "5 16/12/2006 17:28:00 3.666               0.528                 235.68 \n",
       "6 16/12/2006 17:29:00 3.520               0.522                 235.02 \n",
       "  Global_intensity Sub_metering_1 Sub_metering_2 Sub_metering_3\n",
       "1 18.4             0              1              17            \n",
       "2 23.0             0              1              16            \n",
       "3 23.0             0              2              17            \n",
       "4 23.0             0              1              17            \n",
       "5 15.8             0              1              17            \n",
       "6 15.0             0              2              17            \n",
       "  datetime            ⋯ rain temperature_month rain_month temperature_delta\n",
       "1 2006-12-16 17:24:00 ⋯ 55   7.57946           65.5835    4                \n",
       "2 2006-12-16 17:25:00 ⋯ 55   7.57946           65.5835    4                \n",
       "3 2006-12-16 17:26:00 ⋯ 55   7.57946           65.5835    4                \n",
       "4 2006-12-16 17:27:00 ⋯ 55   7.57946           65.5835    4                \n",
       "5 2006-12-16 17:28:00 ⋯ 55   7.57946           65.5835    4                \n",
       "6 2006-12-16 17:29:00 ⋯ 55   7.57946           65.5835    4                \n",
       "  temperature_ratio rain_ratio Voltage_last5_min Voltage_last5_max\n",
       "1 1.894865          1.192427       NA                NA           \n",
       "2 1.894865          1.192427       NA                NA           \n",
       "3 1.894865          1.192427       NA                NA           \n",
       "4 1.894865          1.192427       NA                NA           \n",
       "5 1.894865          1.192427   233.29            235.68           \n",
       "6 1.894865          1.192427   233.29            235.68           \n",
       "  Voltage_last5_sd delta_Voltage\n",
       "1        NA           NA        \n",
       "2        NA         1.21        \n",
       "3        NA         0.34        \n",
       "4        NA        -0.45        \n",
       "5 0.9947512        -1.94        \n",
       "6 1.0248756         0.66        "
      ]
     },
     "metadata": {},
     "output_type": "display_data"
    }
   ],
   "source": [
    "head(power2)"
   ]
  },
  {
   "cell_type": "code",
   "execution_count": 116,
   "metadata": {},
   "outputs": [],
   "source": [
    "write.csv(power2,file=\"power_consumption_enriched2.csv\")"
   ]
  }
 ],
 "metadata": {
  "kernelspec": {
   "display_name": "R",
   "language": "R",
   "name": "ir"
  },
  "language_info": {
   "codemirror_mode": "r",
   "file_extension": ".r",
   "mimetype": "text/x-r-source",
   "name": "R",
   "pygments_lexer": "r",
   "version": "3.4.4"
  }
 },
 "nbformat": 4,
 "nbformat_minor": 2
}
