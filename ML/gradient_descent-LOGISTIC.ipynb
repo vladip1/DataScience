{
 "cells": [
  {
   "cell_type": "markdown",
   "metadata": {},
   "source": [
    "# Gradient Descent\n",
    "\n",
    "<img src=\"https://i2.wp.com/lh6.ggpht.com/-5RFMcz2bzWI/VA9NuUkB_vI/AAAAAAAAAdM/_DqqYO0nbX4/im2_thumb%25255B1%25255D.png\"></img>\n",
    "\n",
    "Gradient descent is the most important algorithm in machine learning (ML). It is used in almost all the ML models and is what differentiate traditional statistics from ML. By optimizing the parameters of the gradient descent we optimize the predictive model.\n",
    " \n",
    "To understand gradient descent, we need to define some important concepts.\n",
    " \n",
    "## Loss function\n",
    "\n",
    "The loss function, also known as the cost function, is the measure we will use to calibrate the model. There are many types of loss functions. The selection of the loss function depends on the algorithm we want to run, and the question we want to answer (how we want to model the Y).\n",
    " \n",
    "One of the most commonly used loss function is the Mean Squared Error (MSE). The formula of the MSE is:\n",
    " \n",
    "<b> \n",
    "J(w,b) = - 𝞢(ylogŷ + (1-y)log(1-ŷ))/ n\n",
    "\n",
    "</b> \n",
    " \n",
    "This mean that we take difference between the real y and the predicted-y, square each of them, and sum all and divide by the number of rows in the dataset.\n"
   ]
  },
  {
   "cell_type": "code",
   "execution_count": 1,
   "metadata": {},
   "outputs": [],
   "source": [
    "loss_function <- function(y,pred) { \n",
    "    return(-sum((y*log(pred))+((1-y)*log(1-pred)))/length(y) )\n",
    "}"
   ]
  },
  {
   "cell_type": "markdown",
   "metadata": {},
   "source": [
    "\n",
    "## Global Minima\n",
    "The global minima of the loss function is defined as the smallest value of the loss function. In other words, we find the global minima when we reduce the error at the lowest possible value.\n",
    "\n",
    "<img src=\"https://cdn-images-1.medium.com/max/602/0*gWBpMIJ7yRVAaAIA.\"></img>\n",
    "\n",
    "## Learning rate\n",
    " \n",
    "The learning rate can be defined as the number of 'jumps' we make when trying to reduce the global minima while calculating the optimal values for the weights. We have to be careful with this parameter because a high value may miss out the global minima, while a very low value will increase a lot the calculation time. The learning rate parameter in many functions is called as <b> alpha </b>.\n",
    "\n",
    "<table><tr>\n",
    "    <td cols=\"2\"> \n",
    "        <h2> Problems caused by too low or high learning rates </h2> \n",
    "    </td>\n",
    "    </tr><tr>\n",
    "    <td> \n",
    "        <img src=\"https://encrypted-tbn0.gstatic.com/images?q=tbn:ANd9GcSDZHOlr8UTVvLoA3adcxB7FQsVPusBU7lPSsVB-lunzaEPwahAQg\" width=\"400\" height=\"200\"></img> \n",
    "        <br> <h4> High Learning Rate </h4>\n",
    "    </td>\n",
    "    <td> \n",
    "        <img src=\"https://www.oreilly.com/library/view/hands-on-machine-learning/9781491962282/assets/mlst_0403.png\" width=\"400\" height=\"200\"></img> \n",
    "        <br> <h4> Low Learning Rate </h4>\n",
    "    </td>\n",
    "</tr></table>"
   ]
  },
  {
   "cell_type": "markdown",
   "metadata": {},
   "source": [
    "## Gradient Descent\n",
    " \n",
    "The formula for the calculation of the gradient descent is:\n",
    " \n",
    "<img src=\"https://i2.wp.com/2.bp.blogspot.com/-ZxJ87cWjPJ8/TtLtwqv0hCI/AAAAAAAAAV0/9FYqcxJ6dNY/s320/gradient+descent+algorithm+OLS.png?zoom=1.25&resize=320%2C181\"></img>\n",
    " \n",
    "This means that the values of the weights (called theta or ϴ) are calculated using the loss function (Jϴ).\n",
    " \n",
    "The initial theta values are generated randomly and the loss function is calculated using them. The calculation is made as follows:\n",
    " \n",
    " \n",
    "<center>\n",
    "    Y-hat = ϴ<sub>0</sub> + x<sub>1</sub>ϴ<sub>1</sub> + … + x<sub>n</sub>ϴ<sub>n</sub>\n",
    "</center>\n",
    " \n",
    "Then the loss function is calculated. If the model did not converged (the global minima was not reached), we increase/decrease theta by the learning rate, and recalculate the newly predicted Y (Y-hat). This is repeated until the global minima is reached.\n",
    " \n"
   ]
  },
  {
   "cell_type": "code",
   "execution_count": 2,
   "metadata": {},
   "outputs": [],
   "source": [
    "sigma <- function(z) {\n",
    "   yhat <- 1/(1+exp(-z))\n",
    "   return(yhat)\n",
    "}"
   ]
  },
  {
   "cell_type": "code",
   "execution_count": 6,
   "metadata": {},
   "outputs": [],
   "source": [
    "### The gradient descent requires two values: learning rate and number of iterations.\n",
    "\n",
    "gradientDesc <- function(x, y, learn_rate=1e-6, max_iter=1e3) {\n",
    "  #plot(x, y, col = \"blue\", pch = 20)\n",
    "  conv_threshold <- 1e-4\n",
    "  n <- length(y)\n",
    "  m <- runif(1, 0, 1)\n",
    "  c <- runif(1, 0, 1)\n",
    "  yhat <- sigma(m * x + c)\n",
    "# sum((y - pred)^2)/length(y)\n",
    "  cost <- loss_function(y,yhat)\n",
    "  converged = F\n",
    "  iterations = 0\n",
    "  while(converged == F) {\n",
    "    ## Implement the gradient descent algorithm\n",
    "    m_new <- m - learn_rate * ((1 / n) * (sum((yhat - y) * x)))\n",
    "    c_new <- c - learn_rate * ((1 / n) * (sum(yhat - y)))\n",
    "    m <- m_new\n",
    "    c <- c_new\n",
    "    yhat <- sigma(m * x + c)\n",
    "    cost_new <- loss_function(y,yhat)\n",
    "    if(cost - cost_new <= conv_threshold) {\n",
    "      #abline(c, m) \n",
    "      converged = T\n",
    "      print(paste(\"Optimal intercept:\", c, \"Optimal slope:\", m))\n",
    "      return(data.frame(w=m,b=c,loss=cost_new))\n",
    "    }\n",
    "    iterations = iterations + 1\n",
    "    if(iterations > max_iter) { \n",
    "      #abline(c, m) \n",
    "      converged = T\n",
    "      print(paste(\"Optimal intercept:\", c, \"Optimal slope:\", m))\n",
    "      return(data.frame(w=m,b=c,loss=cost_new))\n",
    "    }\n",
    "  }\n",
    "}\n",
    "\n",
    "\n"
   ]
  },
  {
   "cell_type": "code",
   "execution_count": 7,
   "metadata": {},
   "outputs": [
    {
     "name": "stdout",
     "output_type": "stream",
     "text": [
      "[1] \"Optimal intercept: 0.893527909850728 Optimal slope: 0.39489422635788\"\n"
     ]
    },
    {
     "data": {
      "text/html": [
       "<table>\n",
       "<thead><tr><th scope=col>w</th><th scope=col>b</th><th scope=col>loss</th></tr></thead>\n",
       "<tbody>\n",
       "\t<tr><td>0.3948942</td><td>0.8935279</td><td>1.529449 </td></tr>\n",
       "</tbody>\n",
       "</table>\n"
      ],
      "text/latex": [
       "\\begin{tabular}{r|lll}\n",
       " w & b & loss\\\\\n",
       "\\hline\n",
       "\t 0.3948942 & 0.8935279 & 1.529449 \\\\\n",
       "\\end{tabular}\n"
      ],
      "text/markdown": [
       "\n",
       "w | b | loss | \n",
       "|---|\n",
       "| 0.3948942 | 0.8935279 | 1.529449  | \n",
       "\n",
       "\n"
      ],
      "text/plain": [
       "  w         b         loss    \n",
       "1 0.3948942 0.8935279 1.529449"
      ]
     },
     "metadata": {},
     "output_type": "display_data"
    }
   ],
   "source": [
    "# Run the function \n",
    "gradientDesc(mtcars$wt, mtcars$am, 0.00002, 2500000)\n"
   ]
  },
  {
   "cell_type": "code",
   "execution_count": 9,
   "metadata": {},
   "outputs": [
    {
     "data": {
      "text/html": [
       "<dl class=dl-horizontal>\n",
       "\t<dt>(Intercept)</dt>\n",
       "\t\t<dd>12.0403696589627</dd>\n",
       "\t<dt>mtcars$wt</dt>\n",
       "\t\t<dd>-4.02396994032789</dd>\n",
       "</dl>\n"
      ],
      "text/latex": [
       "\\begin{description*}\n",
       "\\item[(Intercept)] 12.0403696589627\n",
       "\\item[mtcars\\textbackslash{}\\$wt] -4.02396994032789\n",
       "\\end{description*}\n"
      ],
      "text/markdown": [
       "(Intercept)\n",
       ":   12.0403696589627mtcars$wt\n",
       ":   -4.02396994032789\n",
       "\n"
      ],
      "text/plain": [
       "(Intercept)   mtcars$wt \n",
       "   12.04037    -4.02397 "
      ]
     },
     "metadata": {},
     "output_type": "display_data"
    }
   ],
   "source": [
    "mod <- glm(mtcars$am ~ mtcars$wt,family=\"binomial\")\n",
    "mod$coefficients"
   ]
  },
  {
   "cell_type": "code",
   "execution_count": 10,
   "metadata": {},
   "outputs": [
    {
     "name": "stderr",
     "output_type": "stream",
     "text": [
      "\n",
      "Attaching package: ‘dplyr’\n",
      "\n",
      "The following objects are masked from ‘package:stats’:\n",
      "\n",
      "    filter, lag\n",
      "\n",
      "The following objects are masked from ‘package:base’:\n",
      "\n",
      "    intersect, setdiff, setequal, union\n",
      "\n"
     ]
    },
    {
     "name": "stdout",
     "output_type": "stream",
     "text": [
      "[1] \"Optimal intercept: 12.0403697286506 Optimal slope: -4.02396996217109\"\n",
      "[1] \"Optimal intercept: 12.040369728644 Optimal slope: -4.02396996216897\"\n",
      "[1] \"Optimal intercept: 12.0403697285904 Optimal slope: -4.02396996215202\"\n",
      "[1] \"Optimal intercept: 12.0403696098958 Optimal slope: -4.02396992460536\"\n",
      "[1] \"Optimal intercept: 11.9006725773381 Optimal slope: -3.97977618012235\"\n",
      "[1] \"Optimal intercept: 11.1891271145149 Optimal slope: -3.75456349216118\"\n",
      "[1] \"Optimal intercept: 7.16072505950234 Optimal slope: -2.47477891327936\"\n",
      "[1] \"Optimal intercept: 0.0196306495591691 Optimal slope: 0.0131515301508561\"\n",
      "[1] \"Optimal intercept: 0.538798337594538 Optimal slope: 0.0543862741759751\"\n",
      "[1] \"Optimal intercept: 0.510267517843258 Optimal slope: 0.343254174524949\"\n",
      "[1] \"Optimal intercept: 0.712948643808205 Optimal slope: 0.705423169271779\"\n"
     ]
    }
   ],
   "source": [
    "## iterating with the learning rate\n",
    "library(dplyr)\n",
    "res <- NULL\n",
    "learning_rate <- c(1e-1,5e-2,1e-2,5e-3,1e-3,5e-4,1e-4,5e-5,1e-5,5e-6,1e-6)\n",
    "for (lr in learning_rate) {\n",
    "    gd <- gradientDesc(mtcars$wt, mtcars$am, lr, 2500000)\n",
    "    res <- rbind(res, data.frame(cbind(learning_rate=lr, gd)))\n",
    "}\n"
   ]
  },
  {
   "cell_type": "code",
   "execution_count": 11,
   "metadata": {},
   "outputs": [
    {
     "data": {
      "text/html": [
       "<table>\n",
       "<thead><tr><th scope=col>learning_rate</th><th scope=col>w</th><th scope=col>b</th><th scope=col>loss</th></tr></thead>\n",
       "<tbody>\n",
       "\t<tr><td>1e-06      </td><td> 0.70542317</td><td> 0.71294864</td><td>2.0618044  </td></tr>\n",
       "\t<tr><td>5e-06      </td><td> 0.34325417</td><td> 0.51026752</td><td>1.2599188  </td></tr>\n",
       "\t<tr><td>1e-05      </td><td> 0.05438627</td><td> 0.53879834</td><td>0.8405551  </td></tr>\n",
       "\t<tr><td>5e-05      </td><td> 0.01315153</td><td> 0.01963065</td><td>0.7037615  </td></tr>\n",
       "\t<tr><td>1e-04      </td><td>-2.47477891</td><td> 7.16072506</td><td>0.3254797  </td></tr>\n",
       "\t<tr><td>5e-04      </td><td>-3.75456349</td><td>11.18912711</td><td>0.3002135  </td></tr>\n",
       "\t<tr><td>1e-03      </td><td>-3.97977618</td><td>11.90067258</td><td>0.2996414  </td></tr>\n",
       "\t<tr><td>5e-03      </td><td>-4.02396992</td><td>12.04036961</td><td>0.2996263  </td></tr>\n",
       "\t<tr><td>1e-02      </td><td>-4.02396996</td><td>12.04036973</td><td>0.2996263  </td></tr>\n",
       "\t<tr><td>5e-02      </td><td>-4.02396996</td><td>12.04036973</td><td>0.2996263  </td></tr>\n",
       "\t<tr><td>1e-01      </td><td>-4.02396996</td><td>12.04036973</td><td>0.2996263  </td></tr>\n",
       "</tbody>\n",
       "</table>\n"
      ],
      "text/latex": [
       "\\begin{tabular}{r|llll}\n",
       " learning\\_rate & w & b & loss\\\\\n",
       "\\hline\n",
       "\t 1e-06       &  0.70542317 &  0.71294864 & 2.0618044  \\\\\n",
       "\t 5e-06       &  0.34325417 &  0.51026752 & 1.2599188  \\\\\n",
       "\t 1e-05       &  0.05438627 &  0.53879834 & 0.8405551  \\\\\n",
       "\t 5e-05       &  0.01315153 &  0.01963065 & 0.7037615  \\\\\n",
       "\t 1e-04       & -2.47477891 &  7.16072506 & 0.3254797  \\\\\n",
       "\t 5e-04       & -3.75456349 & 11.18912711 & 0.3002135  \\\\\n",
       "\t 1e-03       & -3.97977618 & 11.90067258 & 0.2996414  \\\\\n",
       "\t 5e-03       & -4.02396992 & 12.04036961 & 0.2996263  \\\\\n",
       "\t 1e-02       & -4.02396996 & 12.04036973 & 0.2996263  \\\\\n",
       "\t 5e-02       & -4.02396996 & 12.04036973 & 0.2996263  \\\\\n",
       "\t 1e-01       & -4.02396996 & 12.04036973 & 0.2996263  \\\\\n",
       "\\end{tabular}\n"
      ],
      "text/markdown": [
       "\n",
       "learning_rate | w | b | loss | \n",
       "|---|---|---|---|---|---|---|---|---|---|---|\n",
       "| 1e-06       |  0.70542317 |  0.71294864 | 2.0618044   | \n",
       "| 5e-06       |  0.34325417 |  0.51026752 | 1.2599188   | \n",
       "| 1e-05       |  0.05438627 |  0.53879834 | 0.8405551   | \n",
       "| 5e-05       |  0.01315153 |  0.01963065 | 0.7037615   | \n",
       "| 1e-04       | -2.47477891 |  7.16072506 | 0.3254797   | \n",
       "| 5e-04       | -3.75456349 | 11.18912711 | 0.3002135   | \n",
       "| 1e-03       | -3.97977618 | 11.90067258 | 0.2996414   | \n",
       "| 5e-03       | -4.02396992 | 12.04036961 | 0.2996263   | \n",
       "| 1e-02       | -4.02396996 | 12.04036973 | 0.2996263   | \n",
       "| 5e-02       | -4.02396996 | 12.04036973 | 0.2996263   | \n",
       "| 1e-01       | -4.02396996 | 12.04036973 | 0.2996263   | \n",
       "\n",
       "\n"
      ],
      "text/plain": [
       "   learning_rate w           b           loss     \n",
       "1  1e-06          0.70542317  0.71294864 2.0618044\n",
       "2  5e-06          0.34325417  0.51026752 1.2599188\n",
       "3  1e-05          0.05438627  0.53879834 0.8405551\n",
       "4  5e-05          0.01315153  0.01963065 0.7037615\n",
       "5  1e-04         -2.47477891  7.16072506 0.3254797\n",
       "6  5e-04         -3.75456349 11.18912711 0.3002135\n",
       "7  1e-03         -3.97977618 11.90067258 0.2996414\n",
       "8  5e-03         -4.02396992 12.04036961 0.2996263\n",
       "9  1e-02         -4.02396996 12.04036973 0.2996263\n",
       "10 5e-02         -4.02396996 12.04036973 0.2996263\n",
       "11 1e-01         -4.02396996 12.04036973 0.2996263"
      ]
     },
     "metadata": {},
     "output_type": "display_data"
    },
    {
     "data": {
      "image/png": "[encoded data removed]",
      "text/plain": [
       "plot without title"
      ]
     },
     "metadata": {},
     "output_type": "display_data"
    },
    {
     "data": {
      "image/png": "[encoded data removed]",
      "text/plain": [
       "plot without title"
      ]
     },
     "metadata": {},
     "output_type": "display_data"
    }
   ],
   "source": [
    "options(repr.plot.width = 4, repr.plot.height = 3)\n",
    "res <- res %>% arrange(learning_rate)\n",
    "res\n",
    "plot(res$loss ~ res$learning_rate, type=\"l\",\n",
    "     xlab=\"Learning rate\", ylab=\"Loss (MSE)\",\n",
    "     xlim = rev(range(res$learning_rate)))\n",
    "plot(log10(res$loss) ~ log10(res$learning_rate), type=\"l\",\n",
    "     xlab=\"Learning rate\", ylab=\"Loss (MSE)\",\n",
    "     xlim = rev(range(log10(res$learning_rate))))\n"
   ]
  },
  {
   "cell_type": "code",
   "execution_count": 13,
   "metadata": {},
   "outputs": [
    {
     "data": {
      "text/html": [
       "<table>\n",
       "<tbody>\n",
       "\t<tr><td>0.817</td><td>1    </td></tr>\n",
       "\t<tr><td>0.616</td><td>1    </td></tr>\n",
       "\t<tr><td>0.937</td><td>1    </td></tr>\n",
       "\t<tr><td>0.290</td><td>0    </td></tr>\n",
       "\t<tr><td>0.142</td><td>0    </td></tr>\n",
       "\t<tr><td>0.132</td><td>0    </td></tr>\n",
       "\t<tr><td>0.089</td><td>0    </td></tr>\n",
       "\t<tr><td>0.311</td><td>0    </td></tr>\n",
       "\t<tr><td>0.346</td><td>0    </td></tr>\n",
       "\t<tr><td>0.142</td><td>0    </td></tr>\n",
       "\t<tr><td>0.142</td><td>0    </td></tr>\n",
       "\t<tr><td>0.013</td><td>0    </td></tr>\n",
       "\t<tr><td>0.049</td><td>0    </td></tr>\n",
       "\t<tr><td>0.040</td><td>0    </td></tr>\n",
       "\t<tr><td>0.000</td><td>0    </td></tr>\n",
       "\t<tr><td>0.000</td><td>0    </td></tr>\n",
       "\t<tr><td>0.000</td><td>0    </td></tr>\n",
       "\t<tr><td>0.960</td><td>1    </td></tr>\n",
       "\t<tr><td>0.996</td><td>1    </td></tr>\n",
       "\t<tr><td>0.991</td><td>1    </td></tr>\n",
       "\t<tr><td>0.893</td><td>0    </td></tr>\n",
       "\t<tr><td>0.107</td><td>0    </td></tr>\n",
       "\t<tr><td>0.144</td><td>0    </td></tr>\n",
       "\t<tr><td>0.032</td><td>0    </td></tr>\n",
       "\t<tr><td>0.031</td><td>0    </td></tr>\n",
       "\t<tr><td>0.986</td><td>1    </td></tr>\n",
       "\t<tr><td>0.969</td><td>1    </td></tr>\n",
       "\t<tr><td>0.997</td><td>1    </td></tr>\n",
       "\t<tr><td>0.328</td><td>1    </td></tr>\n",
       "\t<tr><td>0.710</td><td>1    </td></tr>\n",
       "\t<tr><td>0.089</td><td>1    </td></tr>\n",
       "\t<tr><td>0.701</td><td>1    </td></tr>\n",
       "</tbody>\n",
       "</table>\n"
      ],
      "text/latex": [
       "\\begin{tabular}{ll}\n",
       "\t 0.817 & 1    \\\\\n",
       "\t 0.616 & 1    \\\\\n",
       "\t 0.937 & 1    \\\\\n",
       "\t 0.290 & 0    \\\\\n",
       "\t 0.142 & 0    \\\\\n",
       "\t 0.132 & 0    \\\\\n",
       "\t 0.089 & 0    \\\\\n",
       "\t 0.311 & 0    \\\\\n",
       "\t 0.346 & 0    \\\\\n",
       "\t 0.142 & 0    \\\\\n",
       "\t 0.142 & 0    \\\\\n",
       "\t 0.013 & 0    \\\\\n",
       "\t 0.049 & 0    \\\\\n",
       "\t 0.040 & 0    \\\\\n",
       "\t 0.000 & 0    \\\\\n",
       "\t 0.000 & 0    \\\\\n",
       "\t 0.000 & 0    \\\\\n",
       "\t 0.960 & 1    \\\\\n",
       "\t 0.996 & 1    \\\\\n",
       "\t 0.991 & 1    \\\\\n",
       "\t 0.893 & 0    \\\\\n",
       "\t 0.107 & 0    \\\\\n",
       "\t 0.144 & 0    \\\\\n",
       "\t 0.032 & 0    \\\\\n",
       "\t 0.031 & 0    \\\\\n",
       "\t 0.986 & 1    \\\\\n",
       "\t 0.969 & 1    \\\\\n",
       "\t 0.997 & 1    \\\\\n",
       "\t 0.328 & 1    \\\\\n",
       "\t 0.710 & 1    \\\\\n",
       "\t 0.089 & 1    \\\\\n",
       "\t 0.701 & 1    \\\\\n",
       "\\end{tabular}\n"
      ],
      "text/markdown": [
       "\n",
       "| 0.817 | 1     | \n",
       "| 0.616 | 1     | \n",
       "| 0.937 | 1     | \n",
       "| 0.290 | 0     | \n",
       "| 0.142 | 0     | \n",
       "| 0.132 | 0     | \n",
       "| 0.089 | 0     | \n",
       "| 0.311 | 0     | \n",
       "| 0.346 | 0     | \n",
       "| 0.142 | 0     | \n",
       "| 0.142 | 0     | \n",
       "| 0.013 | 0     | \n",
       "| 0.049 | 0     | \n",
       "| 0.040 | 0     | \n",
       "| 0.000 | 0     | \n",
       "| 0.000 | 0     | \n",
       "| 0.000 | 0     | \n",
       "| 0.960 | 1     | \n",
       "| 0.996 | 1     | \n",
       "| 0.991 | 1     | \n",
       "| 0.893 | 0     | \n",
       "| 0.107 | 0     | \n",
       "| 0.144 | 0     | \n",
       "| 0.032 | 0     | \n",
       "| 0.031 | 0     | \n",
       "| 0.986 | 1     | \n",
       "| 0.969 | 1     | \n",
       "| 0.997 | 1     | \n",
       "| 0.328 | 1     | \n",
       "| 0.710 | 1     | \n",
       "| 0.089 | 1     | \n",
       "| 0.701 | 1     | \n",
       "\n",
       "\n"
      ],
      "text/plain": [
       "      [,1]  [,2]\n",
       " [1,] 0.817 1   \n",
       " [2,] 0.616 1   \n",
       " [3,] 0.937 1   \n",
       " [4,] 0.290 0   \n",
       " [5,] 0.142 0   \n",
       " [6,] 0.132 0   \n",
       " [7,] 0.089 0   \n",
       " [8,] 0.311 0   \n",
       " [9,] 0.346 0   \n",
       "[10,] 0.142 0   \n",
       "[11,] 0.142 0   \n",
       "[12,] 0.013 0   \n",
       "[13,] 0.049 0   \n",
       "[14,] 0.040 0   \n",
       "[15,] 0.000 0   \n",
       "[16,] 0.000 0   \n",
       "[17,] 0.000 0   \n",
       "[18,] 0.960 1   \n",
       "[19,] 0.996 1   \n",
       "[20,] 0.991 1   \n",
       "[21,] 0.893 0   \n",
       "[22,] 0.107 0   \n",
       "[23,] 0.144 0   \n",
       "[24,] 0.032 0   \n",
       "[25,] 0.031 0   \n",
       "[26,] 0.986 1   \n",
       "[27,] 0.969 1   \n",
       "[28,] 0.997 1   \n",
       "[29,] 0.328 1   \n",
       "[30,] 0.710 1   \n",
       "[31,] 0.089 1   \n",
       "[32,] 0.701 1   "
      ]
     },
     "metadata": {},
     "output_type": "display_data"
    }
   ],
   "source": [
    "z <- (mtcars$wt*-4.02396996) + 12.04036973\n",
    "yhat <- sigma(z)\n",
    "\n",
    "cbind(round(yhat,3),mtcars$am)"
   ]
  },
  {
   "cell_type": "code",
   "execution_count": 88,
   "metadata": {},
   "outputs": [
    {
     "data": {
      "text/html": [
       "<ol class=list-inline>\n",
       "\t<li>1e-05</li>\n",
       "\t<li>2e-05</li>\n",
       "\t<li>3e-05</li>\n",
       "\t<li>5e-05</li>\n",
       "\t<li>6e-05</li>\n",
       "\t<li>7e-05</li>\n",
       "\t<li>8e-05</li>\n",
       "\t<li>9e-05</li>\n",
       "\t<li>1e-04</li>\n",
       "\t<li>2e-04</li>\n",
       "\t<li>3e-04</li>\n",
       "\t<li>5e-04</li>\n",
       "\t<li>6e-04</li>\n",
       "\t<li>7e-04</li>\n",
       "\t<li>8e-04</li>\n",
       "\t<li>9e-04</li>\n",
       "\t<li>0.001</li>\n",
       "</ol>\n"
      ],
      "text/latex": [
       "\\begin{enumerate*}\n",
       "\\item 1e-05\n",
       "\\item 2e-05\n",
       "\\item 3e-05\n",
       "\\item 5e-05\n",
       "\\item 6e-05\n",
       "\\item 7e-05\n",
       "\\item 8e-05\n",
       "\\item 9e-05\n",
       "\\item 1e-04\n",
       "\\item 2e-04\n",
       "\\item 3e-04\n",
       "\\item 5e-04\n",
       "\\item 6e-04\n",
       "\\item 7e-04\n",
       "\\item 8e-04\n",
       "\\item 9e-04\n",
       "\\item 0.001\n",
       "\\end{enumerate*}\n"
      ],
      "text/markdown": [
       "1. 1e-05\n",
       "2. 2e-05\n",
       "3. 3e-05\n",
       "4. 5e-05\n",
       "5. 6e-05\n",
       "6. 7e-05\n",
       "7. 8e-05\n",
       "8. 9e-05\n",
       "9. 1e-04\n",
       "10. 2e-04\n",
       "11. 3e-04\n",
       "12. 5e-04\n",
       "13. 6e-04\n",
       "14. 7e-04\n",
       "15. 8e-04\n",
       "16. 9e-04\n",
       "17. 0.001\n",
       "\n",
       "\n"
      ],
      "text/plain": [
       " [1] 1e-05 2e-05 3e-05 5e-05 6e-05 7e-05 8e-05 9e-05 1e-04 2e-04 3e-04 5e-04\n",
       "[13] 6e-04 7e-04 8e-04 9e-04 1e-03"
      ]
     },
     "metadata": {},
     "output_type": "display_data"
    }
   ],
   "source": [
    "learning_rate <- c(1e-5,2e-5,3e-5,5e-5,6e-5,7e-5,8e-5,9e-5,1e-4,2e-4,3e-4,5e-4,6e-4,7e-4,8e-4,9e-4,1e-3)\n",
    "learning_rate\n"
   ]
  },
  {
   "cell_type": "code",
   "execution_count": 89,
   "metadata": {},
   "outputs": [
    {
     "name": "stdout",
     "output_type": "stream",
     "text": [
      "[1] \"Optimal intercept: 29.4775524682693 Optimal slope: -0.040800841408126\"\n",
      "[1] \"Optimal intercept: 29.5993282707597 Optimal slope: -0.0412133365814933\"\n",
      "[1] \"Optimal intercept: 0.590402216497878 Optimal slope: -0.161234815945529\"\n",
      "[1] \"Optimal intercept: 0.598766403881814 Optimal slope: -1.10591330921019\"\n",
      "[1] \"Optimal intercept: 0.273428865037896 Optimal slope: -1.42368231460248\"\n",
      "[1] \"Optimal intercept: 0.173742219499142 Optimal slope: -2.58654965319555\"\n",
      "[1] \"Optimal intercept: 0.548354903090342 Optimal slope: -1.06114689789342\"\n",
      "[1] \"Optimal intercept: 0.524383086701292 Optimal slope: -4.75462396099102\"\n",
      "[1] \"Optimal intercept: 0.980731419248987 Optimal slope: -3.26968322223671\"\n",
      "[1] \"Optimal intercept: 0.573609151067134 Optimal slope: -10.6617019293539\"\n",
      "[1] \"Optimal intercept: 0.737601734287558 Optimal slope: -17.5910608532805\"\n",
      "[1] \"Optimal intercept: 0.59630778221597 Optimal slope: -16.6792057027658\"\n",
      "[1] \"Optimal intercept: 0.442632175636116 Optimal slope: -1.26872669169546\"\n",
      "[1] \"Optimal intercept: 0.357437052165266 Optimal slope: -9.54213851496046\"\n",
      "[1] \"Optimal intercept: 0.0585271189708373 Optimal slope: -1.98626390405164\"\n",
      "[1] \"Optimal intercept: 0.562814378787595 Optimal slope: -45.3317473021862\"\n",
      "[1] \"Optimal intercept: 0.718019919026888 Optimal slope: -36.0499943037796\"\n"
     ]
    }
   ],
   "source": [
    "res <- NULL\n",
    "for (lr in learning_rate) {\n",
    "    gd <- gradientDesc(mtcars$disp, mtcars$mpg, lr, 2500000)\n",
    "    res <- rbind(res, data.frame(cbind(learning_rate=lr, gd)))\n",
    "}\n"
   ]
  },
  {
   "cell_type": "code",
   "execution_count": 90,
   "metadata": {},
   "outputs": [
    {
     "data": {
      "text/html": [
       "<table>\n",
       "<thead><tr><th scope=col>learning_rate</th><th scope=col>w</th><th scope=col>b</th><th scope=col>loss</th></tr></thead>\n",
       "<tbody>\n",
       "\t<tr><td>1e-05       </td><td> -0.04080084</td><td>29.47755247 </td><td>9.914477e+00</td></tr>\n",
       "\t<tr><td>2e-05       </td><td> -0.04121334</td><td>29.59932827 </td><td>9.911209e+00</td></tr>\n",
       "\t<tr><td>3e-05       </td><td> -0.16123482</td><td> 0.59040222 </td><td>3.439225e+03</td></tr>\n",
       "\t<tr><td>5e-05       </td><td> -1.10591331</td><td> 0.59876640 </td><td>9.231125e+04</td></tr>\n",
       "\t<tr><td>6e-05       </td><td> -1.42368231</td><td> 0.27342887 </td><td>1.497575e+05</td></tr>\n",
       "\t<tr><td>7e-05       </td><td> -2.58654965</td><td> 0.17374222 </td><td>4.767255e+05</td></tr>\n",
       "\t<tr><td>8e-05       </td><td> -1.06114690</td><td> 0.54835490 </td><td>8.538239e+04</td></tr>\n",
       "\t<tr><td>9e-05       </td><td> -4.75462396</td><td> 0.52438309 </td><td>1.577315e+06</td></tr>\n",
       "\t<tr><td>1e-04       </td><td> -3.26968322</td><td> 0.98073142 </td><td>7.534105e+05</td></tr>\n",
       "\t<tr><td>2e-04       </td><td>-10.66170193</td><td> 0.57360915 </td><td>7.825932e+06</td></tr>\n",
       "\t<tr><td>3e-04       </td><td>-17.59106085</td><td> 0.73760173 </td><td>2.121329e+07</td></tr>\n",
       "\t<tr><td>5e-04       </td><td>-16.67920570</td><td> 0.59630778 </td><td>1.907885e+07</td></tr>\n",
       "\t<tr><td>6e-04       </td><td> -1.26872669</td><td> 0.44263218 </td><td>1.200077e+05</td></tr>\n",
       "\t<tr><td>7e-04       </td><td> -9.54213851</td><td> 0.35743705 </td><td>6.277494e+06</td></tr>\n",
       "\t<tr><td>8e-04       </td><td> -1.98626390</td><td> 0.05852712 </td><td>2.850843e+05</td></tr>\n",
       "\t<tr><td>9e-04       </td><td>-45.33174730</td><td> 0.56281438 </td><td>1.403240e+08</td></tr>\n",
       "\t<tr><td>1e-03       </td><td>-36.04999430</td><td> 0.71801992 </td><td>8.879872e+07</td></tr>\n",
       "</tbody>\n",
       "</table>\n"
      ],
      "text/latex": [
       "\\begin{tabular}{r|llll}\n",
       " learning\\_rate & w & b & loss\\\\\n",
       "\\hline\n",
       "\t 1e-05        &  -0.04080084 & 29.47755247  & 9.914477e+00\\\\\n",
       "\t 2e-05        &  -0.04121334 & 29.59932827  & 9.911209e+00\\\\\n",
       "\t 3e-05        &  -0.16123482 &  0.59040222  & 3.439225e+03\\\\\n",
       "\t 5e-05        &  -1.10591331 &  0.59876640  & 9.231125e+04\\\\\n",
       "\t 6e-05        &  -1.42368231 &  0.27342887  & 1.497575e+05\\\\\n",
       "\t 7e-05        &  -2.58654965 &  0.17374222  & 4.767255e+05\\\\\n",
       "\t 8e-05        &  -1.06114690 &  0.54835490  & 8.538239e+04\\\\\n",
       "\t 9e-05        &  -4.75462396 &  0.52438309  & 1.577315e+06\\\\\n",
       "\t 1e-04        &  -3.26968322 &  0.98073142  & 7.534105e+05\\\\\n",
       "\t 2e-04        & -10.66170193 &  0.57360915  & 7.825932e+06\\\\\n",
       "\t 3e-04        & -17.59106085 &  0.73760173  & 2.121329e+07\\\\\n",
       "\t 5e-04        & -16.67920570 &  0.59630778  & 1.907885e+07\\\\\n",
       "\t 6e-04        &  -1.26872669 &  0.44263218  & 1.200077e+05\\\\\n",
       "\t 7e-04        &  -9.54213851 &  0.35743705  & 6.277494e+06\\\\\n",
       "\t 8e-04        &  -1.98626390 &  0.05852712  & 2.850843e+05\\\\\n",
       "\t 9e-04        & -45.33174730 &  0.56281438  & 1.403240e+08\\\\\n",
       "\t 1e-03        & -36.04999430 &  0.71801992  & 8.879872e+07\\\\\n",
       "\\end{tabular}\n"
      ],
      "text/markdown": [
       "\n",
       "learning_rate | w | b | loss | \n",
       "|---|---|---|---|---|---|---|---|---|---|---|---|---|---|---|---|---|\n",
       "| 1e-05        |  -0.04080084 | 29.47755247  | 9.914477e+00 | \n",
       "| 2e-05        |  -0.04121334 | 29.59932827  | 9.911209e+00 | \n",
       "| 3e-05        |  -0.16123482 |  0.59040222  | 3.439225e+03 | \n",
       "| 5e-05        |  -1.10591331 |  0.59876640  | 9.231125e+04 | \n",
       "| 6e-05        |  -1.42368231 |  0.27342887  | 1.497575e+05 | \n",
       "| 7e-05        |  -2.58654965 |  0.17374222  | 4.767255e+05 | \n",
       "| 8e-05        |  -1.06114690 |  0.54835490  | 8.538239e+04 | \n",
       "| 9e-05        |  -4.75462396 |  0.52438309  | 1.577315e+06 | \n",
       "| 1e-04        |  -3.26968322 |  0.98073142  | 7.534105e+05 | \n",
       "| 2e-04        | -10.66170193 |  0.57360915  | 7.825932e+06 | \n",
       "| 3e-04        | -17.59106085 |  0.73760173  | 2.121329e+07 | \n",
       "| 5e-04        | -16.67920570 |  0.59630778  | 1.907885e+07 | \n",
       "| 6e-04        |  -1.26872669 |  0.44263218  | 1.200077e+05 | \n",
       "| 7e-04        |  -9.54213851 |  0.35743705  | 6.277494e+06 | \n",
       "| 8e-04        |  -1.98626390 |  0.05852712  | 2.850843e+05 | \n",
       "| 9e-04        | -45.33174730 |  0.56281438  | 1.403240e+08 | \n",
       "| 1e-03        | -36.04999430 |  0.71801992  | 8.879872e+07 | \n",
       "\n",
       "\n"
      ],
      "text/plain": [
       "   learning_rate w            b           loss        \n",
       "1  1e-05          -0.04080084 29.47755247 9.914477e+00\n",
       "2  2e-05          -0.04121334 29.59932827 9.911209e+00\n",
       "3  3e-05          -0.16123482  0.59040222 3.439225e+03\n",
       "4  5e-05          -1.10591331  0.59876640 9.231125e+04\n",
       "5  6e-05          -1.42368231  0.27342887 1.497575e+05\n",
       "6  7e-05          -2.58654965  0.17374222 4.767255e+05\n",
       "7  8e-05          -1.06114690  0.54835490 8.538239e+04\n",
       "8  9e-05          -4.75462396  0.52438309 1.577315e+06\n",
       "9  1e-04          -3.26968322  0.98073142 7.534105e+05\n",
       "10 2e-04         -10.66170193  0.57360915 7.825932e+06\n",
       "11 3e-04         -17.59106085  0.73760173 2.121329e+07\n",
       "12 5e-04         -16.67920570  0.59630778 1.907885e+07\n",
       "13 6e-04          -1.26872669  0.44263218 1.200077e+05\n",
       "14 7e-04          -9.54213851  0.35743705 6.277494e+06\n",
       "15 8e-04          -1.98626390  0.05852712 2.850843e+05\n",
       "16 9e-04         -45.33174730  0.56281438 1.403240e+08\n",
       "17 1e-03         -36.04999430  0.71801992 8.879872e+07"
      ]
     },
     "metadata": {},
     "output_type": "display_data"
    },
    {
     "data": {
      "image/png": "[encoded data removed]",
      "text/plain": [
       "plot without title"
      ]
     },
     "metadata": {},
     "output_type": "display_data"
    },
    {
     "data": {
      "image/png": "[encoded data removed]",
      "text/plain": [
       "plot without title"
      ]
     },
     "metadata": {},
     "output_type": "display_data"
    }
   ],
   "source": [
    "library(dplyr)\n",
    "res <- res %>% arrange(learning_rate) \n",
    "res\n",
    "options(repr.plot.width = 6, repr.plot.height = 4)\n",
    "plot(res$loss ~ res$learning_rate, type=\"l\",\n",
    "     xlab=\"Learning rate\", ylab=\"Loss (MSE)\",\n",
    "     xlim = rev(range(res$learning_rate)))\n",
    "plot(log10(res$loss) ~ log10(res$learning_rate), type=\"l\",\n",
    "     xlab=\"Learning rate\", ylab=\"Loss (MSE)\",\n",
    "     xlim = rev(range(log10(res$learning_rate))))"
   ]
  },
  {
   "cell_type": "code",
   "execution_count": null,
   "metadata": {},
   "outputs": [],
   "source": []
  },
  {
   "cell_type": "code",
   "execution_count": 83,
   "metadata": {},
   "outputs": [
    {
     "name": "stdout",
     "output_type": "stream",
     "text": [
      "[1] \"Optimal intercept: 0.861303488308978 Optimal slope: 0.0561343030152594\"\n",
      "[1] \"Optimal intercept: 0.409777218775862 Optimal slope: 0.057661387916001\"\n",
      "[1] \"Optimal intercept: 0.089956265155533 Optimal slope: 0.0587447279311118\"\n",
      "[1] \"Optimal intercept: 0.75143963443057 Optimal slope: 0.0565040635995411\"\n",
      "[1] \"Optimal intercept: 0.808024184643905 Optimal slope: 0.0563123928950758\"\n",
      "[1] \"Optimal intercept: 3.64745901596276 Optimal slope: 0.046694282079488\"\n",
      "[1] \"Optimal intercept: 0.913314645020955 Optimal slope: 0.0559557390622212\"\n",
      "[1] \"Optimal intercept: 19.9340522831491 Optimal slope: -0.00847382994210306\"\n",
      "[1] \"Optimal intercept: 5.985573604854 Optimal slope: 0.0387743097781503\"\n",
      "[1] \"Optimal intercept: 29.5993340817854 Optimal slope: -0.0412133562653714\"\n",
      "[1] \"Optimal intercept: 26.3713838830542 Optimal slope: -0.0302792145917712\"\n",
      "[1] \"Optimal intercept: 29.5993257131288 Optimal slope: -0.041213327917946\"\n",
      "[1] \"Optimal intercept: 29.5998547467984 Optimal slope: -0.0412151199310621\"\n"
     ]
    }
   ],
   "source": [
    "## iterating with the number of iterations\n",
    "library(dplyr)\n",
    "res <- NULL\n",
    "number_iterations <- c(1e1,5e2,1e2,5e3,1e3,5e4,1e4,5e5,1e5,5e6,1e6,5e6,1e7)\n",
    "for (iter in number_iterations) {\n",
    "    gd <- gradientDesc(mtcars$disp, mtcars$mpg, 1e-5, iter)\n",
    "    res <- rbind(res, data.frame(cbind(num_iter=iter, gd)))\n",
    "}\n"
   ]
  },
  {
   "cell_type": "code",
   "execution_count": 85,
   "metadata": {},
   "outputs": [
    {
     "data": {
      "text/html": [
       "<table>\n",
       "<thead><tr><th scope=col>num_iter</th><th scope=col>w</th><th scope=col>b</th><th scope=col>loss</th></tr></thead>\n",
       "<tbody>\n",
       "\t<tr><td>1e+01      </td><td> 0.05613430</td><td> 0.86130349</td><td>190.347127 </td></tr>\n",
       "\t<tr><td>1e+02      </td><td> 0.05874473</td><td> 0.08995627</td><td>200.162969 </td></tr>\n",
       "\t<tr><td>5e+02      </td><td> 0.05766139</td><td> 0.40977722</td><td>196.061512 </td></tr>\n",
       "\t<tr><td>1e+03      </td><td> 0.05631239</td><td> 0.80802418</td><td>191.016779 </td></tr>\n",
       "\t<tr><td>5e+03      </td><td> 0.05650406</td><td> 0.75143963</td><td>191.729331 </td></tr>\n",
       "\t<tr><td>1e+04      </td><td> 0.05595574</td><td> 0.91331465</td><td>189.694611 </td></tr>\n",
       "\t<tr><td>5e+04      </td><td> 0.04669428</td><td> 3.64745902</td><td>157.057107 </td></tr>\n",
       "\t<tr><td>1e+05      </td><td> 0.03877431</td><td> 5.98557360</td><td>131.737974 </td></tr>\n",
       "\t<tr><td>5e+05      </td><td>-0.00847383</td><td>19.93405228</td><td> 30.322435 </td></tr>\n",
       "\t<tr><td>1e+06      </td><td>-0.03027921</td><td>26.37138388</td><td> 12.188335 </td></tr>\n",
       "\t<tr><td>5e+06      </td><td>-0.04121336</td><td>29.59933408</td><td>  9.911209 </td></tr>\n",
       "\t<tr><td>5e+06      </td><td>-0.04121333</td><td>29.59932571</td><td>  9.911209 </td></tr>\n",
       "\t<tr><td>1e+07      </td><td>-0.04121512</td><td>29.59985475</td><td>  9.911209 </td></tr>\n",
       "</tbody>\n",
       "</table>\n"
      ],
      "text/latex": [
       "\\begin{tabular}{r|llll}\n",
       " num\\_iter & w & b & loss\\\\\n",
       "\\hline\n",
       "\t 1e+01       &  0.05613430 &  0.86130349 & 190.347127 \\\\\n",
       "\t 1e+02       &  0.05874473 &  0.08995627 & 200.162969 \\\\\n",
       "\t 5e+02       &  0.05766139 &  0.40977722 & 196.061512 \\\\\n",
       "\t 1e+03       &  0.05631239 &  0.80802418 & 191.016779 \\\\\n",
       "\t 5e+03       &  0.05650406 &  0.75143963 & 191.729331 \\\\\n",
       "\t 1e+04       &  0.05595574 &  0.91331465 & 189.694611 \\\\\n",
       "\t 5e+04       &  0.04669428 &  3.64745902 & 157.057107 \\\\\n",
       "\t 1e+05       &  0.03877431 &  5.98557360 & 131.737974 \\\\\n",
       "\t 5e+05       & -0.00847383 & 19.93405228 &  30.322435 \\\\\n",
       "\t 1e+06       & -0.03027921 & 26.37138388 &  12.188335 \\\\\n",
       "\t 5e+06       & -0.04121336 & 29.59933408 &   9.911209 \\\\\n",
       "\t 5e+06       & -0.04121333 & 29.59932571 &   9.911209 \\\\\n",
       "\t 1e+07       & -0.04121512 & 29.59985475 &   9.911209 \\\\\n",
       "\\end{tabular}\n"
      ],
      "text/markdown": [
       "\n",
       "num_iter | w | b | loss | \n",
       "|---|---|---|---|---|---|---|---|---|---|---|---|---|\n",
       "| 1e+01       |  0.05613430 |  0.86130349 | 190.347127  | \n",
       "| 1e+02       |  0.05874473 |  0.08995627 | 200.162969  | \n",
       "| 5e+02       |  0.05766139 |  0.40977722 | 196.061512  | \n",
       "| 1e+03       |  0.05631239 |  0.80802418 | 191.016779  | \n",
       "| 5e+03       |  0.05650406 |  0.75143963 | 191.729331  | \n",
       "| 1e+04       |  0.05595574 |  0.91331465 | 189.694611  | \n",
       "| 5e+04       |  0.04669428 |  3.64745902 | 157.057107  | \n",
       "| 1e+05       |  0.03877431 |  5.98557360 | 131.737974  | \n",
       "| 5e+05       | -0.00847383 | 19.93405228 |  30.322435  | \n",
       "| 1e+06       | -0.03027921 | 26.37138388 |  12.188335  | \n",
       "| 5e+06       | -0.04121336 | 29.59933408 |   9.911209  | \n",
       "| 5e+06       | -0.04121333 | 29.59932571 |   9.911209  | \n",
       "| 1e+07       | -0.04121512 | 29.59985475 |   9.911209  | \n",
       "\n",
       "\n"
      ],
      "text/plain": [
       "   num_iter w           b           loss      \n",
       "1  1e+01     0.05613430  0.86130349 190.347127\n",
       "2  1e+02     0.05874473  0.08995627 200.162969\n",
       "3  5e+02     0.05766139  0.40977722 196.061512\n",
       "4  1e+03     0.05631239  0.80802418 191.016779\n",
       "5  5e+03     0.05650406  0.75143963 191.729331\n",
       "6  1e+04     0.05595574  0.91331465 189.694611\n",
       "7  5e+04     0.04669428  3.64745902 157.057107\n",
       "8  1e+05     0.03877431  5.98557360 131.737974\n",
       "9  5e+05    -0.00847383 19.93405228  30.322435\n",
       "10 1e+06    -0.03027921 26.37138388  12.188335\n",
       "11 5e+06    -0.04121336 29.59933408   9.911209\n",
       "12 5e+06    -0.04121333 29.59932571   9.911209\n",
       "13 1e+07    -0.04121512 29.59985475   9.911209"
      ]
     },
     "metadata": {},
     "output_type": "display_data"
    },
    {
     "data": {
      "image/png": "[encoded data removed]",
      "text/plain": [
       "plot without title"
      ]
     },
     "metadata": {},
     "output_type": "display_data"
    },
    {
     "data": {
      "image/png": "[encoded data removed]",
      "text/plain": [
       "plot without title"
      ]
     },
     "metadata": {},
     "output_type": "display_data"
    }
   ],
   "source": [
    "res <- res %>% arrange(num_iter)\n",
    "res\n",
    "options(repr.plot.width = 6, repr.plot.height = 4)\n",
    "plot(res$loss ~ res$num_iter, type=\"l\",xlab=\"Number of iterations\", ylab=\"Loss (MSE)\")\n",
    "plot(log10(res$loss) ~ log10(res$num_iter), type=\"l\",xlab=\"Number of iterations\", ylab=\"Loss (MSE)\")"
   ]
  }
 ],
 "metadata": {
  "kernelspec": {
   "display_name": "R",
   "language": "R",
   "name": "ir"
  },
  "language_info": {
   "codemirror_mode": "r",
   "file_extension": ".r",
   "mimetype": "text/x-r-source",
   "name": "R",
   "pygments_lexer": "r",
   "version": "3.4.4"
  }
 },
 "nbformat": 4,
 "nbformat_minor": 2
}
