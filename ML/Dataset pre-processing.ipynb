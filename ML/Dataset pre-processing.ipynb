{
 "cells": [
  {
   "cell_type": "markdown",
   "metadata": {},
   "source": [
    "# Preparing the data for modeling"
   ]
  },
  {
   "cell_type": "markdown",
   "metadata": {},
   "source": [
    "## Subsetting the dataset\n",
    " \n",
    "When our flat-file is ready for modeling we have to procede to generate the partitions that we will use for modeling. No matter which method we will use for training our data, we have to generate first a test dataset. This test dataset has to be set on hold aside and only used at the end of the whole process of training and selecting the best model.\n",
    " \n",
    "After we selected the test dataset we proceed to use the rest of the data for training the models. There are three main strategies for that:\n",
    " \n",
    "* Dividing into train and dev\n",
    "* Using Cross-validation\n",
    "* Using Bootstrapping\n",
    "\n",
    "\n",
    "## Test dataset"
   ]
  },
  {
   "cell_type": "code",
   "execution_count": 1,
   "metadata": {},
   "outputs": [],
   "source": [
    "data <- read.table(unz(\"../data/BlackFriday.csv.zip\", \"BlackFriday.csv\"), \n",
    "                   header=T, quote=\"\\\"\", sep=\",\")"
   ]
  },
  {
   "cell_type": "code",
   "execution_count": 2,
   "metadata": {},
   "outputs": [
    {
     "data": {
      "text/html": [
       "<table>\n",
       "<thead><tr><th scope=col>User_ID</th><th scope=col>Product_ID</th><th scope=col>Gender</th><th scope=col>Age</th><th scope=col>Occupation</th><th scope=col>City_Category</th><th scope=col>Stay_In_Current_City_Years</th><th scope=col>Marital_Status</th><th scope=col>Product_Category_1</th><th scope=col>Product_Category_2</th><th scope=col>Product_Category_3</th><th scope=col>Purchase</th></tr></thead>\n",
       "<tbody>\n",
       "\t<tr><td>1000001  </td><td>P00069042</td><td>F        </td><td>0-17     </td><td>10       </td><td>A        </td><td>2        </td><td>0        </td><td> 3       </td><td>NA       </td><td>NA       </td><td> 8370    </td></tr>\n",
       "\t<tr><td>1000001  </td><td>P00248942</td><td>F        </td><td>0-17     </td><td>10       </td><td>A        </td><td>2        </td><td>0        </td><td> 1       </td><td> 6       </td><td>14       </td><td>15200    </td></tr>\n",
       "\t<tr><td>1000001  </td><td>P00087842</td><td>F        </td><td>0-17     </td><td>10       </td><td>A        </td><td>2        </td><td>0        </td><td>12       </td><td>NA       </td><td>NA       </td><td> 1422    </td></tr>\n",
       "\t<tr><td>1000001  </td><td>P00085442</td><td>F        </td><td>0-17     </td><td>10       </td><td>A        </td><td>2        </td><td>0        </td><td>12       </td><td>14       </td><td>NA       </td><td> 1057    </td></tr>\n",
       "\t<tr><td>1000002  </td><td>P00285442</td><td>M        </td><td>55+      </td><td>16       </td><td>C        </td><td>4+       </td><td>0        </td><td> 8       </td><td>NA       </td><td>NA       </td><td> 7969    </td></tr>\n",
       "\t<tr><td>1000003  </td><td>P00193542</td><td>M        </td><td>26-35    </td><td>15       </td><td>A        </td><td>3        </td><td>0        </td><td> 1       </td><td> 2       </td><td>NA       </td><td>15227    </td></tr>\n",
       "</tbody>\n",
       "</table>\n"
      ],
      "text/latex": [
       "\\begin{tabular}{r|llllllllllll}\n",
       " User\\_ID & Product\\_ID & Gender & Age & Occupation & City\\_Category & Stay\\_In\\_Current\\_City\\_Years & Marital\\_Status & Product\\_Category\\_1 & Product\\_Category\\_2 & Product\\_Category\\_3 & Purchase\\\\\n",
       "\\hline\n",
       "\t 1000001   & P00069042 & F         & 0-17      & 10        & A         & 2         & 0         &  3        & NA        & NA        &  8370    \\\\\n",
       "\t 1000001   & P00248942 & F         & 0-17      & 10        & A         & 2         & 0         &  1        &  6        & 14        & 15200    \\\\\n",
       "\t 1000001   & P00087842 & F         & 0-17      & 10        & A         & 2         & 0         & 12        & NA        & NA        &  1422    \\\\\n",
       "\t 1000001   & P00085442 & F         & 0-17      & 10        & A         & 2         & 0         & 12        & 14        & NA        &  1057    \\\\\n",
       "\t 1000002   & P00285442 & M         & 55+       & 16        & C         & 4+        & 0         &  8        & NA        & NA        &  7969    \\\\\n",
       "\t 1000003   & P00193542 & M         & 26-35     & 15        & A         & 3         & 0         &  1        &  2        & NA        & 15227    \\\\\n",
       "\\end{tabular}\n"
      ],
      "text/markdown": [
       "\n",
       "User_ID | Product_ID | Gender | Age | Occupation | City_Category | Stay_In_Current_City_Years | Marital_Status | Product_Category_1 | Product_Category_2 | Product_Category_3 | Purchase | \n",
       "|---|---|---|---|---|---|\n",
       "| 1000001   | P00069042 | F         | 0-17      | 10        | A         | 2         | 0         |  3        | NA        | NA        |  8370     | \n",
       "| 1000001   | P00248942 | F         | 0-17      | 10        | A         | 2         | 0         |  1        |  6        | 14        | 15200     | \n",
       "| 1000001   | P00087842 | F         | 0-17      | 10        | A         | 2         | 0         | 12        | NA        | NA        |  1422     | \n",
       "| 1000001   | P00085442 | F         | 0-17      | 10        | A         | 2         | 0         | 12        | 14        | NA        |  1057     | \n",
       "| 1000002   | P00285442 | M         | 55+       | 16        | C         | 4+        | 0         |  8        | NA        | NA        |  7969     | \n",
       "| 1000003   | P00193542 | M         | 26-35     | 15        | A         | 3         | 0         |  1        |  2        | NA        | 15227     | \n",
       "\n",
       "\n"
      ],
      "text/plain": [
       "  User_ID Product_ID Gender Age   Occupation City_Category\n",
       "1 1000001 P00069042  F      0-17  10         A            \n",
       "2 1000001 P00248942  F      0-17  10         A            \n",
       "3 1000001 P00087842  F      0-17  10         A            \n",
       "4 1000001 P00085442  F      0-17  10         A            \n",
       "5 1000002 P00285442  M      55+   16         C            \n",
       "6 1000003 P00193542  M      26-35 15         A            \n",
       "  Stay_In_Current_City_Years Marital_Status Product_Category_1\n",
       "1 2                          0               3                \n",
       "2 2                          0               1                \n",
       "3 2                          0              12                \n",
       "4 2                          0              12                \n",
       "5 4+                         0               8                \n",
       "6 3                          0               1                \n",
       "  Product_Category_2 Product_Category_3 Purchase\n",
       "1 NA                 NA                  8370   \n",
       "2  6                 14                 15200   \n",
       "3 NA                 NA                  1422   \n",
       "4 14                 NA                  1057   \n",
       "5 NA                 NA                  7969   \n",
       "6  2                 NA                 15227   "
      ]
     },
     "metadata": {},
     "output_type": "display_data"
    }
   ],
   "source": [
    "head(data)"
   ]
  },
  {
   "cell_type": "code",
   "execution_count": 3,
   "metadata": {},
   "outputs": [],
   "source": [
    "data$Occupation <- factor(data$Occupation)\n",
    "data$Marital_Status <- factor(data$Marital_Status)\n",
    "data$Product_Category_1 <- factor(data$Product_Category_1)\n",
    "data$Product_Category_2 <- factor(ifelse(is.na(data$Product_Category_2),0,data$Product_Category_2))\n",
    "data$Product_Category_3 <- factor(ifelse(is.na(data$Product_Category_3),0,data$Product_Category_3))\n"
   ]
  },
  {
   "cell_type": "code",
   "execution_count": 4,
   "metadata": {},
   "outputs": [
    {
     "data": {
      "text/plain": [
       "    User_ID            Product_ID     Gender        Age        \n",
       " Min.   :1000001   P00265242:  1858   F:132197   0-17 : 14707  \n",
       " 1st Qu.:1001495   P00110742:  1591   M:405380   18-25: 97634  \n",
       " Median :1003031   P00025442:  1586              26-35:214690  \n",
       " Mean   :1002992   P00112142:  1539              36-45:107499  \n",
       " 3rd Qu.:1004417   P00057642:  1430              46-50: 44526  \n",
       " Max.   :1006040   P00184942:  1424              51-55: 37618  \n",
       "                   (Other)  :528149              55+  : 20903  \n",
       "   Occupation     City_Category Stay_In_Current_City_Years Marital_Status\n",
       " 4      : 70862   A:144638      0 : 72725                  0:317817      \n",
       " 0      : 68120   B:226493      1 :189192                  1:219760      \n",
       " 7      : 57806   C:166446      2 : 99459                                \n",
       " 1      : 45971                 3 : 93312                                \n",
       " 17     : 39090                 4+: 82889                                \n",
       " 20     : 32910                                                          \n",
       " (Other):222818                                                          \n",
       " Product_Category_1 Product_Category_2 Product_Category_3    Purchase    \n",
       " 5      :148592     0      :166986     0      :373299     Min.   :  185  \n",
       " 1      :138353     8      : 63058     16     : 32148     1st Qu.: 5866  \n",
       " 8      :112132     14     : 54158     15     : 27611     Median : 8062  \n",
       " 11     : 23960     2      : 48481     14     : 18121     Mean   : 9334  \n",
       " 2      : 23499     16     : 42602     17     : 16449     3rd Qu.:12073  \n",
       " 6      : 20164     15     : 37317     5      : 16380     Max.   :23961  \n",
       " (Other): 70877     (Other):124975     (Other): 53569                    "
      ]
     },
     "metadata": {},
     "output_type": "display_data"
    }
   ],
   "source": [
    "summary(data)"
   ]
  },
  {
   "cell_type": "code",
   "execution_count": 5,
   "metadata": {},
   "outputs": [],
   "source": [
    "vn <- setdiff(names(data),c(\"Product_ID\",\"User_ID\"))"
   ]
  },
  {
   "cell_type": "code",
   "execution_count": 6,
   "metadata": {},
   "outputs": [
    {
     "name": "stderr",
     "output_type": "stream",
     "text": [
      "Loading required package: mechkar\n"
     ]
    }
   ],
   "source": [
    "#library(devtools)\n",
    "#install_github(\"karpatit/mechkar\")\n",
    "require(mechkar)"
   ]
  },
  {
   "cell_type": "code",
   "execution_count": 7,
   "metadata": {},
   "outputs": [
    {
     "name": "stdout",
     "output_type": "stream",
     "text": [
      "  |===============================================================       |  90%"
     ]
    },
    {
     "data": {
      "text/html": [
       "<table>\n",
       "<thead><tr><th scope=col>V1</th><th scope=col>V2</th><th scope=col>Pop</th><th scope=col>A</th><th scope=col>B</th><th scope=col>C</th><th scope=col>pval</th></tr></thead>\n",
       "<tbody>\n",
       "\t<tr><td>Individuals    </td><td>n              </td><td>537577         </td><td>144638         </td><td>226493         </td><td>166446         </td><td>NA             </td></tr>\n",
       "\t<tr><td>Gender         </td><td>F              </td><td>132,197 (24.6%)</td><td>34,807 (24.1%) </td><td>56,494 (24.9%) </td><td>40,896 (24.6%) </td><td>NA             </td></tr>\n",
       "\t<tr><td>Gender         </td><td>M              </td><td>405,380 (75.4%)</td><td>109,831 (75.9%)</td><td>169,999 (75.1%)</td><td>125,550 (75.4%)</td><td>0              </td></tr>\n",
       "\t<tr><td>Age            </td><td>0-17           </td><td>14,707 (2.7%)  </td><td>2,497 (1.7%)   </td><td>5,288 (2.3%)   </td><td>6,922 (4.2%)   </td><td>NA             </td></tr>\n",
       "\t<tr><td>Age            </td><td>18-25          </td><td>97,634 (18.2%) </td><td>27,025 (18.7%) </td><td>42,470 (18.8%) </td><td>28,139 (16.9%) </td><td>0              </td></tr>\n",
       "\t<tr><td>Age            </td><td>26-35          </td><td>214,690 (39.9%)</td><td>72,048 (49.8%) </td><td>89,767 (39.6%) </td><td>52,875 (31.8%) </td><td>NA             </td></tr>\n",
       "\t<tr><td>Age            </td><td>36-45          </td><td>107,499 (20.0%)</td><td>26,142 (18.1%) </td><td>46,605 (20.6%) </td><td>34,752 (20.9%) </td><td>NA             </td></tr>\n",
       "\t<tr><td>Age            </td><td>46-50          </td><td>44,526 (8.3%)  </td><td>7,467 (5.2%)   </td><td>19,900 (8.8%)  </td><td>17,159 (10.3%) </td><td>NA             </td></tr>\n",
       "\t<tr><td>Age            </td><td>51-55          </td><td>37,618 (7.0%)  </td><td>5,969 (4.1%)   </td><td>17,435 (7.7%)  </td><td>14,214 (8.5%)  </td><td>NA             </td></tr>\n",
       "\t<tr><td>Age            </td><td>55+            </td><td>20,903 (3.9%)  </td><td>3,490 (2.4%)   </td><td>5,028 (2.2%)   </td><td>12,385 (7.4%)  </td><td>NA             </td></tr>\n",
       "\t<tr><td>Occupation     </td><td>0              </td><td>68,120 (12.7%) </td><td>18,396 (12.7%) </td><td>29,356 (13.0%) </td><td>20,368 (12.2%) </td><td>NA             </td></tr>\n",
       "\t<tr><td>Occupation     </td><td>1              </td><td>45,971 (8.6%)  </td><td>12,395 (8.6%)  </td><td>19,305 (8.5%)  </td><td>14,271 (8.6%)  </td><td>NA             </td></tr>\n",
       "\t<tr><td>Occupation     </td><td>2              </td><td>25,845 (4.8%)  </td><td>8,899 (6.2%)   </td><td>11,097 (4.9%)  </td><td>5,849 (3.5%)   </td><td>NA             </td></tr>\n",
       "\t<tr><td>Occupation     </td><td>3              </td><td>17,366 (3.2%)  </td><td>5,556 (3.8%)   </td><td>6,851 (3.0%)   </td><td>4,959 (3.0%)   </td><td>NA             </td></tr>\n",
       "\t<tr><td>Occupation     </td><td>4              </td><td>70,862 (13.2%) </td><td>23,862 (16.5%) </td><td>29,301 (12.9%) </td><td>17,699 (10.6%) </td><td>NA             </td></tr>\n",
       "\t<tr><td>Occupation     </td><td>5              </td><td>11,985 (2.2%)  </td><td>2,346 (1.6%)   </td><td>6,523 (2.9%)   </td><td>3,116 (1.9%)   </td><td>NA             </td></tr>\n",
       "\t<tr><td>Occupation     </td><td>6              </td><td>19,822 (3.7%)  </td><td>3,672 (2.5%)   </td><td>10,681 (4.7%)  </td><td>5,469 (3.3%)   </td><td>NA             </td></tr>\n",
       "\t<tr><td>Occupation     </td><td>7              </td><td>57,806 (10.8%) </td><td>15,802 (10.9%) </td><td>22,606 (10.0%) </td><td>19,398 (11.7%) </td><td>NA             </td></tr>\n",
       "\t<tr><td>Occupation     </td><td>8              </td><td>1,524 (0.3%)   </td><td>100 (0.1%)     </td><td>827 (0.4%)     </td><td>597 (0.4%)     </td><td>NA             </td></tr>\n",
       "\t<tr><td>Occupation     </td><td>9              </td><td>6,153 (1.1%)   </td><td>701 (0.5%)     </td><td>3,179 (1.4%)   </td><td>2,273 (1.4%)   </td><td>NA             </td></tr>\n",
       "\t<tr><td>Occupation     </td><td>10             </td><td>12,623 (2.3%)  </td><td>2,187 (1.5%)   </td><td>4,130 (1.8%)   </td><td>6,306 (3.8%)   </td><td>NA             </td></tr>\n",
       "\t<tr><td>Occupation     </td><td>11             </td><td>11,338 (2.1%)  </td><td>2,403 (1.7%)   </td><td>5,487 (2.4%)   </td><td>3,448 (2.1%)   </td><td>NA             </td></tr>\n",
       "\t<tr><td>Occupation     </td><td>12             </td><td>30,423 (5.7%)  </td><td>6,922 (4.8%)   </td><td>12,869 (5.7%)  </td><td>10,632 (6.4%)  </td><td>NA             </td></tr>\n",
       "\t<tr><td>Occupation     </td><td>13             </td><td>7,548 (1.4%)   </td><td>384 (0.3%)     </td><td>2,332 (1.0%)   </td><td>4,832 (2.9%)   </td><td>NA             </td></tr>\n",
       "\t<tr><td>Occupation     </td><td>14             </td><td>26,712 (5.0%)  </td><td>7,621 (5.3%)   </td><td>11,048 (4.9%)  </td><td>8,043 (4.8%)   </td><td>NA             </td></tr>\n",
       "\t<tr><td>Occupation     </td><td>15             </td><td>11,812 (2.2%)  </td><td>3,000 (2.1%)   </td><td>5,074 (2.2%)   </td><td>3,738 (2.2%)   </td><td>NA             </td></tr>\n",
       "\t<tr><td>Occupation     </td><td>16             </td><td>24,790 (4.6%)  </td><td>5,917 (4.1%)   </td><td>10,661 (4.7%)  </td><td>8,212 (4.9%)   </td><td>NA             </td></tr>\n",
       "\t<tr><td>Occupation     </td><td>17             </td><td>39,090 (7.3%)  </td><td>8,052 (5.6%)   </td><td>15,688 (6.9%)  </td><td>15,350 (9.2%)  </td><td>NA             </td></tr>\n",
       "\t<tr><td>Occupation     </td><td>18             </td><td>6,525 (1.2%)   </td><td>1,593 (1.1%)   </td><td>2,095 (0.9%)   </td><td>2,837 (1.7%)   </td><td>NA             </td></tr>\n",
       "\t<tr><td>Occupation     </td><td>19             </td><td>8,352 (1.6%)   </td><td>2,212 (1.5%)   </td><td>3,367 (1.5%)   </td><td>2,773 (1.7%)   </td><td>NA             </td></tr>\n",
       "\t<tr><td>⋮</td><td>⋮</td><td>⋮</td><td>⋮</td><td>⋮</td><td>⋮</td><td>⋮</td></tr>\n",
       "\t<tr><td>Product_Category_2        </td><td>7                         </td><td>615 (0.1%)                </td><td>178 (0.1%)                </td><td>259 (0.1%)                </td><td>178 (0.1%)                </td><td>NA                        </td></tr>\n",
       "\t<tr><td>Product_Category_2        </td><td>8                         </td><td>63,058 (11.7%)            </td><td>17,073 (11.8%)            </td><td>26,290 (11.6%)            </td><td>19,695 (11.8%)            </td><td>NA                        </td></tr>\n",
       "\t<tr><td>Product_Category_2        </td><td>9                         </td><td>5,591 (1.0%)              </td><td>1,453 (1.0%)              </td><td>2,432 (1.1%)              </td><td>1,706 (1.0%)              </td><td>NA                        </td></tr>\n",
       "\t<tr><td>Product_Category_2        </td><td>10                        </td><td>2,991 (0.6%)              </td><td>766 (0.5%)                </td><td>1,190 (0.5%)              </td><td>1,035 (0.6%)              </td><td>NA                        </td></tr>\n",
       "\t<tr><td>Product_Category_2        </td><td>11                        </td><td>13,945 (2.6%)             </td><td>3,614 (2.5%)              </td><td>5,896 (2.6%)              </td><td>4,435 (2.7%)              </td><td>NA                        </td></tr>\n",
       "\t<tr><td>Product_Category_2        </td><td>12                        </td><td>5,419 (1.0%)              </td><td>1,557 (1.1%)              </td><td>2,447 (1.1%)              </td><td>1,415 (0.9%)              </td><td>NA                        </td></tr>\n",
       "\t<tr><td>Product_Category_2        </td><td>13                        </td><td>10,369 (1.9%)             </td><td>2,812 (1.9%)              </td><td>4,218 (1.9%)              </td><td>3,339 (2.0%)              </td><td>NA                        </td></tr>\n",
       "\t<tr><td>Product_Category_2        </td><td>14                        </td><td>54,158 (10.1%)            </td><td>15,008 (10.4%)            </td><td>22,682 (10.0%)            </td><td>16,468 (9.9%)             </td><td>NA                        </td></tr>\n",
       "\t<tr><td>Product_Category_2        </td><td>15                        </td><td>37,317 (6.9%)             </td><td>9,216 (6.4%)              </td><td>15,338 (6.8%)             </td><td>12,763 (7.7%)             </td><td>NA                        </td></tr>\n",
       "\t<tr><td>Product_Category_2        </td><td>16                        </td><td>42,602 (7.9%)             </td><td>11,367 (7.9%)             </td><td>17,742 (7.8%)             </td><td>13,493 (8.1%)             </td><td>NA                        </td></tr>\n",
       "\t<tr><td>Product_Category_2        </td><td>17                        </td><td>13,130 (2.4%)             </td><td>3,287 (2.3%)              </td><td>5,526 (2.4%)              </td><td>4,317 (2.6%)              </td><td>NA                        </td></tr>\n",
       "\t<tr><td>Product_Category_2        </td><td>18                        </td><td>2,730 (0.5%)              </td><td>698 (0.5%)                </td><td>1,155 (0.5%)              </td><td>877 (0.5%)                </td><td>NA                        </td></tr>\n",
       "\t<tr><td>Product_Category_3        </td><td>0                         </td><td>373,299 (69.4%)           </td><td>103,790 (71.8%)           </td><td>158,308 (69.9%)           </td><td>111,201 (66.8%)           </td><td>NA                        </td></tr>\n",
       "\t<tr><td>Product_Category_3        </td><td>3                         </td><td>600 (0.1%)                </td><td>150 (0.1%)                </td><td>263 (0.1%)                </td><td>187 (0.1%)                </td><td>NA                        </td></tr>\n",
       "\t<tr><td>Product_Category_3        </td><td>4                         </td><td>1,840 (0.3%)              </td><td>465 (0.3%)                </td><td>784 (0.3%)                </td><td>591 (0.4%)                </td><td>NA                        </td></tr>\n",
       "\t<tr><td>Product_Category_3        </td><td>5                         </td><td>16,380 (3.0%)             </td><td>3,989 (2.8%)              </td><td>6,683 (3.0%)              </td><td>5,708 (3.4%)              </td><td>NA                        </td></tr>\n",
       "\t<tr><td>Product_Category_3        </td><td>6                         </td><td>4,818 (0.9%)              </td><td>1,249 (0.9%)              </td><td>2,028 (0.9%)              </td><td>1,541 (0.9%)              </td><td>NA                        </td></tr>\n",
       "\t<tr><td>Product_Category_3        </td><td>8                         </td><td>12,384 (2.3%)             </td><td>3,032 (2.1%)              </td><td>5,044 (2.2%)              </td><td>4,308 (2.6%)              </td><td>NA                        </td></tr>\n",
       "\t<tr><td>Product_Category_3        </td><td>9                         </td><td>11,414 (2.1%)             </td><td>2,659 (1.8%)              </td><td>4,719 (2.1%)              </td><td>4,036 (2.4%)              </td><td>NA                        </td></tr>\n",
       "\t<tr><td>Product_Category_3        </td><td>10                        </td><td>1,698 (0.3%)              </td><td>418 (0.3%)                </td><td>681 (0.3%)                </td><td>599 (0.4%)                </td><td>NA                        </td></tr>\n",
       "\t<tr><td>Product_Category_3        </td><td>11                        </td><td>1,773 (0.3%)              </td><td>447 (0.3%)                </td><td>753 (0.3%)                </td><td>573 (0.3%)                </td><td>NA                        </td></tr>\n",
       "\t<tr><td>Product_Category_3        </td><td>12                        </td><td>9,094 (1.7%)              </td><td>2,303 (1.6%)              </td><td>4,009 (1.8%)              </td><td>2,782 (1.7%)              </td><td>NA                        </td></tr>\n",
       "\t<tr><td>Product_Category_3        </td><td>13                        </td><td>5,385 (1.0%)              </td><td>1,420 (1.0%)              </td><td>2,192 (1.0%)              </td><td>1,773 (1.1%)              </td><td>NA                        </td></tr>\n",
       "\t<tr><td>Product_Category_3        </td><td>14                        </td><td>18,121 (3.4%)             </td><td>4,930 (3.4%)              </td><td>7,638 (3.4%)              </td><td>5,553 (3.3%)              </td><td>NA                        </td></tr>\n",
       "\t<tr><td>Product_Category_3        </td><td>15                        </td><td>27,611 (5.1%)             </td><td>6,690 (4.6%)              </td><td>11,453 (5.1%)             </td><td>9,468 (5.7%)              </td><td>NA                        </td></tr>\n",
       "\t<tr><td>Product_Category_3        </td><td>16                        </td><td>32,148 (6.0%)             </td><td>8,204 (5.7%)              </td><td>13,387 (5.9%)             </td><td>10,557 (6.3%)             </td><td>NA                        </td></tr>\n",
       "\t<tr><td>Product_Category_3        </td><td>17                        </td><td>16,449 (3.1%)             </td><td>3,763 (2.6%)              </td><td>6,633 (2.9%)              </td><td>6,053 (3.6%)              </td><td>NA                        </td></tr>\n",
       "\t<tr><td>Product_Category_3        </td><td>18                        </td><td>4,563 (0.8%)              </td><td>1,129 (0.8%)              </td><td>1,918 (0.8%)              </td><td>1,516 (0.9%)              </td><td>NA                        </td></tr>\n",
       "\t<tr><td>Purchase                  </td><td>Mean (SD)                 </td><td>9,333.9 (4,981.0)         </td><td>8,958.0 (4,866.9)         </td><td>9,198.7 (4,927.1)         </td><td>9,844.4 (5,109.5)         </td><td>NA                        </td></tr>\n",
       "\t<tr><td>Purchase                  </td><td>Median (IQR)              </td><td>8,062.0 (5,866.0-12,073.0)</td><td>7,941.0 (5,419.0-11,801.8)</td><td>8,015.0 (5,477.0-12,000.0)</td><td>8,618.0 (6,094.0-13,268.0)</td><td>0                         </td></tr>\n",
       "</tbody>\n",
       "</table>\n"
      ],
      "text/latex": [
       "\\begin{tabular}{r|lllllll}\n",
       " V1 & V2 & Pop & A & B & C & pval\\\\\n",
       "\\hline\n",
       "\t Individuals     & n               & 537577          & 144638          & 226493          & 166446          & NA             \\\\\n",
       "\t Gender            & F                 & 132,197 (24.6\\%) & 34,807 (24.1\\%)  & 56,494 (24.9\\%)  & 40,896 (24.6\\%)  & NA               \\\\\n",
       "\t Gender            & M                 & 405,380 (75.4\\%) & 109,831 (75.9\\%) & 169,999 (75.1\\%) & 125,550 (75.4\\%) & 0                \\\\\n",
       "\t Age               & 0-17              & 14,707 (2.7\\%)   & 2,497 (1.7\\%)    & 5,288 (2.3\\%)    & 6,922 (4.2\\%)    & NA               \\\\\n",
       "\t Age               & 18-25             & 97,634 (18.2\\%)  & 27,025 (18.7\\%)  & 42,470 (18.8\\%)  & 28,139 (16.9\\%)  & 0                \\\\\n",
       "\t Age               & 26-35             & 214,690 (39.9\\%) & 72,048 (49.8\\%)  & 89,767 (39.6\\%)  & 52,875 (31.8\\%)  & NA               \\\\\n",
       "\t Age               & 36-45             & 107,499 (20.0\\%) & 26,142 (18.1\\%)  & 46,605 (20.6\\%)  & 34,752 (20.9\\%)  & NA               \\\\\n",
       "\t Age               & 46-50             & 44,526 (8.3\\%)   & 7,467 (5.2\\%)    & 19,900 (8.8\\%)   & 17,159 (10.3\\%)  & NA               \\\\\n",
       "\t Age               & 51-55             & 37,618 (7.0\\%)   & 5,969 (4.1\\%)    & 17,435 (7.7\\%)   & 14,214 (8.5\\%)   & NA               \\\\\n",
       "\t Age               & 55+               & 20,903 (3.9\\%)   & 3,490 (2.4\\%)    & 5,028 (2.2\\%)    & 12,385 (7.4\\%)   & NA               \\\\\n",
       "\t Occupation        & 0                 & 68,120 (12.7\\%)  & 18,396 (12.7\\%)  & 29,356 (13.0\\%)  & 20,368 (12.2\\%)  & NA               \\\\\n",
       "\t Occupation        & 1                 & 45,971 (8.6\\%)   & 12,395 (8.6\\%)   & 19,305 (8.5\\%)   & 14,271 (8.6\\%)   & NA               \\\\\n",
       "\t Occupation        & 2                 & 25,845 (4.8\\%)   & 8,899 (6.2\\%)    & 11,097 (4.9\\%)   & 5,849 (3.5\\%)    & NA               \\\\\n",
       "\t Occupation        & 3                 & 17,366 (3.2\\%)   & 5,556 (3.8\\%)    & 6,851 (3.0\\%)    & 4,959 (3.0\\%)    & NA               \\\\\n",
       "\t Occupation        & 4                 & 70,862 (13.2\\%)  & 23,862 (16.5\\%)  & 29,301 (12.9\\%)  & 17,699 (10.6\\%)  & NA               \\\\\n",
       "\t Occupation        & 5                 & 11,985 (2.2\\%)   & 2,346 (1.6\\%)    & 6,523 (2.9\\%)    & 3,116 (1.9\\%)    & NA               \\\\\n",
       "\t Occupation        & 6                 & 19,822 (3.7\\%)   & 3,672 (2.5\\%)    & 10,681 (4.7\\%)   & 5,469 (3.3\\%)    & NA               \\\\\n",
       "\t Occupation        & 7                 & 57,806 (10.8\\%)  & 15,802 (10.9\\%)  & 22,606 (10.0\\%)  & 19,398 (11.7\\%)  & NA               \\\\\n",
       "\t Occupation        & 8                 & 1,524 (0.3\\%)    & 100 (0.1\\%)      & 827 (0.4\\%)      & 597 (0.4\\%)      & NA               \\\\\n",
       "\t Occupation        & 9                 & 6,153 (1.1\\%)    & 701 (0.5\\%)      & 3,179 (1.4\\%)    & 2,273 (1.4\\%)    & NA               \\\\\n",
       "\t Occupation        & 10                & 12,623 (2.3\\%)   & 2,187 (1.5\\%)    & 4,130 (1.8\\%)    & 6,306 (3.8\\%)    & NA               \\\\\n",
       "\t Occupation        & 11                & 11,338 (2.1\\%)   & 2,403 (1.7\\%)    & 5,487 (2.4\\%)    & 3,448 (2.1\\%)    & NA               \\\\\n",
       "\t Occupation        & 12                & 30,423 (5.7\\%)   & 6,922 (4.8\\%)    & 12,869 (5.7\\%)   & 10,632 (6.4\\%)   & NA               \\\\\n",
       "\t Occupation        & 13                & 7,548 (1.4\\%)    & 384 (0.3\\%)      & 2,332 (1.0\\%)    & 4,832 (2.9\\%)    & NA               \\\\\n",
       "\t Occupation        & 14                & 26,712 (5.0\\%)   & 7,621 (5.3\\%)    & 11,048 (4.9\\%)   & 8,043 (4.8\\%)    & NA               \\\\\n",
       "\t Occupation        & 15                & 11,812 (2.2\\%)   & 3,000 (2.1\\%)    & 5,074 (2.2\\%)    & 3,738 (2.2\\%)    & NA               \\\\\n",
       "\t Occupation        & 16                & 24,790 (4.6\\%)   & 5,917 (4.1\\%)    & 10,661 (4.7\\%)   & 8,212 (4.9\\%)    & NA               \\\\\n",
       "\t Occupation        & 17                & 39,090 (7.3\\%)   & 8,052 (5.6\\%)    & 15,688 (6.9\\%)   & 15,350 (9.2\\%)   & NA               \\\\\n",
       "\t Occupation        & 18                & 6,525 (1.2\\%)    & 1,593 (1.1\\%)    & 2,095 (0.9\\%)    & 2,837 (1.7\\%)    & NA               \\\\\n",
       "\t Occupation        & 19                & 8,352 (1.6\\%)    & 2,212 (1.5\\%)    & 3,367 (1.5\\%)    & 2,773 (1.7\\%)    & NA               \\\\\n",
       "\t ⋮ & ⋮ & ⋮ & ⋮ & ⋮ & ⋮ & ⋮\\\\\n",
       "\t Product\\_Category\\_2       & 7                            & 615 (0.1\\%)                 & 178 (0.1\\%)                 & 259 (0.1\\%)                 & 178 (0.1\\%)                 & NA                          \\\\\n",
       "\t Product\\_Category\\_2       & 8                            & 63,058 (11.7\\%)             & 17,073 (11.8\\%)             & 26,290 (11.6\\%)             & 19,695 (11.8\\%)             & NA                          \\\\\n",
       "\t Product\\_Category\\_2       & 9                            & 5,591 (1.0\\%)               & 1,453 (1.0\\%)               & 2,432 (1.1\\%)               & 1,706 (1.0\\%)               & NA                          \\\\\n",
       "\t Product\\_Category\\_2       & 10                           & 2,991 (0.6\\%)               & 766 (0.5\\%)                 & 1,190 (0.5\\%)               & 1,035 (0.6\\%)               & NA                          \\\\\n",
       "\t Product\\_Category\\_2       & 11                           & 13,945 (2.6\\%)              & 3,614 (2.5\\%)               & 5,896 (2.6\\%)               & 4,435 (2.7\\%)               & NA                          \\\\\n",
       "\t Product\\_Category\\_2       & 12                           & 5,419 (1.0\\%)               & 1,557 (1.1\\%)               & 2,447 (1.1\\%)               & 1,415 (0.9\\%)               & NA                          \\\\\n",
       "\t Product\\_Category\\_2       & 13                           & 10,369 (1.9\\%)              & 2,812 (1.9\\%)               & 4,218 (1.9\\%)               & 3,339 (2.0\\%)               & NA                          \\\\\n",
       "\t Product\\_Category\\_2       & 14                           & 54,158 (10.1\\%)             & 15,008 (10.4\\%)             & 22,682 (10.0\\%)             & 16,468 (9.9\\%)              & NA                          \\\\\n",
       "\t Product\\_Category\\_2       & 15                           & 37,317 (6.9\\%)              & 9,216 (6.4\\%)               & 15,338 (6.8\\%)              & 12,763 (7.7\\%)              & NA                          \\\\\n",
       "\t Product\\_Category\\_2       & 16                           & 42,602 (7.9\\%)              & 11,367 (7.9\\%)              & 17,742 (7.8\\%)              & 13,493 (8.1\\%)              & NA                          \\\\\n",
       "\t Product\\_Category\\_2       & 17                           & 13,130 (2.4\\%)              & 3,287 (2.3\\%)               & 5,526 (2.4\\%)               & 4,317 (2.6\\%)               & NA                          \\\\\n",
       "\t Product\\_Category\\_2       & 18                           & 2,730 (0.5\\%)               & 698 (0.5\\%)                 & 1,155 (0.5\\%)               & 877 (0.5\\%)                 & NA                          \\\\\n",
       "\t Product\\_Category\\_3       & 0                            & 373,299 (69.4\\%)            & 103,790 (71.8\\%)            & 158,308 (69.9\\%)            & 111,201 (66.8\\%)            & NA                          \\\\\n",
       "\t Product\\_Category\\_3       & 3                            & 600 (0.1\\%)                 & 150 (0.1\\%)                 & 263 (0.1\\%)                 & 187 (0.1\\%)                 & NA                          \\\\\n",
       "\t Product\\_Category\\_3       & 4                            & 1,840 (0.3\\%)               & 465 (0.3\\%)                 & 784 (0.3\\%)                 & 591 (0.4\\%)                 & NA                          \\\\\n",
       "\t Product\\_Category\\_3       & 5                            & 16,380 (3.0\\%)              & 3,989 (2.8\\%)               & 6,683 (3.0\\%)               & 5,708 (3.4\\%)               & NA                          \\\\\n",
       "\t Product\\_Category\\_3       & 6                            & 4,818 (0.9\\%)               & 1,249 (0.9\\%)               & 2,028 (0.9\\%)               & 1,541 (0.9\\%)               & NA                          \\\\\n",
       "\t Product\\_Category\\_3       & 8                            & 12,384 (2.3\\%)              & 3,032 (2.1\\%)               & 5,044 (2.2\\%)               & 4,308 (2.6\\%)               & NA                          \\\\\n",
       "\t Product\\_Category\\_3       & 9                            & 11,414 (2.1\\%)              & 2,659 (1.8\\%)               & 4,719 (2.1\\%)               & 4,036 (2.4\\%)               & NA                          \\\\\n",
       "\t Product\\_Category\\_3       & 10                           & 1,698 (0.3\\%)               & 418 (0.3\\%)                 & 681 (0.3\\%)                 & 599 (0.4\\%)                 & NA                          \\\\\n",
       "\t Product\\_Category\\_3       & 11                           & 1,773 (0.3\\%)               & 447 (0.3\\%)                 & 753 (0.3\\%)                 & 573 (0.3\\%)                 & NA                          \\\\\n",
       "\t Product\\_Category\\_3       & 12                           & 9,094 (1.7\\%)               & 2,303 (1.6\\%)               & 4,009 (1.8\\%)               & 2,782 (1.7\\%)               & NA                          \\\\\n",
       "\t Product\\_Category\\_3       & 13                           & 5,385 (1.0\\%)               & 1,420 (1.0\\%)               & 2,192 (1.0\\%)               & 1,773 (1.1\\%)               & NA                          \\\\\n",
       "\t Product\\_Category\\_3       & 14                           & 18,121 (3.4\\%)              & 4,930 (3.4\\%)               & 7,638 (3.4\\%)               & 5,553 (3.3\\%)               & NA                          \\\\\n",
       "\t Product\\_Category\\_3       & 15                           & 27,611 (5.1\\%)              & 6,690 (4.6\\%)               & 11,453 (5.1\\%)              & 9,468 (5.7\\%)               & NA                          \\\\\n",
       "\t Product\\_Category\\_3       & 16                           & 32,148 (6.0\\%)              & 8,204 (5.7\\%)               & 13,387 (5.9\\%)              & 10,557 (6.3\\%)              & NA                          \\\\\n",
       "\t Product\\_Category\\_3       & 17                           & 16,449 (3.1\\%)              & 3,763 (2.6\\%)               & 6,633 (2.9\\%)               & 6,053 (3.6\\%)               & NA                          \\\\\n",
       "\t Product\\_Category\\_3       & 18                           & 4,563 (0.8\\%)               & 1,129 (0.8\\%)               & 1,918 (0.8\\%)               & 1,516 (0.9\\%)               & NA                          \\\\\n",
       "\t Purchase                   & Mean (SD)                  & 9,333.9 (4,981.0)          & 8,958.0 (4,866.9)          & 9,198.7 (4,927.1)          & 9,844.4 (5,109.5)          & NA                        \\\\\n",
       "\t Purchase                   & Median (IQR)               & 8,062.0 (5,866.0-12,073.0) & 7,941.0 (5,419.0-11,801.8) & 8,015.0 (5,477.0-12,000.0) & 8,618.0 (6,094.0-13,268.0) & 0                         \\\\\n",
       "\\end{tabular}\n"
      ],
      "text/markdown": [
       "\n",
       "V1 | V2 | Pop | A | B | C | pval | \n",
       "|---|---|---|---|---|---|---|---|---|---|---|---|---|---|---|---|---|---|---|---|---|---|---|---|---|---|---|---|---|---|---|---|---|---|---|---|---|---|---|---|---|---|---|---|---|---|---|---|---|---|---|---|---|---|---|---|---|---|---|---|---|\n",
       "| Individuals     | n               | 537577          | 144638          | 226493          | 166446          | NA              | \n",
       "| Gender          | F               | 132,197 (24.6%) | 34,807 (24.1%)  | 56,494 (24.9%)  | 40,896 (24.6%)  | NA              | \n",
       "| Gender          | M               | 405,380 (75.4%) | 109,831 (75.9%) | 169,999 (75.1%) | 125,550 (75.4%) | 0               | \n",
       "| Age             | 0-17            | 14,707 (2.7%)   | 2,497 (1.7%)    | 5,288 (2.3%)    | 6,922 (4.2%)    | NA              | \n",
       "| Age             | 18-25           | 97,634 (18.2%)  | 27,025 (18.7%)  | 42,470 (18.8%)  | 28,139 (16.9%)  | 0               | \n",
       "| Age             | 26-35           | 214,690 (39.9%) | 72,048 (49.8%)  | 89,767 (39.6%)  | 52,875 (31.8%)  | NA              | \n",
       "| Age             | 36-45           | 107,499 (20.0%) | 26,142 (18.1%)  | 46,605 (20.6%)  | 34,752 (20.9%)  | NA              | \n",
       "| Age             | 46-50           | 44,526 (8.3%)   | 7,467 (5.2%)    | 19,900 (8.8%)   | 17,159 (10.3%)  | NA              | \n",
       "| Age             | 51-55           | 37,618 (7.0%)   | 5,969 (4.1%)    | 17,435 (7.7%)   | 14,214 (8.5%)   | NA              | \n",
       "| Age             | 55+             | 20,903 (3.9%)   | 3,490 (2.4%)    | 5,028 (2.2%)    | 12,385 (7.4%)   | NA              | \n",
       "| Occupation      | 0               | 68,120 (12.7%)  | 18,396 (12.7%)  | 29,356 (13.0%)  | 20,368 (12.2%)  | NA              | \n",
       "| Occupation      | 1               | 45,971 (8.6%)   | 12,395 (8.6%)   | 19,305 (8.5%)   | 14,271 (8.6%)   | NA              | \n",
       "| Occupation      | 2               | 25,845 (4.8%)   | 8,899 (6.2%)    | 11,097 (4.9%)   | 5,849 (3.5%)    | NA              | \n",
       "| Occupation      | 3               | 17,366 (3.2%)   | 5,556 (3.8%)    | 6,851 (3.0%)    | 4,959 (3.0%)    | NA              | \n",
       "| Occupation      | 4               | 70,862 (13.2%)  | 23,862 (16.5%)  | 29,301 (12.9%)  | 17,699 (10.6%)  | NA              | \n",
       "| Occupation      | 5               | 11,985 (2.2%)   | 2,346 (1.6%)    | 6,523 (2.9%)    | 3,116 (1.9%)    | NA              | \n",
       "| Occupation      | 6               | 19,822 (3.7%)   | 3,672 (2.5%)    | 10,681 (4.7%)   | 5,469 (3.3%)    | NA              | \n",
       "| Occupation      | 7               | 57,806 (10.8%)  | 15,802 (10.9%)  | 22,606 (10.0%)  | 19,398 (11.7%)  | NA              | \n",
       "| Occupation      | 8               | 1,524 (0.3%)    | 100 (0.1%)      | 827 (0.4%)      | 597 (0.4%)      | NA              | \n",
       "| Occupation      | 9               | 6,153 (1.1%)    | 701 (0.5%)      | 3,179 (1.4%)    | 2,273 (1.4%)    | NA              | \n",
       "| Occupation      | 10              | 12,623 (2.3%)   | 2,187 (1.5%)    | 4,130 (1.8%)    | 6,306 (3.8%)    | NA              | \n",
       "| Occupation      | 11              | 11,338 (2.1%)   | 2,403 (1.7%)    | 5,487 (2.4%)    | 3,448 (2.1%)    | NA              | \n",
       "| Occupation      | 12              | 30,423 (5.7%)   | 6,922 (4.8%)    | 12,869 (5.7%)   | 10,632 (6.4%)   | NA              | \n",
       "| Occupation      | 13              | 7,548 (1.4%)    | 384 (0.3%)      | 2,332 (1.0%)    | 4,832 (2.9%)    | NA              | \n",
       "| Occupation      | 14              | 26,712 (5.0%)   | 7,621 (5.3%)    | 11,048 (4.9%)   | 8,043 (4.8%)    | NA              | \n",
       "| Occupation      | 15              | 11,812 (2.2%)   | 3,000 (2.1%)    | 5,074 (2.2%)    | 3,738 (2.2%)    | NA              | \n",
       "| Occupation      | 16              | 24,790 (4.6%)   | 5,917 (4.1%)    | 10,661 (4.7%)   | 8,212 (4.9%)    | NA              | \n",
       "| Occupation      | 17              | 39,090 (7.3%)   | 8,052 (5.6%)    | 15,688 (6.9%)   | 15,350 (9.2%)   | NA              | \n",
       "| Occupation      | 18              | 6,525 (1.2%)    | 1,593 (1.1%)    | 2,095 (0.9%)    | 2,837 (1.7%)    | NA              | \n",
       "| Occupation      | 19              | 8,352 (1.6%)    | 2,212 (1.5%)    | 3,367 (1.5%)    | 2,773 (1.7%)    | NA              | \n",
       "| ⋮ | ⋮ | ⋮ | ⋮ | ⋮ | ⋮ | ⋮ | \n",
       "| Product_Category_2         | 7                          | 615 (0.1%)                 | 178 (0.1%)                 | 259 (0.1%)                 | 178 (0.1%)                 | NA                         | \n",
       "| Product_Category_2         | 8                          | 63,058 (11.7%)             | 17,073 (11.8%)             | 26,290 (11.6%)             | 19,695 (11.8%)             | NA                         | \n",
       "| Product_Category_2         | 9                          | 5,591 (1.0%)               | 1,453 (1.0%)               | 2,432 (1.1%)               | 1,706 (1.0%)               | NA                         | \n",
       "| Product_Category_2         | 10                         | 2,991 (0.6%)               | 766 (0.5%)                 | 1,190 (0.5%)               | 1,035 (0.6%)               | NA                         | \n",
       "| Product_Category_2         | 11                         | 13,945 (2.6%)              | 3,614 (2.5%)               | 5,896 (2.6%)               | 4,435 (2.7%)               | NA                         | \n",
       "| Product_Category_2         | 12                         | 5,419 (1.0%)               | 1,557 (1.1%)               | 2,447 (1.1%)               | 1,415 (0.9%)               | NA                         | \n",
       "| Product_Category_2         | 13                         | 10,369 (1.9%)              | 2,812 (1.9%)               | 4,218 (1.9%)               | 3,339 (2.0%)               | NA                         | \n",
       "| Product_Category_2         | 14                         | 54,158 (10.1%)             | 15,008 (10.4%)             | 22,682 (10.0%)             | 16,468 (9.9%)              | NA                         | \n",
       "| Product_Category_2         | 15                         | 37,317 (6.9%)              | 9,216 (6.4%)               | 15,338 (6.8%)              | 12,763 (7.7%)              | NA                         | \n",
       "| Product_Category_2         | 16                         | 42,602 (7.9%)              | 11,367 (7.9%)              | 17,742 (7.8%)              | 13,493 (8.1%)              | NA                         | \n",
       "| Product_Category_2         | 17                         | 13,130 (2.4%)              | 3,287 (2.3%)               | 5,526 (2.4%)               | 4,317 (2.6%)               | NA                         | \n",
       "| Product_Category_2         | 18                         | 2,730 (0.5%)               | 698 (0.5%)                 | 1,155 (0.5%)               | 877 (0.5%)                 | NA                         | \n",
       "| Product_Category_3         | 0                          | 373,299 (69.4%)            | 103,790 (71.8%)            | 158,308 (69.9%)            | 111,201 (66.8%)            | NA                         | \n",
       "| Product_Category_3         | 3                          | 600 (0.1%)                 | 150 (0.1%)                 | 263 (0.1%)                 | 187 (0.1%)                 | NA                         | \n",
       "| Product_Category_3         | 4                          | 1,840 (0.3%)               | 465 (0.3%)                 | 784 (0.3%)                 | 591 (0.4%)                 | NA                         | \n",
       "| Product_Category_3         | 5                          | 16,380 (3.0%)              | 3,989 (2.8%)               | 6,683 (3.0%)               | 5,708 (3.4%)               | NA                         | \n",
       "| Product_Category_3         | 6                          | 4,818 (0.9%)               | 1,249 (0.9%)               | 2,028 (0.9%)               | 1,541 (0.9%)               | NA                         | \n",
       "| Product_Category_3         | 8                          | 12,384 (2.3%)              | 3,032 (2.1%)               | 5,044 (2.2%)               | 4,308 (2.6%)               | NA                         | \n",
       "| Product_Category_3         | 9                          | 11,414 (2.1%)              | 2,659 (1.8%)               | 4,719 (2.1%)               | 4,036 (2.4%)               | NA                         | \n",
       "| Product_Category_3         | 10                         | 1,698 (0.3%)               | 418 (0.3%)                 | 681 (0.3%)                 | 599 (0.4%)                 | NA                         | \n",
       "| Product_Category_3         | 11                         | 1,773 (0.3%)               | 447 (0.3%)                 | 753 (0.3%)                 | 573 (0.3%)                 | NA                         | \n",
       "| Product_Category_3         | 12                         | 9,094 (1.7%)               | 2,303 (1.6%)               | 4,009 (1.8%)               | 2,782 (1.7%)               | NA                         | \n",
       "| Product_Category_3         | 13                         | 5,385 (1.0%)               | 1,420 (1.0%)               | 2,192 (1.0%)               | 1,773 (1.1%)               | NA                         | \n",
       "| Product_Category_3         | 14                         | 18,121 (3.4%)              | 4,930 (3.4%)               | 7,638 (3.4%)               | 5,553 (3.3%)               | NA                         | \n",
       "| Product_Category_3         | 15                         | 27,611 (5.1%)              | 6,690 (4.6%)               | 11,453 (5.1%)              | 9,468 (5.7%)               | NA                         | \n",
       "| Product_Category_3         | 16                         | 32,148 (6.0%)              | 8,204 (5.7%)               | 13,387 (5.9%)              | 10,557 (6.3%)              | NA                         | \n",
       "| Product_Category_3         | 17                         | 16,449 (3.1%)              | 3,763 (2.6%)               | 6,633 (2.9%)               | 6,053 (3.6%)               | NA                         | \n",
       "| Product_Category_3         | 18                         | 4,563 (0.8%)               | 1,129 (0.8%)               | 1,918 (0.8%)               | 1,516 (0.9%)               | NA                         | \n",
       "| Purchase                   | Mean (SD)                  | 9,333.9 (4,981.0)          | 8,958.0 (4,866.9)          | 9,198.7 (4,927.1)          | 9,844.4 (5,109.5)          | NA                         | \n",
       "| Purchase                   | Median (IQR)               | 8,062.0 (5,866.0-12,073.0) | 7,941.0 (5,419.0-11,801.8) | 8,015.0 (5,477.0-12,000.0) | 8,618.0 (6,094.0-13,268.0) | 0                          | \n",
       "\n",
       "\n"
      ],
      "text/plain": [
       "   V1                 V2           Pop                       \n",
       "1  Individuals        n            537577                    \n",
       "2  Gender             F            132,197 (24.6%)           \n",
       "3  Gender             M            405,380 (75.4%)           \n",
       "4  Age                0-17         14,707 (2.7%)             \n",
       "5  Age                18-25        97,634 (18.2%)            \n",
       "6  Age                26-35        214,690 (39.9%)           \n",
       "7  Age                36-45        107,499 (20.0%)           \n",
       "8  Age                46-50        44,526 (8.3%)             \n",
       "9  Age                51-55        37,618 (7.0%)             \n",
       "10 Age                55+          20,903 (3.9%)             \n",
       "11 Occupation         0            68,120 (12.7%)            \n",
       "12 Occupation         1            45,971 (8.6%)             \n",
       "13 Occupation         2            25,845 (4.8%)             \n",
       "14 Occupation         3            17,366 (3.2%)             \n",
       "15 Occupation         4            70,862 (13.2%)            \n",
       "16 Occupation         5            11,985 (2.2%)             \n",
       "17 Occupation         6            19,822 (3.7%)             \n",
       "18 Occupation         7            57,806 (10.8%)            \n",
       "19 Occupation         8            1,524 (0.3%)              \n",
       "20 Occupation         9            6,153 (1.1%)              \n",
       "21 Occupation         10           12,623 (2.3%)             \n",
       "22 Occupation         11           11,338 (2.1%)             \n",
       "23 Occupation         12           30,423 (5.7%)             \n",
       "24 Occupation         13           7,548 (1.4%)              \n",
       "25 Occupation         14           26,712 (5.0%)             \n",
       "26 Occupation         15           11,812 (2.2%)             \n",
       "27 Occupation         16           24,790 (4.6%)             \n",
       "28 Occupation         17           39,090 (7.3%)             \n",
       "29 Occupation         18           6,525 (1.2%)              \n",
       "30 Occupation         19           8,352 (1.6%)              \n",
       "⋮  ⋮                  ⋮            ⋮                         \n",
       "65 Product_Category_2 7            615 (0.1%)                \n",
       "66 Product_Category_2 8            63,058 (11.7%)            \n",
       "67 Product_Category_2 9            5,591 (1.0%)              \n",
       "68 Product_Category_2 10           2,991 (0.6%)              \n",
       "69 Product_Category_2 11           13,945 (2.6%)             \n",
       "70 Product_Category_2 12           5,419 (1.0%)              \n",
       "71 Product_Category_2 13           10,369 (1.9%)             \n",
       "72 Product_Category_2 14           54,158 (10.1%)            \n",
       "73 Product_Category_2 15           37,317 (6.9%)             \n",
       "74 Product_Category_2 16           42,602 (7.9%)             \n",
       "75 Product_Category_2 17           13,130 (2.4%)             \n",
       "76 Product_Category_2 18           2,730 (0.5%)              \n",
       "77 Product_Category_3 0            373,299 (69.4%)           \n",
       "78 Product_Category_3 3            600 (0.1%)                \n",
       "79 Product_Category_3 4            1,840 (0.3%)              \n",
       "80 Product_Category_3 5            16,380 (3.0%)             \n",
       "81 Product_Category_3 6            4,818 (0.9%)              \n",
       "82 Product_Category_3 8            12,384 (2.3%)             \n",
       "83 Product_Category_3 9            11,414 (2.1%)             \n",
       "84 Product_Category_3 10           1,698 (0.3%)              \n",
       "85 Product_Category_3 11           1,773 (0.3%)              \n",
       "86 Product_Category_3 12           9,094 (1.7%)              \n",
       "87 Product_Category_3 13           5,385 (1.0%)              \n",
       "88 Product_Category_3 14           18,121 (3.4%)             \n",
       "89 Product_Category_3 15           27,611 (5.1%)             \n",
       "90 Product_Category_3 16           32,148 (6.0%)             \n",
       "91 Product_Category_3 17           16,449 (3.1%)             \n",
       "92 Product_Category_3 18           4,563 (0.8%)              \n",
       "93 Purchase           Mean (SD)    9,333.9 (4,981.0)         \n",
       "94 Purchase           Median (IQR) 8,062.0 (5,866.0-12,073.0)\n",
       "   A                          B                         \n",
       "1  144638                     226493                    \n",
       "2  34,807 (24.1%)             56,494 (24.9%)            \n",
       "3  109,831 (75.9%)            169,999 (75.1%)           \n",
       "4  2,497 (1.7%)               5,288 (2.3%)              \n",
       "5  27,025 (18.7%)             42,470 (18.8%)            \n",
       "6  72,048 (49.8%)             89,767 (39.6%)            \n",
       "7  26,142 (18.1%)             46,605 (20.6%)            \n",
       "8  7,467 (5.2%)               19,900 (8.8%)             \n",
       "9  5,969 (4.1%)               17,435 (7.7%)             \n",
       "10 3,490 (2.4%)               5,028 (2.2%)              \n",
       "11 18,396 (12.7%)             29,356 (13.0%)            \n",
       "12 12,395 (8.6%)              19,305 (8.5%)             \n",
       "13 8,899 (6.2%)               11,097 (4.9%)             \n",
       "14 5,556 (3.8%)               6,851 (3.0%)              \n",
       "15 23,862 (16.5%)             29,301 (12.9%)            \n",
       "16 2,346 (1.6%)               6,523 (2.9%)              \n",
       "17 3,672 (2.5%)               10,681 (4.7%)             \n",
       "18 15,802 (10.9%)             22,606 (10.0%)            \n",
       "19 100 (0.1%)                 827 (0.4%)                \n",
       "20 701 (0.5%)                 3,179 (1.4%)              \n",
       "21 2,187 (1.5%)               4,130 (1.8%)              \n",
       "22 2,403 (1.7%)               5,487 (2.4%)              \n",
       "23 6,922 (4.8%)               12,869 (5.7%)             \n",
       "24 384 (0.3%)                 2,332 (1.0%)              \n",
       "25 7,621 (5.3%)               11,048 (4.9%)             \n",
       "26 3,000 (2.1%)               5,074 (2.2%)              \n",
       "27 5,917 (4.1%)               10,661 (4.7%)             \n",
       "28 8,052 (5.6%)               15,688 (6.9%)             \n",
       "29 1,593 (1.1%)               2,095 (0.9%)              \n",
       "30 2,212 (1.5%)               3,367 (1.5%)              \n",
       "⋮  ⋮                          ⋮                         \n",
       "65 178 (0.1%)                 259 (0.1%)                \n",
       "66 17,073 (11.8%)             26,290 (11.6%)            \n",
       "67 1,453 (1.0%)               2,432 (1.1%)              \n",
       "68 766 (0.5%)                 1,190 (0.5%)              \n",
       "69 3,614 (2.5%)               5,896 (2.6%)              \n",
       "70 1,557 (1.1%)               2,447 (1.1%)              \n",
       "71 2,812 (1.9%)               4,218 (1.9%)              \n",
       "72 15,008 (10.4%)             22,682 (10.0%)            \n",
       "73 9,216 (6.4%)               15,338 (6.8%)             \n",
       "74 11,367 (7.9%)              17,742 (7.8%)             \n",
       "75 3,287 (2.3%)               5,526 (2.4%)              \n",
       "76 698 (0.5%)                 1,155 (0.5%)              \n",
       "77 103,790 (71.8%)            158,308 (69.9%)           \n",
       "78 150 (0.1%)                 263 (0.1%)                \n",
       "79 465 (0.3%)                 784 (0.3%)                \n",
       "80 3,989 (2.8%)               6,683 (3.0%)              \n",
       "81 1,249 (0.9%)               2,028 (0.9%)              \n",
       "82 3,032 (2.1%)               5,044 (2.2%)              \n",
       "83 2,659 (1.8%)               4,719 (2.1%)              \n",
       "84 418 (0.3%)                 681 (0.3%)                \n",
       "85 447 (0.3%)                 753 (0.3%)                \n",
       "86 2,303 (1.6%)               4,009 (1.8%)              \n",
       "87 1,420 (1.0%)               2,192 (1.0%)              \n",
       "88 4,930 (3.4%)               7,638 (3.4%)              \n",
       "89 6,690 (4.6%)               11,453 (5.1%)             \n",
       "90 8,204 (5.7%)               13,387 (5.9%)             \n",
       "91 3,763 (2.6%)               6,633 (2.9%)              \n",
       "92 1,129 (0.8%)               1,918 (0.8%)              \n",
       "93 8,958.0 (4,866.9)          9,198.7 (4,927.1)         \n",
       "94 7,941.0 (5,419.0-11,801.8) 8,015.0 (5,477.0-12,000.0)\n",
       "   C                          pval\n",
       "1  166446                     NA  \n",
       "2  40,896 (24.6%)             NA  \n",
       "3  125,550 (75.4%)            0   \n",
       "4  6,922 (4.2%)               NA  \n",
       "5  28,139 (16.9%)             0   \n",
       "6  52,875 (31.8%)             NA  \n",
       "7  34,752 (20.9%)             NA  \n",
       "8  17,159 (10.3%)             NA  \n",
       "9  14,214 (8.5%)              NA  \n",
       "10 12,385 (7.4%)              NA  \n",
       "11 20,368 (12.2%)             NA  \n",
       "12 14,271 (8.6%)              NA  \n",
       "13 5,849 (3.5%)               NA  \n",
       "14 4,959 (3.0%)               NA  \n",
       "15 17,699 (10.6%)             NA  \n",
       "16 3,116 (1.9%)               NA  \n",
       "17 5,469 (3.3%)               NA  \n",
       "18 19,398 (11.7%)             NA  \n",
       "19 597 (0.4%)                 NA  \n",
       "20 2,273 (1.4%)               NA  \n",
       "21 6,306 (3.8%)               NA  \n",
       "22 3,448 (2.1%)               NA  \n",
       "23 10,632 (6.4%)              NA  \n",
       "24 4,832 (2.9%)               NA  \n",
       "25 8,043 (4.8%)               NA  \n",
       "26 3,738 (2.2%)               NA  \n",
       "27 8,212 (4.9%)               NA  \n",
       "28 15,350 (9.2%)              NA  \n",
       "29 2,837 (1.7%)               NA  \n",
       "30 2,773 (1.7%)               NA  \n",
       "⋮  ⋮                          ⋮   \n",
       "65 178 (0.1%)                 NA  \n",
       "66 19,695 (11.8%)             NA  \n",
       "67 1,706 (1.0%)               NA  \n",
       "68 1,035 (0.6%)               NA  \n",
       "69 4,435 (2.7%)               NA  \n",
       "70 1,415 (0.9%)               NA  \n",
       "71 3,339 (2.0%)               NA  \n",
       "72 16,468 (9.9%)              NA  \n",
       "73 12,763 (7.7%)              NA  \n",
       "74 13,493 (8.1%)              NA  \n",
       "75 4,317 (2.6%)               NA  \n",
       "76 877 (0.5%)                 NA  \n",
       "77 111,201 (66.8%)            NA  \n",
       "78 187 (0.1%)                 NA  \n",
       "79 591 (0.4%)                 NA  \n",
       "80 5,708 (3.4%)               NA  \n",
       "81 1,541 (0.9%)               NA  \n",
       "82 4,308 (2.6%)               NA  \n",
       "83 4,036 (2.4%)               NA  \n",
       "84 599 (0.4%)                 NA  \n",
       "85 573 (0.3%)                 NA  \n",
       "86 2,782 (1.7%)               NA  \n",
       "87 1,773 (1.1%)               NA  \n",
       "88 5,553 (3.3%)               NA  \n",
       "89 9,468 (5.7%)               NA  \n",
       "90 10,557 (6.3%)              NA  \n",
       "91 6,053 (3.6%)               NA  \n",
       "92 1,516 (0.9%)               NA  \n",
       "93 9,844.4 (5,109.5)          NA  \n",
       "94 8,618.0 (6,094.0-13,268.0) 0   "
      ]
     },
     "metadata": {},
     "output_type": "display_data"
    }
   ],
   "source": [
    "Table1(data = data,x = vn,y = \"City_Category\")"
   ]
  },
  {
   "cell_type": "code",
   "execution_count": 23,
   "metadata": {},
   "outputs": [],
   "source": [
    "############### TRAIN_TEST #######################\n",
    "train_test <- function(data=NULL,train_name=NULL,test_name=NULL,prop=NULL,seed=123,tableone=False)\n",
    "{\n",
    "  checkTrainTest <- function(train=NULL,test=NULL) {\n",
    "     train[[\"traintest_ind_\"]] <- 1\n",
    "     test[[\"traintest_ind_\"]] <- 2\n",
    "     data <- rbind(train, test)\n",
    "     tab <- Table1(data=data, y=\"traintest_ind_\",x=names(train),messages = F)\n",
    "     vars <- subset(tab, pval < 0.05)$V1\n",
    "     if (length(vars)==1) {\n",
    "        message(\"You got a perfectly balanced training and test datasets\")\n",
    "        message(\" \")\n",
    "     } else {\n",
    "        message(\"WARNING: The following variables are not balanced between the training and test datasets:\")\n",
    "       for (v in vars) { message(paste(\"*\",v)) }\n",
    "          message(\"You can try to change the seed value until you get a balanced partition.\")\n",
    "          message(\"Alternatively, you can ommit this warning and exclude those variables from your model\")\n",
    "          message(\" \")\n",
    "       }\n",
    "       return(tab)\n",
    "  }\n",
    "  ## set the seed to make your partition reproductible\n",
    "  set.seed(seed)\n",
    "  smp_size <- floor(prop * nrow(data))\n",
    "  train_ind <- sample(seq_len(nrow(data)), size = smp_size)\n",
    "  assign(train_name, data[train_ind, ], envir=globalenv())\n",
    "  assign(test_name, data[-train_ind, ], envir=globalenv())\n",
    "  tab = checkTrainTest(get(train_name),get(test_name))\n",
    "  message(paste(\"Dataset partitioned into:\"))\n",
    "  message(paste(\" + Train dataset:\", train_name))\n",
    "  message(paste(\" + Test dataset:\", test_name))\n",
    "  if(tableone==TRUE) {\n",
    "     return(tab)\n",
    "  } \n",
    "}"
   ]
  },
  {
   "cell_type": "markdown",
   "metadata": {},
   "source": [
    "## Test dataset"
   ]
  },
  {
   "cell_type": "code",
   "execution_count": 8,
   "metadata": {},
   "outputs": [
    {
     "name": "stderr",
     "output_type": "stream",
     "text": [
      "Dataset partitioned into:\n",
      " + Train dataset: temp\n",
      " + Test dataset: test\n"
     ]
    },
    {
     "name": "stdout",
     "output_type": "stream",
     "text": [
      "  |================================================================      |  91%"
     ]
    },
    {
     "name": "stderr",
     "output_type": "stream",
     "text": [
      " \n",
      "You got a perfectly balanced training and test datasets\n",
      " \n"
     ]
    }
   ],
   "source": [
    "tab1 <- train_test(data = data[,vn], train_name = \"temp\", test_name = \"test\",prop = 0.8, seed = 123, tableone=T)"
   ]
  },
  {
   "cell_type": "code",
   "execution_count": 9,
   "metadata": {},
   "outputs": [
    {
     "data": {
      "text/html": [
       "<ol class=list-inline>\n",
       "\t<li>430061</li>\n",
       "\t<li>10</li>\n",
       "</ol>\n"
      ],
      "text/latex": [
       "\\begin{enumerate*}\n",
       "\\item 430061\n",
       "\\item 10\n",
       "\\end{enumerate*}\n"
      ],
      "text/markdown": [
       "1. 430061\n",
       "2. 10\n",
       "\n",
       "\n"
      ],
      "text/plain": [
       "[1] 430061     10"
      ]
     },
     "metadata": {},
     "output_type": "display_data"
    },
    {
     "data": {
      "text/html": [
       "<ol class=list-inline>\n",
       "\t<li>107516</li>\n",
       "\t<li>10</li>\n",
       "</ol>\n"
      ],
      "text/latex": [
       "\\begin{enumerate*}\n",
       "\\item 107516\n",
       "\\item 10\n",
       "\\end{enumerate*}\n"
      ],
      "text/markdown": [
       "1. 107516\n",
       "2. 10\n",
       "\n",
       "\n"
      ],
      "text/plain": [
       "[1] 107516     10"
      ]
     },
     "metadata": {},
     "output_type": "display_data"
    }
   ],
   "source": [
    "dim(temp)\n",
    "dim(test)"
   ]
  },
  {
   "cell_type": "code",
   "execution_count": 10,
   "metadata": {},
   "outputs": [
    {
     "data": {
      "text/html": [
       "<table>\n",
       "<thead><tr><th scope=col>V1</th><th scope=col>V2</th><th scope=col>Pop</th><th scope=col>1</th><th scope=col>2</th><th scope=col>pval</th></tr></thead>\n",
       "<tbody>\n",
       "\t<tr><td>Individuals    </td><td>n              </td><td>537577         </td><td>430061         </td><td>107516         </td><td>NA             </td></tr>\n",
       "\t<tr><td>Gender         </td><td>F              </td><td>132,197 (24.6%)</td><td>105,825 (24.6%)</td><td>26,372 (24.5%) </td><td>NA             </td></tr>\n",
       "\t<tr><td>Gender         </td><td>M              </td><td>405,380 (75.4%)</td><td>324,236 (75.4%)</td><td>81,144 (75.5%) </td><td>0.595          </td></tr>\n",
       "\t<tr><td>Age            </td><td>0-17           </td><td>14,707 (2.7%)  </td><td>11,739 (2.7%)  </td><td>2,968 (2.8%)   </td><td>NA             </td></tr>\n",
       "\t<tr><td>Age            </td><td>18-25          </td><td>97,634 (18.2%) </td><td>78,303 (18.2%) </td><td>19,331 (18.0%) </td><td>0.588          </td></tr>\n",
       "\t<tr><td>Age            </td><td>26-35          </td><td>214,690 (39.9%)</td><td>171,743 (39.9%)</td><td>42,947 (39.9%) </td><td>NA             </td></tr>\n",
       "\t<tr><td>Age            </td><td>36-45          </td><td>107,499 (20.0%)</td><td>85,905 (20.0%) </td><td>21,594 (20.1%) </td><td>NA             </td></tr>\n",
       "\t<tr><td>Age            </td><td>46-50          </td><td>44,526 (8.3%)  </td><td>35,577 (8.3%)  </td><td>8,949 (8.3%)   </td><td>NA             </td></tr>\n",
       "\t<tr><td>Age            </td><td>51-55          </td><td>37,618 (7.0%)  </td><td>30,032 (7.0%)  </td><td>7,586 (7.1%)   </td><td>NA             </td></tr>\n",
       "\t<tr><td>Age            </td><td>55+            </td><td>20,903 (3.9%)  </td><td>16,762 (3.9%)  </td><td>4,141 (3.9%)   </td><td>NA             </td></tr>\n",
       "\t<tr><td>Occupation     </td><td>0              </td><td>68,120 (12.7%) </td><td>54,528 (12.7%) </td><td>13,592 (12.6%) </td><td>NA             </td></tr>\n",
       "\t<tr><td>Occupation     </td><td>1              </td><td>45,971 (8.6%)  </td><td>36,657 (8.5%)  </td><td>9,314 (8.7%)   </td><td>NA             </td></tr>\n",
       "\t<tr><td>Occupation     </td><td>2              </td><td>25,845 (4.8%)  </td><td>20,773 (4.8%)  </td><td>5,072 (4.7%)   </td><td>NA             </td></tr>\n",
       "\t<tr><td>Occupation     </td><td>3              </td><td>17,366 (3.2%)  </td><td>13,819 (3.2%)  </td><td>3,547 (3.3%)   </td><td>NA             </td></tr>\n",
       "\t<tr><td>Occupation     </td><td>4              </td><td>70,862 (13.2%) </td><td>56,717 (13.2%) </td><td>14,145 (13.2%) </td><td>NA             </td></tr>\n",
       "\t<tr><td>Occupation     </td><td>5              </td><td>11,985 (2.2%)  </td><td>9,585 (2.2%)   </td><td>2,400 (2.2%)   </td><td>NA             </td></tr>\n",
       "\t<tr><td>Occupation     </td><td>6              </td><td>19,822 (3.7%)  </td><td>15,907 (3.7%)  </td><td>3,915 (3.6%)   </td><td>NA             </td></tr>\n",
       "\t<tr><td>Occupation     </td><td>7              </td><td>57,806 (10.8%) </td><td>46,223 (10.7%) </td><td>11,583 (10.8%) </td><td>NA             </td></tr>\n",
       "\t<tr><td>Occupation     </td><td>8              </td><td>1,524 (0.3%)   </td><td>1,245 (0.3%)   </td><td>279 (0.3%)     </td><td>NA             </td></tr>\n",
       "\t<tr><td>Occupation     </td><td>9              </td><td>6,153 (1.1%)   </td><td>4,969 (1.2%)   </td><td>1,184 (1.1%)   </td><td>NA             </td></tr>\n",
       "\t<tr><td>Occupation     </td><td>10             </td><td>12,623 (2.3%)  </td><td>10,014 (2.3%)  </td><td>2,609 (2.4%)   </td><td>NA             </td></tr>\n",
       "\t<tr><td>Occupation     </td><td>11             </td><td>11,338 (2.1%)  </td><td>9,085 (2.1%)   </td><td>2,253 (2.1%)   </td><td>NA             </td></tr>\n",
       "\t<tr><td>Occupation     </td><td>12             </td><td>30,423 (5.7%)  </td><td>24,244 (5.6%)  </td><td>6,179 (5.7%)   </td><td>NA             </td></tr>\n",
       "\t<tr><td>Occupation     </td><td>13             </td><td>7,548 (1.4%)   </td><td>6,059 (1.4%)   </td><td>1,489 (1.4%)   </td><td>NA             </td></tr>\n",
       "\t<tr><td>Occupation     </td><td>14             </td><td>26,712 (5.0%)  </td><td>21,359 (5.0%)  </td><td>5,353 (5.0%)   </td><td>NA             </td></tr>\n",
       "\t<tr><td>Occupation     </td><td>15             </td><td>11,812 (2.2%)  </td><td>9,463 (2.2%)   </td><td>2,349 (2.2%)   </td><td>NA             </td></tr>\n",
       "\t<tr><td>Occupation     </td><td>16             </td><td>24,790 (4.6%)  </td><td>19,897 (4.6%)  </td><td>4,893 (4.6%)   </td><td>NA             </td></tr>\n",
       "\t<tr><td>Occupation     </td><td>17             </td><td>39,090 (7.3%)  </td><td>31,331 (7.3%)  </td><td>7,759 (7.2%)   </td><td>NA             </td></tr>\n",
       "\t<tr><td>Occupation     </td><td>18             </td><td>6,525 (1.2%)   </td><td>5,198 (1.2%)   </td><td>1,327 (1.2%)   </td><td>NA             </td></tr>\n",
       "\t<tr><td>Occupation     </td><td>19             </td><td>8,352 (1.6%)   </td><td>6,708 (1.6%)   </td><td>1,644 (1.5%)   </td><td>NA             </td></tr>\n",
       "\t<tr><td>⋮</td><td>⋮</td><td>⋮</td><td>⋮</td><td>⋮</td><td>⋮</td></tr>\n",
       "\t<tr><td>Product_Category_2        </td><td>9                         </td><td>5,591 (1.0%)              </td><td>4,525 (1.1%)              </td><td>1,066 (1.0%)              </td><td>NA                        </td></tr>\n",
       "\t<tr><td>Product_Category_2        </td><td>10                        </td><td>2,991 (0.6%)              </td><td>2,391 (0.6%)              </td><td>600 (0.6%)                </td><td>NA                        </td></tr>\n",
       "\t<tr><td>Product_Category_2        </td><td>11                        </td><td>13,945 (2.6%)             </td><td>11,146 (2.6%)             </td><td>2,799 (2.6%)              </td><td>NA                        </td></tr>\n",
       "\t<tr><td>Product_Category_2        </td><td>12                        </td><td>5,419 (1.0%)              </td><td>4,309 (1.0%)              </td><td>1,110 (1.0%)              </td><td>NA                        </td></tr>\n",
       "\t<tr><td>Product_Category_2        </td><td>13                        </td><td>10,369 (1.9%)             </td><td>8,205 (1.9%)              </td><td>2,164 (2.0%)              </td><td>NA                        </td></tr>\n",
       "\t<tr><td>Product_Category_2        </td><td>14                        </td><td>54,158 (10.1%)            </td><td>43,347 (10.1%)            </td><td>10,811 (10.1%)            </td><td>NA                        </td></tr>\n",
       "\t<tr><td>Product_Category_2        </td><td>15                        </td><td>37,317 (6.9%)             </td><td>29,813 (6.9%)             </td><td>7,504 (7.0%)              </td><td>NA                        </td></tr>\n",
       "\t<tr><td>Product_Category_2        </td><td>16                        </td><td>42,602 (7.9%)             </td><td>34,038 (7.9%)             </td><td>8,564 (8.0%)              </td><td>NA                        </td></tr>\n",
       "\t<tr><td>Product_Category_2        </td><td>17                        </td><td>13,130 (2.4%)             </td><td>10,506 (2.4%)             </td><td>2,624 (2.4%)              </td><td>NA                        </td></tr>\n",
       "\t<tr><td>Product_Category_2        </td><td>18                        </td><td>2,730 (0.5%)              </td><td>2,169 (0.5%)              </td><td>561 (0.5%)                </td><td>NA                        </td></tr>\n",
       "\t<tr><td>Product_Category_3        </td><td>0                         </td><td>373,299 (69.4%)           </td><td>298,445 (69.4%)           </td><td>74,854 (69.6%)            </td><td>NA                        </td></tr>\n",
       "\t<tr><td>Product_Category_3        </td><td>3                         </td><td>600 (0.1%)                </td><td>485 (0.1%)                </td><td>115 (0.1%)                </td><td>NA                        </td></tr>\n",
       "\t<tr><td>Product_Category_3        </td><td>4                         </td><td>1,840 (0.3%)              </td><td>1,467 (0.3%)              </td><td>373 (0.3%)                </td><td>NA                        </td></tr>\n",
       "\t<tr><td>Product_Category_3        </td><td>5                         </td><td>16,380 (3.0%)             </td><td>13,149 (3.1%)             </td><td>3,231 (3.0%)              </td><td>NA                        </td></tr>\n",
       "\t<tr><td>Product_Category_3        </td><td>6                         </td><td>4,818 (0.9%)              </td><td>3,827 (0.9%)              </td><td>991 (0.9%)                </td><td>NA                        </td></tr>\n",
       "\t<tr><td>Product_Category_3        </td><td>8                         </td><td>12,384 (2.3%)             </td><td>9,994 (2.3%)              </td><td>2,390 (2.2%)              </td><td>NA                        </td></tr>\n",
       "\t<tr><td>Product_Category_3        </td><td>9                         </td><td>11,414 (2.1%)             </td><td>9,161 (2.1%)              </td><td>2,253 (2.1%)              </td><td>NA                        </td></tr>\n",
       "\t<tr><td>Product_Category_3        </td><td>10                        </td><td>1,698 (0.3%)              </td><td>1,374 (0.3%)              </td><td>324 (0.3%)                </td><td>NA                        </td></tr>\n",
       "\t<tr><td>Product_Category_3        </td><td>11                        </td><td>1,773 (0.3%)              </td><td>1,412 (0.3%)              </td><td>361 (0.3%)                </td><td>NA                        </td></tr>\n",
       "\t<tr><td>Product_Category_3        </td><td>12                        </td><td>9,094 (1.7%)              </td><td>7,253 (1.7%)              </td><td>1,841 (1.7%)              </td><td>NA                        </td></tr>\n",
       "\t<tr><td>Product_Category_3        </td><td>13                        </td><td>5,385 (1.0%)              </td><td>4,299 (1.0%)              </td><td>1,086 (1.0%)              </td><td>NA                        </td></tr>\n",
       "\t<tr><td>Product_Category_3        </td><td>14                        </td><td>18,121 (3.4%)             </td><td>14,503 (3.4%)             </td><td>3,618 (3.4%)              </td><td>NA                        </td></tr>\n",
       "\t<tr><td>Product_Category_3        </td><td>15                        </td><td>27,611 (5.1%)             </td><td>22,153 (5.2%)             </td><td>5,458 (5.1%)              </td><td>NA                        </td></tr>\n",
       "\t<tr><td>Product_Category_3        </td><td>16                        </td><td>32,148 (6.0%)             </td><td>25,716 (6.0%)             </td><td>6,432 (6.0%)              </td><td>NA                        </td></tr>\n",
       "\t<tr><td>Product_Category_3        </td><td>17                        </td><td>16,449 (3.1%)             </td><td>13,204 (3.1%)             </td><td>3,245 (3.0%)              </td><td>NA                        </td></tr>\n",
       "\t<tr><td>Product_Category_3        </td><td>18                        </td><td>4,563 (0.8%)              </td><td>3,619 (0.8%)              </td><td>944 (0.9%)                </td><td>NA                        </td></tr>\n",
       "\t<tr><td>Purchase                  </td><td>Mean (SD)                 </td><td>9,333.9 (4,981.0)         </td><td>9,336.6 (4,981.5)         </td><td>9,322.9 (4,979.1)         </td><td>NA                        </td></tr>\n",
       "\t<tr><td>Purchase                  </td><td>Median (IQR)              </td><td>8,062.0 (5,866.0-12,073.0)</td><td>8,063.0 (5,867.0-12,076.0)</td><td>8,056.0 (5,863.0-12,065.0)</td><td>0.421                     </td></tr>\n",
       "\t<tr><td>traintest_ind_            </td><td>Mean (SD)                 </td><td>1.2 (0.4)                 </td><td>NA                        </td><td>NA                        </td><td>NA                        </td></tr>\n",
       "\t<tr><td>traintest_ind_            </td><td>Median (IQR)              </td><td>1.0 (1.0-1.0)             </td><td>NA                        </td><td>NA                        </td><td>0                         </td></tr>\n",
       "</tbody>\n",
       "</table>\n"
      ],
      "text/latex": [
       "\\begin{tabular}{r|llllll}\n",
       " V1 & V2 & Pop & 1 & 2 & pval\\\\\n",
       "\\hline\n",
       "\t Individuals     & n               & 537577          & 430061          & 107516          & NA             \\\\\n",
       "\t Gender            & F                 & 132,197 (24.6\\%) & 105,825 (24.6\\%) & 26,372 (24.5\\%)  & NA               \\\\\n",
       "\t Gender            & M                 & 405,380 (75.4\\%) & 324,236 (75.4\\%) & 81,144 (75.5\\%)  & 0.595            \\\\\n",
       "\t Age               & 0-17              & 14,707 (2.7\\%)   & 11,739 (2.7\\%)   & 2,968 (2.8\\%)    & NA               \\\\\n",
       "\t Age               & 18-25             & 97,634 (18.2\\%)  & 78,303 (18.2\\%)  & 19,331 (18.0\\%)  & 0.588            \\\\\n",
       "\t Age               & 26-35             & 214,690 (39.9\\%) & 171,743 (39.9\\%) & 42,947 (39.9\\%)  & NA               \\\\\n",
       "\t Age               & 36-45             & 107,499 (20.0\\%) & 85,905 (20.0\\%)  & 21,594 (20.1\\%)  & NA               \\\\\n",
       "\t Age               & 46-50             & 44,526 (8.3\\%)   & 35,577 (8.3\\%)   & 8,949 (8.3\\%)    & NA               \\\\\n",
       "\t Age               & 51-55             & 37,618 (7.0\\%)   & 30,032 (7.0\\%)   & 7,586 (7.1\\%)    & NA               \\\\\n",
       "\t Age               & 55+               & 20,903 (3.9\\%)   & 16,762 (3.9\\%)   & 4,141 (3.9\\%)    & NA               \\\\\n",
       "\t Occupation        & 0                 & 68,120 (12.7\\%)  & 54,528 (12.7\\%)  & 13,592 (12.6\\%)  & NA               \\\\\n",
       "\t Occupation        & 1                 & 45,971 (8.6\\%)   & 36,657 (8.5\\%)   & 9,314 (8.7\\%)    & NA               \\\\\n",
       "\t Occupation        & 2                 & 25,845 (4.8\\%)   & 20,773 (4.8\\%)   & 5,072 (4.7\\%)    & NA               \\\\\n",
       "\t Occupation        & 3                 & 17,366 (3.2\\%)   & 13,819 (3.2\\%)   & 3,547 (3.3\\%)    & NA               \\\\\n",
       "\t Occupation        & 4                 & 70,862 (13.2\\%)  & 56,717 (13.2\\%)  & 14,145 (13.2\\%)  & NA               \\\\\n",
       "\t Occupation        & 5                 & 11,985 (2.2\\%)   & 9,585 (2.2\\%)    & 2,400 (2.2\\%)    & NA               \\\\\n",
       "\t Occupation        & 6                 & 19,822 (3.7\\%)   & 15,907 (3.7\\%)   & 3,915 (3.6\\%)    & NA               \\\\\n",
       "\t Occupation        & 7                 & 57,806 (10.8\\%)  & 46,223 (10.7\\%)  & 11,583 (10.8\\%)  & NA               \\\\\n",
       "\t Occupation        & 8                 & 1,524 (0.3\\%)    & 1,245 (0.3\\%)    & 279 (0.3\\%)      & NA               \\\\\n",
       "\t Occupation        & 9                 & 6,153 (1.1\\%)    & 4,969 (1.2\\%)    & 1,184 (1.1\\%)    & NA               \\\\\n",
       "\t Occupation        & 10                & 12,623 (2.3\\%)   & 10,014 (2.3\\%)   & 2,609 (2.4\\%)    & NA               \\\\\n",
       "\t Occupation        & 11                & 11,338 (2.1\\%)   & 9,085 (2.1\\%)    & 2,253 (2.1\\%)    & NA               \\\\\n",
       "\t Occupation        & 12                & 30,423 (5.7\\%)   & 24,244 (5.6\\%)   & 6,179 (5.7\\%)    & NA               \\\\\n",
       "\t Occupation        & 13                & 7,548 (1.4\\%)    & 6,059 (1.4\\%)    & 1,489 (1.4\\%)    & NA               \\\\\n",
       "\t Occupation        & 14                & 26,712 (5.0\\%)   & 21,359 (5.0\\%)   & 5,353 (5.0\\%)    & NA               \\\\\n",
       "\t Occupation        & 15                & 11,812 (2.2\\%)   & 9,463 (2.2\\%)    & 2,349 (2.2\\%)    & NA               \\\\\n",
       "\t Occupation        & 16                & 24,790 (4.6\\%)   & 19,897 (4.6\\%)   & 4,893 (4.6\\%)    & NA               \\\\\n",
       "\t Occupation        & 17                & 39,090 (7.3\\%)   & 31,331 (7.3\\%)   & 7,759 (7.2\\%)    & NA               \\\\\n",
       "\t Occupation        & 18                & 6,525 (1.2\\%)    & 5,198 (1.2\\%)    & 1,327 (1.2\\%)    & NA               \\\\\n",
       "\t Occupation        & 19                & 8,352 (1.6\\%)    & 6,708 (1.6\\%)    & 1,644 (1.5\\%)    & NA               \\\\\n",
       "\t ⋮ & ⋮ & ⋮ & ⋮ & ⋮ & ⋮\\\\\n",
       "\t Product\\_Category\\_2       & 9                            & 5,591 (1.0\\%)               & 4,525 (1.1\\%)               & 1,066 (1.0\\%)               & NA                          \\\\\n",
       "\t Product\\_Category\\_2       & 10                           & 2,991 (0.6\\%)               & 2,391 (0.6\\%)               & 600 (0.6\\%)                 & NA                          \\\\\n",
       "\t Product\\_Category\\_2       & 11                           & 13,945 (2.6\\%)              & 11,146 (2.6\\%)              & 2,799 (2.6\\%)               & NA                          \\\\\n",
       "\t Product\\_Category\\_2       & 12                           & 5,419 (1.0\\%)               & 4,309 (1.0\\%)               & 1,110 (1.0\\%)               & NA                          \\\\\n",
       "\t Product\\_Category\\_2       & 13                           & 10,369 (1.9\\%)              & 8,205 (1.9\\%)               & 2,164 (2.0\\%)               & NA                          \\\\\n",
       "\t Product\\_Category\\_2       & 14                           & 54,158 (10.1\\%)             & 43,347 (10.1\\%)             & 10,811 (10.1\\%)             & NA                          \\\\\n",
       "\t Product\\_Category\\_2       & 15                           & 37,317 (6.9\\%)              & 29,813 (6.9\\%)              & 7,504 (7.0\\%)               & NA                          \\\\\n",
       "\t Product\\_Category\\_2       & 16                           & 42,602 (7.9\\%)              & 34,038 (7.9\\%)              & 8,564 (8.0\\%)               & NA                          \\\\\n",
       "\t Product\\_Category\\_2       & 17                           & 13,130 (2.4\\%)              & 10,506 (2.4\\%)              & 2,624 (2.4\\%)               & NA                          \\\\\n",
       "\t Product\\_Category\\_2       & 18                           & 2,730 (0.5\\%)               & 2,169 (0.5\\%)               & 561 (0.5\\%)                 & NA                          \\\\\n",
       "\t Product\\_Category\\_3       & 0                            & 373,299 (69.4\\%)            & 298,445 (69.4\\%)            & 74,854 (69.6\\%)             & NA                          \\\\\n",
       "\t Product\\_Category\\_3       & 3                            & 600 (0.1\\%)                 & 485 (0.1\\%)                 & 115 (0.1\\%)                 & NA                          \\\\\n",
       "\t Product\\_Category\\_3       & 4                            & 1,840 (0.3\\%)               & 1,467 (0.3\\%)               & 373 (0.3\\%)                 & NA                          \\\\\n",
       "\t Product\\_Category\\_3       & 5                            & 16,380 (3.0\\%)              & 13,149 (3.1\\%)              & 3,231 (3.0\\%)               & NA                          \\\\\n",
       "\t Product\\_Category\\_3       & 6                            & 4,818 (0.9\\%)               & 3,827 (0.9\\%)               & 991 (0.9\\%)                 & NA                          \\\\\n",
       "\t Product\\_Category\\_3       & 8                            & 12,384 (2.3\\%)              & 9,994 (2.3\\%)               & 2,390 (2.2\\%)               & NA                          \\\\\n",
       "\t Product\\_Category\\_3       & 9                            & 11,414 (2.1\\%)              & 9,161 (2.1\\%)               & 2,253 (2.1\\%)               & NA                          \\\\\n",
       "\t Product\\_Category\\_3       & 10                           & 1,698 (0.3\\%)               & 1,374 (0.3\\%)               & 324 (0.3\\%)                 & NA                          \\\\\n",
       "\t Product\\_Category\\_3       & 11                           & 1,773 (0.3\\%)               & 1,412 (0.3\\%)               & 361 (0.3\\%)                 & NA                          \\\\\n",
       "\t Product\\_Category\\_3       & 12                           & 9,094 (1.7\\%)               & 7,253 (1.7\\%)               & 1,841 (1.7\\%)               & NA                          \\\\\n",
       "\t Product\\_Category\\_3       & 13                           & 5,385 (1.0\\%)               & 4,299 (1.0\\%)               & 1,086 (1.0\\%)               & NA                          \\\\\n",
       "\t Product\\_Category\\_3       & 14                           & 18,121 (3.4\\%)              & 14,503 (3.4\\%)              & 3,618 (3.4\\%)               & NA                          \\\\\n",
       "\t Product\\_Category\\_3       & 15                           & 27,611 (5.1\\%)              & 22,153 (5.2\\%)              & 5,458 (5.1\\%)               & NA                          \\\\\n",
       "\t Product\\_Category\\_3       & 16                           & 32,148 (6.0\\%)              & 25,716 (6.0\\%)              & 6,432 (6.0\\%)               & NA                          \\\\\n",
       "\t Product\\_Category\\_3       & 17                           & 16,449 (3.1\\%)              & 13,204 (3.1\\%)              & 3,245 (3.0\\%)               & NA                          \\\\\n",
       "\t Product\\_Category\\_3       & 18                           & 4,563 (0.8\\%)               & 3,619 (0.8\\%)               & 944 (0.9\\%)                 & NA                          \\\\\n",
       "\t Purchase                   & Mean (SD)                  & 9,333.9 (4,981.0)          & 9,336.6 (4,981.5)          & 9,322.9 (4,979.1)          & NA                        \\\\\n",
       "\t Purchase                   & Median (IQR)               & 8,062.0 (5,866.0-12,073.0) & 8,063.0 (5,867.0-12,076.0) & 8,056.0 (5,863.0-12,065.0) & 0.421                     \\\\\n",
       "\t traintest\\_ind\\_         & Mean (SD)                  & 1.2 (0.4)                  & NA                         & NA                         & NA                        \\\\\n",
       "\t traintest\\_ind\\_         & Median (IQR)               & 1.0 (1.0-1.0)              & NA                         & NA                         & 0                         \\\\\n",
       "\\end{tabular}\n"
      ],
      "text/markdown": [
       "\n",
       "V1 | V2 | Pop | 1 | 2 | pval | \n",
       "|---|---|---|---|---|---|---|---|---|---|---|---|---|---|---|---|---|---|---|---|---|---|---|---|---|---|---|---|---|---|---|---|---|---|---|---|---|---|---|---|---|---|---|---|---|---|---|---|---|---|---|---|---|---|---|---|---|---|---|---|---|\n",
       "| Individuals     | n               | 537577          | 430061          | 107516          | NA              | \n",
       "| Gender          | F               | 132,197 (24.6%) | 105,825 (24.6%) | 26,372 (24.5%)  | NA              | \n",
       "| Gender          | M               | 405,380 (75.4%) | 324,236 (75.4%) | 81,144 (75.5%)  | 0.595           | \n",
       "| Age             | 0-17            | 14,707 (2.7%)   | 11,739 (2.7%)   | 2,968 (2.8%)    | NA              | \n",
       "| Age             | 18-25           | 97,634 (18.2%)  | 78,303 (18.2%)  | 19,331 (18.0%)  | 0.588           | \n",
       "| Age             | 26-35           | 214,690 (39.9%) | 171,743 (39.9%) | 42,947 (39.9%)  | NA              | \n",
       "| Age             | 36-45           | 107,499 (20.0%) | 85,905 (20.0%)  | 21,594 (20.1%)  | NA              | \n",
       "| Age             | 46-50           | 44,526 (8.3%)   | 35,577 (8.3%)   | 8,949 (8.3%)    | NA              | \n",
       "| Age             | 51-55           | 37,618 (7.0%)   | 30,032 (7.0%)   | 7,586 (7.1%)    | NA              | \n",
       "| Age             | 55+             | 20,903 (3.9%)   | 16,762 (3.9%)   | 4,141 (3.9%)    | NA              | \n",
       "| Occupation      | 0               | 68,120 (12.7%)  | 54,528 (12.7%)  | 13,592 (12.6%)  | NA              | \n",
       "| Occupation      | 1               | 45,971 (8.6%)   | 36,657 (8.5%)   | 9,314 (8.7%)    | NA              | \n",
       "| Occupation      | 2               | 25,845 (4.8%)   | 20,773 (4.8%)   | 5,072 (4.7%)    | NA              | \n",
       "| Occupation      | 3               | 17,366 (3.2%)   | 13,819 (3.2%)   | 3,547 (3.3%)    | NA              | \n",
       "| Occupation      | 4               | 70,862 (13.2%)  | 56,717 (13.2%)  | 14,145 (13.2%)  | NA              | \n",
       "| Occupation      | 5               | 11,985 (2.2%)   | 9,585 (2.2%)    | 2,400 (2.2%)    | NA              | \n",
       "| Occupation      | 6               | 19,822 (3.7%)   | 15,907 (3.7%)   | 3,915 (3.6%)    | NA              | \n",
       "| Occupation      | 7               | 57,806 (10.8%)  | 46,223 (10.7%)  | 11,583 (10.8%)  | NA              | \n",
       "| Occupation      | 8               | 1,524 (0.3%)    | 1,245 (0.3%)    | 279 (0.3%)      | NA              | \n",
       "| Occupation      | 9               | 6,153 (1.1%)    | 4,969 (1.2%)    | 1,184 (1.1%)    | NA              | \n",
       "| Occupation      | 10              | 12,623 (2.3%)   | 10,014 (2.3%)   | 2,609 (2.4%)    | NA              | \n",
       "| Occupation      | 11              | 11,338 (2.1%)   | 9,085 (2.1%)    | 2,253 (2.1%)    | NA              | \n",
       "| Occupation      | 12              | 30,423 (5.7%)   | 24,244 (5.6%)   | 6,179 (5.7%)    | NA              | \n",
       "| Occupation      | 13              | 7,548 (1.4%)    | 6,059 (1.4%)    | 1,489 (1.4%)    | NA              | \n",
       "| Occupation      | 14              | 26,712 (5.0%)   | 21,359 (5.0%)   | 5,353 (5.0%)    | NA              | \n",
       "| Occupation      | 15              | 11,812 (2.2%)   | 9,463 (2.2%)    | 2,349 (2.2%)    | NA              | \n",
       "| Occupation      | 16              | 24,790 (4.6%)   | 19,897 (4.6%)   | 4,893 (4.6%)    | NA              | \n",
       "| Occupation      | 17              | 39,090 (7.3%)   | 31,331 (7.3%)   | 7,759 (7.2%)    | NA              | \n",
       "| Occupation      | 18              | 6,525 (1.2%)    | 5,198 (1.2%)    | 1,327 (1.2%)    | NA              | \n",
       "| Occupation      | 19              | 8,352 (1.6%)    | 6,708 (1.6%)    | 1,644 (1.5%)    | NA              | \n",
       "| ⋮ | ⋮ | ⋮ | ⋮ | ⋮ | ⋮ | \n",
       "| Product_Category_2         | 9                          | 5,591 (1.0%)               | 4,525 (1.1%)               | 1,066 (1.0%)               | NA                         | \n",
       "| Product_Category_2         | 10                         | 2,991 (0.6%)               | 2,391 (0.6%)               | 600 (0.6%)                 | NA                         | \n",
       "| Product_Category_2         | 11                         | 13,945 (2.6%)              | 11,146 (2.6%)              | 2,799 (2.6%)               | NA                         | \n",
       "| Product_Category_2         | 12                         | 5,419 (1.0%)               | 4,309 (1.0%)               | 1,110 (1.0%)               | NA                         | \n",
       "| Product_Category_2         | 13                         | 10,369 (1.9%)              | 8,205 (1.9%)               | 2,164 (2.0%)               | NA                         | \n",
       "| Product_Category_2         | 14                         | 54,158 (10.1%)             | 43,347 (10.1%)             | 10,811 (10.1%)             | NA                         | \n",
       "| Product_Category_2         | 15                         | 37,317 (6.9%)              | 29,813 (6.9%)              | 7,504 (7.0%)               | NA                         | \n",
       "| Product_Category_2         | 16                         | 42,602 (7.9%)              | 34,038 (7.9%)              | 8,564 (8.0%)               | NA                         | \n",
       "| Product_Category_2         | 17                         | 13,130 (2.4%)              | 10,506 (2.4%)              | 2,624 (2.4%)               | NA                         | \n",
       "| Product_Category_2         | 18                         | 2,730 (0.5%)               | 2,169 (0.5%)               | 561 (0.5%)                 | NA                         | \n",
       "| Product_Category_3         | 0                          | 373,299 (69.4%)            | 298,445 (69.4%)            | 74,854 (69.6%)             | NA                         | \n",
       "| Product_Category_3         | 3                          | 600 (0.1%)                 | 485 (0.1%)                 | 115 (0.1%)                 | NA                         | \n",
       "| Product_Category_3         | 4                          | 1,840 (0.3%)               | 1,467 (0.3%)               | 373 (0.3%)                 | NA                         | \n",
       "| Product_Category_3         | 5                          | 16,380 (3.0%)              | 13,149 (3.1%)              | 3,231 (3.0%)               | NA                         | \n",
       "| Product_Category_3         | 6                          | 4,818 (0.9%)               | 3,827 (0.9%)               | 991 (0.9%)                 | NA                         | \n",
       "| Product_Category_3         | 8                          | 12,384 (2.3%)              | 9,994 (2.3%)               | 2,390 (2.2%)               | NA                         | \n",
       "| Product_Category_3         | 9                          | 11,414 (2.1%)              | 9,161 (2.1%)               | 2,253 (2.1%)               | NA                         | \n",
       "| Product_Category_3         | 10                         | 1,698 (0.3%)               | 1,374 (0.3%)               | 324 (0.3%)                 | NA                         | \n",
       "| Product_Category_3         | 11                         | 1,773 (0.3%)               | 1,412 (0.3%)               | 361 (0.3%)                 | NA                         | \n",
       "| Product_Category_3         | 12                         | 9,094 (1.7%)               | 7,253 (1.7%)               | 1,841 (1.7%)               | NA                         | \n",
       "| Product_Category_3         | 13                         | 5,385 (1.0%)               | 4,299 (1.0%)               | 1,086 (1.0%)               | NA                         | \n",
       "| Product_Category_3         | 14                         | 18,121 (3.4%)              | 14,503 (3.4%)              | 3,618 (3.4%)               | NA                         | \n",
       "| Product_Category_3         | 15                         | 27,611 (5.1%)              | 22,153 (5.2%)              | 5,458 (5.1%)               | NA                         | \n",
       "| Product_Category_3         | 16                         | 32,148 (6.0%)              | 25,716 (6.0%)              | 6,432 (6.0%)               | NA                         | \n",
       "| Product_Category_3         | 17                         | 16,449 (3.1%)              | 13,204 (3.1%)              | 3,245 (3.0%)               | NA                         | \n",
       "| Product_Category_3         | 18                         | 4,563 (0.8%)               | 3,619 (0.8%)               | 944 (0.9%)                 | NA                         | \n",
       "| Purchase                   | Mean (SD)                  | 9,333.9 (4,981.0)          | 9,336.6 (4,981.5)          | 9,322.9 (4,979.1)          | NA                         | \n",
       "| Purchase                   | Median (IQR)               | 8,062.0 (5,866.0-12,073.0) | 8,063.0 (5,867.0-12,076.0) | 8,056.0 (5,863.0-12,065.0) | 0.421                      | \n",
       "| traintest_ind_             | Mean (SD)                  | 1.2 (0.4)                  | NA                         | NA                         | NA                         | \n",
       "| traintest_ind_             | Median (IQR)               | 1.0 (1.0-1.0)              | NA                         | NA                         | 0                          | \n",
       "\n",
       "\n"
      ],
      "text/plain": [
       "   V1                 V2           Pop                       \n",
       "1  Individuals        n            537577                    \n",
       "2  Gender             F            132,197 (24.6%)           \n",
       "3  Gender             M            405,380 (75.4%)           \n",
       "4  Age                0-17         14,707 (2.7%)             \n",
       "5  Age                18-25        97,634 (18.2%)            \n",
       "6  Age                26-35        214,690 (39.9%)           \n",
       "7  Age                36-45        107,499 (20.0%)           \n",
       "8  Age                46-50        44,526 (8.3%)             \n",
       "9  Age                51-55        37,618 (7.0%)             \n",
       "10 Age                55+          20,903 (3.9%)             \n",
       "11 Occupation         0            68,120 (12.7%)            \n",
       "12 Occupation         1            45,971 (8.6%)             \n",
       "13 Occupation         2            25,845 (4.8%)             \n",
       "14 Occupation         3            17,366 (3.2%)             \n",
       "15 Occupation         4            70,862 (13.2%)            \n",
       "16 Occupation         5            11,985 (2.2%)             \n",
       "17 Occupation         6            19,822 (3.7%)             \n",
       "18 Occupation         7            57,806 (10.8%)            \n",
       "19 Occupation         8            1,524 (0.3%)              \n",
       "20 Occupation         9            6,153 (1.1%)              \n",
       "21 Occupation         10           12,623 (2.3%)             \n",
       "22 Occupation         11           11,338 (2.1%)             \n",
       "23 Occupation         12           30,423 (5.7%)             \n",
       "24 Occupation         13           7,548 (1.4%)              \n",
       "25 Occupation         14           26,712 (5.0%)             \n",
       "26 Occupation         15           11,812 (2.2%)             \n",
       "27 Occupation         16           24,790 (4.6%)             \n",
       "28 Occupation         17           39,090 (7.3%)             \n",
       "29 Occupation         18           6,525 (1.2%)              \n",
       "30 Occupation         19           8,352 (1.6%)              \n",
       "⋮  ⋮                  ⋮            ⋮                         \n",
       "67 Product_Category_2 9            5,591 (1.0%)              \n",
       "68 Product_Category_2 10           2,991 (0.6%)              \n",
       "69 Product_Category_2 11           13,945 (2.6%)             \n",
       "70 Product_Category_2 12           5,419 (1.0%)              \n",
       "71 Product_Category_2 13           10,369 (1.9%)             \n",
       "72 Product_Category_2 14           54,158 (10.1%)            \n",
       "73 Product_Category_2 15           37,317 (6.9%)             \n",
       "74 Product_Category_2 16           42,602 (7.9%)             \n",
       "75 Product_Category_2 17           13,130 (2.4%)             \n",
       "76 Product_Category_2 18           2,730 (0.5%)              \n",
       "77 Product_Category_3 0            373,299 (69.4%)           \n",
       "78 Product_Category_3 3            600 (0.1%)                \n",
       "79 Product_Category_3 4            1,840 (0.3%)              \n",
       "80 Product_Category_3 5            16,380 (3.0%)             \n",
       "81 Product_Category_3 6            4,818 (0.9%)              \n",
       "82 Product_Category_3 8            12,384 (2.3%)             \n",
       "83 Product_Category_3 9            11,414 (2.1%)             \n",
       "84 Product_Category_3 10           1,698 (0.3%)              \n",
       "85 Product_Category_3 11           1,773 (0.3%)              \n",
       "86 Product_Category_3 12           9,094 (1.7%)              \n",
       "87 Product_Category_3 13           5,385 (1.0%)              \n",
       "88 Product_Category_3 14           18,121 (3.4%)             \n",
       "89 Product_Category_3 15           27,611 (5.1%)             \n",
       "90 Product_Category_3 16           32,148 (6.0%)             \n",
       "91 Product_Category_3 17           16,449 (3.1%)             \n",
       "92 Product_Category_3 18           4,563 (0.8%)              \n",
       "93 Purchase           Mean (SD)    9,333.9 (4,981.0)         \n",
       "94 Purchase           Median (IQR) 8,062.0 (5,866.0-12,073.0)\n",
       "95 traintest_ind_     Mean (SD)    1.2 (0.4)                 \n",
       "96 traintest_ind_     Median (IQR) 1.0 (1.0-1.0)             \n",
       "   1                          2                          pval \n",
       "1  430061                     107516                     NA   \n",
       "2  105,825 (24.6%)            26,372 (24.5%)             NA   \n",
       "3  324,236 (75.4%)            81,144 (75.5%)             0.595\n",
       "4  11,739 (2.7%)              2,968 (2.8%)               NA   \n",
       "5  78,303 (18.2%)             19,331 (18.0%)             0.588\n",
       "6  171,743 (39.9%)            42,947 (39.9%)             NA   \n",
       "7  85,905 (20.0%)             21,594 (20.1%)             NA   \n",
       "8  35,577 (8.3%)              8,949 (8.3%)               NA   \n",
       "9  30,032 (7.0%)              7,586 (7.1%)               NA   \n",
       "10 16,762 (3.9%)              4,141 (3.9%)               NA   \n",
       "11 54,528 (12.7%)             13,592 (12.6%)             NA   \n",
       "12 36,657 (8.5%)              9,314 (8.7%)               NA   \n",
       "13 20,773 (4.8%)              5,072 (4.7%)               NA   \n",
       "14 13,819 (3.2%)              3,547 (3.3%)               NA   \n",
       "15 56,717 (13.2%)             14,145 (13.2%)             NA   \n",
       "16 9,585 (2.2%)               2,400 (2.2%)               NA   \n",
       "17 15,907 (3.7%)              3,915 (3.6%)               NA   \n",
       "18 46,223 (10.7%)             11,583 (10.8%)             NA   \n",
       "19 1,245 (0.3%)               279 (0.3%)                 NA   \n",
       "20 4,969 (1.2%)               1,184 (1.1%)               NA   \n",
       "21 10,014 (2.3%)              2,609 (2.4%)               NA   \n",
       "22 9,085 (2.1%)               2,253 (2.1%)               NA   \n",
       "23 24,244 (5.6%)              6,179 (5.7%)               NA   \n",
       "24 6,059 (1.4%)               1,489 (1.4%)               NA   \n",
       "25 21,359 (5.0%)              5,353 (5.0%)               NA   \n",
       "26 9,463 (2.2%)               2,349 (2.2%)               NA   \n",
       "27 19,897 (4.6%)              4,893 (4.6%)               NA   \n",
       "28 31,331 (7.3%)              7,759 (7.2%)               NA   \n",
       "29 5,198 (1.2%)               1,327 (1.2%)               NA   \n",
       "30 6,708 (1.6%)               1,644 (1.5%)               NA   \n",
       "⋮  ⋮                          ⋮                          ⋮    \n",
       "67 4,525 (1.1%)               1,066 (1.0%)               NA   \n",
       "68 2,391 (0.6%)               600 (0.6%)                 NA   \n",
       "69 11,146 (2.6%)              2,799 (2.6%)               NA   \n",
       "70 4,309 (1.0%)               1,110 (1.0%)               NA   \n",
       "71 8,205 (1.9%)               2,164 (2.0%)               NA   \n",
       "72 43,347 (10.1%)             10,811 (10.1%)             NA   \n",
       "73 29,813 (6.9%)              7,504 (7.0%)               NA   \n",
       "74 34,038 (7.9%)              8,564 (8.0%)               NA   \n",
       "75 10,506 (2.4%)              2,624 (2.4%)               NA   \n",
       "76 2,169 (0.5%)               561 (0.5%)                 NA   \n",
       "77 298,445 (69.4%)            74,854 (69.6%)             NA   \n",
       "78 485 (0.1%)                 115 (0.1%)                 NA   \n",
       "79 1,467 (0.3%)               373 (0.3%)                 NA   \n",
       "80 13,149 (3.1%)              3,231 (3.0%)               NA   \n",
       "81 3,827 (0.9%)               991 (0.9%)                 NA   \n",
       "82 9,994 (2.3%)               2,390 (2.2%)               NA   \n",
       "83 9,161 (2.1%)               2,253 (2.1%)               NA   \n",
       "84 1,374 (0.3%)               324 (0.3%)                 NA   \n",
       "85 1,412 (0.3%)               361 (0.3%)                 NA   \n",
       "86 7,253 (1.7%)               1,841 (1.7%)               NA   \n",
       "87 4,299 (1.0%)               1,086 (1.0%)               NA   \n",
       "88 14,503 (3.4%)              3,618 (3.4%)               NA   \n",
       "89 22,153 (5.2%)              5,458 (5.1%)               NA   \n",
       "90 25,716 (6.0%)              6,432 (6.0%)               NA   \n",
       "91 13,204 (3.1%)              3,245 (3.0%)               NA   \n",
       "92 3,619 (0.8%)               944 (0.9%)                 NA   \n",
       "93 9,336.6 (4,981.5)          9,322.9 (4,979.1)          NA   \n",
       "94 8,063.0 (5,867.0-12,076.0) 8,056.0 (5,863.0-12,065.0) 0.421\n",
       "95 NA                         NA                         NA   \n",
       "96 NA                         NA                         0    "
      ]
     },
     "metadata": {},
     "output_type": "display_data"
    }
   ],
   "source": [
    "tab1"
   ]
  },
  {
   "cell_type": "markdown",
   "metadata": {},
   "source": [
    "## Train and Dev"
   ]
  },
  {
   "cell_type": "code",
   "execution_count": 11,
   "metadata": {},
   "outputs": [
    {
     "name": "stderr",
     "output_type": "stream",
     "text": [
      "Dataset partitioned into:\n",
      " + Train dataset: train\n",
      " + Test dataset: dev\n"
     ]
    },
    {
     "name": "stdout",
     "output_type": "stream",
     "text": [
      "  |================================================================      |  91%"
     ]
    },
    {
     "name": "stderr",
     "output_type": "stream",
     "text": [
      " \n",
      "You got a perfectly balanced training and test datasets\n",
      " \n"
     ]
    }
   ],
   "source": [
    "tab2 <- train_test(data = temp[,vn], train_name = \"train\", test_name = \"dev\",prop = 0.8, seed = 123, tableone=T)"
   ]
  },
  {
   "cell_type": "code",
   "execution_count": 12,
   "metadata": {},
   "outputs": [
    {
     "data": {
      "text/html": [
       "<ol class=list-inline>\n",
       "\t<li>344048</li>\n",
       "\t<li>10</li>\n",
       "</ol>\n"
      ],
      "text/latex": [
       "\\begin{enumerate*}\n",
       "\\item 344048\n",
       "\\item 10\n",
       "\\end{enumerate*}\n"
      ],
      "text/markdown": [
       "1. 344048\n",
       "2. 10\n",
       "\n",
       "\n"
      ],
      "text/plain": [
       "[1] 344048     10"
      ]
     },
     "metadata": {},
     "output_type": "display_data"
    },
    {
     "data": {
      "text/html": [
       "<ol class=list-inline>\n",
       "\t<li>86013</li>\n",
       "\t<li>10</li>\n",
       "</ol>\n"
      ],
      "text/latex": [
       "\\begin{enumerate*}\n",
       "\\item 86013\n",
       "\\item 10\n",
       "\\end{enumerate*}\n"
      ],
      "text/markdown": [
       "1. 86013\n",
       "2. 10\n",
       "\n",
       "\n"
      ],
      "text/plain": [
       "[1] 86013    10"
      ]
     },
     "metadata": {},
     "output_type": "display_data"
    }
   ],
   "source": [
    "dim(train)\n",
    "dim(dev)"
   ]
  },
  {
   "cell_type": "code",
   "execution_count": 13,
   "metadata": {},
   "outputs": [
    {
     "data": {
      "text/html": [
       "<table>\n",
       "<thead><tr><th scope=col>V1</th><th scope=col>V2</th><th scope=col>Pop</th><th scope=col>1</th><th scope=col>2</th><th scope=col>pval</th></tr></thead>\n",
       "<tbody>\n",
       "\t<tr><td>Individuals    </td><td>n              </td><td>430061         </td><td>344048         </td><td>86013          </td><td>NA             </td></tr>\n",
       "\t<tr><td>Gender         </td><td>F              </td><td>105,825 (24.6%)</td><td>84,622 (24.6%) </td><td>21,203 (24.7%) </td><td>NA             </td></tr>\n",
       "\t<tr><td>Gender         </td><td>M              </td><td>324,236 (75.4%)</td><td>259,426 (75.4%)</td><td>64,810 (75.3%) </td><td>0.741          </td></tr>\n",
       "\t<tr><td>Age            </td><td>0-17           </td><td>11,739 (2.7%)  </td><td>9,334 (2.7%)   </td><td>2,405 (2.8%)   </td><td>NA             </td></tr>\n",
       "\t<tr><td>Age            </td><td>18-25          </td><td>78,303 (18.2%) </td><td>62,697 (18.2%) </td><td>15,606 (18.1%) </td><td>0.329          </td></tr>\n",
       "\t<tr><td>Age            </td><td>26-35          </td><td>171,743 (39.9%)</td><td>137,443 (39.9%)</td><td>34,300 (39.9%) </td><td>NA             </td></tr>\n",
       "\t<tr><td>Age            </td><td>36-45          </td><td>85,905 (20.0%) </td><td>68,621 (19.9%) </td><td>17,284 (20.1%) </td><td>NA             </td></tr>\n",
       "\t<tr><td>Age            </td><td>46-50          </td><td>35,577 (8.3%)  </td><td>28,491 (8.3%)  </td><td>7,086 (8.2%)   </td><td>NA             </td></tr>\n",
       "\t<tr><td>Age            </td><td>51-55          </td><td>30,032 (7.0%)  </td><td>24,124 (7.0%)  </td><td>5,908 (6.9%)   </td><td>NA             </td></tr>\n",
       "\t<tr><td>Age            </td><td>55+            </td><td>16,762 (3.9%)  </td><td>13,338 (3.9%)  </td><td>3,424 (4.0%)   </td><td>NA             </td></tr>\n",
       "\t<tr><td>Occupation     </td><td>0              </td><td>54,528 (12.7%) </td><td>43,663 (12.7%) </td><td>10,865 (12.6%) </td><td>NA             </td></tr>\n",
       "\t<tr><td>Occupation     </td><td>1              </td><td>36,657 (8.5%)  </td><td>29,308 (8.5%)  </td><td>7,349 (8.5%)   </td><td>NA             </td></tr>\n",
       "\t<tr><td>Occupation     </td><td>2              </td><td>20,773 (4.8%)  </td><td>16,614 (4.8%)  </td><td>4,159 (4.8%)   </td><td>NA             </td></tr>\n",
       "\t<tr><td>Occupation     </td><td>3              </td><td>13,819 (3.2%)  </td><td>11,061 (3.2%)  </td><td>2,758 (3.2%)   </td><td>NA             </td></tr>\n",
       "\t<tr><td>Occupation     </td><td>4              </td><td>56,717 (13.2%) </td><td>45,446 (13.2%) </td><td>11,271 (13.1%) </td><td>NA             </td></tr>\n",
       "\t<tr><td>Occupation     </td><td>5              </td><td>9,585 (2.2%)   </td><td>7,674 (2.2%)   </td><td>1,911 (2.2%)   </td><td>NA             </td></tr>\n",
       "\t<tr><td>Occupation     </td><td>6              </td><td>15,907 (3.7%)  </td><td>12,780 (3.7%)  </td><td>3,127 (3.6%)   </td><td>NA             </td></tr>\n",
       "\t<tr><td>Occupation     </td><td>7              </td><td>46,223 (10.7%) </td><td>36,976 (10.7%) </td><td>9,247 (10.8%)  </td><td>NA             </td></tr>\n",
       "\t<tr><td>Occupation     </td><td>8              </td><td>1,245 (0.3%)   </td><td>991 (0.3%)     </td><td>254 (0.3%)     </td><td>NA             </td></tr>\n",
       "\t<tr><td>Occupation     </td><td>9              </td><td>4,969 (1.2%)   </td><td>3,966 (1.2%)   </td><td>1,003 (1.2%)   </td><td>NA             </td></tr>\n",
       "\t<tr><td>Occupation     </td><td>10             </td><td>10,014 (2.3%)  </td><td>7,974 (2.3%)   </td><td>2,040 (2.4%)   </td><td>NA             </td></tr>\n",
       "\t<tr><td>Occupation     </td><td>11             </td><td>9,085 (2.1%)   </td><td>7,205 (2.1%)   </td><td>1,880 (2.2%)   </td><td>NA             </td></tr>\n",
       "\t<tr><td>Occupation     </td><td>12             </td><td>24,244 (5.6%)  </td><td>19,282 (5.6%)  </td><td>4,962 (5.8%)   </td><td>NA             </td></tr>\n",
       "\t<tr><td>Occupation     </td><td>13             </td><td>6,059 (1.4%)   </td><td>4,843 (1.4%)   </td><td>1,216 (1.4%)   </td><td>NA             </td></tr>\n",
       "\t<tr><td>Occupation     </td><td>14             </td><td>21,359 (5.0%)  </td><td>17,105 (5.0%)  </td><td>4,254 (4.9%)   </td><td>NA             </td></tr>\n",
       "\t<tr><td>Occupation     </td><td>15             </td><td>9,463 (2.2%)   </td><td>7,575 (2.2%)   </td><td>1,888 (2.2%)   </td><td>NA             </td></tr>\n",
       "\t<tr><td>Occupation     </td><td>16             </td><td>19,897 (4.6%)  </td><td>15,950 (4.6%)  </td><td>3,947 (4.6%)   </td><td>NA             </td></tr>\n",
       "\t<tr><td>Occupation     </td><td>17             </td><td>31,331 (7.3%)  </td><td>25,126 (7.3%)  </td><td>6,205 (7.2%)   </td><td>NA             </td></tr>\n",
       "\t<tr><td>Occupation     </td><td>18             </td><td>5,198 (1.2%)   </td><td>4,176 (1.2%)   </td><td>1,022 (1.2%)   </td><td>NA             </td></tr>\n",
       "\t<tr><td>Occupation     </td><td>19             </td><td>6,708 (1.6%)   </td><td>5,351 (1.6%)   </td><td>1,357 (1.6%)   </td><td>NA             </td></tr>\n",
       "\t<tr><td>⋮</td><td>⋮</td><td>⋮</td><td>⋮</td><td>⋮</td><td>⋮</td></tr>\n",
       "\t<tr><td>Product_Category_2        </td><td>9                         </td><td>4,525 (1.1%)              </td><td>3,624 (1.1%)              </td><td>901 (1.0%)                </td><td>NA                        </td></tr>\n",
       "\t<tr><td>Product_Category_2        </td><td>10                        </td><td>2,391 (0.6%)              </td><td>1,945 (0.6%)              </td><td>446 (0.5%)                </td><td>NA                        </td></tr>\n",
       "\t<tr><td>Product_Category_2        </td><td>11                        </td><td>11,146 (2.6%)             </td><td>8,962 (2.6%)              </td><td>2,184 (2.5%)              </td><td>NA                        </td></tr>\n",
       "\t<tr><td>Product_Category_2        </td><td>12                        </td><td>4,309 (1.0%)              </td><td>3,439 (1.0%)              </td><td>870 (1.0%)                </td><td>NA                        </td></tr>\n",
       "\t<tr><td>Product_Category_2        </td><td>13                        </td><td>8,205 (1.9%)              </td><td>6,555 (1.9%)              </td><td>1,650 (1.9%)              </td><td>NA                        </td></tr>\n",
       "\t<tr><td>Product_Category_2        </td><td>14                        </td><td>43,347 (10.1%)            </td><td>34,650 (10.1%)            </td><td>8,697 (10.1%)             </td><td>NA                        </td></tr>\n",
       "\t<tr><td>Product_Category_2        </td><td>15                        </td><td>29,813 (6.9%)             </td><td>23,920 (7.0%)             </td><td>5,893 (6.9%)              </td><td>NA                        </td></tr>\n",
       "\t<tr><td>Product_Category_2        </td><td>16                        </td><td>34,038 (7.9%)             </td><td>27,095 (7.9%)             </td><td>6,943 (8.1%)              </td><td>NA                        </td></tr>\n",
       "\t<tr><td>Product_Category_2        </td><td>17                        </td><td>10,506 (2.4%)             </td><td>8,348 (2.4%)              </td><td>2,158 (2.5%)              </td><td>NA                        </td></tr>\n",
       "\t<tr><td>Product_Category_2        </td><td>18                        </td><td>2,169 (0.5%)              </td><td>1,744 (0.5%)              </td><td>425 (0.5%)                </td><td>NA                        </td></tr>\n",
       "\t<tr><td>Product_Category_3        </td><td>0                         </td><td>298,445 (69.4%)           </td><td>238,720 (69.4%)           </td><td>59,725 (69.4%)            </td><td>NA                        </td></tr>\n",
       "\t<tr><td>Product_Category_3        </td><td>3                         </td><td>485 (0.1%)                </td><td>383 (0.1%)                </td><td>102 (0.1%)                </td><td>NA                        </td></tr>\n",
       "\t<tr><td>Product_Category_3        </td><td>4                         </td><td>1,467 (0.3%)              </td><td>1,149 (0.3%)              </td><td>318 (0.4%)                </td><td>NA                        </td></tr>\n",
       "\t<tr><td>Product_Category_3        </td><td>5                         </td><td>13,149 (3.1%)             </td><td>10,462 (3.0%)             </td><td>2,687 (3.1%)              </td><td>NA                        </td></tr>\n",
       "\t<tr><td>Product_Category_3        </td><td>6                         </td><td>3,827 (0.9%)              </td><td>3,070 (0.9%)              </td><td>757 (0.9%)                </td><td>NA                        </td></tr>\n",
       "\t<tr><td>Product_Category_3        </td><td>8                         </td><td>9,994 (2.3%)              </td><td>7,969 (2.3%)              </td><td>2,025 (2.4%)              </td><td>NA                        </td></tr>\n",
       "\t<tr><td>Product_Category_3        </td><td>9                         </td><td>9,161 (2.1%)              </td><td>7,306 (2.1%)              </td><td>1,855 (2.2%)              </td><td>NA                        </td></tr>\n",
       "\t<tr><td>Product_Category_3        </td><td>10                        </td><td>1,374 (0.3%)              </td><td>1,122 (0.3%)              </td><td>252 (0.3%)                </td><td>NA                        </td></tr>\n",
       "\t<tr><td>Product_Category_3        </td><td>11                        </td><td>1,412 (0.3%)              </td><td>1,113 (0.3%)              </td><td>299 (0.3%)                </td><td>NA                        </td></tr>\n",
       "\t<tr><td>Product_Category_3        </td><td>12                        </td><td>7,253 (1.7%)              </td><td>5,880 (1.7%)              </td><td>1,373 (1.6%)              </td><td>NA                        </td></tr>\n",
       "\t<tr><td>Product_Category_3        </td><td>13                        </td><td>4,299 (1.0%)              </td><td>3,461 (1.0%)              </td><td>838 (1.0%)                </td><td>NA                        </td></tr>\n",
       "\t<tr><td>Product_Category_3        </td><td>14                        </td><td>14,503 (3.4%)             </td><td>11,629 (3.4%)             </td><td>2,874 (3.3%)              </td><td>NA                        </td></tr>\n",
       "\t<tr><td>Product_Category_3        </td><td>15                        </td><td>22,153 (5.2%)             </td><td>17,722 (5.2%)             </td><td>4,431 (5.2%)              </td><td>NA                        </td></tr>\n",
       "\t<tr><td>Product_Category_3        </td><td>16                        </td><td>25,716 (6.0%)             </td><td>20,475 (6.0%)             </td><td>5,241 (6.1%)              </td><td>NA                        </td></tr>\n",
       "\t<tr><td>Product_Category_3        </td><td>17                        </td><td>13,204 (3.1%)             </td><td>10,690 (3.1%)             </td><td>2,514 (2.9%)              </td><td>NA                        </td></tr>\n",
       "\t<tr><td>Product_Category_3        </td><td>18                        </td><td>3,619 (0.8%)              </td><td>2,897 (0.8%)              </td><td>722 (0.8%)                </td><td>NA                        </td></tr>\n",
       "\t<tr><td>Purchase                  </td><td>Mean (SD)                 </td><td>9,336.6 (4,981.5)         </td><td>9,336.9 (4,982.3)         </td><td>9,335.5 (4,978.2)         </td><td>NA                        </td></tr>\n",
       "\t<tr><td>Purchase                  </td><td>Median (IQR)              </td><td>8,063.0 (5,867.0-12,076.0)</td><td>8,063.0 (5,867.0-12,075.0)</td><td>8,065.0 (5,867.0-12,077.0)</td><td>0.942                     </td></tr>\n",
       "\t<tr><td>traintest_ind_            </td><td>Mean (SD)                 </td><td>1.2 (0.4)                 </td><td>NA                        </td><td>NA                        </td><td>NA                        </td></tr>\n",
       "\t<tr><td>traintest_ind_            </td><td>Median (IQR)              </td><td>1.0 (1.0-1.0)             </td><td>NA                        </td><td>NA                        </td><td>0                         </td></tr>\n",
       "</tbody>\n",
       "</table>\n"
      ],
      "text/latex": [
       "\\begin{tabular}{r|llllll}\n",
       " V1 & V2 & Pop & 1 & 2 & pval\\\\\n",
       "\\hline\n",
       "\t Individuals     & n               & 430061          & 344048          & 86013           & NA             \\\\\n",
       "\t Gender            & F                 & 105,825 (24.6\\%) & 84,622 (24.6\\%)  & 21,203 (24.7\\%)  & NA               \\\\\n",
       "\t Gender            & M                 & 324,236 (75.4\\%) & 259,426 (75.4\\%) & 64,810 (75.3\\%)  & 0.741            \\\\\n",
       "\t Age               & 0-17              & 11,739 (2.7\\%)   & 9,334 (2.7\\%)    & 2,405 (2.8\\%)    & NA               \\\\\n",
       "\t Age               & 18-25             & 78,303 (18.2\\%)  & 62,697 (18.2\\%)  & 15,606 (18.1\\%)  & 0.329            \\\\\n",
       "\t Age               & 26-35             & 171,743 (39.9\\%) & 137,443 (39.9\\%) & 34,300 (39.9\\%)  & NA               \\\\\n",
       "\t Age               & 36-45             & 85,905 (20.0\\%)  & 68,621 (19.9\\%)  & 17,284 (20.1\\%)  & NA               \\\\\n",
       "\t Age               & 46-50             & 35,577 (8.3\\%)   & 28,491 (8.3\\%)   & 7,086 (8.2\\%)    & NA               \\\\\n",
       "\t Age               & 51-55             & 30,032 (7.0\\%)   & 24,124 (7.0\\%)   & 5,908 (6.9\\%)    & NA               \\\\\n",
       "\t Age               & 55+               & 16,762 (3.9\\%)   & 13,338 (3.9\\%)   & 3,424 (4.0\\%)    & NA               \\\\\n",
       "\t Occupation        & 0                 & 54,528 (12.7\\%)  & 43,663 (12.7\\%)  & 10,865 (12.6\\%)  & NA               \\\\\n",
       "\t Occupation        & 1                 & 36,657 (8.5\\%)   & 29,308 (8.5\\%)   & 7,349 (8.5\\%)    & NA               \\\\\n",
       "\t Occupation        & 2                 & 20,773 (4.8\\%)   & 16,614 (4.8\\%)   & 4,159 (4.8\\%)    & NA               \\\\\n",
       "\t Occupation        & 3                 & 13,819 (3.2\\%)   & 11,061 (3.2\\%)   & 2,758 (3.2\\%)    & NA               \\\\\n",
       "\t Occupation        & 4                 & 56,717 (13.2\\%)  & 45,446 (13.2\\%)  & 11,271 (13.1\\%)  & NA               \\\\\n",
       "\t Occupation        & 5                 & 9,585 (2.2\\%)    & 7,674 (2.2\\%)    & 1,911 (2.2\\%)    & NA               \\\\\n",
       "\t Occupation        & 6                 & 15,907 (3.7\\%)   & 12,780 (3.7\\%)   & 3,127 (3.6\\%)    & NA               \\\\\n",
       "\t Occupation        & 7                 & 46,223 (10.7\\%)  & 36,976 (10.7\\%)  & 9,247 (10.8\\%)   & NA               \\\\\n",
       "\t Occupation        & 8                 & 1,245 (0.3\\%)    & 991 (0.3\\%)      & 254 (0.3\\%)      & NA               \\\\\n",
       "\t Occupation        & 9                 & 4,969 (1.2\\%)    & 3,966 (1.2\\%)    & 1,003 (1.2\\%)    & NA               \\\\\n",
       "\t Occupation        & 10                & 10,014 (2.3\\%)   & 7,974 (2.3\\%)    & 2,040 (2.4\\%)    & NA               \\\\\n",
       "\t Occupation        & 11                & 9,085 (2.1\\%)    & 7,205 (2.1\\%)    & 1,880 (2.2\\%)    & NA               \\\\\n",
       "\t Occupation        & 12                & 24,244 (5.6\\%)   & 19,282 (5.6\\%)   & 4,962 (5.8\\%)    & NA               \\\\\n",
       "\t Occupation        & 13                & 6,059 (1.4\\%)    & 4,843 (1.4\\%)    & 1,216 (1.4\\%)    & NA               \\\\\n",
       "\t Occupation        & 14                & 21,359 (5.0\\%)   & 17,105 (5.0\\%)   & 4,254 (4.9\\%)    & NA               \\\\\n",
       "\t Occupation        & 15                & 9,463 (2.2\\%)    & 7,575 (2.2\\%)    & 1,888 (2.2\\%)    & NA               \\\\\n",
       "\t Occupation        & 16                & 19,897 (4.6\\%)   & 15,950 (4.6\\%)   & 3,947 (4.6\\%)    & NA               \\\\\n",
       "\t Occupation        & 17                & 31,331 (7.3\\%)   & 25,126 (7.3\\%)   & 6,205 (7.2\\%)    & NA               \\\\\n",
       "\t Occupation        & 18                & 5,198 (1.2\\%)    & 4,176 (1.2\\%)    & 1,022 (1.2\\%)    & NA               \\\\\n",
       "\t Occupation        & 19                & 6,708 (1.6\\%)    & 5,351 (1.6\\%)    & 1,357 (1.6\\%)    & NA               \\\\\n",
       "\t ⋮ & ⋮ & ⋮ & ⋮ & ⋮ & ⋮\\\\\n",
       "\t Product\\_Category\\_2       & 9                            & 4,525 (1.1\\%)               & 3,624 (1.1\\%)               & 901 (1.0\\%)                 & NA                          \\\\\n",
       "\t Product\\_Category\\_2       & 10                           & 2,391 (0.6\\%)               & 1,945 (0.6\\%)               & 446 (0.5\\%)                 & NA                          \\\\\n",
       "\t Product\\_Category\\_2       & 11                           & 11,146 (2.6\\%)              & 8,962 (2.6\\%)               & 2,184 (2.5\\%)               & NA                          \\\\\n",
       "\t Product\\_Category\\_2       & 12                           & 4,309 (1.0\\%)               & 3,439 (1.0\\%)               & 870 (1.0\\%)                 & NA                          \\\\\n",
       "\t Product\\_Category\\_2       & 13                           & 8,205 (1.9\\%)               & 6,555 (1.9\\%)               & 1,650 (1.9\\%)               & NA                          \\\\\n",
       "\t Product\\_Category\\_2       & 14                           & 43,347 (10.1\\%)             & 34,650 (10.1\\%)             & 8,697 (10.1\\%)              & NA                          \\\\\n",
       "\t Product\\_Category\\_2       & 15                           & 29,813 (6.9\\%)              & 23,920 (7.0\\%)              & 5,893 (6.9\\%)               & NA                          \\\\\n",
       "\t Product\\_Category\\_2       & 16                           & 34,038 (7.9\\%)              & 27,095 (7.9\\%)              & 6,943 (8.1\\%)               & NA                          \\\\\n",
       "\t Product\\_Category\\_2       & 17                           & 10,506 (2.4\\%)              & 8,348 (2.4\\%)               & 2,158 (2.5\\%)               & NA                          \\\\\n",
       "\t Product\\_Category\\_2       & 18                           & 2,169 (0.5\\%)               & 1,744 (0.5\\%)               & 425 (0.5\\%)                 & NA                          \\\\\n",
       "\t Product\\_Category\\_3       & 0                            & 298,445 (69.4\\%)            & 238,720 (69.4\\%)            & 59,725 (69.4\\%)             & NA                          \\\\\n",
       "\t Product\\_Category\\_3       & 3                            & 485 (0.1\\%)                 & 383 (0.1\\%)                 & 102 (0.1\\%)                 & NA                          \\\\\n",
       "\t Product\\_Category\\_3       & 4                            & 1,467 (0.3\\%)               & 1,149 (0.3\\%)               & 318 (0.4\\%)                 & NA                          \\\\\n",
       "\t Product\\_Category\\_3       & 5                            & 13,149 (3.1\\%)              & 10,462 (3.0\\%)              & 2,687 (3.1\\%)               & NA                          \\\\\n",
       "\t Product\\_Category\\_3       & 6                            & 3,827 (0.9\\%)               & 3,070 (0.9\\%)               & 757 (0.9\\%)                 & NA                          \\\\\n",
       "\t Product\\_Category\\_3       & 8                            & 9,994 (2.3\\%)               & 7,969 (2.3\\%)               & 2,025 (2.4\\%)               & NA                          \\\\\n",
       "\t Product\\_Category\\_3       & 9                            & 9,161 (2.1\\%)               & 7,306 (2.1\\%)               & 1,855 (2.2\\%)               & NA                          \\\\\n",
       "\t Product\\_Category\\_3       & 10                           & 1,374 (0.3\\%)               & 1,122 (0.3\\%)               & 252 (0.3\\%)                 & NA                          \\\\\n",
       "\t Product\\_Category\\_3       & 11                           & 1,412 (0.3\\%)               & 1,113 (0.3\\%)               & 299 (0.3\\%)                 & NA                          \\\\\n",
       "\t Product\\_Category\\_3       & 12                           & 7,253 (1.7\\%)               & 5,880 (1.7\\%)               & 1,373 (1.6\\%)               & NA                          \\\\\n",
       "\t Product\\_Category\\_3       & 13                           & 4,299 (1.0\\%)               & 3,461 (1.0\\%)               & 838 (1.0\\%)                 & NA                          \\\\\n",
       "\t Product\\_Category\\_3       & 14                           & 14,503 (3.4\\%)              & 11,629 (3.4\\%)              & 2,874 (3.3\\%)               & NA                          \\\\\n",
       "\t Product\\_Category\\_3       & 15                           & 22,153 (5.2\\%)              & 17,722 (5.2\\%)              & 4,431 (5.2\\%)               & NA                          \\\\\n",
       "\t Product\\_Category\\_3       & 16                           & 25,716 (6.0\\%)              & 20,475 (6.0\\%)              & 5,241 (6.1\\%)               & NA                          \\\\\n",
       "\t Product\\_Category\\_3       & 17                           & 13,204 (3.1\\%)              & 10,690 (3.1\\%)              & 2,514 (2.9\\%)               & NA                          \\\\\n",
       "\t Product\\_Category\\_3       & 18                           & 3,619 (0.8\\%)               & 2,897 (0.8\\%)               & 722 (0.8\\%)                 & NA                          \\\\\n",
       "\t Purchase                   & Mean (SD)                  & 9,336.6 (4,981.5)          & 9,336.9 (4,982.3)          & 9,335.5 (4,978.2)          & NA                        \\\\\n",
       "\t Purchase                   & Median (IQR)               & 8,063.0 (5,867.0-12,076.0) & 8,063.0 (5,867.0-12,075.0) & 8,065.0 (5,867.0-12,077.0) & 0.942                     \\\\\n",
       "\t traintest\\_ind\\_         & Mean (SD)                  & 1.2 (0.4)                  & NA                         & NA                         & NA                        \\\\\n",
       "\t traintest\\_ind\\_         & Median (IQR)               & 1.0 (1.0-1.0)              & NA                         & NA                         & 0                         \\\\\n",
       "\\end{tabular}\n"
      ],
      "text/markdown": [
       "\n",
       "V1 | V2 | Pop | 1 | 2 | pval | \n",
       "|---|---|---|---|---|---|---|---|---|---|---|---|---|---|---|---|---|---|---|---|---|---|---|---|---|---|---|---|---|---|---|---|---|---|---|---|---|---|---|---|---|---|---|---|---|---|---|---|---|---|---|---|---|---|---|---|---|---|---|---|---|\n",
       "| Individuals     | n               | 430061          | 344048          | 86013           | NA              | \n",
       "| Gender          | F               | 105,825 (24.6%) | 84,622 (24.6%)  | 21,203 (24.7%)  | NA              | \n",
       "| Gender          | M               | 324,236 (75.4%) | 259,426 (75.4%) | 64,810 (75.3%)  | 0.741           | \n",
       "| Age             | 0-17            | 11,739 (2.7%)   | 9,334 (2.7%)    | 2,405 (2.8%)    | NA              | \n",
       "| Age             | 18-25           | 78,303 (18.2%)  | 62,697 (18.2%)  | 15,606 (18.1%)  | 0.329           | \n",
       "| Age             | 26-35           | 171,743 (39.9%) | 137,443 (39.9%) | 34,300 (39.9%)  | NA              | \n",
       "| Age             | 36-45           | 85,905 (20.0%)  | 68,621 (19.9%)  | 17,284 (20.1%)  | NA              | \n",
       "| Age             | 46-50           | 35,577 (8.3%)   | 28,491 (8.3%)   | 7,086 (8.2%)    | NA              | \n",
       "| Age             | 51-55           | 30,032 (7.0%)   | 24,124 (7.0%)   | 5,908 (6.9%)    | NA              | \n",
       "| Age             | 55+             | 16,762 (3.9%)   | 13,338 (3.9%)   | 3,424 (4.0%)    | NA              | \n",
       "| Occupation      | 0               | 54,528 (12.7%)  | 43,663 (12.7%)  | 10,865 (12.6%)  | NA              | \n",
       "| Occupation      | 1               | 36,657 (8.5%)   | 29,308 (8.5%)   | 7,349 (8.5%)    | NA              | \n",
       "| Occupation      | 2               | 20,773 (4.8%)   | 16,614 (4.8%)   | 4,159 (4.8%)    | NA              | \n",
       "| Occupation      | 3               | 13,819 (3.2%)   | 11,061 (3.2%)   | 2,758 (3.2%)    | NA              | \n",
       "| Occupation      | 4               | 56,717 (13.2%)  | 45,446 (13.2%)  | 11,271 (13.1%)  | NA              | \n",
       "| Occupation      | 5               | 9,585 (2.2%)    | 7,674 (2.2%)    | 1,911 (2.2%)    | NA              | \n",
       "| Occupation      | 6               | 15,907 (3.7%)   | 12,780 (3.7%)   | 3,127 (3.6%)    | NA              | \n",
       "| Occupation      | 7               | 46,223 (10.7%)  | 36,976 (10.7%)  | 9,247 (10.8%)   | NA              | \n",
       "| Occupation      | 8               | 1,245 (0.3%)    | 991 (0.3%)      | 254 (0.3%)      | NA              | \n",
       "| Occupation      | 9               | 4,969 (1.2%)    | 3,966 (1.2%)    | 1,003 (1.2%)    | NA              | \n",
       "| Occupation      | 10              | 10,014 (2.3%)   | 7,974 (2.3%)    | 2,040 (2.4%)    | NA              | \n",
       "| Occupation      | 11              | 9,085 (2.1%)    | 7,205 (2.1%)    | 1,880 (2.2%)    | NA              | \n",
       "| Occupation      | 12              | 24,244 (5.6%)   | 19,282 (5.6%)   | 4,962 (5.8%)    | NA              | \n",
       "| Occupation      | 13              | 6,059 (1.4%)    | 4,843 (1.4%)    | 1,216 (1.4%)    | NA              | \n",
       "| Occupation      | 14              | 21,359 (5.0%)   | 17,105 (5.0%)   | 4,254 (4.9%)    | NA              | \n",
       "| Occupation      | 15              | 9,463 (2.2%)    | 7,575 (2.2%)    | 1,888 (2.2%)    | NA              | \n",
       "| Occupation      | 16              | 19,897 (4.6%)   | 15,950 (4.6%)   | 3,947 (4.6%)    | NA              | \n",
       "| Occupation      | 17              | 31,331 (7.3%)   | 25,126 (7.3%)   | 6,205 (7.2%)    | NA              | \n",
       "| Occupation      | 18              | 5,198 (1.2%)    | 4,176 (1.2%)    | 1,022 (1.2%)    | NA              | \n",
       "| Occupation      | 19              | 6,708 (1.6%)    | 5,351 (1.6%)    | 1,357 (1.6%)    | NA              | \n",
       "| ⋮ | ⋮ | ⋮ | ⋮ | ⋮ | ⋮ | \n",
       "| Product_Category_2         | 9                          | 4,525 (1.1%)               | 3,624 (1.1%)               | 901 (1.0%)                 | NA                         | \n",
       "| Product_Category_2         | 10                         | 2,391 (0.6%)               | 1,945 (0.6%)               | 446 (0.5%)                 | NA                         | \n",
       "| Product_Category_2         | 11                         | 11,146 (2.6%)              | 8,962 (2.6%)               | 2,184 (2.5%)               | NA                         | \n",
       "| Product_Category_2         | 12                         | 4,309 (1.0%)               | 3,439 (1.0%)               | 870 (1.0%)                 | NA                         | \n",
       "| Product_Category_2         | 13                         | 8,205 (1.9%)               | 6,555 (1.9%)               | 1,650 (1.9%)               | NA                         | \n",
       "| Product_Category_2         | 14                         | 43,347 (10.1%)             | 34,650 (10.1%)             | 8,697 (10.1%)              | NA                         | \n",
       "| Product_Category_2         | 15                         | 29,813 (6.9%)              | 23,920 (7.0%)              | 5,893 (6.9%)               | NA                         | \n",
       "| Product_Category_2         | 16                         | 34,038 (7.9%)              | 27,095 (7.9%)              | 6,943 (8.1%)               | NA                         | \n",
       "| Product_Category_2         | 17                         | 10,506 (2.4%)              | 8,348 (2.4%)               | 2,158 (2.5%)               | NA                         | \n",
       "| Product_Category_2         | 18                         | 2,169 (0.5%)               | 1,744 (0.5%)               | 425 (0.5%)                 | NA                         | \n",
       "| Product_Category_3         | 0                          | 298,445 (69.4%)            | 238,720 (69.4%)            | 59,725 (69.4%)             | NA                         | \n",
       "| Product_Category_3         | 3                          | 485 (0.1%)                 | 383 (0.1%)                 | 102 (0.1%)                 | NA                         | \n",
       "| Product_Category_3         | 4                          | 1,467 (0.3%)               | 1,149 (0.3%)               | 318 (0.4%)                 | NA                         | \n",
       "| Product_Category_3         | 5                          | 13,149 (3.1%)              | 10,462 (3.0%)              | 2,687 (3.1%)               | NA                         | \n",
       "| Product_Category_3         | 6                          | 3,827 (0.9%)               | 3,070 (0.9%)               | 757 (0.9%)                 | NA                         | \n",
       "| Product_Category_3         | 8                          | 9,994 (2.3%)               | 7,969 (2.3%)               | 2,025 (2.4%)               | NA                         | \n",
       "| Product_Category_3         | 9                          | 9,161 (2.1%)               | 7,306 (2.1%)               | 1,855 (2.2%)               | NA                         | \n",
       "| Product_Category_3         | 10                         | 1,374 (0.3%)               | 1,122 (0.3%)               | 252 (0.3%)                 | NA                         | \n",
       "| Product_Category_3         | 11                         | 1,412 (0.3%)               | 1,113 (0.3%)               | 299 (0.3%)                 | NA                         | \n",
       "| Product_Category_3         | 12                         | 7,253 (1.7%)               | 5,880 (1.7%)               | 1,373 (1.6%)               | NA                         | \n",
       "| Product_Category_3         | 13                         | 4,299 (1.0%)               | 3,461 (1.0%)               | 838 (1.0%)                 | NA                         | \n",
       "| Product_Category_3         | 14                         | 14,503 (3.4%)              | 11,629 (3.4%)              | 2,874 (3.3%)               | NA                         | \n",
       "| Product_Category_3         | 15                         | 22,153 (5.2%)              | 17,722 (5.2%)              | 4,431 (5.2%)               | NA                         | \n",
       "| Product_Category_3         | 16                         | 25,716 (6.0%)              | 20,475 (6.0%)              | 5,241 (6.1%)               | NA                         | \n",
       "| Product_Category_3         | 17                         | 13,204 (3.1%)              | 10,690 (3.1%)              | 2,514 (2.9%)               | NA                         | \n",
       "| Product_Category_3         | 18                         | 3,619 (0.8%)               | 2,897 (0.8%)               | 722 (0.8%)                 | NA                         | \n",
       "| Purchase                   | Mean (SD)                  | 9,336.6 (4,981.5)          | 9,336.9 (4,982.3)          | 9,335.5 (4,978.2)          | NA                         | \n",
       "| Purchase                   | Median (IQR)               | 8,063.0 (5,867.0-12,076.0) | 8,063.0 (5,867.0-12,075.0) | 8,065.0 (5,867.0-12,077.0) | 0.942                      | \n",
       "| traintest_ind_             | Mean (SD)                  | 1.2 (0.4)                  | NA                         | NA                         | NA                         | \n",
       "| traintest_ind_             | Median (IQR)               | 1.0 (1.0-1.0)              | NA                         | NA                         | 0                          | \n",
       "\n",
       "\n"
      ],
      "text/plain": [
       "   V1                 V2           Pop                       \n",
       "1  Individuals        n            430061                    \n",
       "2  Gender             F            105,825 (24.6%)           \n",
       "3  Gender             M            324,236 (75.4%)           \n",
       "4  Age                0-17         11,739 (2.7%)             \n",
       "5  Age                18-25        78,303 (18.2%)            \n",
       "6  Age                26-35        171,743 (39.9%)           \n",
       "7  Age                36-45        85,905 (20.0%)            \n",
       "8  Age                46-50        35,577 (8.3%)             \n",
       "9  Age                51-55        30,032 (7.0%)             \n",
       "10 Age                55+          16,762 (3.9%)             \n",
       "11 Occupation         0            54,528 (12.7%)            \n",
       "12 Occupation         1            36,657 (8.5%)             \n",
       "13 Occupation         2            20,773 (4.8%)             \n",
       "14 Occupation         3            13,819 (3.2%)             \n",
       "15 Occupation         4            56,717 (13.2%)            \n",
       "16 Occupation         5            9,585 (2.2%)              \n",
       "17 Occupation         6            15,907 (3.7%)             \n",
       "18 Occupation         7            46,223 (10.7%)            \n",
       "19 Occupation         8            1,245 (0.3%)              \n",
       "20 Occupation         9            4,969 (1.2%)              \n",
       "21 Occupation         10           10,014 (2.3%)             \n",
       "22 Occupation         11           9,085 (2.1%)              \n",
       "23 Occupation         12           24,244 (5.6%)             \n",
       "24 Occupation         13           6,059 (1.4%)              \n",
       "25 Occupation         14           21,359 (5.0%)             \n",
       "26 Occupation         15           9,463 (2.2%)              \n",
       "27 Occupation         16           19,897 (4.6%)             \n",
       "28 Occupation         17           31,331 (7.3%)             \n",
       "29 Occupation         18           5,198 (1.2%)              \n",
       "30 Occupation         19           6,708 (1.6%)              \n",
       "⋮  ⋮                  ⋮            ⋮                         \n",
       "67 Product_Category_2 9            4,525 (1.1%)              \n",
       "68 Product_Category_2 10           2,391 (0.6%)              \n",
       "69 Product_Category_2 11           11,146 (2.6%)             \n",
       "70 Product_Category_2 12           4,309 (1.0%)              \n",
       "71 Product_Category_2 13           8,205 (1.9%)              \n",
       "72 Product_Category_2 14           43,347 (10.1%)            \n",
       "73 Product_Category_2 15           29,813 (6.9%)             \n",
       "74 Product_Category_2 16           34,038 (7.9%)             \n",
       "75 Product_Category_2 17           10,506 (2.4%)             \n",
       "76 Product_Category_2 18           2,169 (0.5%)              \n",
       "77 Product_Category_3 0            298,445 (69.4%)           \n",
       "78 Product_Category_3 3            485 (0.1%)                \n",
       "79 Product_Category_3 4            1,467 (0.3%)              \n",
       "80 Product_Category_3 5            13,149 (3.1%)             \n",
       "81 Product_Category_3 6            3,827 (0.9%)              \n",
       "82 Product_Category_3 8            9,994 (2.3%)              \n",
       "83 Product_Category_3 9            9,161 (2.1%)              \n",
       "84 Product_Category_3 10           1,374 (0.3%)              \n",
       "85 Product_Category_3 11           1,412 (0.3%)              \n",
       "86 Product_Category_3 12           7,253 (1.7%)              \n",
       "87 Product_Category_3 13           4,299 (1.0%)              \n",
       "88 Product_Category_3 14           14,503 (3.4%)             \n",
       "89 Product_Category_3 15           22,153 (5.2%)             \n",
       "90 Product_Category_3 16           25,716 (6.0%)             \n",
       "91 Product_Category_3 17           13,204 (3.1%)             \n",
       "92 Product_Category_3 18           3,619 (0.8%)              \n",
       "93 Purchase           Mean (SD)    9,336.6 (4,981.5)         \n",
       "94 Purchase           Median (IQR) 8,063.0 (5,867.0-12,076.0)\n",
       "95 traintest_ind_     Mean (SD)    1.2 (0.4)                 \n",
       "96 traintest_ind_     Median (IQR) 1.0 (1.0-1.0)             \n",
       "   1                          2                          pval \n",
       "1  344048                     86013                      NA   \n",
       "2  84,622 (24.6%)             21,203 (24.7%)             NA   \n",
       "3  259,426 (75.4%)            64,810 (75.3%)             0.741\n",
       "4  9,334 (2.7%)               2,405 (2.8%)               NA   \n",
       "5  62,697 (18.2%)             15,606 (18.1%)             0.329\n",
       "6  137,443 (39.9%)            34,300 (39.9%)             NA   \n",
       "7  68,621 (19.9%)             17,284 (20.1%)             NA   \n",
       "8  28,491 (8.3%)              7,086 (8.2%)               NA   \n",
       "9  24,124 (7.0%)              5,908 (6.9%)               NA   \n",
       "10 13,338 (3.9%)              3,424 (4.0%)               NA   \n",
       "11 43,663 (12.7%)             10,865 (12.6%)             NA   \n",
       "12 29,308 (8.5%)              7,349 (8.5%)               NA   \n",
       "13 16,614 (4.8%)              4,159 (4.8%)               NA   \n",
       "14 11,061 (3.2%)              2,758 (3.2%)               NA   \n",
       "15 45,446 (13.2%)             11,271 (13.1%)             NA   \n",
       "16 7,674 (2.2%)               1,911 (2.2%)               NA   \n",
       "17 12,780 (3.7%)              3,127 (3.6%)               NA   \n",
       "18 36,976 (10.7%)             9,247 (10.8%)              NA   \n",
       "19 991 (0.3%)                 254 (0.3%)                 NA   \n",
       "20 3,966 (1.2%)               1,003 (1.2%)               NA   \n",
       "21 7,974 (2.3%)               2,040 (2.4%)               NA   \n",
       "22 7,205 (2.1%)               1,880 (2.2%)               NA   \n",
       "23 19,282 (5.6%)              4,962 (5.8%)               NA   \n",
       "24 4,843 (1.4%)               1,216 (1.4%)               NA   \n",
       "25 17,105 (5.0%)              4,254 (4.9%)               NA   \n",
       "26 7,575 (2.2%)               1,888 (2.2%)               NA   \n",
       "27 15,950 (4.6%)              3,947 (4.6%)               NA   \n",
       "28 25,126 (7.3%)              6,205 (7.2%)               NA   \n",
       "29 4,176 (1.2%)               1,022 (1.2%)               NA   \n",
       "30 5,351 (1.6%)               1,357 (1.6%)               NA   \n",
       "⋮  ⋮                          ⋮                          ⋮    \n",
       "67 3,624 (1.1%)               901 (1.0%)                 NA   \n",
       "68 1,945 (0.6%)               446 (0.5%)                 NA   \n",
       "69 8,962 (2.6%)               2,184 (2.5%)               NA   \n",
       "70 3,439 (1.0%)               870 (1.0%)                 NA   \n",
       "71 6,555 (1.9%)               1,650 (1.9%)               NA   \n",
       "72 34,650 (10.1%)             8,697 (10.1%)              NA   \n",
       "73 23,920 (7.0%)              5,893 (6.9%)               NA   \n",
       "74 27,095 (7.9%)              6,943 (8.1%)               NA   \n",
       "75 8,348 (2.4%)               2,158 (2.5%)               NA   \n",
       "76 1,744 (0.5%)               425 (0.5%)                 NA   \n",
       "77 238,720 (69.4%)            59,725 (69.4%)             NA   \n",
       "78 383 (0.1%)                 102 (0.1%)                 NA   \n",
       "79 1,149 (0.3%)               318 (0.4%)                 NA   \n",
       "80 10,462 (3.0%)              2,687 (3.1%)               NA   \n",
       "81 3,070 (0.9%)               757 (0.9%)                 NA   \n",
       "82 7,969 (2.3%)               2,025 (2.4%)               NA   \n",
       "83 7,306 (2.1%)               1,855 (2.2%)               NA   \n",
       "84 1,122 (0.3%)               252 (0.3%)                 NA   \n",
       "85 1,113 (0.3%)               299 (0.3%)                 NA   \n",
       "86 5,880 (1.7%)               1,373 (1.6%)               NA   \n",
       "87 3,461 (1.0%)               838 (1.0%)                 NA   \n",
       "88 11,629 (3.4%)              2,874 (3.3%)               NA   \n",
       "89 17,722 (5.2%)              4,431 (5.2%)               NA   \n",
       "90 20,475 (6.0%)              5,241 (6.1%)               NA   \n",
       "91 10,690 (3.1%)              2,514 (2.9%)               NA   \n",
       "92 2,897 (0.8%)               722 (0.8%)                 NA   \n",
       "93 9,336.9 (4,982.3)          9,335.5 (4,978.2)          NA   \n",
       "94 8,063.0 (5,867.0-12,075.0) 8,065.0 (5,867.0-12,077.0) 0.942\n",
       "95 NA                         NA                         NA   \n",
       "96 NA                         NA                         0    "
      ]
     },
     "metadata": {},
     "output_type": "display_data"
    }
   ],
   "source": [
    "tab2"
   ]
  },
  {
   "cell_type": "code",
   "execution_count": 14,
   "metadata": {},
   "outputs": [],
   "source": [
    "### save memeory, remove the datasets that will not be used more...\n",
    "rm(temp,data)"
   ]
  },
  {
   "cell_type": "markdown",
   "metadata": {},
   "source": [
    "Checking the distribution of the outcome on the three subsets"
   ]
  },
  {
   "cell_type": "code",
   "execution_count": 15,
   "metadata": {},
   "outputs": [
    {
     "name": "stderr",
     "output_type": "stream",
     "text": [
      "Loading required package: ggplot2\n"
     ]
    },
    {
     "data": {},
     "metadata": {},
     "output_type": "display_data"
    },
    {
     "data": {
      "image/png": "[encoded data removed]",
      "text/plain": [
       "plot without title"
      ]
     },
     "metadata": {},
     "output_type": "display_data"
    }
   ],
   "source": [
    "require(ggplot2)\n",
    "\n",
    "options(repr.plot.width = 4, repr.plot.height = 4)\n",
    "\n",
    "ggplot() +\n",
    "    geom_density(aes(x=train$Purchase),color=\"red\",alpha=0.3) +\n",
    "    geom_density(aes(x=dev$Purchase),color=\"blue\",alpha=0.3) +\n",
    "    geom_density(aes(x=test$Purchase),color=\"green\",alpha=0.3)\n"
   ]
  },
  {
   "cell_type": "markdown",
   "metadata": {},
   "source": [
    "# Train-Dev"
   ]
  },
  {
   "cell_type": "code",
   "execution_count": 16,
   "metadata": {},
   "outputs": [
    {
     "name": "stdout",
     "output_type": "stream",
     "text": [
      "Growing trees.. Progress: 12%. Estimated remaining time: 3 minutes, 47 seconds.\n",
      "Growing trees.. Progress: 24%. Estimated remaining time: 3 minutes, 14 seconds.\n",
      "Growing trees.. Progress: 34%. Estimated remaining time: 3 minutes, 3 seconds.\n",
      "Growing trees.. Progress: 44%. Estimated remaining time: 2 minutes, 40 seconds.\n",
      "Growing trees.. Progress: 54%. Estimated remaining time: 2 minutes, 12 seconds.\n",
      "Growing trees.. Progress: 65%. Estimated remaining time: 1 minute, 41 seconds.\n",
      "Growing trees.. Progress: 77%. Estimated remaining time: 1 minute, 9 seconds.\n",
      "Growing trees.. Progress: 85%. Estimated remaining time: 47 seconds.\n",
      "Growing trees.. Progress: 94%. Estimated remaining time: 20 seconds.\n",
      "Computing prediction error.. Progress: 57%. Estimated remaining time: 23 seconds.\n"
     ]
    }
   ],
   "source": [
    "library(ranger)\n",
    "\n",
    "mod1 <- ranger(Purchase ~., data=train)\n"
   ]
  },
  {
   "cell_type": "code",
   "execution_count": null,
   "metadata": {},
   "outputs": [],
   "source": [
    "mod1"
   ]
  },
  {
   "cell_type": "code",
   "execution_count": null,
   "metadata": {},
   "outputs": [],
   "source": [
    "pred1 <- predict(mod1, newdata=test)\n"
   ]
  },
  {
   "cell_type": "markdown",
   "metadata": {},
   "source": [
    "# Cross-Validation\n",
    "\n",
    "<img src=\"https://genome.tugraz.at/proclassify/help/pages/images/xv_folds.gif\"/>\n"
   ]
  },
  {
   "cell_type": "code",
   "execution_count": 25,
   "metadata": {},
   "outputs": [
    {
     "name": "stderr",
     "output_type": "stream",
     "text": [
      "Loading required package: lattice\n"
     ]
    }
   ],
   "source": [
    "library(caret)\n",
    "# load the iris dataset\n",
    "data(iris)"
   ]
  },
  {
   "cell_type": "code",
   "execution_count": 43,
   "metadata": {},
   "outputs": [],
   "source": [
    "# define training control\n",
    "trControl <- trainControl(method = \"repeatedcv\", repeats = 5, seeds = 22)\n",
    "# train the model\n",
    "model <- train(Species~., data=iris, trControl=train_control, method=\"ctree\")"
   ]
  },
  {
   "cell_type": "code",
   "execution_count": 44,
   "metadata": {},
   "outputs": [
    {
     "name": "stdout",
     "output_type": "stream",
     "text": [
      "Conditional Inference Tree \n",
      "\n",
      "150 samples\n",
      "  4 predictors\n",
      "  3 classes: 'setosa', 'versicolor', 'virginica' \n",
      "\n",
      "No pre-processing\n",
      "Resampling: Leave-One-Out Cross-Validation \n",
      "Summary of sample sizes: 149, 149, 149, 149, 149, 149, ... \n",
      "Resampling results across tuning parameters:\n",
      "\n",
      "  mincriterion  Accuracy   Kappa\n",
      "  0.01          0.9333333  0.9  \n",
      "  0.50          0.9333333  0.9  \n",
      "  0.99          0.9333333  0.9  \n",
      "\n",
      "Accuracy was used to select the optimal model using the largest value.\n",
      "The final value used for the model was mincriterion = 0.99.\n"
     ]
    }
   ],
   "source": [
    "# summarize results\n",
    "print(model)"
   ]
  },
  {
   "cell_type": "markdown",
   "metadata": {},
   "source": [
    "# Leave-one-out Cross Validation"
   ]
  },
  {
   "cell_type": "code",
   "execution_count": 39,
   "metadata": {},
   "outputs": [],
   "source": [
    "# define training control\n",
    "train_control <- trainControl(method=\"LOOCV\")\n",
    "# train the model\n",
    "model <- train(Species~., data=iris, trControl=train_control, method=\"ctree\")"
   ]
  },
  {
   "cell_type": "code",
   "execution_count": 40,
   "metadata": {},
   "outputs": [
    {
     "name": "stdout",
     "output_type": "stream",
     "text": [
      "Conditional Inference Tree \n",
      "\n",
      "150 samples\n",
      "  4 predictors\n",
      "  3 classes: 'setosa', 'versicolor', 'virginica' \n",
      "\n",
      "No pre-processing\n",
      "Resampling: Leave-One-Out Cross-Validation \n",
      "Summary of sample sizes: 149, 149, 149, 149, 149, 149, ... \n",
      "Resampling results across tuning parameters:\n",
      "\n",
      "  mincriterion  Accuracy   Kappa\n",
      "  0.01          0.9333333  0.9  \n",
      "  0.50          0.9333333  0.9  \n",
      "  0.99          0.9333333  0.9  \n",
      "\n",
      "Accuracy was used to select the optimal model using the largest value.\n",
      "The final value used for the model was mincriterion = 0.99.\n"
     ]
    }
   ],
   "source": [
    "# summarize results\n",
    "print(model)"
   ]
  },
  {
   "cell_type": "code",
   "execution_count": 41,
   "metadata": {},
   "outputs": [],
   "source": [
    "?caret::trainControl"
   ]
  },
  {
   "cell_type": "code",
   "execution_count": null,
   "metadata": {},
   "outputs": [],
   "source": [
    "?carer::train"
   ]
  },
  {
   "cell_type": "markdown",
   "metadata": {},
   "source": [
    "# Boostrapping\n",
    "\n"
   ]
  },
  {
   "cell_type": "code",
   "execution_count": 37,
   "metadata": {},
   "outputs": [],
   "source": [
    "# define training control\n",
    "train_control <- trainControl(method=\"boot\", number=100)\n",
    "# train the model\n",
    "model <- train(Species~., data=iris, trControl=train_control,method=\"ctree\")"
   ]
  },
  {
   "cell_type": "code",
   "execution_count": 38,
   "metadata": {},
   "outputs": [
    {
     "name": "stdout",
     "output_type": "stream",
     "text": [
      "Conditional Inference Tree \n",
      "\n",
      "150 samples\n",
      "  4 predictors\n",
      "  3 classes: 'setosa', 'versicolor', 'virginica' \n",
      "\n",
      "No pre-processing\n",
      "Resampling: Bootstrapped (100 reps) \n",
      "Summary of sample sizes: 150, 150, 150, 150, 150, 150, ... \n",
      "Resampling results across tuning parameters:\n",
      "\n",
      "  mincriterion  Accuracy   Kappa    \n",
      "  0.01          0.9432746  0.9140960\n",
      "  0.50          0.9432746  0.9140960\n",
      "  0.99          0.9434500  0.9143576\n",
      "\n",
      "Accuracy was used to select the optimal model using the largest value.\n",
      "The final value used for the model was mincriterion = 0.99.\n"
     ]
    }
   ],
   "source": [
    "# summarize results\n",
    "print(model)"
   ]
  },
  {
   "cell_type": "markdown",
   "metadata": {},
   "source": [
    "# Dataset Inbalance"
   ]
  },
  {
   "cell_type": "code",
   "execution_count": 17,
   "metadata": {},
   "outputs": [
    {
     "name": "stderr",
     "output_type": "stream",
     "text": [
      "Loading required package: imbalance\n",
      "Loading required package: ROSE\n",
      "Loaded ROSE 0.0-3\n",
      "\n"
     ]
    }
   ],
   "source": [
    "if(!require(imbalance)){install.packages(\"imbalance\");require(imbalance)}\n",
    "### ROSE = Random Over-Sampling Examples\n",
    "if(!require(ROSE)){install.packages(\"ROSE\");require(ROSE)}\n"
   ]
  },
  {
   "cell_type": "code",
   "execution_count": 18,
   "metadata": {},
   "outputs": [
    {
     "data": {
      "text/html": [
       "<table>\n",
       "<thead><tr><th scope=col>T3resin</th><th scope=col>Thyroxin</th><th scope=col>Triiodothyronine</th><th scope=col>Thyroidstimulating</th><th scope=col>TSH_value</th><th scope=col>Class</th></tr></thead>\n",
       "<tbody>\n",
       "\t<tr><td>105     </td><td> 7.3    </td><td>1.5     </td><td>1.5     </td><td>-0.1    </td><td>negative</td></tr>\n",
       "\t<tr><td> 67     </td><td>23.3    </td><td>7.4     </td><td>1.8     </td><td>-0.6    </td><td>positive</td></tr>\n",
       "\t<tr><td>111     </td><td> 8.4    </td><td>1.5     </td><td>0.8     </td><td> 1.2    </td><td>negative</td></tr>\n",
       "\t<tr><td> 89     </td><td>14.3    </td><td>4.1     </td><td>0.5     </td><td> 0.2    </td><td>positive</td></tr>\n",
       "\t<tr><td>105     </td><td> 9.5    </td><td>1.8     </td><td>1.6     </td><td> 3.6    </td><td>negative</td></tr>\n",
       "\t<tr><td>110     </td><td>20.3    </td><td>3.7     </td><td>0.6     </td><td> 0.2    </td><td>positive</td></tr>\n",
       "</tbody>\n",
       "</table>\n"
      ],
      "text/latex": [
       "\\begin{tabular}{r|llllll}\n",
       " T3resin & Thyroxin & Triiodothyronine & Thyroidstimulating & TSH\\_value & Class\\\\\n",
       "\\hline\n",
       "\t 105      &  7.3     & 1.5      & 1.5      & -0.1     & negative\\\\\n",
       "\t  67      & 23.3     & 7.4      & 1.8      & -0.6     & positive\\\\\n",
       "\t 111      &  8.4     & 1.5      & 0.8      &  1.2     & negative\\\\\n",
       "\t  89      & 14.3     & 4.1      & 0.5      &  0.2     & positive\\\\\n",
       "\t 105      &  9.5     & 1.8      & 1.6      &  3.6     & negative\\\\\n",
       "\t 110      & 20.3     & 3.7      & 0.6      &  0.2     & positive\\\\\n",
       "\\end{tabular}\n"
      ],
      "text/markdown": [
       "\n",
       "T3resin | Thyroxin | Triiodothyronine | Thyroidstimulating | TSH_value | Class | \n",
       "|---|---|---|---|---|---|\n",
       "| 105      |  7.3     | 1.5      | 1.5      | -0.1     | negative | \n",
       "|  67      | 23.3     | 7.4      | 1.8      | -0.6     | positive | \n",
       "| 111      |  8.4     | 1.5      | 0.8      |  1.2     | negative | \n",
       "|  89      | 14.3     | 4.1      | 0.5      |  0.2     | positive | \n",
       "| 105      |  9.5     | 1.8      | 1.6      |  3.6     | negative | \n",
       "| 110      | 20.3     | 3.7      | 0.6      |  0.2     | positive | \n",
       "\n",
       "\n"
      ],
      "text/plain": [
       "  T3resin Thyroxin Triiodothyronine Thyroidstimulating TSH_value Class   \n",
       "1 105      7.3     1.5              1.5                -0.1      negative\n",
       "2  67     23.3     7.4              1.8                -0.6      positive\n",
       "3 111      8.4     1.5              0.8                 1.2      negative\n",
       "4  89     14.3     4.1              0.5                 0.2      positive\n",
       "5 105      9.5     1.8              1.6                 3.6      negative\n",
       "6 110     20.3     3.7              0.6                 0.2      positive"
      ]
     },
     "metadata": {},
     "output_type": "display_data"
    }
   ],
   "source": [
    "data(newthyroid1)\n",
    "head(newthyroid1)"
   ]
  },
  {
   "cell_type": "code",
   "execution_count": 19,
   "metadata": {},
   "outputs": [
    {
     "data": {
      "text/plain": [
       "\n",
       "negative positive \n",
       "     180       35 "
      ]
     },
     "metadata": {},
     "output_type": "display_data"
    },
    {
     "data": {
      "text/plain": [
       "\n",
       "negative positive \n",
       "83.72093 16.27907 "
      ]
     },
     "metadata": {},
     "output_type": "display_data"
    }
   ],
   "source": [
    "table(newthyroid1$Class)\n",
    "table(newthyroid1$Class)/nrow(newthyroid1)*100"
   ]
  },
  {
   "cell_type": "code",
   "execution_count": 20,
   "metadata": {},
   "outputs": [
    {
     "data": {
      "text/html": [
       "<table>\n",
       "<thead><tr><th scope=col>numPositive</th><th scope=col>numNegative</th><th scope=col>nInstances</th></tr></thead>\n",
       "<tbody>\n",
       "\t<tr><td>35 </td><td>180</td><td>145</td></tr>\n",
       "</tbody>\n",
       "</table>\n"
      ],
      "text/latex": [
       "\\begin{tabular}{lll}\n",
       " numPositive & numNegative & nInstances\\\\\n",
       "\\hline\n",
       "\t 35  & 180 & 145\\\\\n",
       "\\end{tabular}\n"
      ],
      "text/markdown": [
       "\n",
       "numPositive | numNegative | nInstances | \n",
       "|---|\n",
       "| 35  | 180 | 145 | \n",
       "\n",
       "\n"
      ],
      "text/plain": [
       "     numPositive numNegative nInstances\n",
       "[1,] 35          180         145       "
      ]
     },
     "metadata": {},
     "output_type": "display_data"
    }
   ],
   "source": [
    "numPositive <- length(which(newthyroid1$Class == \"positive\"))\n",
    "numNegative <- length(which(newthyroid1$Class == \"negative\"))\n",
    "nInstances <- numNegative - numPositive\n",
    "cbind(numPositive=numPositive,numNegative=numNegative,nInstances=nInstances)"
   ]
  },
  {
   "cell_type": "markdown",
   "metadata": {},
   "source": [
    "## Under Sampling\n",
    " \n",
    "This techniques uses all the rows containing the minority class and select randomly the same number of minority class for the rows with the mayority class "
   ]
  },
  {
   "cell_type": "code",
   "execution_count": 21,
   "metadata": {},
   "outputs": [
    {
     "data": {
      "text/plain": [
       "\n",
       "negative positive \n",
       "      35       35 "
      ]
     },
     "metadata": {},
     "output_type": "display_data"
    }
   ],
   "source": [
    "data_balanced_under <- ovun.sample(Class ~ ., data = newthyroid1, method = \"under\",N = numPositive*2)$data\n",
    "table(data_balanced_under$Class)"
   ]
  },
  {
   "cell_type": "markdown",
   "metadata": {},
   "source": [
    "## Over Sampling\n",
    " \n",
    "Over sampling takes the number of rows of the mayority class and repeat the rows of the minority class up to the same number of the mayority class. The repeated rows are selected randomly."
   ]
  },
  {
   "cell_type": "code",
   "execution_count": 57,
   "metadata": {},
   "outputs": [
    {
     "data": {
      "text/plain": [
       "\n",
       "negative positive \n",
       "     180      180 "
      ]
     },
     "metadata": {},
     "output_type": "display_data"
    }
   ],
   "source": [
    "#over sampling\n",
    "data_balanced_over <- ovun.sample(Class ~ ., data = newthyroid1, method = \"over\",N = numNegative*2)$data\n",
    "table(data_balanced_over$Class)"
   ]
  },
  {
   "cell_type": "markdown",
   "metadata": {},
   "source": [
    "## Over-Under Sampling\n",
    " \n",
    "In this technique we randomly select half of the majority class rows (under sampling) and increment the minority class rows by selecting them randomly.   "
   ]
  },
  {
   "cell_type": "code",
   "execution_count": 22,
   "metadata": {},
   "outputs": [
    {
     "data": {
      "text/plain": [
       "\n",
       "negative positive \n",
       "      90       90 "
      ]
     },
     "metadata": {},
     "output_type": "display_data"
    }
   ],
   "source": [
    "#over_under sampling\n",
    "data_balanced_both <- ovun.sample(Class ~ ., data = newthyroid1, method = \"both\", p=0.5,N = 180, seed = 1)$data\n",
    "table(data_balanced_both$Class)"
   ]
  },
  {
   "cell_type": "markdown",
   "metadata": {},
   "source": [
    "## ROSE (Random Over-Sampling Examples) \n",
    " \n",
    "Creates a sample of synthetic data by enlarging the features space of minority and majority class examples. ROSE selects an observation belonging to the class k and generates new examples in its neighbourhood"
   ]
  },
  {
   "cell_type": "code",
   "execution_count": 23,
   "metadata": {},
   "outputs": [
    {
     "data": {
      "text/plain": [
       "\n",
       "negative positive \n",
       "     105      110 "
      ]
     },
     "metadata": {},
     "output_type": "display_data"
    }
   ],
   "source": [
    "# Rose: \n",
    "data.rose <- ROSE(Class ~ ., data = newthyroid1, seed = 1)$data\n",
    "table(data.rose$Class)"
   ]
  },
  {
   "cell_type": "markdown",
   "metadata": {},
   "source": [
    "## Oversampling with Synthetic data\n",
    " \n",
    "Additionally to ROSE. The package 'inbalance' has the function pdfos. This function generates synthetic minority examples for a numerical dataset approximating a Gaussian multivariate distribution.\n"
   ]
  },
  {
   "cell_type": "code",
   "execution_count": 24,
   "metadata": {},
   "outputs": [
    {
     "data": {
      "text/plain": [
       "\n",
       "negative positive \n",
       "     180      180 "
      ]
     },
     "metadata": {},
     "output_type": "display_data"
    }
   ],
   "source": [
    "newSamples <- pdfos(dataset = newthyroid1, numInstances = nInstances,classAttr = \"Class\")\n",
    "newDataset <- rbind(newthyroid1, newSamples)\n",
    "table(newDataset$Class)"
   ]
  }
 ],
 "metadata": {
  "kernelspec": {
   "display_name": "R",
   "language": "R",
   "name": "ir"
  },
  "language_info": {
   "codemirror_mode": "r",
   "file_extension": ".r",
   "mimetype": "text/x-r-source",
   "name": "R",
   "pygments_lexer": "r",
   "version": "3.4.4"
  }
 },
 "nbformat": 4,
 "nbformat_minor": 2
}
