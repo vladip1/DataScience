{
 "cells": [
  {
   "cell_type": "markdown",
   "metadata": {},
   "source": [
    "# Neural Networks\n",
    " \n",
    "Today we will build a neural network (NN) from scratch. \n",
    "\n",
    "The structure of the NN is shown in the following image:\n",
    "  \n",
    "<img src=\"https://i1.wp.com/res.cloudinary.com/dxqnb8xjb/image/upload/v1539018324/nn_diagram_d7gs7e.png?w=456&ssl=1\" />\n",
    " \n",
    " \n",
    "This NN have three layers: \n",
    "\n",
    "- Input layer: this layer is constitute the input data\n",
    "- Hidden layer: this is the most internal layer. This layer is not visible to the user that is why NN are considered black boxes. \n",
    "- Output layer: this layer will contain our output ($\\hat{y}$)\n",
    "\n",
    "\n",
    "<img src=\"https://cdnpythonmachinelearning.azureedge.net/wp-content/uploads/2017/09/Single-Perceptron.png?x31195\" width=\"600\" height=\"400\" />\n",
    " \n",
    " \n",
    "We proceed with the input layer and calculate the weights and the bias for each of the input (X's):\n",
    " \n",
    "$$ z = W_{i1}^{T}X + b_1 $$\n",
    "\n",
    "This is called the <b> Transfer Function </b>. After that, the resulting vector (z) is passed through an <b> Activation Function </b>. There are many types of activation functions, one of them we yet know, the <b>sigmoid function </b>:\n",
    " \n",
    "$$   \\sigma = 1 / (1 + exp^{-z})  $$\n",
    "\n",
    "Lets code this functions:\n"
   ]
  },
  {
   "cell_type": "markdown",
   "metadata": {},
   "source": [
    "## Activation function"
   ]
  },
  {
   "cell_type": "code",
   "execution_count": 1,
   "metadata": {},
   "outputs": [],
   "source": [
    "#' the activation function\n",
    "sigmoid <- function(x) {\n",
    "  1.0 / (1.0 + exp(-x))\n",
    "}\n"
   ]
  },
  {
   "cell_type": "markdown",
   "metadata": {},
   "source": [
    "## Feedforward\n",
    " \n",
    "The transfer and activation functions are applyed to the first layer (input layer) and the resuts are passed to the following layer (hidden layer) and both functions are now applied to it. Then the reult is passed to the output layer. Those passes are known as feedforward step. Now we will define this function:"
   ]
  },
  {
   "cell_type": "code",
   "execution_count": 2,
   "metadata": {},
   "outputs": [],
   "source": [
    "### Feedforward\n",
    "feedforward <- function(nn) {\n",
    "  ## activation of the first layer\n",
    "  nn$layer1 <- sigmoid(nn$input %*% nn$weights1)\n",
    "  ## activation of the following layer\n",
    "  nn$output <- sigmoid(nn$layer1 %*% nn$weights2)\n",
    "  return(nn)\n",
    "}\n"
   ]
  },
  {
   "cell_type": "markdown",
   "metadata": {},
   "source": [
    "At the end, the final feedforward function for our network looks as follows:\n",
    " \n",
    "$$ \\hat{y} = \\sigma(W_2^{T}(\\sigma(W_1^{T}X) + b_1) + b_2 )  $$\n",
    " \n",
    "\n",
    "## Backpropagation\n",
    " \n",
    "The resulting output of the feedforward step gives a result that has a high error (loss). To reduce this error, the weight and bias are corrected by going backwards. This step is known as backpropagation. This is done by the following function:\n",
    " \n",
    "$$  2(y - \\hat{y}) * z(1-z) * X $$\n",
    " \n",
    "where z is\n",
    "\n",
    "$$  z = (W^{T}X + b) $$\n",
    "\n",
    "and $ z(1-z) $ is known as the <b>derivative of the sigmoid function</b>.\n",
    "\n",
    "Now we add the code for the backpropagation function:\n"
   ]
  },
  {
   "cell_type": "code",
   "execution_count": 3,
   "metadata": {},
   "outputs": [],
   "source": [
    "#' the derivative of the activation function\n",
    "sigmoid_derivative <- function(x) {\n",
    "  return(x * (1.0 - x))\n",
    "}\n",
    "\n",
    "## Backpropagation\n",
    "backprop <- function(nn) {\n",
    "  # application of the chain rule to find derivative of the loss function with \n",
    "  # respect to weights2 and weights1\n",
    "    \n",
    "  # `2 * (nn$y - nn$output)` is the derivative of the sigmoid loss function\n",
    "  d_weights2 <- ( t(nn$layer1) %*% (2 * (nn$y - nn$output) * sigmoid_derivative(nn$output)) )\n",
    "\n",
    "  d_weights1 <- ( 2 * (nn$y - nn$output) * sigmoid_derivative(nn$output)) %*% t(nn$weights2)\n",
    "    \n",
    "  d_weights1 <- d_weights1 * sigmoid_derivative(nn$layer1)\n",
    "    \n",
    "  d_weights1 <- t(nn$input) %*% d_weights1\n",
    "  \n",
    "  # update the weights using the derivative (slope) of the loss function\n",
    "  nn$weights1 <- nn$weights1 + d_weights1\n",
    "  nn$weights2 <- nn$weights2 + d_weights2\n",
    "\n",
    "  return(nn)\n",
    "}\n"
   ]
  },
  {
   "cell_type": "markdown",
   "metadata": {},
   "source": [
    "## Loss function\n",
    " \n",
    "Now that we have all the needed functions for our NN, we have to define the loss function. We will use the Sum of Squared Error: \n",
    "\n",
    "$$  cost = \\sum_{i=1}^{n} {(y - \\hat{y})^{2}} $$\n"
   ]
  },
  {
   "cell_type": "code",
   "execution_count": 4,
   "metadata": {},
   "outputs": [],
   "source": [
    "### Loss function: SSE\n",
    "loss_function <- function(nn) {\n",
    "  return(sum((nn$y - nn$output) ^ 2))\n",
    "}\n"
   ]
  },
  {
   "cell_type": "markdown",
   "metadata": {},
   "source": [
    "And  we define the gradient descent function by running the network (feed)fordward and backward (backpropagation) while recalculating the loss function:"
   ]
  },
  {
   "cell_type": "code",
   "execution_count": 5,
   "metadata": {},
   "outputs": [],
   "source": [
    "GD <- function(nnet, num_iter=100) {\n",
    "    n <- num_iter\n",
    "\n",
    "    # data frame to store the results of the loss function.\n",
    "    # this data frame is used to produce the plot in the \n",
    "    # next code chunk\n",
    "    loss_df <- data.frame(iteration = 1:n+1, loss = vector(\"numeric\", length = n) )\n",
    "\n",
    "    for (i in seq_len(num_iter)) {\n",
    "      nnet <- feedforward(nnet)\n",
    "      nnet <- backprop(nnet)\n",
    "\n",
    "      # store the result of the loss function.  We will plot this later\n",
    "      loss_df$loss[i] <- loss_function(nnet)\n",
    "    }\n",
    "    # print the predicted outcome next to the actual outcome\n",
    "    yhat <- data.frame(\"Predicted\" = round(nnet$output, 3), \"Actual\" = y)\n",
    "    res <- list(yhat=yhat, loss=loss_df)\n",
    "    return(res)\n",
    "}"
   ]
  },
  {
   "cell_type": "code",
   "execution_count": 6,
   "metadata": {},
   "outputs": [],
   "source": [
    "\n",
    "NeuralNetwork <- function(X, y, num_nodes, num_iter=100) {\n",
    "    # generate a random value between 0 and 1 for each\n",
    "    # element in X.  This will be used as our initial weights\n",
    "    # for layer 1\n",
    "    rand_vector <- runif(ncol(X) * nrow(X))\n",
    "\n",
    "    # convert above vector into a matrix\n",
    "    rand_matrix <- matrix(rand_vector, nrow = ncol(X), ncol = nrow(X), byrow = TRUE)\n",
    "\n",
    "    # this list stores the state of our neural net as it is trained\n",
    "    nnet <- list(input = X,                              # predictor variables\n",
    "                  weights1 = rand_matrix,                 # weights for layer 1\n",
    "                  weights2 = matrix(runif(num_nodes), ncol = 1),  # weights for layer 2\n",
    "                  y = y,                                  # actual observed\n",
    "                  output = matrix(rep(0, times = num_nodes), ncol = 1)   # stores the predicted outcome\n",
    "                 )\n",
    "    return(GD(nnet, num_iter))\n",
    "}\n"
   ]
  },
  {
   "cell_type": "code",
   "execution_count": 34,
   "metadata": {},
   "outputs": [
    {
     "data": {
      "text/html": [
       "<table>\n",
       "<caption>A data.frame: 6 × 11</caption>\n",
       "<thead>\n",
       "\t<tr><th></th><th scope=col>mpg</th><th scope=col>cyl</th><th scope=col>disp</th><th scope=col>hp</th><th scope=col>drat</th><th scope=col>wt</th><th scope=col>qsec</th><th scope=col>vs</th><th scope=col>am</th><th scope=col>gear</th><th scope=col>carb</th></tr>\n",
       "\t<tr><th></th><th scope=col>&lt;dbl&gt;</th><th scope=col>&lt;dbl&gt;</th><th scope=col>&lt;dbl&gt;</th><th scope=col>&lt;dbl&gt;</th><th scope=col>&lt;dbl&gt;</th><th scope=col>&lt;dbl&gt;</th><th scope=col>&lt;dbl&gt;</th><th scope=col>&lt;dbl&gt;</th><th scope=col>&lt;dbl&gt;</th><th scope=col>&lt;dbl&gt;</th><th scope=col>&lt;dbl&gt;</th></tr>\n",
       "</thead>\n",
       "<tbody>\n",
       "\t<tr><th scope=row>Mazda RX4</th><td>21.0</td><td>6</td><td>160</td><td>110</td><td>3.90</td><td>2.620</td><td>16.46</td><td>0</td><td>1</td><td>4</td><td>4</td></tr>\n",
       "\t<tr><th scope=row>Mazda RX4 Wag</th><td>21.0</td><td>6</td><td>160</td><td>110</td><td>3.90</td><td>2.875</td><td>17.02</td><td>0</td><td>1</td><td>4</td><td>4</td></tr>\n",
       "\t<tr><th scope=row>Datsun 710</th><td>22.8</td><td>4</td><td>108</td><td> 93</td><td>3.85</td><td>2.320</td><td>18.61</td><td>1</td><td>1</td><td>4</td><td>1</td></tr>\n",
       "\t<tr><th scope=row>Hornet 4 Drive</th><td>21.4</td><td>6</td><td>258</td><td>110</td><td>3.08</td><td>3.215</td><td>19.44</td><td>1</td><td>0</td><td>3</td><td>1</td></tr>\n",
       "\t<tr><th scope=row>Hornet Sportabout</th><td>18.7</td><td>8</td><td>360</td><td>175</td><td>3.15</td><td>3.440</td><td>17.02</td><td>0</td><td>0</td><td>3</td><td>2</td></tr>\n",
       "\t<tr><th scope=row>Valiant</th><td>18.1</td><td>6</td><td>225</td><td>105</td><td>2.76</td><td>3.460</td><td>20.22</td><td>1</td><td>0</td><td>3</td><td>1</td></tr>\n",
       "</tbody>\n",
       "</table>\n"
      ],
      "text/latex": [
       "A data.frame: 6 × 11\n",
       "\\begin{tabular}{r|lllllllllll}\n",
       "  & mpg & cyl & disp & hp & drat & wt & qsec & vs & am & gear & carb\\\\\n",
       "  & <dbl> & <dbl> & <dbl> & <dbl> & <dbl> & <dbl> & <dbl> & <dbl> & <dbl> & <dbl> & <dbl>\\\\\n",
       "\\hline\n",
       "\tMazda RX4 & 21.0 & 6 & 160 & 110 & 3.90 & 2.620 & 16.46 & 0 & 1 & 4 & 4\\\\\n",
       "\tMazda RX4 Wag & 21.0 & 6 & 160 & 110 & 3.90 & 2.875 & 17.02 & 0 & 1 & 4 & 4\\\\\n",
       "\tDatsun 710 & 22.8 & 4 & 108 &  93 & 3.85 & 2.320 & 18.61 & 1 & 1 & 4 & 1\\\\\n",
       "\tHornet 4 Drive & 21.4 & 6 & 258 & 110 & 3.08 & 3.215 & 19.44 & 1 & 0 & 3 & 1\\\\\n",
       "\tHornet Sportabout & 18.7 & 8 & 360 & 175 & 3.15 & 3.440 & 17.02 & 0 & 0 & 3 & 2\\\\\n",
       "\tValiant & 18.1 & 6 & 225 & 105 & 2.76 & 3.460 & 20.22 & 1 & 0 & 3 & 1\\\\\n",
       "\\end{tabular}\n"
      ],
      "text/markdown": [
       "\n",
       "A data.frame: 6 × 11\n",
       "\n",
       "| <!--/--> | mpg &lt;dbl&gt; | cyl &lt;dbl&gt; | disp &lt;dbl&gt; | hp &lt;dbl&gt; | drat &lt;dbl&gt; | wt &lt;dbl&gt; | qsec &lt;dbl&gt; | vs &lt;dbl&gt; | am &lt;dbl&gt; | gear &lt;dbl&gt; | carb &lt;dbl&gt; |\n",
       "|---|---|---|---|---|---|---|---|---|---|---|---|\n",
       "| Mazda RX4 | 21.0 | 6 | 160 | 110 | 3.90 | 2.620 | 16.46 | 0 | 1 | 4 | 4 |\n",
       "| Mazda RX4 Wag | 21.0 | 6 | 160 | 110 | 3.90 | 2.875 | 17.02 | 0 | 1 | 4 | 4 |\n",
       "| Datsun 710 | 22.8 | 4 | 108 |  93 | 3.85 | 2.320 | 18.61 | 1 | 1 | 4 | 1 |\n",
       "| Hornet 4 Drive | 21.4 | 6 | 258 | 110 | 3.08 | 3.215 | 19.44 | 1 | 0 | 3 | 1 |\n",
       "| Hornet Sportabout | 18.7 | 8 | 360 | 175 | 3.15 | 3.440 | 17.02 | 0 | 0 | 3 | 2 |\n",
       "| Valiant | 18.1 | 6 | 225 | 105 | 2.76 | 3.460 | 20.22 | 1 | 0 | 3 | 1 |\n",
       "\n"
      ],
      "text/plain": [
       "                  mpg  cyl disp hp  drat wt    qsec  vs am gear carb\n",
       "Mazda RX4         21.0 6   160  110 3.90 2.620 16.46 0  1  4    4   \n",
       "Mazda RX4 Wag     21.0 6   160  110 3.90 2.875 17.02 0  1  4    4   \n",
       "Datsun 710        22.8 4   108   93 3.85 2.320 18.61 1  1  4    1   \n",
       "Hornet 4 Drive    21.4 6   258  110 3.08 3.215 19.44 1  0  3    1   \n",
       "Hornet Sportabout 18.7 8   360  175 3.15 3.440 17.02 0  0  3    2   \n",
       "Valiant           18.1 6   225  105 2.76 3.460 20.22 1  0  3    1   "
      ]
     },
     "metadata": {},
     "output_type": "display_data"
    },
    {
     "data": {
      "text/html": [
       "<table>\n",
       "<caption>A matrix: 6 × 10 of type dbl</caption>\n",
       "<thead>\n",
       "\t<tr><th></th><th scope=col>mpg</th><th scope=col>cyl</th><th scope=col>disp</th><th scope=col>hp</th><th scope=col>drat</th><th scope=col>wt</th><th scope=col>qsec</th><th scope=col>vs</th><th scope=col>gear</th><th scope=col>carb</th></tr>\n",
       "</thead>\n",
       "<tbody>\n",
       "\t<tr><th scope=row>Mazda RX4</th><td>21.0</td><td>6</td><td>160</td><td>110</td><td>3.90</td><td>2.620</td><td>16.46</td><td>0</td><td>4</td><td>4</td></tr>\n",
       "\t<tr><th scope=row>Mazda RX4 Wag</th><td>21.0</td><td>6</td><td>160</td><td>110</td><td>3.90</td><td>2.875</td><td>17.02</td><td>0</td><td>4</td><td>4</td></tr>\n",
       "\t<tr><th scope=row>Datsun 710</th><td>22.8</td><td>4</td><td>108</td><td> 93</td><td>3.85</td><td>2.320</td><td>18.61</td><td>1</td><td>4</td><td>1</td></tr>\n",
       "\t<tr><th scope=row>Hornet 4 Drive</th><td>21.4</td><td>6</td><td>258</td><td>110</td><td>3.08</td><td>3.215</td><td>19.44</td><td>1</td><td>3</td><td>1</td></tr>\n",
       "\t<tr><th scope=row>Hornet Sportabout</th><td>18.7</td><td>8</td><td>360</td><td>175</td><td>3.15</td><td>3.440</td><td>17.02</td><td>0</td><td>3</td><td>2</td></tr>\n",
       "\t<tr><th scope=row>Valiant</th><td>18.1</td><td>6</td><td>225</td><td>105</td><td>2.76</td><td>3.460</td><td>20.22</td><td>1</td><td>3</td><td>1</td></tr>\n",
       "</tbody>\n",
       "</table>\n"
      ],
      "text/latex": [
       "A matrix: 6 × 10 of type dbl\n",
       "\\begin{tabular}{r|llllllllll}\n",
       "  & mpg & cyl & disp & hp & drat & wt & qsec & vs & gear & carb\\\\\n",
       "\\hline\n",
       "\tMazda RX4 & 21.0 & 6 & 160 & 110 & 3.90 & 2.620 & 16.46 & 0 & 4 & 4\\\\\n",
       "\tMazda RX4 Wag & 21.0 & 6 & 160 & 110 & 3.90 & 2.875 & 17.02 & 0 & 4 & 4\\\\\n",
       "\tDatsun 710 & 22.8 & 4 & 108 &  93 & 3.85 & 2.320 & 18.61 & 1 & 4 & 1\\\\\n",
       "\tHornet 4 Drive & 21.4 & 6 & 258 & 110 & 3.08 & 3.215 & 19.44 & 1 & 3 & 1\\\\\n",
       "\tHornet Sportabout & 18.7 & 8 & 360 & 175 & 3.15 & 3.440 & 17.02 & 0 & 3 & 2\\\\\n",
       "\tValiant & 18.1 & 6 & 225 & 105 & 2.76 & 3.460 & 20.22 & 1 & 3 & 1\\\\\n",
       "\\end{tabular}\n"
      ],
      "text/markdown": [
       "\n",
       "A matrix: 6 × 10 of type dbl\n",
       "\n",
       "| <!--/--> | mpg | cyl | disp | hp | drat | wt | qsec | vs | gear | carb |\n",
       "|---|---|---|---|---|---|---|---|---|---|---|\n",
       "| Mazda RX4 | 21.0 | 6 | 160 | 110 | 3.90 | 2.620 | 16.46 | 0 | 4 | 4 |\n",
       "| Mazda RX4 Wag | 21.0 | 6 | 160 | 110 | 3.90 | 2.875 | 17.02 | 0 | 4 | 4 |\n",
       "| Datsun 710 | 22.8 | 4 | 108 |  93 | 3.85 | 2.320 | 18.61 | 1 | 4 | 1 |\n",
       "| Hornet 4 Drive | 21.4 | 6 | 258 | 110 | 3.08 | 3.215 | 19.44 | 1 | 3 | 1 |\n",
       "| Hornet Sportabout | 18.7 | 8 | 360 | 175 | 3.15 | 3.440 | 17.02 | 0 | 3 | 2 |\n",
       "| Valiant | 18.1 | 6 | 225 | 105 | 2.76 | 3.460 | 20.22 | 1 | 3 | 1 |\n",
       "\n"
      ],
      "text/plain": [
       "                  mpg  cyl disp hp  drat wt    qsec  vs gear carb\n",
       "Mazda RX4         21.0 6   160  110 3.90 2.620 16.46 0  4    4   \n",
       "Mazda RX4 Wag     21.0 6   160  110 3.90 2.875 17.02 0  4    4   \n",
       "Datsun 710        22.8 4   108   93 3.85 2.320 18.61 1  4    1   \n",
       "Hornet 4 Drive    21.4 6   258  110 3.08 3.215 19.44 1  3    1   \n",
       "Hornet Sportabout 18.7 8   360  175 3.15 3.440 17.02 0  3    2   \n",
       "Valiant           18.1 6   225  105 2.76 3.460 20.22 1  3    1   "
      ]
     },
     "metadata": {},
     "output_type": "display_data"
    },
    {
     "data": {
      "text/html": [
       "<table>\n",
       "<caption>A matrix: 10 × 32 of type dbl</caption>\n",
       "<thead>\n",
       "\t<tr><th></th><th scope=col>Mazda RX4</th><th scope=col>Mazda RX4 Wag</th><th scope=col>Datsun 710</th><th scope=col>Hornet 4 Drive</th><th scope=col>Hornet Sportabout</th><th scope=col>Valiant</th><th scope=col>Duster 360</th><th scope=col>Merc 240D</th><th scope=col>Merc 230</th><th scope=col>Merc 280</th><th scope=col>⋯</th><th scope=col>AMC Javelin</th><th scope=col>Camaro Z28</th><th scope=col>Pontiac Firebird</th><th scope=col>Fiat X1-9</th><th scope=col>Porsche 914-2</th><th scope=col>Lotus Europa</th><th scope=col>Ford Pantera L</th><th scope=col>Ferrari Dino</th><th scope=col>Maserati Bora</th><th scope=col>Volvo 142E</th></tr>\n",
       "</thead>\n",
       "<tbody>\n",
       "\t<tr><th scope=row>mpg</th><td> 21.00</td><td> 21.000</td><td> 22.80</td><td> 21.400</td><td> 18.70</td><td> 18.10</td><td> 14.30</td><td> 24.40</td><td> 22.80</td><td> 19.20</td><td>⋯</td><td> 15.200</td><td> 13.30</td><td> 19.200</td><td>27.300</td><td> 26.00</td><td> 30.400</td><td> 15.80</td><td> 19.70</td><td> 15.00</td><td> 21.40</td></tr>\n",
       "\t<tr><th scope=row>cyl</th><td>  6.00</td><td>  6.000</td><td>  4.00</td><td>  6.000</td><td>  8.00</td><td>  6.00</td><td>  8.00</td><td>  4.00</td><td>  4.00</td><td>  6.00</td><td>⋯</td><td>  8.000</td><td>  8.00</td><td>  8.000</td><td> 4.000</td><td>  4.00</td><td>  4.000</td><td>  8.00</td><td>  6.00</td><td>  8.00</td><td>  4.00</td></tr>\n",
       "\t<tr><th scope=row>disp</th><td>160.00</td><td>160.000</td><td>108.00</td><td>258.000</td><td>360.00</td><td>225.00</td><td>360.00</td><td>146.70</td><td>140.80</td><td>167.60</td><td>⋯</td><td>304.000</td><td>350.00</td><td>400.000</td><td>79.000</td><td>120.30</td><td> 95.100</td><td>351.00</td><td>145.00</td><td>301.00</td><td>121.00</td></tr>\n",
       "\t<tr><th scope=row>hp</th><td>110.00</td><td>110.000</td><td> 93.00</td><td>110.000</td><td>175.00</td><td>105.00</td><td>245.00</td><td> 62.00</td><td> 95.00</td><td>123.00</td><td>⋯</td><td>150.000</td><td>245.00</td><td>175.000</td><td>66.000</td><td> 91.00</td><td>113.000</td><td>264.00</td><td>175.00</td><td>335.00</td><td>109.00</td></tr>\n",
       "\t<tr><th scope=row>drat</th><td>  3.90</td><td>  3.900</td><td>  3.85</td><td>  3.080</td><td>  3.15</td><td>  2.76</td><td>  3.21</td><td>  3.69</td><td>  3.92</td><td>  3.92</td><td>⋯</td><td>  3.150</td><td>  3.73</td><td>  3.080</td><td> 4.080</td><td>  4.43</td><td>  3.770</td><td>  4.22</td><td>  3.62</td><td>  3.54</td><td>  4.11</td></tr>\n",
       "\t<tr><th scope=row>wt</th><td>  2.62</td><td>  2.875</td><td>  2.32</td><td>  3.215</td><td>  3.44</td><td>  3.46</td><td>  3.57</td><td>  3.19</td><td>  3.15</td><td>  3.44</td><td>⋯</td><td>  3.435</td><td>  3.84</td><td>  3.845</td><td> 1.935</td><td>  2.14</td><td>  1.513</td><td>  3.17</td><td>  2.77</td><td>  3.57</td><td>  2.78</td></tr>\n",
       "\t<tr><th scope=row>qsec</th><td> 16.46</td><td> 17.020</td><td> 18.61</td><td> 19.440</td><td> 17.02</td><td> 20.22</td><td> 15.84</td><td> 20.00</td><td> 22.90</td><td> 18.30</td><td>⋯</td><td> 17.300</td><td> 15.41</td><td> 17.050</td><td>18.900</td><td> 16.70</td><td> 16.900</td><td> 14.50</td><td> 15.50</td><td> 14.60</td><td> 18.60</td></tr>\n",
       "\t<tr><th scope=row>vs</th><td>  0.00</td><td>  0.000</td><td>  1.00</td><td>  1.000</td><td>  0.00</td><td>  1.00</td><td>  0.00</td><td>  1.00</td><td>  1.00</td><td>  1.00</td><td>⋯</td><td>  0.000</td><td>  0.00</td><td>  0.000</td><td> 1.000</td><td>  0.00</td><td>  1.000</td><td>  0.00</td><td>  0.00</td><td>  0.00</td><td>  1.00</td></tr>\n",
       "\t<tr><th scope=row>gear</th><td>  4.00</td><td>  4.000</td><td>  4.00</td><td>  3.000</td><td>  3.00</td><td>  3.00</td><td>  3.00</td><td>  4.00</td><td>  4.00</td><td>  4.00</td><td>⋯</td><td>  3.000</td><td>  3.00</td><td>  3.000</td><td> 4.000</td><td>  5.00</td><td>  5.000</td><td>  5.00</td><td>  5.00</td><td>  5.00</td><td>  4.00</td></tr>\n",
       "\t<tr><th scope=row>carb</th><td>  4.00</td><td>  4.000</td><td>  1.00</td><td>  1.000</td><td>  2.00</td><td>  1.00</td><td>  4.00</td><td>  2.00</td><td>  2.00</td><td>  4.00</td><td>⋯</td><td>  2.000</td><td>  4.00</td><td>  2.000</td><td> 1.000</td><td>  2.00</td><td>  2.000</td><td>  4.00</td><td>  6.00</td><td>  8.00</td><td>  2.00</td></tr>\n",
       "</tbody>\n",
       "</table>\n"
      ],
      "text/latex": [
       "A matrix: 10 × 32 of type dbl\n",
       "\\begin{tabular}{r|llllllllllllllllllllllllllllllll}\n",
       "  & Mazda RX4 & Mazda RX4 Wag & Datsun 710 & Hornet 4 Drive & Hornet Sportabout & Valiant & Duster 360 & Merc 240D & Merc 230 & Merc 280 & Merc 280C & Merc 450SE & Merc 450SL & Merc 450SLC & Cadillac Fleetwood & Lincoln Continental & Chrysler Imperial & Fiat 128 & Honda Civic & Toyota Corolla & Toyota Corona & Dodge Challenger & AMC Javelin & Camaro Z28 & Pontiac Firebird & Fiat X1-9 & Porsche 914-2 & Lotus Europa & Ford Pantera L & Ferrari Dino & Maserati Bora & Volvo 142E\\\\\n",
       "\\hline\n",
       "\tmpg &  21.00 &  21.000 &  22.80 &  21.400 &  18.70 &  18.10 &  14.30 &  24.40 &  22.80 &  19.20 &  17.80 &  16.40 &  17.30 &  15.20 &  10.40 &  10.400 &  14.700 & 32.40 & 30.400 & 33.900 &  21.500 &  15.50 &  15.200 &  13.30 &  19.200 & 27.300 &  26.00 &  30.400 &  15.80 &  19.70 &  15.00 &  21.40\\\\\n",
       "\tcyl &   6.00 &   6.000 &   4.00 &   6.000 &   8.00 &   6.00 &   8.00 &   4.00 &   4.00 &   6.00 &   6.00 &   8.00 &   8.00 &   8.00 &   8.00 &   8.000 &   8.000 &  4.00 &  4.000 &  4.000 &   4.000 &   8.00 &   8.000 &   8.00 &   8.000 &  4.000 &   4.00 &   4.000 &   8.00 &   6.00 &   8.00 &   4.00\\\\\n",
       "\tdisp & 160.00 & 160.000 & 108.00 & 258.000 & 360.00 & 225.00 & 360.00 & 146.70 & 140.80 & 167.60 & 167.60 & 275.80 & 275.80 & 275.80 & 472.00 & 460.000 & 440.000 & 78.70 & 75.700 & 71.100 & 120.100 & 318.00 & 304.000 & 350.00 & 400.000 & 79.000 & 120.30 &  95.100 & 351.00 & 145.00 & 301.00 & 121.00\\\\\n",
       "\thp & 110.00 & 110.000 &  93.00 & 110.000 & 175.00 & 105.00 & 245.00 &  62.00 &  95.00 & 123.00 & 123.00 & 180.00 & 180.00 & 180.00 & 205.00 & 215.000 & 230.000 & 66.00 & 52.000 & 65.000 &  97.000 & 150.00 & 150.000 & 245.00 & 175.000 & 66.000 &  91.00 & 113.000 & 264.00 & 175.00 & 335.00 & 109.00\\\\\n",
       "\tdrat &   3.90 &   3.900 &   3.85 &   3.080 &   3.15 &   2.76 &   3.21 &   3.69 &   3.92 &   3.92 &   3.92 &   3.07 &   3.07 &   3.07 &   2.93 &   3.000 &   3.230 &  4.08 &  4.930 &  4.220 &   3.700 &   2.76 &   3.150 &   3.73 &   3.080 &  4.080 &   4.43 &   3.770 &   4.22 &   3.62 &   3.54 &   4.11\\\\\n",
       "\twt &   2.62 &   2.875 &   2.32 &   3.215 &   3.44 &   3.46 &   3.57 &   3.19 &   3.15 &   3.44 &   3.44 &   4.07 &   3.73 &   3.78 &   5.25 &   5.424 &   5.345 &  2.20 &  1.615 &  1.835 &   2.465 &   3.52 &   3.435 &   3.84 &   3.845 &  1.935 &   2.14 &   1.513 &   3.17 &   2.77 &   3.57 &   2.78\\\\\n",
       "\tqsec &  16.46 &  17.020 &  18.61 &  19.440 &  17.02 &  20.22 &  15.84 &  20.00 &  22.90 &  18.30 &  18.90 &  17.40 &  17.60 &  18.00 &  17.98 &  17.820 &  17.420 & 19.47 & 18.520 & 19.900 &  20.010 &  16.87 &  17.300 &  15.41 &  17.050 & 18.900 &  16.70 &  16.900 &  14.50 &  15.50 &  14.60 &  18.60\\\\\n",
       "\tvs &   0.00 &   0.000 &   1.00 &   1.000 &   0.00 &   1.00 &   0.00 &   1.00 &   1.00 &   1.00 &   1.00 &   0.00 &   0.00 &   0.00 &   0.00 &   0.000 &   0.000 &  1.00 &  1.000 &  1.000 &   1.000 &   0.00 &   0.000 &   0.00 &   0.000 &  1.000 &   0.00 &   1.000 &   0.00 &   0.00 &   0.00 &   1.00\\\\\n",
       "\tgear &   4.00 &   4.000 &   4.00 &   3.000 &   3.00 &   3.00 &   3.00 &   4.00 &   4.00 &   4.00 &   4.00 &   3.00 &   3.00 &   3.00 &   3.00 &   3.000 &   3.000 &  4.00 &  4.000 &  4.000 &   3.000 &   3.00 &   3.000 &   3.00 &   3.000 &  4.000 &   5.00 &   5.000 &   5.00 &   5.00 &   5.00 &   4.00\\\\\n",
       "\tcarb &   4.00 &   4.000 &   1.00 &   1.000 &   2.00 &   1.00 &   4.00 &   2.00 &   2.00 &   4.00 &   4.00 &   3.00 &   3.00 &   3.00 &   4.00 &   4.000 &   4.000 &  1.00 &  2.000 &  1.000 &   1.000 &   2.00 &   2.000 &   4.00 &   2.000 &  1.000 &   2.00 &   2.000 &   4.00 &   6.00 &   8.00 &   2.00\\\\\n",
       "\\end{tabular}\n"
      ],
      "text/markdown": [
       "\n",
       "A matrix: 10 × 32 of type dbl\n",
       "\n",
       "| <!--/--> | Mazda RX4 | Mazda RX4 Wag | Datsun 710 | Hornet 4 Drive | Hornet Sportabout | Valiant | Duster 360 | Merc 240D | Merc 230 | Merc 280 | ⋯ | AMC Javelin | Camaro Z28 | Pontiac Firebird | Fiat X1-9 | Porsche 914-2 | Lotus Europa | Ford Pantera L | Ferrari Dino | Maserati Bora | Volvo 142E |\n",
       "|---|---|---|---|---|---|---|---|---|---|---|---|---|---|---|---|---|---|---|---|---|---|\n",
       "| mpg |  21.00 |  21.000 |  22.80 |  21.400 |  18.70 |  18.10 |  14.30 |  24.40 |  22.80 |  19.20 | ⋯ |  15.200 |  13.30 |  19.200 | 27.300 |  26.00 |  30.400 |  15.80 |  19.70 |  15.00 |  21.40 |\n",
       "| cyl |   6.00 |   6.000 |   4.00 |   6.000 |   8.00 |   6.00 |   8.00 |   4.00 |   4.00 |   6.00 | ⋯ |   8.000 |   8.00 |   8.000 |  4.000 |   4.00 |   4.000 |   8.00 |   6.00 |   8.00 |   4.00 |\n",
       "| disp | 160.00 | 160.000 | 108.00 | 258.000 | 360.00 | 225.00 | 360.00 | 146.70 | 140.80 | 167.60 | ⋯ | 304.000 | 350.00 | 400.000 | 79.000 | 120.30 |  95.100 | 351.00 | 145.00 | 301.00 | 121.00 |\n",
       "| hp | 110.00 | 110.000 |  93.00 | 110.000 | 175.00 | 105.00 | 245.00 |  62.00 |  95.00 | 123.00 | ⋯ | 150.000 | 245.00 | 175.000 | 66.000 |  91.00 | 113.000 | 264.00 | 175.00 | 335.00 | 109.00 |\n",
       "| drat |   3.90 |   3.900 |   3.85 |   3.080 |   3.15 |   2.76 |   3.21 |   3.69 |   3.92 |   3.92 | ⋯ |   3.150 |   3.73 |   3.080 |  4.080 |   4.43 |   3.770 |   4.22 |   3.62 |   3.54 |   4.11 |\n",
       "| wt |   2.62 |   2.875 |   2.32 |   3.215 |   3.44 |   3.46 |   3.57 |   3.19 |   3.15 |   3.44 | ⋯ |   3.435 |   3.84 |   3.845 |  1.935 |   2.14 |   1.513 |   3.17 |   2.77 |   3.57 |   2.78 |\n",
       "| qsec |  16.46 |  17.020 |  18.61 |  19.440 |  17.02 |  20.22 |  15.84 |  20.00 |  22.90 |  18.30 | ⋯ |  17.300 |  15.41 |  17.050 | 18.900 |  16.70 |  16.900 |  14.50 |  15.50 |  14.60 |  18.60 |\n",
       "| vs |   0.00 |   0.000 |   1.00 |   1.000 |   0.00 |   1.00 |   0.00 |   1.00 |   1.00 |   1.00 | ⋯ |   0.000 |   0.00 |   0.000 |  1.000 |   0.00 |   1.000 |   0.00 |   0.00 |   0.00 |   1.00 |\n",
       "| gear |   4.00 |   4.000 |   4.00 |   3.000 |   3.00 |   3.00 |   3.00 |   4.00 |   4.00 |   4.00 | ⋯ |   3.000 |   3.00 |   3.000 |  4.000 |   5.00 |   5.000 |   5.00 |   5.00 |   5.00 |   4.00 |\n",
       "| carb |   4.00 |   4.000 |   1.00 |   1.000 |   2.00 |   1.00 |   4.00 |   2.00 |   2.00 |   4.00 | ⋯ |   2.000 |   4.00 |   2.000 |  1.000 |   2.00 |   2.000 |   4.00 |   6.00 |   8.00 |   2.00 |\n",
       "\n"
      ],
      "text/plain": [
       "     Mazda RX4 Mazda RX4 Wag Datsun 710 Hornet 4 Drive Hornet Sportabout\n",
       "mpg   21.00     21.000        22.80      21.400         18.70           \n",
       "cyl    6.00      6.000         4.00       6.000          8.00           \n",
       "disp 160.00    160.000       108.00     258.000        360.00           \n",
       "hp   110.00    110.000        93.00     110.000        175.00           \n",
       "drat   3.90      3.900         3.85       3.080          3.15           \n",
       "wt     2.62      2.875         2.32       3.215          3.44           \n",
       "qsec  16.46     17.020        18.61      19.440         17.02           \n",
       "vs     0.00      0.000         1.00       1.000          0.00           \n",
       "gear   4.00      4.000         4.00       3.000          3.00           \n",
       "carb   4.00      4.000         1.00       1.000          2.00           \n",
       "     Valiant Duster 360 Merc 240D Merc 230 Merc 280 ⋯ AMC Javelin Camaro Z28\n",
       "mpg   18.10   14.30      24.40     22.80    19.20   ⋯  15.200      13.30    \n",
       "cyl    6.00    8.00       4.00      4.00     6.00   ⋯   8.000       8.00    \n",
       "disp 225.00  360.00     146.70    140.80   167.60   ⋯ 304.000     350.00    \n",
       "hp   105.00  245.00      62.00     95.00   123.00   ⋯ 150.000     245.00    \n",
       "drat   2.76    3.21       3.69      3.92     3.92   ⋯   3.150       3.73    \n",
       "wt     3.46    3.57       3.19      3.15     3.44   ⋯   3.435       3.84    \n",
       "qsec  20.22   15.84      20.00     22.90    18.30   ⋯  17.300      15.41    \n",
       "vs     1.00    0.00       1.00      1.00     1.00   ⋯   0.000       0.00    \n",
       "gear   3.00    3.00       4.00      4.00     4.00   ⋯   3.000       3.00    \n",
       "carb   1.00    4.00       2.00      2.00     4.00   ⋯   2.000       4.00    \n",
       "     Pontiac Firebird Fiat X1-9 Porsche 914-2 Lotus Europa Ford Pantera L\n",
       "mpg   19.200          27.300     26.00         30.400       15.80        \n",
       "cyl    8.000           4.000      4.00          4.000        8.00        \n",
       "disp 400.000          79.000    120.30         95.100      351.00        \n",
       "hp   175.000          66.000     91.00        113.000      264.00        \n",
       "drat   3.080           4.080      4.43          3.770        4.22        \n",
       "wt     3.845           1.935      2.14          1.513        3.17        \n",
       "qsec  17.050          18.900     16.70         16.900       14.50        \n",
       "vs     0.000           1.000      0.00          1.000        0.00        \n",
       "gear   3.000           4.000      5.00          5.000        5.00        \n",
       "carb   2.000           1.000      2.00          2.000        4.00        \n",
       "     Ferrari Dino Maserati Bora Volvo 142E\n",
       "mpg   19.70        15.00         21.40    \n",
       "cyl    6.00         8.00          4.00    \n",
       "disp 145.00       301.00        121.00    \n",
       "hp   175.00       335.00        109.00    \n",
       "drat   3.62         3.54          4.11    \n",
       "wt     2.77         3.57          2.78    \n",
       "qsec  15.50        14.60         18.60    \n",
       "vs     0.00         0.00          1.00    \n",
       "gear   5.00         5.00          4.00    \n",
       "carb   6.00         8.00          2.00    "
      ]
     },
     "metadata": {},
     "output_type": "display_data"
    }
   ],
   "source": [
    "#First, we create the data to train the neural network.\n",
    "\n",
    "# predictor variables\n",
    "#X <- matrix(c(\n",
    "#  0,0,1,\n",
    "#  0,1,1,\n",
    "#  1,0,1,\n",
    "#  1,1,1\n",
    "#), ncol = 3, byrow = TRUE )\n",
    "\n",
    "head(mtcars)\n",
    "\n",
    "X<-as.matrix(mtcars[-c(9)])\n",
    "\n",
    "head(X)\n",
    "\n",
    "X<-t(X)\n",
    "\n",
    "X"
   ]
  },
  {
   "cell_type": "code",
   "execution_count": 23,
   "metadata": {},
   "outputs": [],
   "source": [
    "# observed outcomes\n",
    "#y <- c(0, 1, 1, 0)\n",
    "\n",
    "y<-as.numeric(mtcars[['am']])\n",
    "\n",
    "\n"
   ]
  },
  {
   "cell_type": "code",
   "execution_count": 33,
   "metadata": {},
   "outputs": [
    {
     "ename": "ERROR",
     "evalue": "Error in nn$layer1 %*% nn$weights2: non-conformable arguments\n",
     "output_type": "error",
     "traceback": [
      "Error in nn$layer1 %*% nn$weights2: non-conformable arguments\nTraceback:\n",
      "1. NeuralNetwork(X, y, num_nodes = 4, num_iter = 1000)",
      "2. GD(nnet, num_iter)   # at line 18 of file <text>",
      "3. feedforward(nnet)   # at line 10 of file <text>",
      "4. sigmoid(nn$layer1 %*% nn$weights2)   # at line 6 of file <text>"
     ]
    }
   ],
   "source": [
    "nn <- NeuralNetwork(X,y,num_nodes=4, num_iter=1000)\n"
   ]
  },
  {
   "cell_type": "code",
   "execution_count": 10,
   "metadata": {},
   "outputs": [
    {
     "data": {
      "text/html": [
       "<table>\n",
       "<caption>A data.frame: 4 × 2</caption>\n",
       "<thead>\n",
       "\t<tr><th scope=col>Predicted</th><th scope=col>Actual</th></tr>\n",
       "\t<tr><th scope=col>&lt;dbl&gt;</th><th scope=col>&lt;dbl&gt;</th></tr>\n",
       "</thead>\n",
       "<tbody>\n",
       "\t<tr><td>0.031</td><td>0</td></tr>\n",
       "\t<tr><td>0.973</td><td>1</td></tr>\n",
       "\t<tr><td>0.970</td><td>1</td></tr>\n",
       "\t<tr><td>0.031</td><td>0</td></tr>\n",
       "</tbody>\n",
       "</table>\n"
      ],
      "text/latex": [
       "A data.frame: 4 × 2\n",
       "\\begin{tabular}{r|ll}\n",
       " Predicted & Actual\\\\\n",
       " <dbl> & <dbl>\\\\\n",
       "\\hline\n",
       "\t 0.031 & 0\\\\\n",
       "\t 0.973 & 1\\\\\n",
       "\t 0.970 & 1\\\\\n",
       "\t 0.031 & 0\\\\\n",
       "\\end{tabular}\n"
      ],
      "text/markdown": [
       "\n",
       "A data.frame: 4 × 2\n",
       "\n",
       "| Predicted &lt;dbl&gt; | Actual &lt;dbl&gt; |\n",
       "|---|---|\n",
       "| 0.031 | 0 |\n",
       "| 0.973 | 1 |\n",
       "| 0.970 | 1 |\n",
       "| 0.031 | 0 |\n",
       "\n"
      ],
      "text/plain": [
       "  Predicted Actual\n",
       "1 0.031     0     \n",
       "2 0.973     1     \n",
       "3 0.970     1     \n",
       "4 0.031     0     "
      ]
     },
     "metadata": {},
     "output_type": "display_data"
    },
    {
     "data": {
      "text/html": [
       "<table>\n",
       "<caption>A data.frame: 6 × 2</caption>\n",
       "<thead>\n",
       "\t<tr><th scope=col>iteration</th><th scope=col>loss</th></tr>\n",
       "\t<tr><th scope=col>&lt;dbl&gt;</th><th scope=col>&lt;dbl&gt;</th></tr>\n",
       "</thead>\n",
       "<tbody>\n",
       "\t<tr><td>2</td><td>1.2958936</td></tr>\n",
       "\t<tr><td>3</td><td>1.0396034</td></tr>\n",
       "\t<tr><td>4</td><td>0.9981807</td></tr>\n",
       "\t<tr><td>5</td><td>0.9979379</td></tr>\n",
       "\t<tr><td>6</td><td>0.9977155</td></tr>\n",
       "\t<tr><td>7</td><td>0.9974873</td></tr>\n",
       "</tbody>\n",
       "</table>\n"
      ],
      "text/latex": [
       "A data.frame: 6 × 2\n",
       "\\begin{tabular}{r|ll}\n",
       " iteration & loss\\\\\n",
       " <dbl> & <dbl>\\\\\n",
       "\\hline\n",
       "\t 2 & 1.2958936\\\\\n",
       "\t 3 & 1.0396034\\\\\n",
       "\t 4 & 0.9981807\\\\\n",
       "\t 5 & 0.9979379\\\\\n",
       "\t 6 & 0.9977155\\\\\n",
       "\t 7 & 0.9974873\\\\\n",
       "\\end{tabular}\n"
      ],
      "text/markdown": [
       "\n",
       "A data.frame: 6 × 2\n",
       "\n",
       "| iteration &lt;dbl&gt; | loss &lt;dbl&gt; |\n",
       "|---|---|\n",
       "| 2 | 1.2958936 |\n",
       "| 3 | 1.0396034 |\n",
       "| 4 | 0.9981807 |\n",
       "| 5 | 0.9979379 |\n",
       "| 6 | 0.9977155 |\n",
       "| 7 | 0.9974873 |\n",
       "\n"
      ],
      "text/plain": [
       "  iteration loss     \n",
       "1 2         1.2958936\n",
       "2 3         1.0396034\n",
       "3 4         0.9981807\n",
       "4 5         0.9979379\n",
       "5 6         0.9977155\n",
       "6 7         0.9974873"
      ]
     },
     "metadata": {},
     "output_type": "display_data"
    },
    {
     "data": {
      "text/html": [
       "<table>\n",
       "<caption>A data.frame: 6 × 2</caption>\n",
       "<thead>\n",
       "\t<tr><th></th><th scope=col>iteration</th><th scope=col>loss</th></tr>\n",
       "\t<tr><th></th><th scope=col>&lt;dbl&gt;</th><th scope=col>&lt;dbl&gt;</th></tr>\n",
       "</thead>\n",
       "<tbody>\n",
       "\t<tr><th scope=row>995</th><td> 996</td><td>0.003583922</td></tr>\n",
       "\t<tr><th scope=row>996</th><td> 997</td><td>0.003578728</td></tr>\n",
       "\t<tr><th scope=row>997</th><td> 998</td><td>0.003573549</td></tr>\n",
       "\t<tr><th scope=row>998</th><td> 999</td><td>0.003568383</td></tr>\n",
       "\t<tr><th scope=row>999</th><td>1000</td><td>0.003563232</td></tr>\n",
       "\t<tr><th scope=row>1000</th><td>1001</td><td>0.003558095</td></tr>\n",
       "</tbody>\n",
       "</table>\n"
      ],
      "text/latex": [
       "A data.frame: 6 × 2\n",
       "\\begin{tabular}{r|ll}\n",
       "  & iteration & loss\\\\\n",
       "  & <dbl> & <dbl>\\\\\n",
       "\\hline\n",
       "\t995 &  996 & 0.003583922\\\\\n",
       "\t996 &  997 & 0.003578728\\\\\n",
       "\t997 &  998 & 0.003573549\\\\\n",
       "\t998 &  999 & 0.003568383\\\\\n",
       "\t999 & 1000 & 0.003563232\\\\\n",
       "\t1000 & 1001 & 0.003558095\\\\\n",
       "\\end{tabular}\n"
      ],
      "text/markdown": [
       "\n",
       "A data.frame: 6 × 2\n",
       "\n",
       "| <!--/--> | iteration &lt;dbl&gt; | loss &lt;dbl&gt; |\n",
       "|---|---|---|\n",
       "| 995 |  996 | 0.003583922 |\n",
       "| 996 |  997 | 0.003578728 |\n",
       "| 997 |  998 | 0.003573549 |\n",
       "| 998 |  999 | 0.003568383 |\n",
       "| 999 | 1000 | 0.003563232 |\n",
       "| 1000 | 1001 | 0.003558095 |\n",
       "\n"
      ],
      "text/plain": [
       "     iteration loss       \n",
       "995   996      0.003583922\n",
       "996   997      0.003578728\n",
       "997   998      0.003573549\n",
       "998   999      0.003568383\n",
       "999  1000      0.003563232\n",
       "1000 1001      0.003558095"
      ]
     },
     "metadata": {},
     "output_type": "display_data"
    }
   ],
   "source": [
    "nn$yhat\n",
    "head(nn$loss)\n",
    "tail(nn$loss)"
   ]
  },
  {
   "cell_type": "code",
   "execution_count": 12,
   "metadata": {},
   "outputs": [
    {
     "data": {
      "image/png": "[encoded data removed]",
      "text/plain": [
       "plot without title"
      ]
     },
     "metadata": {
      "image/png": {
       "height": 240,
       "width": 240
      },
      "text/plain": {
       "height": 240,
       "width": 240
      }
     },
     "output_type": "display_data"
    }
   ],
   "source": [
    "options(repr.plot.width = 4, repr.plot.height = 4)\n",
    "\n",
    "# plot the cost\n",
    "library(ggplot2)\n",
    "\n",
    "ggplot(data = nn$loss, aes(x = iteration, y = loss)) +\n",
    "  geom_line()\n"
   ]
  }
 ],
 "metadata": {
  "kernelspec": {
   "display_name": "R",
   "language": "R",
   "name": "ir"
  },
  "language_info": {
   "codemirror_mode": "r",
   "file_extension": ".r",
   "mimetype": "text/x-r-source",
   "name": "R",
   "pygments_lexer": "r",
   "version": "3.6.1"
  }
 },
 "nbformat": 4,
 "nbformat_minor": 2
}
