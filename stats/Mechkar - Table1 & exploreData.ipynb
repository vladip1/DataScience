{
 "cells": [
  {
   "cell_type": "code",
   "execution_count": null,
   "metadata": {},
   "outputs": [],
   "source": []
  },
  {
   "cell_type": "code",
   "execution_count": 1,
   "metadata": {},
   "outputs": [],
   "source": [
    "import numpy as np\n",
    "import pandas as pd\n",
    "import seaborn as sns"
   ]
  },
  {
   "cell_type": "code",
   "execution_count": 2,
   "metadata": {},
   "outputs": [],
   "source": [
    "df= sns.load_dataset('iris')"
   ]
  },
  {
   "cell_type": "code",
   "execution_count": 3,
   "metadata": {},
   "outputs": [
    {
     "data": {
      "text/html": [
       "<div>\n",
       "<style scoped>\n",
       "    .dataframe tbody tr th:only-of-type {\n",
       "        vertical-align: middle;\n",
       "    }\n",
       "\n",
       "    .dataframe tbody tr th {\n",
       "        vertical-align: top;\n",
       "    }\n",
       "\n",
       "    .dataframe thead th {\n",
       "        text-align: right;\n",
       "    }\n",
       "</style>\n",
       "<table border=\"1\" class=\"dataframe\">\n",
       "  <thead>\n",
       "    <tr style=\"text-align: right;\">\n",
       "      <th></th>\n",
       "      <th>sepal_length</th>\n",
       "      <th>sepal_width</th>\n",
       "      <th>petal_length</th>\n",
       "      <th>petal_width</th>\n",
       "      <th>species</th>\n",
       "    </tr>\n",
       "  </thead>\n",
       "  <tbody>\n",
       "    <tr>\n",
       "      <th>0</th>\n",
       "      <td>5.1</td>\n",
       "      <td>3.5</td>\n",
       "      <td>1.4</td>\n",
       "      <td>0.2</td>\n",
       "      <td>setosa</td>\n",
       "    </tr>\n",
       "    <tr>\n",
       "      <th>1</th>\n",
       "      <td>4.9</td>\n",
       "      <td>3.0</td>\n",
       "      <td>1.4</td>\n",
       "      <td>0.2</td>\n",
       "      <td>setosa</td>\n",
       "    </tr>\n",
       "    <tr>\n",
       "      <th>2</th>\n",
       "      <td>4.7</td>\n",
       "      <td>3.2</td>\n",
       "      <td>1.3</td>\n",
       "      <td>0.2</td>\n",
       "      <td>setosa</td>\n",
       "    </tr>\n",
       "    <tr>\n",
       "      <th>3</th>\n",
       "      <td>4.6</td>\n",
       "      <td>3.1</td>\n",
       "      <td>1.5</td>\n",
       "      <td>0.2</td>\n",
       "      <td>setosa</td>\n",
       "    </tr>\n",
       "    <tr>\n",
       "      <th>4</th>\n",
       "      <td>5.0</td>\n",
       "      <td>3.6</td>\n",
       "      <td>1.4</td>\n",
       "      <td>0.2</td>\n",
       "      <td>setosa</td>\n",
       "    </tr>\n",
       "  </tbody>\n",
       "</table>\n",
       "</div>"
      ],
      "text/plain": [
       "   sepal_length  sepal_width  petal_length  petal_width species\n",
       "0           5.1          3.5           1.4          0.2  setosa\n",
       "1           4.9          3.0           1.4          0.2  setosa\n",
       "2           4.7          3.2           1.3          0.2  setosa\n",
       "3           4.6          3.1           1.5          0.2  setosa\n",
       "4           5.0          3.6           1.4          0.2  setosa"
      ]
     },
     "execution_count": 3,
     "metadata": {},
     "output_type": "execute_result"
    }
   ],
   "source": [
    "df.head()"
   ]
  },
  {
   "cell_type": "code",
   "execution_count": 4,
   "metadata": {},
   "outputs": [
    {
     "data": {
      "text/plain": [
       "<module 'pyMechkar' from '/home/tcds/Documents/pyMechkar.py'>"
      ]
     },
     "execution_count": 4,
     "metadata": {},
     "output_type": "execute_result"
    }
   ],
   "source": [
    "from importlib import reload\n",
    "import pyMechkar as mechkar\n",
    "reload(mechkar)"
   ]
  },
  {
   "cell_type": "code",
   "execution_count": 5,
   "metadata": {},
   "outputs": [
    {
     "name": "stdout",
     "output_type": "stream",
     "text": [
      "Factorizing... please wait\n",
      "[****\n",
      "[]\n",
      "*****\n",
      "*****\n",
      "*****\n",
      "[]\n",
      "------ Finished in 2.0882954597473145econds -----\n"
     ]
    },
    {
     "data": {
      "text/html": [
       "<div>\n",
       "<style scoped>\n",
       "    .dataframe tbody tr th:only-of-type {\n",
       "        vertical-align: middle;\n",
       "    }\n",
       "\n",
       "    .dataframe tbody tr th {\n",
       "        vertical-align: top;\n",
       "    }\n",
       "\n",
       "    .dataframe thead th {\n",
       "        text-align: right;\n",
       "    }\n",
       "</style>\n",
       "<table border=\"1\" class=\"dataframe\">\n",
       "  <thead>\n",
       "    <tr style=\"text-align: right;\">\n",
       "      <th></th>\n",
       "      <th>Variables</th>\n",
       "      <th>Categories</th>\n",
       "      <th>Population</th>\n",
       "      <th>Category_setosa</th>\n",
       "      <th>Category_versicolor</th>\n",
       "      <th>Category_virginica</th>\n",
       "      <th>p_value</th>\n",
       "    </tr>\n",
       "  </thead>\n",
       "  <tbody>\n",
       "    <tr>\n",
       "      <th>0</th>\n",
       "      <td>Individuals</td>\n",
       "      <td>n</td>\n",
       "      <td>150</td>\n",
       "      <td>50</td>\n",
       "      <td>50</td>\n",
       "      <td>50</td>\n",
       "      <td>NaN</td>\n",
       "    </tr>\n",
       "    <tr>\n",
       "      <th>1</th>\n",
       "      <td>sepal_length</td>\n",
       "      <td>Mean (SD)</td>\n",
       "      <td>5.80 (    0.80)</td>\n",
       "      <td>5.00 (    0.30)</td>\n",
       "      <td>5.90 (    0.50)</td>\n",
       "      <td>6.60 (    0.60)</td>\n",
       "      <td>0.0</td>\n",
       "    </tr>\n",
       "    <tr>\n",
       "      <th>2</th>\n",
       "      <td>sepal_length</td>\n",
       "      <td>Median (IQR)</td>\n",
       "      <td>5.80 (    5.10-    6.40)</td>\n",
       "      <td>5.00 (    4.80-    5.20)</td>\n",
       "      <td>5.90 (    5.60-    6.30)</td>\n",
       "      <td>6.50 (    6.20-    6.90)</td>\n",
       "      <td>NaN</td>\n",
       "    </tr>\n",
       "    <tr>\n",
       "      <th>4</th>\n",
       "      <td>sepal_width</td>\n",
       "      <td>Mean (SD)</td>\n",
       "      <td>3.10 (    0.40)</td>\n",
       "      <td>3.40 (    0.40)</td>\n",
       "      <td>2.80 (    0.30)</td>\n",
       "      <td>3.00 (    0.30)</td>\n",
       "      <td>0.0</td>\n",
       "    </tr>\n",
       "    <tr>\n",
       "      <th>5</th>\n",
       "      <td>sepal_width</td>\n",
       "      <td>Median (IQR)</td>\n",
       "      <td>3.00 (    2.80-    3.30)</td>\n",
       "      <td>3.40 (    3.20-    3.70)</td>\n",
       "      <td>2.80 (    2.50-    3.00)</td>\n",
       "      <td>3.00 (    2.80-    3.20)</td>\n",
       "      <td>NaN</td>\n",
       "    </tr>\n",
       "    <tr>\n",
       "      <th>7</th>\n",
       "      <td>petal_length</td>\n",
       "      <td>Mean (SD)</td>\n",
       "      <td>3.80 (    1.80)</td>\n",
       "      <td>1.50 (    0.20)</td>\n",
       "      <td>4.30 (    0.50)</td>\n",
       "      <td>5.60 (    0.50)</td>\n",
       "      <td>0.0</td>\n",
       "    </tr>\n",
       "    <tr>\n",
       "      <th>8</th>\n",
       "      <td>petal_length</td>\n",
       "      <td>Median (IQR)</td>\n",
       "      <td>4.40 (    1.60-    5.10)</td>\n",
       "      <td>1.50 (    1.40-    1.60)</td>\n",
       "      <td>4.40 (    4.00-    4.60)</td>\n",
       "      <td>5.60 (    5.10-    5.90)</td>\n",
       "      <td>NaN</td>\n",
       "    </tr>\n",
       "    <tr>\n",
       "      <th>10</th>\n",
       "      <td>petal_width</td>\n",
       "      <td>Mean (SD)</td>\n",
       "      <td>1.20 (    0.80)</td>\n",
       "      <td>0.20 (    0.10)</td>\n",
       "      <td>1.30 (    0.20)</td>\n",
       "      <td>2.00 (    0.30)</td>\n",
       "      <td>0.0</td>\n",
       "    </tr>\n",
       "    <tr>\n",
       "      <th>11</th>\n",
       "      <td>petal_width</td>\n",
       "      <td>Median (IQR)</td>\n",
       "      <td>1.30 (    0.30-    1.80)</td>\n",
       "      <td>0.20 (    0.20-    0.30)</td>\n",
       "      <td>1.30 (    1.20-    1.50)</td>\n",
       "      <td>2.00 (    1.80-    2.30)</td>\n",
       "      <td>NaN</td>\n",
       "    </tr>\n",
       "  </tbody>\n",
       "</table>\n",
       "</div>"
      ],
      "text/plain": [
       "       Variables    Categories                    Population  \\\n",
       "0    Individuals             n                           150   \n",
       "1   sepal_length     Mean (SD)               5.80 (    0.80)   \n",
       "2   sepal_length  Median (IQR)      5.80 (    5.10-    6.40)   \n",
       "4    sepal_width     Mean (SD)               3.10 (    0.40)   \n",
       "5    sepal_width  Median (IQR)      3.00 (    2.80-    3.30)   \n",
       "7   petal_length     Mean (SD)               3.80 (    1.80)   \n",
       "8   petal_length  Median (IQR)      4.40 (    1.60-    5.10)   \n",
       "10   petal_width     Mean (SD)               1.20 (    0.80)   \n",
       "11   petal_width  Median (IQR)      1.30 (    0.30-    1.80)   \n",
       "\n",
       "                 Category_setosa           Category_versicolor  \\\n",
       "0                             50                            50   \n",
       "1                5.00 (    0.30)               5.90 (    0.50)   \n",
       "2       5.00 (    4.80-    5.20)      5.90 (    5.60-    6.30)   \n",
       "4                3.40 (    0.40)               2.80 (    0.30)   \n",
       "5       3.40 (    3.20-    3.70)      2.80 (    2.50-    3.00)   \n",
       "7                1.50 (    0.20)               4.30 (    0.50)   \n",
       "8       1.50 (    1.40-    1.60)      4.40 (    4.00-    4.60)   \n",
       "10               0.20 (    0.10)               1.30 (    0.20)   \n",
       "11      0.20 (    0.20-    0.30)      1.30 (    1.20-    1.50)   \n",
       "\n",
       "              Category_virginica  p_value  \n",
       "0                             50      NaN  \n",
       "1                6.60 (    0.60)      0.0  \n",
       "2       6.50 (    6.20-    6.90)      NaN  \n",
       "4                3.00 (    0.30)      0.0  \n",
       "5       3.00 (    2.80-    3.20)      NaN  \n",
       "7                5.60 (    0.50)      0.0  \n",
       "8       5.60 (    5.10-    5.90)      NaN  \n",
       "10               2.00 (    0.30)      0.0  \n",
       "11      2.00 (    1.80-    2.30)      NaN  "
      ]
     },
     "execution_count": 5,
     "metadata": {},
     "output_type": "execute_result"
    }
   ],
   "source": [
    "tab1 = mechkar.pyMechkar().Table1(data=df, y='species')\n",
    "tab1"
   ]
  },
  {
   "cell_type": "code",
   "execution_count": 6,
   "metadata": {},
   "outputs": [
    {
     "name": "stdout",
     "output_type": "stream",
     "text": [
      "Directory  report  already exists\n"
     ]
    }
   ],
   "source": [
    "mechkar.pyMechkar().exploreData(data=df, y='species')\n"
   ]
  }
 ],
 "metadata": {
  "kernelspec": {
   "display_name": "Python 3",
   "language": "python",
   "name": "python3"
  },
  "language_info": {
   "codemirror_mode": {
    "name": "ipython",
    "version": 3
   },
   "file_extension": ".py",
   "mimetype": "text/x-python",
   "name": "python",
   "nbconvert_exporter": "python",
   "pygments_lexer": "ipython3",
   "version": "3.6.6"
  }
 },
 "nbformat": 4,
 "nbformat_minor": 2
}
